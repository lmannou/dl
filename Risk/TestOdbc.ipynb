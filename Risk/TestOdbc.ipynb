{
 "cells": [
  {
   "cell_type": "code",
   "execution_count": 1,
   "metadata": {},
   "outputs": [],
   "source": [
    "import numpy as np\n",
    "import pandas as pd\n",
    "import pyodbc\n",
    "import matplotlib.pyplot as plt"
   ]
  },
  {
   "cell_type": "code",
   "execution_count": 2,
   "metadata": {},
   "outputs": [
    {
     "name": "stdout",
     "output_type": "stream",
     "text": [
      "<module 'pyodbc' from 'C:\\\\ProgramData\\\\Anaconda3\\\\envs\\\\DLENV\\\\lib\\\\site-packages\\\\pyodbc.cp37-win_amd64.pyd'>\n",
      "<pyodbc.Connection object at 0x000002714A6BB920>\n"
     ]
    }
   ],
   "source": [
    "print(pyodbc)\n",
    "con = pyodbc.connect('Driver={SQL Server};'\n",
    "                      'Server=CECGENSQL4\\MECZAPRSK01;'\n",
    "                      'Database=rsq_model;'\n",
    "                      'Trusted_Connection=yes;')\n",
    "print(con)\n",
    "\n"
   ]
  },
  {
   "cell_type": "markdown",
   "metadata": {},
   "source": [
    "conn = pyodbc.connect('Driver={SQL Server};'\n",
    "                      'Server=server_name;'\n",
    "                      'Database=db_name;'\n",
    "                      'Trusted_Connection=yes;')\n"
   ]
  },
  {
   "cell_type": "code",
   "execution_count": 3,
   "metadata": {},
   "outputs": [],
   "source": [
    "query = \"SELECT top 10 * FROM model.hub_product\"\n",
    "TM = pd.read_sql(query, con)\n",
    "\n",
    "#cursor = conn.cursor()\n",
    "#print(cursor)\n",
    "#cursor.execute('SELECT * FROM model.hub_product where  ')"
   ]
  },
  {
   "cell_type": "code",
   "execution_count": 4,
   "metadata": {},
   "outputs": [
    {
     "data": {
      "text/html": [
       "<div>\n",
       "<style scoped>\n",
       "    .dataframe tbody tr th:only-of-type {\n",
       "        vertical-align: middle;\n",
       "    }\n",
       "\n",
       "    .dataframe tbody tr th {\n",
       "        vertical-align: top;\n",
       "    }\n",
       "\n",
       "    .dataframe thead th {\n",
       "        text-align: right;\n",
       "    }\n",
       "</style>\n",
       "<table border=\"1\" class=\"dataframe\">\n",
       "  <thead>\n",
       "    <tr style=\"text-align: right;\">\n",
       "      <th></th>\n",
       "      <th>product_sqn</th>\n",
       "      <th>product_idntfr</th>\n",
       "      <th>type_id</th>\n",
       "      <th>load_id</th>\n",
       "      <th>source_object_id</th>\n",
       "      <th>load_dts</th>\n",
       "    </tr>\n",
       "  </thead>\n",
       "  <tbody>\n",
       "    <tr>\n",
       "      <th>0</th>\n",
       "      <td>6</td>\n",
       "      <td>7388222_0_AM731RPTIU_POSI_0_BBG_CA_UW</td>\n",
       "      <td>1</td>\n",
       "      <td>0</td>\n",
       "      <td>0</td>\n",
       "      <td>2018-06-27 10:13:34.087</td>\n",
       "    </tr>\n",
       "    <tr>\n",
       "      <th>1</th>\n",
       "      <td>7</td>\n",
       "      <td>7568011_0_RA771CREDSPX_CDX_NA_HY_29_5Y_CSC_HOL...</td>\n",
       "      <td>1</td>\n",
       "      <td>0</td>\n",
       "      <td>0</td>\n",
       "      <td>2018-06-27 10:13:34.087</td>\n",
       "    </tr>\n",
       "    <tr>\n",
       "      <th>2</th>\n",
       "      <td>8</td>\n",
       "      <td>7583468_0_ZUTIL_PG_STRAT1</td>\n",
       "      <td>1</td>\n",
       "      <td>0</td>\n",
       "      <td>0</td>\n",
       "      <td>2018-06-27 10:13:34.087</td>\n",
       "    </tr>\n",
       "    <tr>\n",
       "      <th>3</th>\n",
       "      <td>9</td>\n",
       "      <td>7569171_0_RA771CREDSPX_CDX_NA_HY_29_5Y_COMMUN_...</td>\n",
       "      <td>1</td>\n",
       "      <td>0</td>\n",
       "      <td>0</td>\n",
       "      <td>2018-06-27 10:13:34.087</td>\n",
       "    </tr>\n",
       "    <tr>\n",
       "      <th>4</th>\n",
       "      <td>10</td>\n",
       "      <td>7590859_0_AM730RPTIE_POSI_1</td>\n",
       "      <td>1</td>\n",
       "      <td>0</td>\n",
       "      <td>0</td>\n",
       "      <td>2018-06-27 10:13:34.087</td>\n",
       "    </tr>\n",
       "    <tr>\n",
       "      <th>5</th>\n",
       "      <td>11</td>\n",
       "      <td>MUREX_PT_MINI_4_1222</td>\n",
       "      <td>1</td>\n",
       "      <td>0</td>\n",
       "      <td>0</td>\n",
       "      <td>2018-06-27 10:13:34.087</td>\n",
       "    </tr>\n",
       "    <tr>\n",
       "      <th>6</th>\n",
       "      <td>12</td>\n",
       "      <td>7697749_0_ZUTIL_PG_STRAT1</td>\n",
       "      <td>1</td>\n",
       "      <td>0</td>\n",
       "      <td>0</td>\n",
       "      <td>2018-06-27 10:13:34.087</td>\n",
       "    </tr>\n",
       "    <tr>\n",
       "      <th>7</th>\n",
       "      <td>13</td>\n",
       "      <td>7369968_0_ZZZ_RA771_RAC_ITRX_EUR_X_27_5_ARCELO...</td>\n",
       "      <td>1</td>\n",
       "      <td>0</td>\n",
       "      <td>0</td>\n",
       "      <td>2018-06-27 10:13:34.087</td>\n",
       "    </tr>\n",
       "    <tr>\n",
       "      <th>8</th>\n",
       "      <td>14</td>\n",
       "      <td>BBG_FRPH_UW</td>\n",
       "      <td>1</td>\n",
       "      <td>0</td>\n",
       "      <td>0</td>\n",
       "      <td>2018-06-27 10:13:34.087</td>\n",
       "    </tr>\n",
       "    <tr>\n",
       "      <th>9</th>\n",
       "      <td>15</td>\n",
       "      <td>7496992_0_RA771CREDSPX_ITRX_EUR_S28_5Y_DEUTSCH...</td>\n",
       "      <td>1</td>\n",
       "      <td>0</td>\n",
       "      <td>0</td>\n",
       "      <td>2018-06-27 10:13:34.087</td>\n",
       "    </tr>\n",
       "  </tbody>\n",
       "</table>\n",
       "</div>"
      ],
      "text/plain": [
       "   product_sqn                                     product_idntfr  type_id  \\\n",
       "0            6              7388222_0_AM731RPTIU_POSI_0_BBG_CA_UW        1   \n",
       "1            7  7568011_0_RA771CREDSPX_CDX_NA_HY_29_5Y_CSC_HOL...        1   \n",
       "2            8                          7583468_0_ZUTIL_PG_STRAT1        1   \n",
       "3            9  7569171_0_RA771CREDSPX_CDX_NA_HY_29_5Y_COMMUN_...        1   \n",
       "4           10                        7590859_0_AM730RPTIE_POSI_1        1   \n",
       "5           11                               MUREX_PT_MINI_4_1222        1   \n",
       "6           12                          7697749_0_ZUTIL_PG_STRAT1        1   \n",
       "7           13  7369968_0_ZZZ_RA771_RAC_ITRX_EUR_X_27_5_ARCELO...        1   \n",
       "8           14                                        BBG_FRPH_UW        1   \n",
       "9           15  7496992_0_RA771CREDSPX_ITRX_EUR_S28_5Y_DEUTSCH...        1   \n",
       "\n",
       "   load_id  source_object_id                load_dts  \n",
       "0        0                 0 2018-06-27 10:13:34.087  \n",
       "1        0                 0 2018-06-27 10:13:34.087  \n",
       "2        0                 0 2018-06-27 10:13:34.087  \n",
       "3        0                 0 2018-06-27 10:13:34.087  \n",
       "4        0                 0 2018-06-27 10:13:34.087  \n",
       "5        0                 0 2018-06-27 10:13:34.087  \n",
       "6        0                 0 2018-06-27 10:13:34.087  \n",
       "7        0                 0 2018-06-27 10:13:34.087  \n",
       "8        0                 0 2018-06-27 10:13:34.087  \n",
       "9        0                 0 2018-06-27 10:13:34.087  "
      ]
     },
     "execution_count": 4,
     "metadata": {},
     "output_type": "execute_result"
    }
   ],
   "source": [
    "#TM.head(10)\n",
    "\n",
    "#for row in cursor:\n",
    "#    print(row)"
   ]
  },
  {
   "cell_type": "code",
   "execution_count": 5,
   "metadata": {},
   "outputs": [
    {
     "data": {
      "text/plain": [
       "(10, 6)"
      ]
     },
     "execution_count": 5,
     "metadata": {},
     "output_type": "execute_result"
    }
   ],
   "source": [
    "#TM.shape"
   ]
  },
  {
   "cell_type": "code",
   "execution_count": null,
   "metadata": {},
   "outputs": [],
   "source": [
    "query = \"\"\"\n",
    "SELECT   InstrumentIDRisque, vecteurPnlInstrument\n",
    "  FROM [rsq_model].[MesureRisqueMarche].[V_PnLRMInstrumentsVecteur]\n",
    "  where sessiondate = '2019-12-31' and FrequenceSessionCode = 'M' and IndicateurDonneePubliee = 1 \n",
    "\"\"\"\n",
    "TM = pd.read_sql(query, con)"
   ]
  },
  {
   "cell_type": "code",
   "execution_count": null,
   "metadata": {},
   "outputs": [],
   "source": []
  },
  {
   "cell_type": "code",
   "execution_count": null,
   "metadata": {},
   "outputs": [],
   "source": [
    "TM.head(10)"
   ]
  },
  {
   "cell_type": "code",
   "execution_count": null,
   "metadata": {},
   "outputs": [],
   "source": [
    "vecteurs = TM['vecteurPnlInstrument']"
   ]
  },
  {
   "cell_type": "code",
   "execution_count": null,
   "metadata": {},
   "outputs": [],
   "source": [
    "def split2 (text):\n",
    "    return text.split(\";\")"
   ]
  },
  {
   "cell_type": "code",
   "execution_count": null,
   "metadata": {},
   "outputs": [],
   "source": [
    "from datetime import datetime\n",
    "\n",
    "now = datetime.now()\n",
    "\n",
    "current_time = now.strftime(\"%H:%M:%S\")\n",
    "print(\"Current Time =\", current_time)"
   ]
  },
  {
   "cell_type": "code",
   "execution_count": null,
   "metadata": {},
   "outputs": [],
   "source": [
    "result  =  map(split2, vecteurs)\n",
    "seq = np.array(list(result))\n",
    "seq.shape"
   ]
  },
  {
   "cell_type": "code",
   "execution_count": null,
   "metadata": {},
   "outputs": [],
   "source": [
    "vecteurs.shape"
   ]
  },
  {
   "cell_type": "code",
   "execution_count": null,
   "metadata": {},
   "outputs": [],
   "source": [
    "4000 * 3500"
   ]
  },
  {
   "cell_type": "code",
   "execution_count": null,
   "metadata": {},
   "outputs": [],
   "source": [
    "seq_float = seq.reshape(1000, 3000).astype(np.float)"
   ]
  },
  {
   "cell_type": "code",
   "execution_count": null,
   "metadata": {},
   "outputs": [],
   "source": [
    "seq_sum = np.sum(seq_float, axis=0)"
   ]
  },
  {
   "cell_type": "code",
   "execution_count": null,
   "metadata": {},
   "outputs": [],
   "source": [
    "seq_float.shape"
   ]
  },
  {
   "cell_type": "code",
   "execution_count": null,
   "metadata": {},
   "outputs": [],
   "source": [
    "seq_sum.shape"
   ]
  },
  {
   "cell_type": "code",
   "execution_count": null,
   "metadata": {},
   "outputs": [],
   "source": [
    "now = datetime.now()\n",
    "\n",
    "current_time = now.strftime(\"%H:%M:%S\")\n",
    "print(\"Current Time =\", current_time)"
   ]
  }
 ],
 "metadata": {
  "file_extension": ".py",
  "kernelspec": {
   "display_name": "Python 3.7.6 64-bit ('DLENV': conda)",
   "language": "python",
   "name": "python37664bitdlenvconda29b652f870674263985143dd5e5a7bc4"
  },
  "language_info": {
   "codemirror_mode": {
    "name": "ipython",
    "version": 3
   },
   "file_extension": ".py",
   "mimetype": "text/x-python",
   "name": "python",
   "nbconvert_exporter": "python",
   "pygments_lexer": "ipython3",
   "version": "3.7.6"
  },
  "mimetype": "text/x-python",
  "name": "python",
  "npconvert_exporter": "python",
  "pygments_lexer": "ipython3",
  "version": 3
 },
 "nbformat": 4,
 "nbformat_minor": 4
}
