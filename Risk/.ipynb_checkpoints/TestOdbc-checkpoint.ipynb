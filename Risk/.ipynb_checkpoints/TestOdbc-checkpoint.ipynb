{
 "cells": [
  {
   "cell_type": "code",
   "execution_count": 16,
   "metadata": {},
   "outputs": [],
   "source": [
    "import numpy as np\n",
    "import pandas as pd\n",
    "import pyodbc\n",
    "import matplotlib.pyplot as plt"
   ]
  },
  {
   "cell_type": "code",
   "execution_count": 17,
   "metadata": {},
   "outputs": [
    {
     "name": "stdout",
     "output_type": "stream",
     "text": [
      "<module 'pyodbc' from 'C:\\\\ProgramData\\\\Anaconda3\\\\envs\\\\DLENV\\\\lib\\\\site-packages\\\\pyodbc.cp37-win_amd64.pyd'>\n",
      "<pyodbc.Connection object at 0x000002413CE81780>\n"
     ]
    }
   ],
   "source": [
    "print(pyodbc)\n",
    "con = pyodbc.connect('Driver={SQL Server};'\n",
    "                      'Server=CECGENSQL4\\MECZAPRSK01;'\n",
    "                      'Database=rsq_model;'\n",
    "                      'Trusted_Connection=yes;')\n",
    "print(con)\n",
    "\n"
   ]
  },
  {
   "cell_type": "markdown",
   "metadata": {},
   "source": [
    "conn = pyodbc.connect('Driver={SQL Server};'\n",
    "                      'Server=server_name;'\n",
    "                      'Database=db_name;'\n",
    "                      'Trusted_Connection=yes;')\n"
   ]
  },
  {
   "cell_type": "code",
   "execution_count": 18,
   "metadata": {},
   "outputs": [],
   "source": [
    "query = \"SELECT top 10 * FROM model.hub_product\"\n",
    "TM = pd.read_sql(query, con)\n",
    "\n",
    "#cursor = conn.cursor()\n",
    "#print(cursor)\n",
    "#cursor.execute('SELECT * FROM model.hub_product where  ')"
   ]
  },
  {
   "cell_type": "code",
   "execution_count": 20,
   "metadata": {},
   "outputs": [
    {
     "data": {
      "text/html": [
       "<div>\n",
       "<style scoped>\n",
       "    .dataframe tbody tr th:only-of-type {\n",
       "        vertical-align: middle;\n",
       "    }\n",
       "\n",
       "    .dataframe tbody tr th {\n",
       "        vertical-align: top;\n",
       "    }\n",
       "\n",
       "    .dataframe thead th {\n",
       "        text-align: right;\n",
       "    }\n",
       "</style>\n",
       "<table border=\"1\" class=\"dataframe\">\n",
       "  <thead>\n",
       "    <tr style=\"text-align: right;\">\n",
       "      <th></th>\n",
       "      <th>product_sqn</th>\n",
       "      <th>product_idntfr</th>\n",
       "      <th>type_id</th>\n",
       "      <th>load_id</th>\n",
       "      <th>source_object_id</th>\n",
       "      <th>load_dts</th>\n",
       "    </tr>\n",
       "  </thead>\n",
       "  <tbody>\n",
       "    <tr>\n",
       "      <th>0</th>\n",
       "      <td>6</td>\n",
       "      <td>7388222_0_AM731RPTIU_POSI_0_BBG_CA_UW</td>\n",
       "      <td>1</td>\n",
       "      <td>0</td>\n",
       "      <td>0</td>\n",
       "      <td>2018-06-27 10:13:34.087</td>\n",
       "    </tr>\n",
       "    <tr>\n",
       "      <th>1</th>\n",
       "      <td>7</td>\n",
       "      <td>7568011_0_RA771CREDSPX_CDX_NA_HY_29_5Y_CSC_HOL...</td>\n",
       "      <td>1</td>\n",
       "      <td>0</td>\n",
       "      <td>0</td>\n",
       "      <td>2018-06-27 10:13:34.087</td>\n",
       "    </tr>\n",
       "    <tr>\n",
       "      <th>2</th>\n",
       "      <td>8</td>\n",
       "      <td>7583468_0_ZUTIL_PG_STRAT1</td>\n",
       "      <td>1</td>\n",
       "      <td>0</td>\n",
       "      <td>0</td>\n",
       "      <td>2018-06-27 10:13:34.087</td>\n",
       "    </tr>\n",
       "    <tr>\n",
       "      <th>3</th>\n",
       "      <td>9</td>\n",
       "      <td>7569171_0_RA771CREDSPX_CDX_NA_HY_29_5Y_COMMUN_...</td>\n",
       "      <td>1</td>\n",
       "      <td>0</td>\n",
       "      <td>0</td>\n",
       "      <td>2018-06-27 10:13:34.087</td>\n",
       "    </tr>\n",
       "    <tr>\n",
       "      <th>4</th>\n",
       "      <td>10</td>\n",
       "      <td>7590859_0_AM730RPTIE_POSI_1</td>\n",
       "      <td>1</td>\n",
       "      <td>0</td>\n",
       "      <td>0</td>\n",
       "      <td>2018-06-27 10:13:34.087</td>\n",
       "    </tr>\n",
       "    <tr>\n",
       "      <th>5</th>\n",
       "      <td>11</td>\n",
       "      <td>MUREX_PT_MINI_4_1222</td>\n",
       "      <td>1</td>\n",
       "      <td>0</td>\n",
       "      <td>0</td>\n",
       "      <td>2018-06-27 10:13:34.087</td>\n",
       "    </tr>\n",
       "    <tr>\n",
       "      <th>6</th>\n",
       "      <td>12</td>\n",
       "      <td>7697749_0_ZUTIL_PG_STRAT1</td>\n",
       "      <td>1</td>\n",
       "      <td>0</td>\n",
       "      <td>0</td>\n",
       "      <td>2018-06-27 10:13:34.087</td>\n",
       "    </tr>\n",
       "    <tr>\n",
       "      <th>7</th>\n",
       "      <td>13</td>\n",
       "      <td>7369968_0_ZZZ_RA771_RAC_ITRX_EUR_X_27_5_ARCELO...</td>\n",
       "      <td>1</td>\n",
       "      <td>0</td>\n",
       "      <td>0</td>\n",
       "      <td>2018-06-27 10:13:34.087</td>\n",
       "    </tr>\n",
       "    <tr>\n",
       "      <th>8</th>\n",
       "      <td>14</td>\n",
       "      <td>BBG_FRPH_UW</td>\n",
       "      <td>1</td>\n",
       "      <td>0</td>\n",
       "      <td>0</td>\n",
       "      <td>2018-06-27 10:13:34.087</td>\n",
       "    </tr>\n",
       "    <tr>\n",
       "      <th>9</th>\n",
       "      <td>15</td>\n",
       "      <td>7496992_0_RA771CREDSPX_ITRX_EUR_S28_5Y_DEUTSCH...</td>\n",
       "      <td>1</td>\n",
       "      <td>0</td>\n",
       "      <td>0</td>\n",
       "      <td>2018-06-27 10:13:34.087</td>\n",
       "    </tr>\n",
       "  </tbody>\n",
       "</table>\n",
       "</div>"
      ],
      "text/plain": [
       "   product_sqn                                     product_idntfr  type_id  \\\n",
       "0            6              7388222_0_AM731RPTIU_POSI_0_BBG_CA_UW        1   \n",
       "1            7  7568011_0_RA771CREDSPX_CDX_NA_HY_29_5Y_CSC_HOL...        1   \n",
       "2            8                          7583468_0_ZUTIL_PG_STRAT1        1   \n",
       "3            9  7569171_0_RA771CREDSPX_CDX_NA_HY_29_5Y_COMMUN_...        1   \n",
       "4           10                        7590859_0_AM730RPTIE_POSI_1        1   \n",
       "5           11                               MUREX_PT_MINI_4_1222        1   \n",
       "6           12                          7697749_0_ZUTIL_PG_STRAT1        1   \n",
       "7           13  7369968_0_ZZZ_RA771_RAC_ITRX_EUR_X_27_5_ARCELO...        1   \n",
       "8           14                                        BBG_FRPH_UW        1   \n",
       "9           15  7496992_0_RA771CREDSPX_ITRX_EUR_S28_5Y_DEUTSCH...        1   \n",
       "\n",
       "   load_id  source_object_id                load_dts  \n",
       "0        0                 0 2018-06-27 10:13:34.087  \n",
       "1        0                 0 2018-06-27 10:13:34.087  \n",
       "2        0                 0 2018-06-27 10:13:34.087  \n",
       "3        0                 0 2018-06-27 10:13:34.087  \n",
       "4        0                 0 2018-06-27 10:13:34.087  \n",
       "5        0                 0 2018-06-27 10:13:34.087  \n",
       "6        0                 0 2018-06-27 10:13:34.087  \n",
       "7        0                 0 2018-06-27 10:13:34.087  \n",
       "8        0                 0 2018-06-27 10:13:34.087  \n",
       "9        0                 0 2018-06-27 10:13:34.087  "
      ]
     },
     "execution_count": 20,
     "metadata": {},
     "output_type": "execute_result"
    }
   ],
   "source": [
    "TM.head(10)\n",
    "\n",
    "#for row in cursor:\n",
    "#    print(row)"
   ]
  },
  {
   "cell_type": "code",
   "execution_count": 21,
   "metadata": {},
   "outputs": [
    {
     "data": {
      "text/plain": [
       "(10, 6)"
      ]
     },
     "execution_count": 21,
     "metadata": {},
     "output_type": "execute_result"
    }
   ],
   "source": [
    "TM.shape"
   ]
  },
  {
   "cell_type": "code",
   "execution_count": 29,
   "metadata": {},
   "outputs": [],
   "source": [
    "query = \"\"\"\n",
    "SELECT top 2 *\n",
    "  FROM [rsq_model].[MesureRisqueMarche].[V_PnLRMInstrumentsVecteur]\n",
    "  where sessiondate = '2019-12-31'  \n",
    "\"\"\"\n",
    "TM = pd.read_sql(query, con)"
   ]
  },
  {
   "cell_type": "code",
   "execution_count": 30,
   "metadata": {},
   "outputs": [
    {
     "data": {
      "text/plain": [
       "(2, 60)"
      ]
     },
     "execution_count": 30,
     "metadata": {},
     "output_type": "execute_result"
    }
   ],
   "source": [
    "TM.shape"
   ]
  },
  {
   "cell_type": "code",
   "execution_count": 31,
   "metadata": {},
   "outputs": [
    {
     "data": {
      "text/html": [
       "<div>\n",
       "<style scoped>\n",
       "    .dataframe tbody tr th:only-of-type {\n",
       "        vertical-align: middle;\n",
       "    }\n",
       "\n",
       "    .dataframe tbody tr th {\n",
       "        vertical-align: top;\n",
       "    }\n",
       "\n",
       "    .dataframe thead th {\n",
       "        text-align: right;\n",
       "    }\n",
       "</style>\n",
       "<table border=\"1\" class=\"dataframe\">\n",
       "  <thead>\n",
       "    <tr style=\"text-align: right;\">\n",
       "      <th></th>\n",
       "      <th>SessionDate</th>\n",
       "      <th>SessionID</th>\n",
       "      <th>DynamicIdentifier</th>\n",
       "      <th>DynamicID</th>\n",
       "      <th>CaracteristiqueScenarioLibelle</th>\n",
       "      <th>IndicateurDonneePubliee</th>\n",
       "      <th>FrequenceSessionCode</th>\n",
       "      <th>TypeScenario</th>\n",
       "      <th>HorizonCalcul</th>\n",
       "      <th>NombreObservation</th>\n",
       "      <th>...</th>\n",
       "      <th>ContractSize</th>\n",
       "      <th>VocationImmobiliere</th>\n",
       "      <th>ClasseImmobiliere</th>\n",
       "      <th>StatutActifImmobilier</th>\n",
       "      <th>InstrumentStartDate</th>\n",
       "      <th>InstrumentEndDate</th>\n",
       "      <th>InstrumentCurIndicator</th>\n",
       "      <th>load_id</th>\n",
       "      <th>source_object_id</th>\n",
       "      <th>load_dts</th>\n",
       "    </tr>\n",
       "  </thead>\n",
       "  <tbody>\n",
       "    <tr>\n",
       "      <th>0</th>\n",
       "      <td>2019-12-31</td>\n",
       "      <td>2296</td>\n",
       "      <td>CDPQM_20191231_Monthly_1</td>\n",
       "      <td>CDPQM_20191231_Monthly_1</td>\n",
       "      <td>Historique_BS_4W_3000</td>\n",
       "      <td>False</td>\n",
       "      <td>M</td>\n",
       "      <td>bootstrap</td>\n",
       "      <td>20</td>\n",
       "      <td>3000</td>\n",
       "      <td>...</td>\n",
       "      <td>None</td>\n",
       "      <td>None</td>\n",
       "      <td>None</td>\n",
       "      <td>None</td>\n",
       "      <td>None</td>\n",
       "      <td>None</td>\n",
       "      <td>None</td>\n",
       "      <td>157834</td>\n",
       "      <td>1853</td>\n",
       "      <td>2020-01-13 19:17:27.163</td>\n",
       "    </tr>\n",
       "    <tr>\n",
       "      <th>1</th>\n",
       "      <td>2019-12-31</td>\n",
       "      <td>2296</td>\n",
       "      <td>CDPQM_20191231_Monthly_1</td>\n",
       "      <td>CDPQM_20191231_Monthly_1</td>\n",
       "      <td>Historique_BS_4W_3000</td>\n",
       "      <td>False</td>\n",
       "      <td>M</td>\n",
       "      <td>bootstrap</td>\n",
       "      <td>20</td>\n",
       "      <td>3000</td>\n",
       "      <td>...</td>\n",
       "      <td>None</td>\n",
       "      <td>None</td>\n",
       "      <td>None</td>\n",
       "      <td>None</td>\n",
       "      <td>None</td>\n",
       "      <td>None</td>\n",
       "      <td>None</td>\n",
       "      <td>157834</td>\n",
       "      <td>1853</td>\n",
       "      <td>2020-01-13 19:17:27.163</td>\n",
       "    </tr>\n",
       "  </tbody>\n",
       "</table>\n",
       "<p>2 rows × 60 columns</p>\n",
       "</div>"
      ],
      "text/plain": [
       "  SessionDate  SessionID         DynamicIdentifier                 DynamicID  \\\n",
       "0  2019-12-31       2296  CDPQM_20191231_Monthly_1  CDPQM_20191231_Monthly_1   \n",
       "1  2019-12-31       2296  CDPQM_20191231_Monthly_1  CDPQM_20191231_Monthly_1   \n",
       "\n",
       "  CaracteristiqueScenarioLibelle  IndicateurDonneePubliee  \\\n",
       "0          Historique_BS_4W_3000                    False   \n",
       "1          Historique_BS_4W_3000                    False   \n",
       "\n",
       "  FrequenceSessionCode TypeScenario  HorizonCalcul  NombreObservation  ...  \\\n",
       "0                    M    bootstrap             20               3000  ...   \n",
       "1                    M    bootstrap             20               3000  ...   \n",
       "\n",
       "   ContractSize VocationImmobiliere  ClasseImmobiliere  StatutActifImmobilier  \\\n",
       "0          None                None               None                   None   \n",
       "1          None                None               None                   None   \n",
       "\n",
       "  InstrumentStartDate InstrumentEndDate InstrumentCurIndicator load_id  \\\n",
       "0                None              None                   None  157834   \n",
       "1                None              None                   None  157834   \n",
       "\n",
       "  source_object_id                load_dts  \n",
       "0             1853 2020-01-13 19:17:27.163  \n",
       "1             1853 2020-01-13 19:17:27.163  \n",
       "\n",
       "[2 rows x 60 columns]"
      ]
     },
     "execution_count": 31,
     "metadata": {},
     "output_type": "execute_result"
    }
   ],
   "source": [
    "TM.head(10)"
   ]
  },
  {
   "cell_type": "code",
   "execution_count": 32,
   "metadata": {},
   "outputs": [
    {
     "data": {
      "text/plain": [
       "0    Historique_BS_4W_3000\n",
       "1    Historique_BS_4W_3000\n",
       "Name: CaracteristiqueScenarioLibelle, dtype: object"
      ]
     },
     "execution_count": 32,
     "metadata": {},
     "output_type": "execute_result"
    }
   ],
   "source": [
    "TM['CaracteristiqueScenarioLibelle']"
   ]
  },
  {
   "cell_type": "code",
   "execution_count": 33,
   "metadata": {},
   "outputs": [],
   "source": [
    "vecteurs = TM['vecteurPnlInstrument']"
   ]
  },
  {
   "cell_type": "code",
   "execution_count": 34,
   "metadata": {},
   "outputs": [
    {
     "data": {
      "text/plain": [
       "0    23495.5193467529;139069.747994514;2491.6479155...\n",
       "1    23502.39812107;139066.446206138;2487.326815499...\n",
       "Name: vecteurPnlInstrument, dtype: object"
      ]
     },
     "execution_count": 34,
     "metadata": {},
     "output_type": "execute_result"
    }
   ],
   "source": [
    "vecteurs"
   ]
  },
  {
   "cell_type": "code",
   "execution_count": 63,
   "metadata": {},
   "outputs": [],
   "source": [
    "def split2 (text):\n",
    "    return text.split(\";\")"
   ]
  },
  {
   "cell_type": "code",
   "execution_count": 43,
   "metadata": {},
   "outputs": [],
   "source": [
    "#vecteurs[0].split(\";\")"
   ]
  },
  {
   "cell_type": "code",
   "execution_count": 71,
   "metadata": {},
   "outputs": [
    {
     "data": {
      "text/plain": [
       "(2, 3000)"
      ]
     },
     "execution_count": 71,
     "metadata": {},
     "output_type": "execute_result"
    }
   ],
   "source": [
    "result  =  map(split2, vecteurs)\n",
    "seq = np.array(list(result))\n",
    "seq.shape"
   ]
  },
  {
   "cell_type": "code",
   "execution_count": 50,
   "metadata": {},
   "outputs": [],
   "source": [
    "split(vecteurs[0])"
   ]
  },
  {
   "cell_type": "code",
   "execution_count": 51,
   "metadata": {},
   "outputs": [
    {
     "data": {
      "text/plain": [
       "(2,)"
      ]
     },
     "execution_count": 51,
     "metadata": {},
     "output_type": "execute_result"
    }
   ],
   "source": [
    "vecteurs.shape"
   ]
  },
  {
   "cell_type": "code",
   "execution_count": null,
   "metadata": {},
   "outputs": [],
   "source": []
  }
 ],
 "metadata": {
  "file_extension": ".py",
  "kernelspec": {
   "display_name": "Python 3.7.6 64-bit ('DLENV': conda)",
   "language": "python",
   "name": "python37664bitdlenvconda43e971d92e6b458f91f7640e31475edd"
  },
  "language_info": {
   "codemirror_mode": {
    "name": "ipython",
    "version": 3
   },
   "file_extension": ".py",
   "mimetype": "text/x-python",
   "name": "python",
   "nbconvert_exporter": "python",
   "pygments_lexer": "ipython3",
   "version": "3.7.6"
  },
  "mimetype": "text/x-python",
  "name": "python",
  "npconvert_exporter": "python",
  "pygments_lexer": "ipython3",
  "version": 3
 },
 "nbformat": 4,
 "nbformat_minor": 4
}
