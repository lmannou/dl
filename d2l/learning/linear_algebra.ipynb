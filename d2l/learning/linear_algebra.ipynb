{
 "metadata": {
  "language_info": {
   "codemirror_mode": {
    "name": "ipython",
    "version": 3
   },
   "file_extension": ".py",
   "mimetype": "text/x-python",
   "name": "python",
   "nbconvert_exporter": "python",
   "pygments_lexer": "ipython3",
   "version": "3.7.6-final"
  },
  "orig_nbformat": 2,
  "kernelspec": {
   "name": "python_defaultSpec_1601050857269",
   "display_name": "Python 3.7.6 64-bit ('DLENV': conda)"
  }
 },
 "nbformat": 4,
 "nbformat_minor": 2,
 "cells": [
  {
   "cell_type": "code",
   "execution_count": 1,
   "metadata": {},
   "outputs": [],
   "source": [
    "import tensorflow as tf\n"
   ]
  },
  {
   "cell_type": "code",
   "execution_count": 2,
   "metadata": {},
   "outputs": [
    {
     "output_type": "execute_result",
     "data": {
      "text/plain": "(<tf.Tensor: id=2, shape=(1,), dtype=float32, numpy=array([5.], dtype=float32)>,\n <tf.Tensor: id=3, shape=(1,), dtype=float32, numpy=array([6.], dtype=float32)>,\n <tf.Tensor: id=4, shape=(1,), dtype=float32, numpy=array([1.5], dtype=float32)>,\n <tf.Tensor: id=5, shape=(1,), dtype=float32, numpy=array([9.], dtype=float32)>)"
     },
     "metadata": {},
     "execution_count": 2
    }
   ],
   "source": [
    "x = tf.constant([3.0])\n",
    "y = tf.constant([2.0])\n",
    "\n",
    "x + y, x * y, x / y, x**y"
   ]
  },
  {
   "cell_type": "code",
   "execution_count": 3,
   "metadata": {},
   "outputs": [
    {
     "output_type": "execute_result",
     "data": {
      "text/plain": "<tf.Tensor: id=9, shape=(4,), dtype=int32, numpy=array([0, 1, 2, 3])>"
     },
     "metadata": {},
     "execution_count": 3
    }
   ],
   "source": [
    "x = tf.range(4)\n",
    "x"
   ]
  },
  {
   "cell_type": "code",
   "execution_count": 6,
   "metadata": {},
   "outputs": [
    {
     "output_type": "execute_result",
     "data": {
      "text/plain": "4"
     },
     "metadata": {},
     "execution_count": 6
    }
   ],
   "source": [
    "len(x)"
   ]
  },
  {
   "cell_type": "code",
   "execution_count": 7,
   "metadata": {},
   "outputs": [
    {
     "output_type": "execute_result",
     "data": {
      "text/plain": "TensorShape([4])"
     },
     "metadata": {},
     "execution_count": 7
    }
   ],
   "source": [
    "x.shape"
   ]
  },
  {
   "cell_type": "code",
   "execution_count": 10,
   "metadata": {},
   "outputs": [
    {
     "output_type": "execute_result",
     "data": {
      "text/plain": "<tf.Tensor: id=14, shape=(), dtype=int32, numpy=4>"
     },
     "metadata": {},
     "execution_count": 10
    }
   ],
   "source": [
    "tf.size(x)"
   ]
  },
  {
   "cell_type": "code",
   "execution_count": 18,
   "metadata": {},
   "outputs": [
    {
     "output_type": "execute_result",
     "data": {
      "text/plain": "<tf.Tensor: id=46, shape=(5, 4), dtype=int32, numpy=\narray([[ 0,  1,  2,  3],\n       [ 4,  5,  6,  7],\n       [ 8,  9, 10, 11],\n       [12, 13, 14, 15],\n       [16, 17, 18, 19]])>"
     },
     "metadata": {},
     "execution_count": 18
    }
   ],
   "source": [
    "A = tf.reshape(tf.range(20), (5, 4))\n",
    "A"
   ]
  },
  {
   "cell_type": "code",
   "execution_count": 13,
   "metadata": {},
   "outputs": [
    {
     "output_type": "execute_result",
     "data": {
      "text/plain": "<tf.Tensor: id=28, shape=(), dtype=int32, numpy=13>"
     },
     "metadata": {},
     "execution_count": 13
    }
   ],
   "source": [
    "A[3, 1]"
   ]
  },
  {
   "cell_type": "code",
   "execution_count": 14,
   "metadata": {},
   "outputs": [
    {
     "output_type": "execute_result",
     "data": {
      "text/plain": "<tf.Tensor: id=32, shape=(3,), dtype=int32, numpy=array([1, 5, 9])>"
     },
     "metadata": {},
     "execution_count": 14
    }
   ],
   "source": [
    "A[:3, 1]"
   ]
  },
  {
   "cell_type": "code",
   "execution_count": 15,
   "metadata": {},
   "outputs": [
    {
     "output_type": "execute_result",
     "data": {
      "text/plain": "<tf.Tensor: id=36, shape=(2,), dtype=int32, numpy=array([8, 9])>"
     },
     "metadata": {},
     "execution_count": 15
    }
   ],
   "source": [
    "A[2, :2]"
   ]
  },
  {
   "cell_type": "code",
   "execution_count": 19,
   "metadata": {},
   "outputs": [
    {
     "output_type": "execute_result",
     "data": {
      "text/plain": "(<tf.Tensor: id=46, shape=(5, 4), dtype=int32, numpy=\n array([[ 0,  1,  2,  3],\n        [ 4,  5,  6,  7],\n        [ 8,  9, 10, 11],\n        [12, 13, 14, 15],\n        [16, 17, 18, 19]])>,\n <tf.Tensor: id=48, shape=(4, 5), dtype=int32, numpy=\n array([[ 0,  4,  8, 12, 16],\n        [ 1,  5,  9, 13, 17],\n        [ 2,  6, 10, 14, 18],\n        [ 3,  7, 11, 15, 19]])>)"
     },
     "metadata": {},
     "execution_count": 19
    }
   ],
   "source": [
    "A, tf.transpose(A)"
   ]
  },
  {
   "cell_type": "code",
   "execution_count": 21,
   "metadata": {},
   "outputs": [
    {
     "output_type": "execute_result",
     "data": {
      "text/plain": "False"
     },
     "metadata": {},
     "execution_count": 21
    }
   ],
   "source": [
    "A.shape == tf.transpose(A).shape"
   ]
  },
  {
   "cell_type": "code",
   "execution_count": 22,
   "metadata": {},
   "outputs": [
    {
     "output_type": "execute_result",
     "data": {
      "text/plain": "<tf.Tensor: id=53, shape=(3, 3), dtype=int32, numpy=\narray([[1, 2, 3],\n       [2, 0, 4],\n       [3, 4, 5]])>"
     },
     "metadata": {},
     "execution_count": 22
    }
   ],
   "source": [
    "B = tf.constant([[1, 2, 3], [2, 0, 4], [3, 4, 5]])\n",
    "B"
   ]
  },
  {
   "cell_type": "code",
   "execution_count": 23,
   "metadata": {},
   "outputs": [
    {
     "output_type": "execute_result",
     "data": {
      "text/plain": "True"
     },
     "metadata": {},
     "execution_count": 23
    }
   ],
   "source": [
    "B.shape == tf.transpose(B).shape"
   ]
  },
  {
   "cell_type": "code",
   "execution_count": 25,
   "metadata": {},
   "outputs": [
    {
     "output_type": "execute_result",
     "data": {
      "text/plain": "<tf.Tensor: id=60, shape=(3, 3), dtype=bool, numpy=\narray([[ True,  True,  True],\n       [ True,  True,  True],\n       [ True,  True,  True]])>"
     },
     "metadata": {},
     "execution_count": 25
    }
   ],
   "source": [
    "B == tf.transpose(B)"
   ]
  },
  {
   "cell_type": "code",
   "execution_count": 26,
   "metadata": {},
   "outputs": [],
   "source": [
    "C = A * A"
   ]
  },
  {
   "cell_type": "code",
   "execution_count": 27,
   "metadata": {},
   "outputs": [
    {
     "output_type": "execute_result",
     "data": {
      "text/plain": "<tf.Tensor: id=61, shape=(5, 4), dtype=int32, numpy=\narray([[  0,   1,   4,   9],\n       [ 16,  25,  36,  49],\n       [ 64,  81, 100, 121],\n       [144, 169, 196, 225],\n       [256, 289, 324, 361]])>"
     },
     "metadata": {},
     "execution_count": 27
    }
   ],
   "source": [
    "C"
   ]
  },
  {
   "cell_type": "code",
   "execution_count": 28,
   "metadata": {},
   "outputs": [
    {
     "output_type": "execute_result",
     "data": {
      "text/plain": "<tf.Tensor: id=63, shape=(), dtype=int32, numpy=190>"
     },
     "metadata": {},
     "execution_count": 28
    }
   ],
   "source": [
    "tf.reduce_sum(A)"
   ]
  },
  {
   "cell_type": "code",
   "execution_count": 32,
   "metadata": {},
   "outputs": [
    {
     "output_type": "execute_result",
     "data": {
      "text/plain": "(<tf.Tensor: id=46, shape=(5, 4), dtype=int32, numpy=\n array([[ 0,  1,  2,  3],\n        [ 4,  5,  6,  7],\n        [ 8,  9, 10, 11],\n        [12, 13, 14, 15],\n        [16, 17, 18, 19]])>,\n <tf.Tensor: id=73, shape=(4,), dtype=int32, numpy=array([40, 45, 50, 55])>)"
     },
     "metadata": {},
     "execution_count": 32
    }
   ],
   "source": [
    "A,tf.reduce_sum(A, axis=[0])"
   ]
  },
  {
   "cell_type": "code",
   "execution_count": 34,
   "metadata": {},
   "outputs": [
    {
     "output_type": "execute_result",
     "data": {
      "text/plain": "(<tf.Tensor: id=46, shape=(5, 4), dtype=int32, numpy=\n array([[ 0,  1,  2,  3],\n        [ 4,  5,  6,  7],\n        [ 8,  9, 10, 11],\n        [12, 13, 14, 15],\n        [16, 17, 18, 19]])>,\n <tf.Tensor: id=77, shape=(5,), dtype=int32, numpy=array([ 6, 22, 38, 54, 70])>)"
     },
     "metadata": {},
     "execution_count": 34
    }
   ],
   "source": [
    "A,tf.reduce_sum(A, axis=[1])"
   ]
  },
  {
   "cell_type": "code",
   "execution_count": 35,
   "metadata": {},
   "outputs": [
    {
     "output_type": "execute_result",
     "data": {
      "text/plain": "(<tf.Tensor: id=46, shape=(5, 4), dtype=int32, numpy=\n array([[ 0,  1,  2,  3],\n        [ 4,  5,  6,  7],\n        [ 8,  9, 10, 11],\n        [12, 13, 14, 15],\n        [16, 17, 18, 19]])>,\n <tf.Tensor: id=79, shape=(4,), dtype=int32, numpy=array([ 8,  9, 10, 11])>)"
     },
     "metadata": {},
     "execution_count": 35
    }
   ],
   "source": [
    "A,tf.reduce_mean(A, axis=[0])"
   ]
  },
  {
   "cell_type": "code",
   "execution_count": 41,
   "metadata": {},
   "outputs": [
    {
     "output_type": "execute_result",
     "data": {
      "text/plain": "5"
     },
     "metadata": {},
     "execution_count": 41
    }
   ],
   "source": [
    "A.shape[0]"
   ]
  },
  {
   "cell_type": "code",
   "execution_count": 43,
   "metadata": {},
   "outputs": [
    {
     "output_type": "execute_result",
     "data": {
      "text/plain": "<tf.Tensor: id=113, shape=(4,), dtype=float64, numpy=array([ 8.,  9., 10., 11.])>"
     },
     "metadata": {},
     "execution_count": 43
    }
   ],
   "source": [
    "tf.reduce_sum(A, axis=[0]) / A.shape[0]"
   ]
  },
  {
   "cell_type": "code",
   "execution_count": 46,
   "metadata": {},
   "outputs": [
    {
     "output_type": "execute_result",
     "data": {
      "text/plain": "<tf.Tensor: id=122, shape=(5, 4), dtype=float32, numpy=\narray([[ 0.,  1.,  2.,  3.],\n       [ 4.,  5.,  6.,  7.],\n       [ 8.,  9., 10., 11.],\n       [12., 13., 14., 15.],\n       [16., 17., 18., 19.]], dtype=float32)>"
     },
     "metadata": {},
     "execution_count": 46
    }
   ],
   "source": [
    "tf.cast(A, tf.float32)"
   ]
  },
  {
   "cell_type": "code",
   "execution_count": 48,
   "metadata": {},
   "outputs": [
    {
     "output_type": "execute_result",
     "data": {
      "text/plain": "<tf.Tensor: id=141, shape=(4,), dtype=bool, numpy=array([ True,  True,  True,  True])>"
     },
     "metadata": {},
     "execution_count": 48
    }
   ],
   "source": [
    "tf.reduce_mean(tf.cast(A, tf.double), axis=[0]) == tf.reduce_sum(A, axis=[0]) / A.shape[0]"
   ]
  },
  {
   "cell_type": "code",
   "execution_count": 50,
   "metadata": {},
   "outputs": [
    {
     "output_type": "execute_result",
     "data": {
      "text/plain": "<tf.Tensor: id=145, shape=(4,), dtype=int32, numpy=array([16, 17, 18, 19])>"
     },
     "metadata": {},
     "execution_count": 50
    }
   ],
   "source": [
    "tf.reduce_max(A, axis=[0])"
   ]
  },
  {
   "cell_type": "code",
   "execution_count": 51,
   "metadata": {},
   "outputs": [
    {
     "output_type": "execute_result",
     "data": {
      "text/plain": "<tf.Tensor: id=147, shape=(5, 1), dtype=int32, numpy=\narray([[ 6],\n       [22],\n       [38],\n       [54],\n       [70]])>"
     },
     "metadata": {},
     "execution_count": 51
    }
   ],
   "source": [
    "sum_A = tf.reduce_sum(A, axis=1, keepdims=True)\n",
    "sum_A"
   ]
  },
  {
   "cell_type": "code",
   "execution_count": 52,
   "metadata": {},
   "outputs": [
    {
     "output_type": "execute_result",
     "data": {
      "text/plain": "<tf.Tensor: id=149, shape=(5,), dtype=int32, numpy=array([ 6, 22, 38, 54, 70])>"
     },
     "metadata": {},
     "execution_count": 52
    }
   ],
   "source": [
    "tf.reduce_sum(A, axis=1)"
   ]
  },
  {
   "cell_type": "code",
   "execution_count": 53,
   "metadata": {},
   "outputs": [
    {
     "output_type": "execute_result",
     "data": {
      "text/plain": "<tf.Tensor: id=152, shape=(5, 4), dtype=float64, numpy=\narray([[0.        , 0.16666667, 0.33333333, 0.5       ],\n       [0.18181818, 0.22727273, 0.27272727, 0.31818182],\n       [0.21052632, 0.23684211, 0.26315789, 0.28947368],\n       [0.22222222, 0.24074074, 0.25925926, 0.27777778],\n       [0.22857143, 0.24285714, 0.25714286, 0.27142857]])>"
     },
     "metadata": {},
     "execution_count": 53
    }
   ],
   "source": [
    "A / sum_A"
   ]
  },
  {
   "cell_type": "code",
   "execution_count": 58,
   "metadata": {},
   "outputs": [
    {
     "output_type": "execute_result",
     "data": {
      "text/plain": "(<tf.Tensor: id=189, shape=(4,), dtype=float32, numpy=array([0., 1., 2., 3.], dtype=float32)>,\n <tf.Tensor: id=192, shape=(4,), dtype=float32, numpy=array([1., 1., 1., 1.], dtype=float32)>,\n <tf.Tensor: id=203, shape=(), dtype=float32, numpy=6.0>)"
     },
     "metadata": {},
     "execution_count": 58
    }
   ],
   "source": [
    "x = tf.range(4, dtype=tf.float32)\n",
    "y = tf.ones(4, dtype=tf.float32)\n",
    "x, y, tf.tensordot(x, y, axes=1)"
   ]
  },
  {
   "cell_type": "code",
   "execution_count": 66,
   "metadata": {},
   "outputs": [
    {
     "output_type": "execute_result",
     "data": {
      "text/plain": "<tf.Tensor: id=251, shape=(), dtype=float32, numpy=6.0>"
     },
     "metadata": {},
     "execution_count": 66
    }
   ],
   "source": [
    "tf.reduce_sum(x * y)"
   ]
  },
  {
   "cell_type": "code",
   "execution_count": 67,
   "metadata": {},
   "outputs": [
    {
     "output_type": "execute_result",
     "data": {
      "text/plain": "<tf.Tensor: id=266, shape=(), dtype=bool, numpy=True>"
     },
     "metadata": {},
     "execution_count": 67
    }
   ],
   "source": [
    "tf.reduce_sum(x * y) == tf.tensordot(x, y, axes=1)"
   ]
  },
  {
   "cell_type": "code",
   "execution_count": 74,
   "metadata": {},
   "outputs": [
    {
     "output_type": "execute_result",
     "data": {
      "text/plain": "(<tf.Tensor: id=46, shape=(5, 4), dtype=int32, numpy=\n array([[ 0,  1,  2,  3],\n        [ 4,  5,  6,  7],\n        [ 8,  9, 10, 11],\n        [12, 13, 14, 15],\n        [16, 17, 18, 19]])>,\n <tf.Tensor: id=294, shape=(4,), dtype=int32, numpy=array([0, 1, 2, 3])>,\n TensorShape([5, 4]),\n TensorShape([4]))"
     },
     "metadata": {},
     "execution_count": 74
    }
   ],
   "source": [
    "x = tf.range(4, dtype=tf.int32)\n",
    "A,x,A.shape,x.shape"
   ]
  },
  {
   "cell_type": "code",
   "execution_count": 75,
   "metadata": {},
   "outputs": [
    {
     "output_type": "execute_result",
     "data": {
      "text/plain": "<tf.Tensor: id=298, shape=(5,), dtype=int32, numpy=array([ 14,  38,  62,  86, 110])>"
     },
     "metadata": {},
     "execution_count": 75
    }
   ],
   "source": [
    " \n",
    "tf.linalg.matvec(A, x)"
   ]
  },
  {
   "cell_type": "code",
   "execution_count": 76,
   "metadata": {},
   "outputs": [
    {
     "output_type": "execute_result",
     "data": {
      "text/plain": "<tf.Tensor: id=309, shape=(5, 4, 4), dtype=int32, numpy=\narray([[[ 0,  0,  0,  0],\n        [ 0,  1,  2,  3],\n        [ 0,  2,  4,  6],\n        [ 0,  3,  6,  9]],\n\n       [[ 0,  4,  8, 12],\n        [ 0,  5, 10, 15],\n        [ 0,  6, 12, 18],\n        [ 0,  7, 14, 21]],\n\n       [[ 0,  8, 16, 24],\n        [ 0,  9, 18, 27],\n        [ 0, 10, 20, 30],\n        [ 0, 11, 22, 33]],\n\n       [[ 0, 12, 24, 36],\n        [ 0, 13, 26, 39],\n        [ 0, 14, 28, 42],\n        [ 0, 15, 30, 45]],\n\n       [[ 0, 16, 32, 48],\n        [ 0, 17, 34, 51],\n        [ 0, 18, 36, 54],\n        [ 0, 19, 38, 57]]])>"
     },
     "metadata": {},
     "execution_count": 76
    }
   ],
   "source": [
    "tf.tensordot(A, x, axes=0)"
   ]
  },
  {
   "cell_type": "code",
   "execution_count": 89,
   "metadata": {},
   "outputs": [
    {
     "output_type": "execute_result",
     "data": {
      "text/plain": "(TensorShape([5, 4]), TensorShape([4, 8]), True)"
     },
     "metadata": {},
     "execution_count": 89
    }
   ],
   "source": [
    "B = tf.ones((4, 8), tf.int32)\n",
    "A.shape, B.shape,A.shape[1] == B.shape[0]\n"
   ]
  },
  {
   "cell_type": "code",
   "execution_count": 90,
   "metadata": {},
   "outputs": [
    {
     "output_type": "execute_result",
     "data": {
      "text/plain": "<tf.Tensor: id=341, shape=(5, 8), dtype=int32, numpy=\narray([[ 6,  6,  6,  6,  6,  6,  6,  6],\n       [22, 22, 22, 22, 22, 22, 22, 22],\n       [38, 38, 38, 38, 38, 38, 38, 38],\n       [54, 54, 54, 54, 54, 54, 54, 54],\n       [70, 70, 70, 70, 70, 70, 70, 70]])>"
     },
     "metadata": {},
     "execution_count": 90
    }
   ],
   "source": [
    " \n",
    "tf.matmul(A, B)"
   ]
  },
  {
   "cell_type": "code",
   "execution_count": 95,
   "metadata": {},
   "outputs": [
    {
     "output_type": "execute_result",
     "data": {
      "text/plain": "(<tf.Tensor: id=351, shape=(2,), dtype=float32, numpy=array([ 3., -4.], dtype=float32)>,\n <tf.Tensor: id=356, shape=(), dtype=float32, numpy=5.0>)"
     },
     "metadata": {},
     "execution_count": 95
    }
   ],
   "source": [
    "#L2 Norm\n",
    "u = tf.constant([3.0, -4.0])\n",
    "u,tf.norm(u)"
   ]
  },
  {
   "cell_type": "code",
   "execution_count": 105,
   "metadata": {},
   "outputs": [
    {
     "output_type": "execute_result",
     "data": {
      "text/plain": "(<tf.Tensor: id=382, shape=(4,), dtype=float32, numpy=array([0., 1., 2., 3.], dtype=float32)>,\n <tf.Tensor: id=351, shape=(2,), dtype=float32, numpy=array([ 3., -4.], dtype=float32)>)"
     },
     "metadata": {},
     "execution_count": 105
    }
   ],
   "source": [
    "x = tf.cast(tf.range(4), tf.float32)\n",
    "x,u"
   ]
  },
  {
   "cell_type": "code",
   "execution_count": 106,
   "metadata": {},
   "outputs": [
    {
     "output_type": "execute_result",
     "data": {
      "text/plain": "<tf.Tensor: id=387, shape=(), dtype=float32, numpy=3.7416575>"
     },
     "metadata": {},
     "execution_count": 106
    }
   ],
   "source": [
    "tf.norm(x)"
   ]
  },
  {
   "cell_type": "code",
   "execution_count": 110,
   "metadata": {},
   "outputs": [
    {
     "output_type": "execute_result",
     "data": {
      "text/plain": "<tf.Tensor: id=407, shape=(), dtype=bool, numpy=True>"
     },
     "metadata": {},
     "execution_count": 110
    }
   ],
   "source": [
    "tf.sqrt(tf.reduce_sum(u*u)) == tf.norm(u)"
   ]
  },
  {
   "cell_type": "code",
   "execution_count": 107,
   "metadata": {},
   "outputs": [
    {
     "output_type": "execute_result",
     "data": {
      "text/plain": "<tf.Tensor: id=390, shape=(), dtype=float32, numpy=7.0>"
     },
     "metadata": {},
     "execution_count": 107
    }
   ],
   "source": [
    "#L1 Norm\n",
    "tf.reduce_sum(tf.abs(u))"
   ]
  },
  {
   "cell_type": "code",
   "execution_count": 111,
   "metadata": {},
   "outputs": [
    {
     "output_type": "execute_result",
     "data": {
      "text/plain": "<tf.Tensor: id=412, shape=(5, 4), dtype=bool, numpy=\narray([[ True,  True,  True,  True],\n       [ True,  True,  True,  True],\n       [ True,  True,  True,  True],\n       [ True,  True,  True,  True],\n       [ True,  True,  True,  True]])>"
     },
     "metadata": {},
     "execution_count": 111
    }
   ],
   "source": [
    "tf.transpose(tf.transpose(A)) == A"
   ]
  },
  {
   "cell_type": "code",
   "execution_count": 114,
   "metadata": {},
   "outputs": [],
   "source": [
    "C = A + 2"
   ]
  },
  {
   "cell_type": "code",
   "execution_count": 116,
   "metadata": {},
   "outputs": [
    {
     "output_type": "execute_result",
     "data": {
      "text/plain": "<tf.Tensor: id=434, shape=(4, 5), dtype=bool, numpy=\narray([[ True,  True,  True,  True,  True],\n       [ True,  True,  True,  True,  True],\n       [ True,  True,  True,  True,  True],\n       [ True,  True,  True,  True,  True]])>"
     },
     "metadata": {},
     "execution_count": 116
    }
   ],
   "source": [
    "tf.transpose(A) + tf.transpose(C) == tf.transpose(A + C)"
   ]
  },
  {
   "cell_type": "code",
   "execution_count": 122,
   "metadata": {},
   "outputs": [
    {
     "output_type": "execute_result",
     "data": {
      "text/plain": "<tf.Tensor: id=458, shape=(2, 3, 4), dtype=int32, numpy=\narray([[[ 0,  1,  2,  3],\n        [ 4,  5,  6,  7],\n        [ 8,  9, 10, 11]],\n\n       [[12, 13, 14, 15],\n        [16, 17, 18, 19],\n        [20, 21, 22, 23]]])>"
     },
     "metadata": {},
     "execution_count": 122
    }
   ],
   "source": [
    "D = tf.reshape(tf.range(24), (2, 3, 4))\n",
    "D"
   ]
  },
  {
   "cell_type": "code",
   "execution_count": 124,
   "metadata": {},
   "outputs": [
    {
     "output_type": "execute_result",
     "data": {
      "text/plain": "True"
     },
     "metadata": {},
     "execution_count": 124
    }
   ],
   "source": [
    "len(D) == D.shape[0] == 2"
   ]
  },
  {
   "cell_type": "code",
   "execution_count": null,
   "metadata": {},
   "outputs": [],
   "source": []
  }
 ]
}