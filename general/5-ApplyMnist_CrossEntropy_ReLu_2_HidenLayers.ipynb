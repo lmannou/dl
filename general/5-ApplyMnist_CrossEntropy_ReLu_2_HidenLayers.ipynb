{
 "nbformat": 4,
 "nbformat_minor": 2,
 "metadata": {
  "language_info": {
   "name": "python",
   "codemirror_mode": {
    "name": "ipython",
    "version": 3
   },
   "version": "3.7.6-final"
  },
  "orig_nbformat": 2,
  "file_extension": ".py",
  "mimetype": "text/x-python",
  "name": "python",
  "npconvert_exporter": "python",
  "pygments_lexer": "ipython3",
  "version": 3,
  "kernelspec": {
   "name": "python37664bitdlenvconda29b652f870674263985143dd5e5a7bc4",
   "display_name": "Python 3.7.6 64-bit ('DLENV': conda)"
  }
 },
 "cells": [
  {
   "cell_type": "markdown",
   "execution_count": null,
   "metadata": {},
   "outputs": [],
   "source": [
    "Apply Model to some inputs Learn how:\n",
    "\n",
    "Load a saved Model\n",
    "Select inputs\n",
    "Apply Model to inputs (Predict)"
   ]
  },
  {
   "cell_type": "markdown",
   "execution_count": null,
   "metadata": {},
   "outputs": [],
   "source": [
    "Import packages"
   ]
  },
  {
   "cell_type": "code",
   "execution_count": 1,
   "metadata": {},
   "outputs": [],
   "source": [
    "#numpy: Numeric library\n",
    "import numpy as np \n",
    "#graphics\n",
    "from matplotlib import pyplot as plt\n",
    "\n",
    "#tensorflow: use some TF tools\n",
    "import tensorflow as tf\n",
    "#Keras: Deep learning API. In TF 2.x, it is included in TF\n",
    "from tensorflow import keras\n",
    "#Import Dense layer\n",
    "from tensorflow.keras.layers import Dense\n",
    "from tensorflow.keras import Sequential\n",
    "from tensorflow.keras import Model\n",
    "#Optimizers: SGD (Stochastic Gradien Descent)\n",
    "#from tensorflow.keras.optimizers import SGD as sgd\n",
    "\n",
    "#import data set MNIST\n",
    "from tensorflow.keras.datasets import mnist"
   ]
  },
  {
   "cell_type": "markdown",
   "execution_count": null,
   "metadata": {},
   "outputs": [],
   "source": [
    "Some verifications"
   ]
  },
  {
   "cell_type": "markdown",
   "execution_count": null,
   "metadata": {},
   "outputs": [],
   "source": [
    "Import MNIST data set\n",
    "60000 training examples\n",
    "10000 validation examples\n",
    "1 example = 28 * 28 matrix (image with 28 * 28 pixels)\n"
   ]
  },
  {
   "cell_type": "code",
   "execution_count": 2,
   "metadata": {},
   "outputs": [],
   "source": [
    "(X_train, y_train), (X_valid, y_valid) = mnist.load_data()\n"
   ]
  },
  {
   "cell_type": "markdown",
   "execution_count": null,
   "metadata": {},
   "outputs": [],
   "source": [
    "Process & Prepare data\n",
    "Flattening Input data:\n",
    "Input data (x_train[i]) should be a vector of real values\n",
    "- From shape (60000, 28, 28) to shape (60000, 28 * 28)\n",
    "- Convert to float32 (default is uint8, which python will convert to float64) (flaot 32 will take less memory)"
   ]
  },
  {
   "cell_type": "code",
   "execution_count": 3,
   "metadata": {},
   "outputs": [],
   "source": [
    "#use numpy reshape\n",
    "x_train = np.reshape(X_train, (60000, 28 * 28)).astype('float32')\n",
    "x_valid = np.reshape(X_valid, (10000, 28 * 28)).astype('float32')"
   ]
  },
  {
   "cell_type": "markdown",
   "execution_count": null,
   "metadata": {},
   "outputs": [],
   "source": [
    "Prepare Data (2)\n",
    "divide by 255, so the values will range from 0 to 1\n"
   ]
  },
  {
   "cell_type": "code",
   "execution_count": 4,
   "metadata": {},
   "outputs": [],
   "source": [
    "#print(x_train)\n",
    "x_train /=  255\n",
    "x_valid /=  255"
   ]
  },
  {
   "cell_type": "markdown",
   "execution_count": null,
   "metadata": {},
   "outputs": [],
   "source": [
    "Load Model"
   ]
  },
  {
   "cell_type": "code",
   "execution_count": 6,
   "metadata": {},
   "outputs": [],
   "source": [
    "from tensorflow.keras.models import load_model\n",
    "\n",
    "#load Model\n",
    "folder = \"logs/crossEntropyReLu2Layers/20200229-202752/\"\n",
    "model = load_model(folder + 'model_all.h5')\n"
   ]
  },
  {
   "cell_type": "markdown",
   "execution_count": null,
   "metadata": {},
   "outputs": [],
   "source": [
    "Select some inputs"
   ]
  },
  {
   "cell_type": "code",
   "execution_count": 7,
   "metadata": {},
   "outputs": [
    {
     "name": "stdout",
     "output_type": "stream",
     "text": "indexes: array([3262, 9231, 4382, 9601, 2269, 9969, 9113,  780, 6958, 2264, 9233,\n       7002, 2076, 7455, 4000, 7528, 9791, 5948, 1917,  858, 6578, 5153,\n       1157, 2807, 4896,  803, 9402, 9674, 1131, 2278, 7748, 3908, 7950,\n        848,  262,  997, 9727, 4007, 7241, 9450, 1885, 3888, 2091, 1268,\n       3720, 4273,  331, 4166, 8555, 6163, 9746,   57,  210, 4859, 9034,\n       8606,  888, 7208, 1587, 2478, 5450,  483,  999, 1753, 9362, 3076,\n       9810, 7995, 7364, 8578, 3130, 2142, 8084, 6559, 8998, 7327, 4058,\n       3716, 5181,  461, 2471, 6562, 8854,  800, 4816, 7382, 6525, 1812,\n       8019, 4785,  870, 5792, 8879, 6000, 6594, 2700, 2678, 7209, 2668,\n       8746])\n(100, 784)\n(100,)\n"
    }
   ],
   "source": [
    "#print(x_train[0])\n",
    "size = 100\n",
    "indexes = np.random.randint(0, y_valid.size-1, size=size)\n",
    "tf.print(\"indexes:\", indexes)\n",
    "x = np.array([x_valid[i] for i in indexes])\n",
    "X = np.array([X_valid[i] for i in indexes])\n",
    "y = np.array([y_valid[i] for i in indexes])\n",
    "tf.print(x.shape)\n",
    "tf.print(y.shape)\n",
    "# x = np.array([x_train[0], x_train[1], x_train[4566]])\n",
    "# y = np.array([y_train[0], y_train[1], y_train[4566]])\n"
   ]
  },
  {
   "cell_type": "markdown",
   "execution_count": null,
   "metadata": {},
   "outputs": [],
   "source": [
    "Predict"
   ]
  },
  {
   "cell_type": "code",
   "execution_count": 8,
   "metadata": {},
   "outputs": [],
   "source": [
    " \n",
    "#predict\n",
    "y_predicted = model.predict_classes(x)\n"
   ]
  },
  {
   "cell_type": "markdown",
   "execution_count": null,
   "metadata": {},
   "outputs": [],
   "source": [
    "Print Prediction results"
   ]
  },
  {
   "cell_type": "code",
   "execution_count": 63,
   "metadata": {},
   "outputs": [],
   "source": [
    "#print prediction results\n",
    "#tf.print(\"y:\", y)\n",
    "#tf.print(\"predicted classes\", y_predicted)"
   ]
  },
  {
   "cell_type": "code",
   "execution_count": 9,
   "metadata": {},
   "outputs": [
    {
     "name": "stdout",
     "output_type": "stream",
     "text": "False\nNot predicted indexes: [28 37]\nNot predicted y: [5, 7]\nNot predicted y_predicted: [4, 4]\n"
    }
   ],
   "source": [
    "#check if prediction is valid\n",
    "comparison = y == y_predicted\n",
    "equal_arrays = comparison.all()\n",
    "\n",
    "#prints True if All is OK\n",
    "print(equal_arrays)\n",
    "\n",
    "#print not predicted indexes\n",
    "diff = y - y_predicted\n",
    " \n",
    "indexes_false = np.array([i for i in np.arange(diff.size) if diff[i] != 0])\n",
    "print(\"Not predicted indexes:\", indexes_false)\n",
    "print(\"Not predicted y:\", [y[i] for i in indexes_false])\n",
    "print(\"Not predicted y_predicted:\", [y_predicted[i] for i in indexes_false])"
   ]
  },
  {
   "cell_type": "code",
   "execution_count": 10,
   "metadata": {},
   "outputs": [
    {
     "name": "stdout",
     "output_type": "stream",
     "text": "Accuracy =  0.98\n"
    }
   ],
   "source": [
    "#Accuracy\n",
    "acc =  1- indexes_false.size/size\n",
    "print(\"Accuracy = \", acc)"
   ]
  },
  {
   "cell_type": "code",
   "execution_count": 11,
   "metadata": {},
   "outputs": [
    {
     "data": {
      "text/plain": "array([28, 37])"
     },
     "execution_count": 11,
     "metadata": {},
     "output_type": "execute_result"
    }
   ],
   "source": [
    " \n",
    "np.array(indexes_false)"
   ]
  },
  {
   "cell_type": "code",
   "execution_count": 12,
   "metadata": {},
   "outputs": [
    {
     "data": {
      "image/png": "[encoded data removed]",
      "image/svg+xml": "<?xml version=\"1.0\" encoding=\"utf-8\" standalone=\"no\"?>\r\n<!DOCTYPE svg PUBLIC \"-//W3C//DTD SVG 1.1//EN\"\r\n  \"http://www.w3.org/Graphics/SVG/1.1/DTD/svg11.dtd\">\r\n<!-- Created with matplotlib (https://matplotlib.org/) -->\r\n<svg height=\"90.9pt\" version=\"1.1\" viewBox=\"0 0 178.2 90.9\" width=\"178.2pt\" xmlns=\"http://www.w3.org/2000/svg\" xmlns:xlink=\"http://www.w3.org/1999/xlink\">\r\n <defs>\r\n  <style type=\"text/css\">\r\n*{stroke-linecap:butt;stroke-linejoin:round;}\r\n  </style>\r\n </defs>\r\n <g id=\"figure_1\">\r\n  <g id=\"patch_1\">\r\n   <path d=\"M 0 90.9 \r\nL 178.2 90.9 \r\nL 178.2 -0 \r\nL 0 -0 \r\nz\r\n\" style=\"fill:none;\"/>\r\n  </g>\r\n  <g id=\"axes_1\">\r\n   <g clip-path=\"url(#pbb7dbf8c11)\">\r\n    <image height=\"77\" id=\"image4a363d900f\" transform=\"scale(1 -1)translate(0 -77)\" width=\"77\" x=\"7.2\" xlink:href=\"data:image/png;base64,\r\niVBORw0KGgoAAAANSUhEUgAAAE0AAABNCAYAAADjCemwAAAABHNCSVQICAgIfAhkiAAAA65JREFUeJztmzssREEYhc96rrfYiPczNBo0ChoiQkMjEY2ShFCpPBKNqDQiUVBKtBKFaGhoJDQ6UYhQSCQeEVFIrGr+nc0u7p6998rK/1Unc/fOnZw9f+7O7EwgHA6HoSRE2l8PIBVR0wjUNAI1jUBNI1DTCNQ0AjWNQE0jUNMIMvx82P7+vujx8XHR9/f3P943NjYmenl5WXR1dbWLo3OOJo1ATSMI+LHK8fz8DABoa2uTttvbW9HFxcWiy8rKAACXl5dx+6qqqhJ9cnICAKitrXVvsA7QpBGoaQS+lOfNzQ0AoLGxUdpKS0tFHx8fi25qagIAnJ6eStvq6qro3d1d0TU1NQCAi4sLaSssLHRr2N+iSSP4s6RNT0+LXltb+/F+O0nt7e0x19fX10VPTU3R43SKJo1ATSPwZRpVUFAAAKioqJC2iYkJx/e3tLSIHhoaEr23twcAuL6+TnaICaFJI1DTCHwpz5KSEgDRv8dCoZDj+zMyIsNcWloSbcrTbzRpBGoagavlubW1Jbq/v1+0me40NDQk/YyNjY2k+0gWTRqBq9OotLTIdxAIBEQfHh4CALq7u6l+n56eRHd1dYk2a26m/2SekQiaNAI1jcDVF4Fd6XZ5rqysAHBWOqaPh4cHaZubmxNtL4ObtbPW1lZuwCSaNAI1jcCXt6eZRg0ODv7ax+fnJwBge3s77vWioiLRBwcHAICOjo7EB5sEmjQCNY3A1fK0pzgzMzNudRv1D9Pi4qLo2dlZ156RCJo0AleT9v7+Ljo/Pz/m+ujoqOjy8vK4faSnpwOITlFmZqZo81L5SzRpBGoagavTqGAwKNp+EZg/cwcGBqTN3qiXamjSCNQ0As/2ctirFOZNOTIyIm07OzuRQVhTrlRAk0agphF4Vp6Pj4+i7Q18BnvPbWVlpRdD8AxNGoFn2xLy8vJE9/b2AgDOzs6kLSsry3Ffr6+vou0Ju2FyclJ0c3OzaDMlcxtNGoGaRuDLntu7uzsAkaVsILEDE+bwBhB9puro6Cjm+vDwsGh7a0RPTw+A6H2/LJo0AjWNwJfy9Irz83MAQF9fn7S9vLzE/Wx2djaA6KncwsKCaPut+xuaNAI1jSCly9Ngl6R9usX+IWyOOdrk5uaKrq+vF93Z2QkAmJ+fl7a6ujrRmjSCf5G07/j4+BBtTvXZp/s2NzdFX11dxdyfk5Mj+u3tTbQmjUBNI/jX5ekVmjQCNY1ATSNQ0wjUNAI1jUBNI1DTCNQ0AjWN4AvrWgDJ/SMRHAAAAABJRU5ErkJggg==\" y=\"-6.7\"/>\r\n   </g>\r\n  </g>\r\n  <g id=\"axes_2\">\r\n   <g clip-path=\"url(#p90dadc0773)\">\r\n    <image height=\"77\" id=\"image89f2fe3546\" transform=\"scale(1 -1)translate(0 -77)\" width=\"77\" x=\"94.5\" xlink:href=\"data:image/png;base64,\r\niVBORw0KGgoAAAANSUhEUgAAAE0AAABNCAYAAADjCemwAAAABHNCSVQICAgIfAhkiAAAAuhJREFUeJztmj9IclEYxt8yiAZp0OYWXcRBAqXJJluCxnJvbXBydFUcGoTmtgbxz5YNTg3REoX0ZwlbVFyaExRtui/HL/2qR733Cs9vejgcDq+Pz8s599y7MhqNRkL+xKrTBSwjNA2ApgHQNACaBrDmdAHTKBQKqkulkuqbmxsnyhmDSQNwbdKKxaLq1VV3/bfuqmZJoGkArm1Pk/v7e9WPj4+qI5GIE+UwaQg0DWAp2vPz81N1o9FQzfZcImgawIpTl5Bmy/V6PdWbm5siIhKPx3Xs9vZW9fb2tur39/dFljgVJg3A1o3ADPX5+bnqdDqtOpVKiYjI29vbxDU+Pj5UW5tCKBTSsbW1xf8kJg2ApgHYuhEMBgPVx8fHqqvV6kzrHh4eqs5kMqp3dnZmWncaTBoATQNw7Jw2HA5VHx0dqa5UKjOt6/F4VNfrddV7e3szrWvCpAHQNADHbjnMe//Ly0vVT09PIiJycXGhY+bu2ul0vq0VjUZVx2Ix1eFweD7F/gOTBuDYRvAXzCtu8+xlPTK9vLzoWCAQWHg9TBoATQOwdSMwz2bdbve/c7e2tlT7/f6Jc6zHsuvrax07PT2dpcRfwaQB0DQAW9vz6upKtXkzMYl8Pq86mUwurCYEJg2ApgHY2p53d3c/zrEer4LB4KLLgWHSAFz3WUKtVhMRkUQioWOtVsupcibCpAHQNADXtefu7u63sYeHBwcqmQ6TBkDTAFzXnhavr6+qc7ncxDnWG6aTkxNbarJg0gBoGoAt7dnv90VEpN1u/zjXakuz5Z6fn1Wvr6+rttp2Y2NjLnX+FiYNwJa3Uc1mU0TwN0X7+/uqz87OVJsf89kJkwZA0wBs2Qiy2eyv5/p8PhEZP5uZXxV5vd75FQbCpAHQNABb2tPaoKdt1AcHB6rL5bKIjJ/H3AaTBkDTAJbiUyu3waQB0DQAmgZA0wBoGgBNA6BpADQNgKYB0DQAmgZA0wBoGgBNA6BpAF//fLVpvIVQXwAAAABJRU5ErkJggg==\" y=\"-6.7\"/>\r\n   </g>\r\n  </g>\r\n </g>\r\n <defs>\r\n  <clipPath id=\"pbb7dbf8c11\">\r\n   <rect height=\"76.5\" width=\"76.5\" x=\"7.2\" y=\"7.2\"/>\r\n  </clipPath>\r\n  <clipPath id=\"p90dadc0773\">\r\n   <rect height=\"76.5\" width=\"76.5\" x=\"94.5\" y=\"7.2\"/>\r\n  </clipPath>\r\n </defs>\r\n</svg>\r\n",
      "text/plain": "<Figure size 360x360 with 2 Axes>"
     },
     "metadata": {
      "needs_background": "light"
     },
     "output_type": "display_data"
    }
   ],
   "source": [
    "plt.figure(figsize=(5,5))\n",
    "for k in  np.arange(np.array(indexes_false).size):\n",
    "    plt.subplot(3, 4, k+1)\n",
    "    plt.imshow(X[indexes_false[k]], cmap=\"Greys\")\n",
    "    plt.axis('off')\n",
    "plt.tight_layout()\n",
    "plt.show()"
   ]
  },
  {
   "cell_type": "markdown",
   "execution_count": null,
   "metadata": {},
   "outputs": [],
   "source": [
    "End"
   ]
  }
 ]
}