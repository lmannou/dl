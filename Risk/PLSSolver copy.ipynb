{
 "cells": [
  {
   "cell_type": "code",
   "execution_count": 578,
   "metadata": {},
   "outputs": [],
   "source": [
    "import numpy as np\n",
    "import pandas as pd\n",
    "import pyodbc\n",
    "import matplotlib.pyplot as plt"
   ]
  },
  {
   "cell_type": "code",
   "execution_count": 579,
   "metadata": {},
   "outputs": [],
   "source": [
    "\n",
    "# Solvers \n",
    "from scipy.optimize import root as root\n",
    "from scipy.optimize import brentq as brentq"
   ]
  },
  {
   "cell_type": "markdown",
   "metadata": {},
   "source": [
    "Parametres"
   ]
  },
  {
   "cell_type": "code",
   "execution_count": 580,
   "metadata": {},
   "outputs": [],
   "source": [
    "session_date = '2020-07-31'\n",
    "# If no session id, then take published session\n",
    "session_id   = None\n",
    "\n",
    "risk_ids = \"('IND_CDP_CAISSE', 'FUND_IND_MSCI_ACWI_EX_CANADA', 'IND_SP_TSX_CAP', 'FUND_IND_DEX_UNIV')\"\n",
    "\n",
    "# Indice CAISSE: IND_CDP_CAISSE\n",
    "indice_caisse_id = 'IND_CDP_CAISSE';\n",
    "\n",
    "# Indices de base pour MB     \n",
    "indice_pour_mb_1_id = 'FUND_IND_MSCI_ACWI_EX_CANADA';\n",
    "indice_pour_mb_1_percent = 0.80;\n",
    "indice_pour_mb_2_id = 'IND_SP_TSX_CAP';\n",
    "indice_pour_mb_2_percent = 0.20;\n",
    "\n",
    "# Indices de base pour RF      \n",
    "indice_pour_rf_1_id = 'FUND_IND_DEX_UNIV';\n",
    "indice_pour_mb_rf_percent = 1.0;\n",
    "\n",
    "# Calcul de la VaR\n",
    "percent = 95\n",
    "metho = 'RobustHD'\n",
    "timeFactor = 13"
   ]
  },
  {
   "cell_type": "code",
   "execution_count": null,
   "metadata": {},
   "outputs": [],
   "source": [
    "class CalculateVaR:\n",
    "    # Default values\n",
    "    percent = 95\n",
    "    metho = 'RobustHD'\n",
    "    timeFactor = 13\n",
    "\n",
    "    def _init_(self, percent=None, metho=None, timeFactor=None)\n",
    "        if !(percent is None):\n",
    "            self.percent = percent\n",
    "        if !(metho is None):\n",
    "            self.metho = metho\n",
    "        if !(timeFactor is None):\n",
    "            self.timeFactor = timeFactor\n",
    "\n",
    "    def calculate(nb_observation, positionAmount, v_hd, v_pnl):\n",
    "        # 1- Sort Pnls\n",
    "        #print(v_pnl)\n",
    "        v_pnl_sorted = np.sort(v_pnl)\n",
    "        #print(v_pnl_sorted)\n",
    "\n",
    "        # 3 sort HD \n",
    "        v_hdWeights_sorted = v_hdWeights.sort_values('Rang')['Poids']\n",
    "\n",
    "        # Multiply Pnl by HD\n",
    "        print(v_pnl_sorted.shape, v_hdWeights_sorted.shape) \n",
    "        v_pnl_hd = v_pnl_sorted * v_hdWeights_sorted\n",
    "        # print(v_pnl_hd.shape)\n",
    "\n",
    "        # Average, Percentile\n",
    "        average = np.average(v_pnl)\n",
    "        sum = np.sum(v_pnl_hd)\n",
    "        percentile = sum \n",
    "        # print(average, sum, percentile)\n",
    "\n",
    "        # Annualized\n",
    "        annualizedVaR = 1- pow(1 + (percentile - average) / positionAmount, sqrt(timeFactor))\n",
    "        # return var \n",
    "        return annualizedVaR\n"
   ]
  },
  {
   "cell_type": "code",
   "execution_count": 581,
   "metadata": {
    "tags": []
   },
   "outputs": [
    {
     "output_type": "stream",
     "name": "stdout",
     "text": "<module 'pyodbc' from 'C:\\\\ProgramData\\\\Anaconda3\\\\envs\\\\DLENV\\\\lib\\\\site-packages\\\\pyodbc.cp37-win_amd64.pyd'>\n<pyodbc.Connection object at 0x0000020B79FF26B0>\n"
    }
   ],
   "source": [
    "print(pyodbc)\n",
    "con = pyodbc.connect('Driver={SQL Server};'\n",
    "                      'Server=CECGENSQL4\\MECZAPRSK01;'\n",
    "                      'Database=rsq_model;'\n",
    "                      'Trusted_Connection=yes;')\n",
    "print(con)"
   ]
  },
  {
   "cell_type": "markdown",
   "metadata": {},
   "source": [
    "conn = pyodbc.connect('Driver={SQL Server};'\n",
    "                      'Server=server_name;'\n",
    "                      'Database=db_name;'\n",
    "                      'Trusted_Connection=yes;')\n"
   ]
  },
  {
   "cell_type": "code",
   "execution_count": 582,
   "metadata": {
    "tags": []
   },
   "outputs": [
    {
     "output_type": "stream",
     "name": "stdout",
     "text": "\nSELECT   \n\t  IndiceIDRisque\n\t  , [SessionDate]\n      ,[SessionID]\n      ,[DynamicIdentifier]\n      ,[CaracteristiqueScenarioLibelle]\n      ,[IndicateurDonneePubliee]\n      ,[FrequenceSessionCode]\n      ,[TypeScenario]\n      ,[HorizonCalcul]\n      ,[NombreObservation]\n      ,[ValeurMarchande]\n      , A.Date as ScenarioDate\n\t  , A.Pnl  as Pnl\n\t  , A.Pnl/ValeurMarchande as Pnl_percent\n  FROM  [MesureRisqueMarche].[V_PnLRMIndiceVecteur] V\n  cross apply [dbo].[PivotDatePnl] ([VecteurScenariodate], vecteurIndicePnl, ';') A\n  where SessionDate = '2020-07-31'\n  and IndicateurDonneePubliee = 1\n  and IndiceIDRisque in ('IND_CDP_CAISSE', 'FUND_IND_MSCI_ACWI_EX_CANADA', 'IND_SP_TSX_CAP', 'FUND_IND_DEX_UNIV')\n  \n\n"
    }
   ],
   "source": [
    "query_template = \"\"\"\n",
    "SELECT   \n",
    "\t  IndiceIDRisque\n",
    "\t  , [SessionDate]\n",
    "      ,[SessionID]\n",
    "      ,[DynamicIdentifier]\n",
    "      ,[CaracteristiqueScenarioLibelle]\n",
    "      ,[IndicateurDonneePubliee]\n",
    "      ,[FrequenceSessionCode]\n",
    "      ,[TypeScenario]\n",
    "      ,[HorizonCalcul]\n",
    "      ,[NombreObservation]\n",
    "      ,[ValeurMarchande]\n",
    "      , A.Date as ScenarioDate\n",
    "\t  , A.Pnl  as Pnl\n",
    "\t  , A.Pnl/ValeurMarchande as Pnl_percent\n",
    "  FROM  [MesureRisqueMarche].[V_PnLRMIndiceVecteur] V\n",
    "  cross apply [dbo].[PivotDatePnl] ([VecteurScenariodate], vecteurIndicePnl, ';') A\n",
    "  where SessionDate = '{}'\n",
    "  and {}\n",
    "  and IndiceIDRisque in {}\n",
    "  \n",
    "\"\"\"\n",
    "\n",
    "if session_id is None:\n",
    "    query_session_selection = 'IndicateurDonneePubliee = 1'\n",
    "else:\n",
    "    query_session_selection = 'sessionId = {}'.format(session_id)\n",
    "\n",
    "query = query_template.format(session_date, query_session_selection, risk_ids)\n",
    "\n",
    "print(query)"
   ]
  },
  {
   "cell_type": "code",
   "execution_count": 583,
   "metadata": {},
   "outputs": [],
   "source": [
    "# Load data\n",
    "data = pd.read_sql(query, con)"
   ]
  },
  {
   "cell_type": "code",
   "execution_count": 584,
   "metadata": {},
   "outputs": [
    {
     "output_type": "execute_result",
     "data": {
      "text/plain": "(15136, 14)"
     },
     "metadata": {},
     "execution_count": 584
    }
   ],
   "source": [
    "data.shape"
   ]
  },
  {
   "cell_type": "code",
   "execution_count": 585,
   "metadata": {},
   "outputs": [
    {
     "output_type": "execute_result",
     "data": {
      "text/plain": "3784"
     },
     "metadata": {},
     "execution_count": 585
    }
   ],
   "source": [
    "data.NombreObservation.unique()[0]"
   ]
  },
  {
   "cell_type": "code",
   "execution_count": 586,
   "metadata": {},
   "outputs": [
    {
     "output_type": "execute_result",
     "data": {
      "text/plain": "      IndiceIDRisque SessionDate  SessionID      DynamicIdentifier  \\\n0  FUND_IND_DEX_UNIV  2020-07-31       2616  CDPQ_20200731_Daily_2   \n1  FUND_IND_DEX_UNIV  2020-07-31       2616  CDPQ_20200731_Daily_2   \n2  FUND_IND_DEX_UNIV  2020-07-31       2616  CDPQ_20200731_Daily_2   \n3  FUND_IND_DEX_UNIV  2020-07-31       2616  CDPQ_20200731_Daily_2   \n4  FUND_IND_DEX_UNIV  2020-07-31       2616  CDPQ_20200731_Daily_2   \n5  FUND_IND_DEX_UNIV  2020-07-31       2616  CDPQ_20200731_Daily_2   \n6  FUND_IND_DEX_UNIV  2020-07-31       2616  CDPQ_20200731_Daily_2   \n7  FUND_IND_DEX_UNIV  2020-07-31       2616  CDPQ_20200731_Daily_2   \n8  FUND_IND_DEX_UNIV  2020-07-31       2616  CDPQ_20200731_Daily_2   \n9  FUND_IND_DEX_UNIV  2020-07-31       2616  CDPQ_20200731_Daily_2   \n\n  CaracteristiqueScenarioLibelle  IndicateurDonneePubliee  \\\n0         Historique_4W_20060131                     True   \n1         Historique_4W_20060131                     True   \n2         Historique_4W_20060131                     True   \n3         Historique_4W_20060131                     True   \n4         Historique_4W_20060131                     True   \n5         Historique_4W_20060131                     True   \n6         Historique_4W_20060131                     True   \n7         Historique_4W_20060131                     True   \n8         Historique_4W_20060131                     True   \n9         Historique_4W_20060131                     True   \n\n  FrequenceSessionCode TypeScenario  HorizonCalcul  NombreObservation  \\\n0                    D   historique             20               3784   \n1                    D   historique             20               3784   \n2                    D   historique             20               3784   \n3                    D   historique             20               3784   \n4                    D   historique             20               3784   \n5                    D   historique             20               3784   \n6                    D   historique             20               3784   \n7                    D   historique             20               3784   \n8                    D   historique             20               3784   \n9                    D   historique             20               3784   \n\n   ValeurMarchande ScenarioDate           Pnl  Pnl_percent  \n0     1.337651e+11   2020-07-31  1.363377e+09     0.010192  \n1     1.337651e+11   2020-07-30  1.388943e+09     0.010383  \n2     1.337651e+11   2020-07-29  1.091948e+09     0.008163  \n3     1.337651e+11   2020-07-28  1.172368e+09     0.008764  \n4     1.337651e+11   2020-07-27  8.736499e+08     0.006531  \n5     1.337651e+11   2020-07-24  1.278547e+09     0.009558  \n6     1.337651e+11   2020-07-23  1.160141e+09     0.008673  \n7     1.337651e+11   2020-07-22  1.337441e+09     0.009998  \n8     1.337651e+11   2020-07-21  1.195991e+09     0.008941  \n9     1.337651e+11   2020-07-20  8.228439e+08     0.006151  ",
      "text/html": "<div>\n<style scoped>\n    .dataframe tbody tr th:only-of-type {\n        vertical-align: middle;\n    }\n\n    .dataframe tbody tr th {\n        vertical-align: top;\n    }\n\n    .dataframe thead th {\n        text-align: right;\n    }\n</style>\n<table border=\"1\" class=\"dataframe\">\n  <thead>\n    <tr style=\"text-align: right;\">\n      <th></th>\n      <th>IndiceIDRisque</th>\n      <th>SessionDate</th>\n      <th>SessionID</th>\n      <th>DynamicIdentifier</th>\n      <th>CaracteristiqueScenarioLibelle</th>\n      <th>IndicateurDonneePubliee</th>\n      <th>FrequenceSessionCode</th>\n      <th>TypeScenario</th>\n      <th>HorizonCalcul</th>\n      <th>NombreObservation</th>\n      <th>ValeurMarchande</th>\n      <th>ScenarioDate</th>\n      <th>Pnl</th>\n      <th>Pnl_percent</th>\n    </tr>\n  </thead>\n  <tbody>\n    <tr>\n      <th>0</th>\n      <td>FUND_IND_DEX_UNIV</td>\n      <td>2020-07-31</td>\n      <td>2616</td>\n      <td>CDPQ_20200731_Daily_2</td>\n      <td>Historique_4W_20060131</td>\n      <td>True</td>\n      <td>D</td>\n      <td>historique</td>\n      <td>20</td>\n      <td>3784</td>\n      <td>1.337651e+11</td>\n      <td>2020-07-31</td>\n      <td>1.363377e+09</td>\n      <td>0.010192</td>\n    </tr>\n    <tr>\n      <th>1</th>\n      <td>FUND_IND_DEX_UNIV</td>\n      <td>2020-07-31</td>\n      <td>2616</td>\n      <td>CDPQ_20200731_Daily_2</td>\n      <td>Historique_4W_20060131</td>\n      <td>True</td>\n      <td>D</td>\n      <td>historique</td>\n      <td>20</td>\n      <td>3784</td>\n      <td>1.337651e+11</td>\n      <td>2020-07-30</td>\n      <td>1.388943e+09</td>\n      <td>0.010383</td>\n    </tr>\n    <tr>\n      <th>2</th>\n      <td>FUND_IND_DEX_UNIV</td>\n      <td>2020-07-31</td>\n      <td>2616</td>\n      <td>CDPQ_20200731_Daily_2</td>\n      <td>Historique_4W_20060131</td>\n      <td>True</td>\n      <td>D</td>\n      <td>historique</td>\n      <td>20</td>\n      <td>3784</td>\n      <td>1.337651e+11</td>\n      <td>2020-07-29</td>\n      <td>1.091948e+09</td>\n      <td>0.008163</td>\n    </tr>\n    <tr>\n      <th>3</th>\n      <td>FUND_IND_DEX_UNIV</td>\n      <td>2020-07-31</td>\n      <td>2616</td>\n      <td>CDPQ_20200731_Daily_2</td>\n      <td>Historique_4W_20060131</td>\n      <td>True</td>\n      <td>D</td>\n      <td>historique</td>\n      <td>20</td>\n      <td>3784</td>\n      <td>1.337651e+11</td>\n      <td>2020-07-28</td>\n      <td>1.172368e+09</td>\n      <td>0.008764</td>\n    </tr>\n    <tr>\n      <th>4</th>\n      <td>FUND_IND_DEX_UNIV</td>\n      <td>2020-07-31</td>\n      <td>2616</td>\n      <td>CDPQ_20200731_Daily_2</td>\n      <td>Historique_4W_20060131</td>\n      <td>True</td>\n      <td>D</td>\n      <td>historique</td>\n      <td>20</td>\n      <td>3784</td>\n      <td>1.337651e+11</td>\n      <td>2020-07-27</td>\n      <td>8.736499e+08</td>\n      <td>0.006531</td>\n    </tr>\n    <tr>\n      <th>5</th>\n      <td>FUND_IND_DEX_UNIV</td>\n      <td>2020-07-31</td>\n      <td>2616</td>\n      <td>CDPQ_20200731_Daily_2</td>\n      <td>Historique_4W_20060131</td>\n      <td>True</td>\n      <td>D</td>\n      <td>historique</td>\n      <td>20</td>\n      <td>3784</td>\n      <td>1.337651e+11</td>\n      <td>2020-07-24</td>\n      <td>1.278547e+09</td>\n      <td>0.009558</td>\n    </tr>\n    <tr>\n      <th>6</th>\n      <td>FUND_IND_DEX_UNIV</td>\n      <td>2020-07-31</td>\n      <td>2616</td>\n      <td>CDPQ_20200731_Daily_2</td>\n      <td>Historique_4W_20060131</td>\n      <td>True</td>\n      <td>D</td>\n      <td>historique</td>\n      <td>20</td>\n      <td>3784</td>\n      <td>1.337651e+11</td>\n      <td>2020-07-23</td>\n      <td>1.160141e+09</td>\n      <td>0.008673</td>\n    </tr>\n    <tr>\n      <th>7</th>\n      <td>FUND_IND_DEX_UNIV</td>\n      <td>2020-07-31</td>\n      <td>2616</td>\n      <td>CDPQ_20200731_Daily_2</td>\n      <td>Historique_4W_20060131</td>\n      <td>True</td>\n      <td>D</td>\n      <td>historique</td>\n      <td>20</td>\n      <td>3784</td>\n      <td>1.337651e+11</td>\n      <td>2020-07-22</td>\n      <td>1.337441e+09</td>\n      <td>0.009998</td>\n    </tr>\n    <tr>\n      <th>8</th>\n      <td>FUND_IND_DEX_UNIV</td>\n      <td>2020-07-31</td>\n      <td>2616</td>\n      <td>CDPQ_20200731_Daily_2</td>\n      <td>Historique_4W_20060131</td>\n      <td>True</td>\n      <td>D</td>\n      <td>historique</td>\n      <td>20</td>\n      <td>3784</td>\n      <td>1.337651e+11</td>\n      <td>2020-07-21</td>\n      <td>1.195991e+09</td>\n      <td>0.008941</td>\n    </tr>\n    <tr>\n      <th>9</th>\n      <td>FUND_IND_DEX_UNIV</td>\n      <td>2020-07-31</td>\n      <td>2616</td>\n      <td>CDPQ_20200731_Daily_2</td>\n      <td>Historique_4W_20060131</td>\n      <td>True</td>\n      <td>D</td>\n      <td>historique</td>\n      <td>20</td>\n      <td>3784</td>\n      <td>1.337651e+11</td>\n      <td>2020-07-20</td>\n      <td>8.228439e+08</td>\n      <td>0.006151</td>\n    </tr>\n  </tbody>\n</table>\n</div>"
     },
     "metadata": {},
     "execution_count": 586
    }
   ],
   "source": [
    "data.head(10)"
   ]
  },
  {
   "cell_type": "code",
   "execution_count": 587,
   "metadata": {},
   "outputs": [
    {
     "output_type": "execute_result",
     "data": {
      "text/plain": "0        FUND_IND_DEX_UNIV\n1        FUND_IND_DEX_UNIV\n2        FUND_IND_DEX_UNIV\n3        FUND_IND_DEX_UNIV\n4        FUND_IND_DEX_UNIV\n               ...        \n15131       IND_SP_TSX_CAP\n15132       IND_SP_TSX_CAP\n15133       IND_SP_TSX_CAP\n15134       IND_SP_TSX_CAP\n15135       IND_SP_TSX_CAP\nName: IndiceIDRisque, Length: 15136, dtype: object"
     },
     "metadata": {},
     "execution_count": 587
    }
   ],
   "source": [
    "data.IndiceIDRisque"
   ]
  },
  {
   "cell_type": "code",
   "execution_count": 588,
   "metadata": {},
   "outputs": [
    {
     "output_type": "execute_result",
     "data": {
      "text/plain": "       IndiceIDRisque SessionDate  SessionID      DynamicIdentifier  \\\n7568   IND_CDP_CAISSE  2020-07-31       2616  CDPQ_20200731_Daily_2   \n7569   IND_CDP_CAISSE  2020-07-31       2616  CDPQ_20200731_Daily_2   \n7570   IND_CDP_CAISSE  2020-07-31       2616  CDPQ_20200731_Daily_2   \n7571   IND_CDP_CAISSE  2020-07-31       2616  CDPQ_20200731_Daily_2   \n7572   IND_CDP_CAISSE  2020-07-31       2616  CDPQ_20200731_Daily_2   \n...               ...         ...        ...                    ...   \n11347  IND_CDP_CAISSE  2020-07-31       2616  CDPQ_20200731_Daily_2   \n11348  IND_CDP_CAISSE  2020-07-31       2616  CDPQ_20200731_Daily_2   \n11349  IND_CDP_CAISSE  2020-07-31       2616  CDPQ_20200731_Daily_2   \n11350  IND_CDP_CAISSE  2020-07-31       2616  CDPQ_20200731_Daily_2   \n11351  IND_CDP_CAISSE  2020-07-31       2616  CDPQ_20200731_Daily_2   \n\n      CaracteristiqueScenarioLibelle  IndicateurDonneePubliee  \\\n7568          Historique_4W_20060131                     True   \n7569          Historique_4W_20060131                     True   \n7570          Historique_4W_20060131                     True   \n7571          Historique_4W_20060131                     True   \n7572          Historique_4W_20060131                     True   \n...                              ...                      ...   \n11347         Historique_4W_20060131                     True   \n11348         Historique_4W_20060131                     True   \n11349         Historique_4W_20060131                     True   \n11350         Historique_4W_20060131                     True   \n11351         Historique_4W_20060131                     True   \n\n      FrequenceSessionCode TypeScenario  HorizonCalcul  NombreObservation  \\\n7568                     D   historique             20               3784   \n7569                     D   historique             20               3784   \n7570                     D   historique             20               3784   \n7571                     D   historique             20               3784   \n7572                     D   historique             20               3784   \n...                    ...          ...            ...                ...   \n11347                    D   historique             20               3784   \n11348                    D   historique             20               3784   \n11349                    D   historique             20               3784   \n11350                    D   historique             20               3784   \n11351                    D   historique             20               3784   \n\n       ValeurMarchande ScenarioDate           Pnl  Pnl_percent  \n7568      9.999996e+10   2020-07-31  2.442538e+09     0.024425  \n7569      9.999996e+10   2020-07-30  2.608825e+09     0.026088  \n7570      9.999996e+10   2020-07-29  3.322061e+09     0.033221  \n7571      9.999996e+10   2020-07-28  2.916263e+09     0.029163  \n7572      9.999996e+10   2020-07-27  3.225027e+09     0.032250  \n...                ...          ...           ...          ...  \n11347     9.999996e+10   2006-02-06 -1.129640e+08    -0.001130  \n11348     9.999996e+10   2006-02-03 -5.188118e+07    -0.000519  \n11349     9.999996e+10   2006-02-02  7.246380e+08     0.007246  \n11350     9.999996e+10   2006-02-01  1.369914e+09     0.013699  \n11351     9.999996e+10   2006-01-31  1.979768e+09     0.019798  \n\n[3784 rows x 14 columns]",
      "text/html": "<div>\n<style scoped>\n    .dataframe tbody tr th:only-of-type {\n        vertical-align: middle;\n    }\n\n    .dataframe tbody tr th {\n        vertical-align: top;\n    }\n\n    .dataframe thead th {\n        text-align: right;\n    }\n</style>\n<table border=\"1\" class=\"dataframe\">\n  <thead>\n    <tr style=\"text-align: right;\">\n      <th></th>\n      <th>IndiceIDRisque</th>\n      <th>SessionDate</th>\n      <th>SessionID</th>\n      <th>DynamicIdentifier</th>\n      <th>CaracteristiqueScenarioLibelle</th>\n      <th>IndicateurDonneePubliee</th>\n      <th>FrequenceSessionCode</th>\n      <th>TypeScenario</th>\n      <th>HorizonCalcul</th>\n      <th>NombreObservation</th>\n      <th>ValeurMarchande</th>\n      <th>ScenarioDate</th>\n      <th>Pnl</th>\n      <th>Pnl_percent</th>\n    </tr>\n  </thead>\n  <tbody>\n    <tr>\n      <th>7568</th>\n      <td>IND_CDP_CAISSE</td>\n      <td>2020-07-31</td>\n      <td>2616</td>\n      <td>CDPQ_20200731_Daily_2</td>\n      <td>Historique_4W_20060131</td>\n      <td>True</td>\n      <td>D</td>\n      <td>historique</td>\n      <td>20</td>\n      <td>3784</td>\n      <td>9.999996e+10</td>\n      <td>2020-07-31</td>\n      <td>2.442538e+09</td>\n      <td>0.024425</td>\n    </tr>\n    <tr>\n      <th>7569</th>\n      <td>IND_CDP_CAISSE</td>\n      <td>2020-07-31</td>\n      <td>2616</td>\n      <td>CDPQ_20200731_Daily_2</td>\n      <td>Historique_4W_20060131</td>\n      <td>True</td>\n      <td>D</td>\n      <td>historique</td>\n      <td>20</td>\n      <td>3784</td>\n      <td>9.999996e+10</td>\n      <td>2020-07-30</td>\n      <td>2.608825e+09</td>\n      <td>0.026088</td>\n    </tr>\n    <tr>\n      <th>7570</th>\n      <td>IND_CDP_CAISSE</td>\n      <td>2020-07-31</td>\n      <td>2616</td>\n      <td>CDPQ_20200731_Daily_2</td>\n      <td>Historique_4W_20060131</td>\n      <td>True</td>\n      <td>D</td>\n      <td>historique</td>\n      <td>20</td>\n      <td>3784</td>\n      <td>9.999996e+10</td>\n      <td>2020-07-29</td>\n      <td>3.322061e+09</td>\n      <td>0.033221</td>\n    </tr>\n    <tr>\n      <th>7571</th>\n      <td>IND_CDP_CAISSE</td>\n      <td>2020-07-31</td>\n      <td>2616</td>\n      <td>CDPQ_20200731_Daily_2</td>\n      <td>Historique_4W_20060131</td>\n      <td>True</td>\n      <td>D</td>\n      <td>historique</td>\n      <td>20</td>\n      <td>3784</td>\n      <td>9.999996e+10</td>\n      <td>2020-07-28</td>\n      <td>2.916263e+09</td>\n      <td>0.029163</td>\n    </tr>\n    <tr>\n      <th>7572</th>\n      <td>IND_CDP_CAISSE</td>\n      <td>2020-07-31</td>\n      <td>2616</td>\n      <td>CDPQ_20200731_Daily_2</td>\n      <td>Historique_4W_20060131</td>\n      <td>True</td>\n      <td>D</td>\n      <td>historique</td>\n      <td>20</td>\n      <td>3784</td>\n      <td>9.999996e+10</td>\n      <td>2020-07-27</td>\n      <td>3.225027e+09</td>\n      <td>0.032250</td>\n    </tr>\n    <tr>\n      <th>...</th>\n      <td>...</td>\n      <td>...</td>\n      <td>...</td>\n      <td>...</td>\n      <td>...</td>\n      <td>...</td>\n      <td>...</td>\n      <td>...</td>\n      <td>...</td>\n      <td>...</td>\n      <td>...</td>\n      <td>...</td>\n      <td>...</td>\n      <td>...</td>\n    </tr>\n    <tr>\n      <th>11347</th>\n      <td>IND_CDP_CAISSE</td>\n      <td>2020-07-31</td>\n      <td>2616</td>\n      <td>CDPQ_20200731_Daily_2</td>\n      <td>Historique_4W_20060131</td>\n      <td>True</td>\n      <td>D</td>\n      <td>historique</td>\n      <td>20</td>\n      <td>3784</td>\n      <td>9.999996e+10</td>\n      <td>2006-02-06</td>\n      <td>-1.129640e+08</td>\n      <td>-0.001130</td>\n    </tr>\n    <tr>\n      <th>11348</th>\n      <td>IND_CDP_CAISSE</td>\n      <td>2020-07-31</td>\n      <td>2616</td>\n      <td>CDPQ_20200731_Daily_2</td>\n      <td>Historique_4W_20060131</td>\n      <td>True</td>\n      <td>D</td>\n      <td>historique</td>\n      <td>20</td>\n      <td>3784</td>\n      <td>9.999996e+10</td>\n      <td>2006-02-03</td>\n      <td>-5.188118e+07</td>\n      <td>-0.000519</td>\n    </tr>\n    <tr>\n      <th>11349</th>\n      <td>IND_CDP_CAISSE</td>\n      <td>2020-07-31</td>\n      <td>2616</td>\n      <td>CDPQ_20200731_Daily_2</td>\n      <td>Historique_4W_20060131</td>\n      <td>True</td>\n      <td>D</td>\n      <td>historique</td>\n      <td>20</td>\n      <td>3784</td>\n      <td>9.999996e+10</td>\n      <td>2006-02-02</td>\n      <td>7.246380e+08</td>\n      <td>0.007246</td>\n    </tr>\n    <tr>\n      <th>11350</th>\n      <td>IND_CDP_CAISSE</td>\n      <td>2020-07-31</td>\n      <td>2616</td>\n      <td>CDPQ_20200731_Daily_2</td>\n      <td>Historique_4W_20060131</td>\n      <td>True</td>\n      <td>D</td>\n      <td>historique</td>\n      <td>20</td>\n      <td>3784</td>\n      <td>9.999996e+10</td>\n      <td>2006-02-01</td>\n      <td>1.369914e+09</td>\n      <td>0.013699</td>\n    </tr>\n    <tr>\n      <th>11351</th>\n      <td>IND_CDP_CAISSE</td>\n      <td>2020-07-31</td>\n      <td>2616</td>\n      <td>CDPQ_20200731_Daily_2</td>\n      <td>Historique_4W_20060131</td>\n      <td>True</td>\n      <td>D</td>\n      <td>historique</td>\n      <td>20</td>\n      <td>3784</td>\n      <td>9.999996e+10</td>\n      <td>2006-01-31</td>\n      <td>1.979768e+09</td>\n      <td>0.019798</td>\n    </tr>\n  </tbody>\n</table>\n<p>3784 rows × 14 columns</p>\n</div>"
     },
     "metadata": {},
     "execution_count": 588
    }
   ],
   "source": [
    "is_indice_caisse = data.IndiceIDRisque == indice_caisse_id\n",
    "data[is_indice_caisse] "
   ]
  },
  {
   "cell_type": "code",
   "execution_count": 589,
   "metadata": {},
   "outputs": [
    {
     "output_type": "execute_result",
     "data": {
      "text/plain": "7568     0.024425\n7569     0.026088\n7570     0.033221\n7571     0.029163\n7572     0.032250\n           ...   \n11347   -0.001130\n11348   -0.000519\n11349    0.007246\n11350    0.013699\n11351    0.019798\nName: Pnl_percent, Length: 3784, dtype: float64"
     },
     "metadata": {},
     "execution_count": 589
    }
   ],
   "source": [
    "v_caisse = data[data.IndiceIDRisque == indice_caisse_id].Pnl_percent\n",
    "v_caisse"
   ]
  },
  {
   "cell_type": "code",
   "execution_count": 590,
   "metadata": {},
   "outputs": [
    {
     "output_type": "execute_result",
     "data": {
      "text/plain": "3784    0.029190\n3785    0.031194\n3786    0.044019\n3787    0.037868\n3788    0.046209\n          ...   \n7563   -0.027625\n7564   -0.019153\n7565    0.000834\n7566    0.021256\n7567    0.029752\nName: Pnl_percent, Length: 3784, dtype: float64"
     },
     "metadata": {},
     "execution_count": 590
    }
   ],
   "source": [
    "v_mb_1 = data[data.IndiceIDRisque == indice_pour_mb_1_id].Pnl_percent\n",
    "v_mb_1"
   ]
  },
  {
   "cell_type": "code",
   "execution_count": 591,
   "metadata": {},
   "outputs": [
    {
     "output_type": "execute_result",
     "data": {
      "text/plain": "11352    0.043649\n11353    0.049169\n11354    0.055499\n11355    0.044101\n11356    0.055875\n           ...   \n15131    0.041387\n15132    0.030010\n15133    0.038350\n15134    0.035920\n15135    0.035089\nName: Pnl_percent, Length: 3784, dtype: float64"
     },
     "metadata": {},
     "execution_count": 591
    }
   ],
   "source": [
    "v_mb_2 = data[data.IndiceIDRisque == indice_pour_mb_2_id].Pnl_percent\n",
    "v_mb_2"
   ]
  },
  {
   "cell_type": "code",
   "execution_count": 592,
   "metadata": {},
   "outputs": [
    {
     "output_type": "execute_result",
     "data": {
      "text/plain": "0       0.010192\n1       0.010383\n2       0.008163\n3       0.008764\n4       0.006531\n          ...   \n3779   -0.008732\n3780   -0.008231\n3781   -0.012719\n3782   -0.015960\n3783   -0.011695\nName: Pnl_percent, Length: 3784, dtype: float64"
     },
     "metadata": {},
     "execution_count": 592
    }
   ],
   "source": [
    "v_rf_1 = data[data.IndiceIDRisque == indice_pour_rf_1_id].Pnl_percent\n",
    "v_rf_1"
   ]
  },
  {
   "cell_type": "code",
   "execution_count": 593,
   "metadata": {},
   "outputs": [
    {
     "output_type": "execute_result",
     "data": {
      "text/plain": "array([0.03208173, 0.034789  , 0.046315  , ..., 0.0083369 , 0.02418846,\n       0.03081962])"
     },
     "metadata": {},
     "execution_count": 593
    }
   ],
   "source": [
    "v_mb = indice_pour_mb_1_percent * np.array(v_mb_1) + indice_pour_mb_2_percent * np.array(v_mb_2)\n",
    "v_mb"
   ]
  },
  {
   "cell_type": "code",
   "execution_count": 594,
   "metadata": {},
   "outputs": [
    {
     "output_type": "execute_result",
     "data": {
      "text/plain": "array([ 0.01019232,  0.01038345,  0.00816318, ..., -0.01271892,\n       -0.0159602 , -0.01169474])"
     },
     "metadata": {},
     "execution_count": 594
    }
   ],
   "source": [
    "v_rf = indice_pour_mb_rf_percent * np.array(v_rf_1)  \n",
    "v_rf"
   ]
  },
  {
   "cell_type": "code",
   "execution_count": 595,
   "metadata": {
    "tags": []
   },
   "outputs": [],
   "source": [
    "# Get Poids HD\n",
    "def getHDWeights(percent, metho, nb_observation):\n",
    "    hd_query = \"\"\"\n",
    "    SELECT \n",
    "        -- [Methodologie]\n",
    "        --,[NombreObservation]\n",
    "        --,[Percentile],\n",
    "        [Rang]\n",
    "        ,[Poids]\n",
    "    FROM [rsq_model].[MesureRisqueMarche].[V_PonderationHarrellDavis]\n",
    "    where Methodologie = '{}' and  [Percentile] = {} and \n",
    "    NombreObservation =  {} \n",
    "    \"\"\" \n",
    "    hd = pd.read_sql(hd_query.format(metho, percent, nb_observation), con)\n",
    "    hd.head()\n",
    "\n",
    "    # Sort by Rang\n",
    "    return hd.sort_values('Rang')"
   ]
  },
  {
   "cell_type": "code",
   "execution_count": 596,
   "metadata": {},
   "outputs": [
    {
     "output_type": "execute_result",
     "data": {
      "text/plain": "(3000, 2)"
     },
     "metadata": {},
     "execution_count": 596
    }
   ],
   "source": [
    "hd.shape"
   ]
  },
  {
   "cell_type": "code",
   "execution_count": 597,
   "metadata": {
    "tags": []
   },
   "outputs": [
    {
     "output_type": "stream",
     "name": "stdout",
     "text": "3784\n"
    }
   ],
   "source": [
    "percent = 95\n",
    "metho = 'RobustHD'\n",
    "nb_observation = data.NombreObservation.unique()[0]\n",
    "print(nb_observation)\n",
    "\n",
    "hd = getHDWeights(percent, metho, nb_observation)\n",
    "# hd['Poids']"
   ]
  },
  {
   "cell_type": "code",
   "execution_count": 598,
   "metadata": {},
   "outputs": [],
   "source": [
    "from math import sqrt, pow\n",
    "\n",
    "def calculVaR(percent, metho, nb_observation, timeFactor, positionAmount ,  v_pnl): \n",
    "# Fonction qui calcule la VaR des pnls considérés \n",
    "    # 1- Poids HD\n",
    "    v_hdWeights = getHDWeights(percent, metho, nb_observation)\n",
    "    #print(hdWeights.head())\n",
    "\n",
    "    # 2- Sort Pnls\n",
    "    #print(v_pnl)\n",
    "    v_pnl_sorted = np.sort(v_pnl)\n",
    "    #print(v_pnl_sorted)\n",
    "\n",
    "    # 3 sort HD \n",
    "    v_hdWeights_sorted = v_hdWeights.sort_values('Rang')['Poids']\n",
    "\n",
    "    # Multiply Pnl by HD\n",
    "    print(v_pnl_sorted.shape, v_hdWeights_sorted.shape) \n",
    "    v_pnl_hd = v_pnl_sorted * v_hdWeights_sorted\n",
    "    # print(v_pnl_hd.shape)\n",
    "\n",
    "    # Average, Percentile\n",
    "    average = np.average(v_pnl)\n",
    "    sum = np.sum(v_pnl_hd)\n",
    "    percentile = sum \n",
    "    # print(average, sum, percentile)\n",
    "\n",
    "    # Annualized\n",
    "    annualizedVaR = 1- pow(1 + (percentile - average) / positionAmount, sqrt(timeFactor))\n",
    "    # return var \n",
    "    return annualizedVaR\n",
    " "
   ]
  },
  {
   "cell_type": "code",
   "execution_count": 599,
   "metadata": {
    "tags": []
   },
   "outputs": [
    {
     "output_type": "stream",
     "name": "stdout",
     "text": "3784\n"
    }
   ],
   "source": [
    "nb_observation = data.NombreObservation.unique()[0]\n",
    "positionAmount = 1 # Valeur marchande = 1 si %\n",
    "print(nb_observation)\n"
   ]
  },
  {
   "cell_type": "code",
   "execution_count": 1,
   "metadata": {
    "tags": []
   },
   "outputs": [
    {
     "output_type": "error",
     "ename": "NameError",
     "evalue": "name 'calculVaR' is not defined",
     "traceback": [
      "\u001b[1;31m---------------------------------------------------------------------------\u001b[0m",
      "\u001b[1;31mNameError\u001b[0m                                 Traceback (most recent call last)",
      "\u001b[1;32m<ipython-input-1-06068bb41bc4>\u001b[0m in \u001b[0;36m<module>\u001b[1;34m\u001b[0m\n\u001b[0;32m      1\u001b[0m \u001b[1;31m# VaR Caisse\u001b[0m\u001b[1;33m\u001b[0m\u001b[1;33m\u001b[0m\u001b[1;33m\u001b[0m\u001b[0m\n\u001b[1;32m----> 2\u001b[1;33m \u001b[0mvar_Caisse\u001b[0m \u001b[1;33m=\u001b[0m \u001b[0mcalculVaR\u001b[0m\u001b[1;33m(\u001b[0m\u001b[0mpercent\u001b[0m\u001b[1;33m,\u001b[0m \u001b[0mmetho\u001b[0m\u001b[1;33m,\u001b[0m \u001b[0mnb_observation\u001b[0m\u001b[1;33m,\u001b[0m \u001b[0mtimeFactor\u001b[0m\u001b[1;33m,\u001b[0m \u001b[0mpositionAmount\u001b[0m\u001b[1;33m,\u001b[0m \u001b[0mv_caisse\u001b[0m\u001b[1;33m)\u001b[0m\u001b[1;33m\u001b[0m\u001b[1;33m\u001b[0m\u001b[0m\n\u001b[0m\u001b[0;32m      3\u001b[0m \u001b[0mprint\u001b[0m\u001b[1;33m(\u001b[0m\u001b[0mvar_Caisse\u001b[0m\u001b[1;33m)\u001b[0m\u001b[1;33m\u001b[0m\u001b[1;33m\u001b[0m\u001b[0m\n\u001b[0;32m      4\u001b[0m \u001b[0mvar_target\u001b[0m \u001b[1;33m=\u001b[0m \u001b[0mvar_Caisse\u001b[0m\u001b[1;33m\u001b[0m\u001b[1;33m\u001b[0m\u001b[0m\n\u001b[0;32m      5\u001b[0m \u001b[1;33m\u001b[0m\u001b[0m\n",
      "\u001b[1;31mNameError\u001b[0m: name 'calculVaR' is not defined"
     ]
    }
   ],
   "source": [
    "# VaR Caisse\n",
    "var_Caisse = calculVaR(percent, metho, nb_observation, timeFactor, positionAmount, v_caisse) \n",
    "print(var_Caisse)\n",
    "var_target = var_Caisse\n",
    "\n",
    "#print(v_caisse)"
   ]
  },
  {
   "cell_type": "code",
   "execution_count": 601,
   "metadata": {
    "tags": []
   },
   "outputs": [
    {
     "output_type": "stream",
     "name": "stdout",
     "text": "(3784,) (3784,)\n0.22807591472230526\n"
    }
   ],
   "source": [
    "var_mb_1 = calculVaR(percent, metho, nb_observation, timeFactor, positionAmount, v_mb_1) \n",
    "print(var_mb_1)\n",
    " "
   ]
  },
  {
   "cell_type": "code",
   "execution_count": 602,
   "metadata": {
    "tags": []
   },
   "outputs": [
    {
     "output_type": "stream",
     "name": "stdout",
     "text": "(3784,) (3784,)\n0.20747176785653287\n"
    }
   ],
   "source": [
    "var_mb_2 = calculVaR(percent, metho, nb_observation, timeFactor, positionAmount, v_mb_2) \n",
    "print(var_mb_2)\n",
    " "
   ]
  },
  {
   "cell_type": "code",
   "execution_count": 603,
   "metadata": {
    "tags": []
   },
   "outputs": [
    {
     "output_type": "stream",
     "name": "stdout",
     "text": "(3784,) (3784,)\n0.2183916150414441\n[0.03208173 0.034789   0.046315   ... 0.0083369  0.02418846 0.03081962]\n"
    }
   ],
   "source": [
    "var_mb = calculVaR(percent, metho, nb_observation, timeFactor, positionAmount, v_mb) \n",
    "print(var_mb)\n",
    "print(v_mb)"
   ]
  },
  {
   "cell_type": "code",
   "execution_count": 604,
   "metadata": {
    "tags": []
   },
   "outputs": [
    {
     "output_type": "stream",
     "name": "stdout",
     "text": "(3784,) (3784,)\n0.06761877371321512\n"
    }
   ],
   "source": [
    "var_rf_1 = calculVaR(percent, metho, nb_observation, timeFactor, positionAmount, v_rf_1) \n",
    "print(var_rf_1)\n"
   ]
  },
  {
   "cell_type": "code",
   "execution_count": 605,
   "metadata": {
    "tags": []
   },
   "outputs": [
    {
     "output_type": "stream",
     "name": "stdout",
     "text": "(3784,) (3784,)\n0.06761877371321512\n[ 0.01019232  0.01038345  0.00816318 ... -0.01271892 -0.0159602\n -0.01169474]\n"
    }
   ],
   "source": [
    "var_rf = calculVaR(percent, metho, nb_observation, timeFactor, positionAmount, v_rf) \n",
    "print(var_rf)\n",
    "print(v_rf)"
   ]
  },
  {
   "cell_type": "code",
   "execution_count": 606,
   "metadata": {},
   "outputs": [],
   "source": [
    "def getVectorPLS(x:float):\n",
    "    pnl =  x * v_mb + (1-x) * v_rf\n",
    "    print(pnl[:10])\n",
    "    print(pnl.shape)\n",
    "    return pnl  "
   ]
  },
  {
   "cell_type": "code",
   "execution_count": 607,
   "metadata": {},
   "outputs": [],
   "source": [
    "def calculateVaRPLS(x:float):\n",
    "    pnl =  getVectorPLS(x)\n",
    "    var = calculateVaR(pnl)\n",
    "    return abs(var)  "
   ]
  },
  {
   "cell_type": "code",
   "execution_count": 608,
   "metadata": {},
   "outputs": [],
   "source": [
    "# Fonction a optimiser\n",
    "def toOptimize(x:float):\n",
    "    var = calculateVaRPLS(x)\n",
    "    return abs(var) - abs(var_target)"
   ]
  },
  {
   "cell_type": "code",
   "execution_count": 609,
   "metadata": {
    "tags": []
   },
   "outputs": [
    {
     "output_type": "stream",
     "name": "stdout",
     "text": "0.13577972791668258\n"
    }
   ],
   "source": [
    "print(var_target)\n",
    " "
   ]
  },
  {
   "cell_type": "code",
   "execution_count": 610,
   "metadata": {
    "tags": []
   },
   "outputs": [
    {
     "output_type": "stream",
     "name": "stdout",
     "text": "[0.03208173 0.034789   0.046315   0.03911474 0.04814181 0.04814381\n 0.04275199 0.0643721  0.04531693 0.0523144 ]\n(3784,)\n[0.03208173 0.034789   0.046315   0.03911474 0.04814181 0.04814381\n 0.04275199 0.0643721  0.04531693 0.0523144 ]\n(3784,)\n[0.03208173 0.034789   0.046315   0.03911474 0.04814181 0.04814381\n 0.04275199 0.0643721  0.04531693 0.0523144 ]\n(3784,)\n[0.03208173 0.034789   0.046315   0.03911474 0.04814182 0.04814381\n 0.04275199 0.0643721  0.04531693 0.0523144 ]\n(3784,)\n[0.02226879 0.02384809 0.02921169 0.0255088  0.02948796 0.03084602\n 0.02747451 0.03999661 0.02900974 0.03161972]\n(3784,)\n[0.02150365 0.022995   0.0278781  0.0244479  0.02803346 0.02949726\n 0.02628328 0.03809598 0.02773822 0.0300061 ]\n(3784,)\n[0.0214594  0.02294565 0.02780097 0.02438654 0.02794933 0.02941925\n 0.02621438 0.03798605 0.02766468 0.02991276]\n(3784,)\n"
    },
    {
     "output_type": "execute_result",
     "data": {
      "text/plain": "    fjac: array([[-1.]])\n     fun: 0.0\n message: 'The solution converged.'\n    nfev: 5\n     qtf: array([-0.00042067])\n       r: array([-0.20806438])\n  status: 1\n success: True\n       x: array([0.51472737])"
     },
     "metadata": {},
     "execution_count": 610
    }
   ],
   "source": [
    "# Optimize using root\n",
    "\n",
    "sol = root(toOptimize, 1)\n",
    "sol"
   ]
  },
  {
   "cell_type": "markdown",
   "metadata": {},
   "source": [
    "Résultat 1: Méthode root"
   ]
  },
  {
   "cell_type": "code",
   "execution_count": 611,
   "metadata": {
    "tags": []
   },
   "outputs": [
    {
     "output_type": "stream",
     "name": "stdout",
     "text": "0.5147273736090315\n"
    }
   ],
   "source": [
    "x1 = sol.x[0]\n",
    "print(x1)"
   ]
  },
  {
   "cell_type": "code",
   "execution_count": 612,
   "metadata": {
    "tags": []
   },
   "outputs": [
    {
     "output_type": "stream",
     "name": "stdout",
     "text": "[0.0214594  0.02294565 0.02780097 0.02438654 0.02794933 0.02941925\n 0.02621438 0.03798605 0.02766468 0.02991276]\n(3784,)\n"
    },
    {
     "output_type": "execute_result",
     "data": {
      "text/plain": "array([ 0.0214594 ,  0.02294565,  0.02780097, ..., -0.00188091,\n        0.00470541,  0.01018857])"
     },
     "metadata": {},
     "execution_count": 612
    }
   ],
   "source": [
    "getVectorPLS(x1)"
   ]
  },
  {
   "cell_type": "code",
   "execution_count": 613,
   "metadata": {
    "tags": []
   },
   "outputs": [
    {
     "output_type": "stream",
     "name": "stdout",
     "text": "[0.0214594  0.02294565 0.02780097 0.02438654 0.02794933 0.02941925\n 0.02621438 0.03798605 0.02766468 0.02991276]\n(3784,)\n"
    },
    {
     "output_type": "execute_result",
     "data": {
      "text/plain": "0.13577972791668258"
     },
     "metadata": {},
     "execution_count": 613
    }
   ],
   "source": [
    "calculateVaRPLS(x1)"
   ]
  },
  {
   "cell_type": "markdown",
   "metadata": {},
   "source": [
    "Résultat 2: Méthode brentq"
   ]
  },
  {
   "cell_type": "code",
   "execution_count": 614,
   "metadata": {
    "tags": []
   },
   "outputs": [
    {
     "output_type": "stream",
     "name": "stdout",
     "text": "[0.01019232 0.01038345 0.00816318 0.00876438 0.00653122 0.00955815\n 0.00867297 0.00999843 0.00894098 0.00615141]\n(3784,)\n[0.03208173 0.034789   0.046315   0.03911474 0.04814181 0.04814381\n 0.04275199 0.0643721  0.04531693 0.0523144 ]\n(3784,)\n[0.01973658 0.0210248  0.02479821 0.0219978  0.02467435 0.02638234\n 0.02353217 0.03370654 0.02480169 0.02627948]\n(3784,)\n[0.02179324 0.02331787 0.02838283 0.02484942 0.02858395 0.03000773\n 0.02673413 0.03881532 0.02821946 0.03061681]\n(3784,)\n[0.0214594  0.02294565 0.02780097 0.02438654 0.02794933 0.02941925\n 0.02621438 0.03798605 0.02766468 0.02991276]\n(3784,)\n[0.0214594  0.02294565 0.02780097 0.02438654 0.02794933 0.02941925\n 0.02621438 0.03798605 0.02766468 0.02991276]\n(3784,)\n0.5147273736090316\n"
    }
   ],
   "source": [
    "#Optimize using brentq\n",
    "x2 = brentq(toOptimize, 0, 1)\n",
    "\n",
    "print(x2)"
   ]
  },
  {
   "cell_type": "code",
   "execution_count": 615,
   "metadata": {
    "tags": []
   },
   "outputs": [
    {
     "output_type": "stream",
     "name": "stdout",
     "text": "[0.0214594  0.02294565 0.02780097 0.02438654 0.02794933 0.02941925\n 0.02621438 0.03798605 0.02766468 0.02991276]\n(3784,)\n"
    },
    {
     "output_type": "execute_result",
     "data": {
      "text/plain": "2.7755575615628914e-17"
     },
     "metadata": {},
     "execution_count": 615
    }
   ],
   "source": [
    "toOptimize(x2)"
   ]
  },
  {
   "cell_type": "code",
   "execution_count": 616,
   "metadata": {
    "tags": []
   },
   "outputs": [
    {
     "output_type": "stream",
     "name": "stdout",
     "text": "[0.0214594  0.02294565 0.02780097 0.02438654 0.02794933 0.02941925\n 0.02621438 0.03798605 0.02766468 0.02991276]\n(3784,)\n0.1357797279166826\n"
    }
   ],
   "source": [
    "y = calculateVaRPLS (x2)\n",
    "print(y)"
   ]
  },
  {
   "cell_type": "code",
   "execution_count": 617,
   "metadata": {
    "tags": []
   },
   "outputs": [
    {
     "output_type": "stream",
     "name": "stdout",
     "text": "[0.0214594  0.02294565 0.02780097 0.02438654 0.02794933 0.02941925\n 0.02621438 0.03798605 0.02766468 0.02991276]\n(3784,)\n"
    },
    {
     "output_type": "execute_result",
     "data": {
      "text/plain": "array([ 0.0214594 ,  0.02294565,  0.02780097, ..., -0.00188091,\n        0.00470541,  0.01018857])"
     },
     "metadata": {},
     "execution_count": 617
    }
   ],
   "source": [
    "getVectorPLS(x2)"
   ]
  },
  {
   "cell_type": "code",
   "execution_count": null,
   "metadata": {},
   "outputs": [],
   "source": []
  }
 ],
 "metadata": {
  "file_extension": ".py",
  "kernelspec": {
   "display_name": "Python 3.7.6 64-bit ('DLENV': conda)",
   "language": "python",
   "name": "python37664bitdlenvconda29b652f870674263985143dd5e5a7bc4"
  },
  "language_info": {
   "codemirror_mode": {
    "name": "ipython",
    "version": 3
   },
   "file_extension": ".py",
   "mimetype": "text/x-python",
   "name": "python",
   "nbconvert_exporter": "python",
   "pygments_lexer": "ipython3",
   "version": "3.7.6"
  },
  "mimetype": "text/x-python",
  "name": "python",
  "npconvert_exporter": "python",
  "pygments_lexer": "ipython3",
  "version": 3
 },
 "nbformat": 4,
 "nbformat_minor": 4
}