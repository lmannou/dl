{
 "cells": [
  {
   "cell_type": "code",
   "execution_count": null,
   "metadata": {},
   "outputs": [],
   "source": []
  },
  {
   "cell_type": "markdown",
   "metadata": {},
   "source": [
    "# CNN #\n",
    "## ** CNN example: ** ##\n",
    "Adding convolutional layers to MSIST example:\n",
    "* 1- One CNN layer with 32 filters, 3 * 3 kernel, Relu activation,  28 * 28 pixels\n",
    "    Stride: default = 1\n",
    "    Padding: default: no padding ('valid')\n",
    "    \n",
    "    Activation map = $ \\frac{(D - F + 2P)}{S} + 1 $\n",
    "    \n",
    "    \n",
    "    D: size of image = 28\n",
    "    F: size of the filter = 3\n",
    "    P: amount of padding = 0\n",
    "    S: Stride = 1\n",
    "    Activation Map = $ ((28 - 3 + 2*0) / 1) + 1) = 26 $\n",
    " \n",
    "    Output: $ 26 * 26 * 32 $\n",
    "\n",
    "    Params: 1 filter = 3 *3 = 9 weights\n",
    "            32 filters => 9 * 32 = 288\n",
    "            32 biases\n",
    "            Total params = 320\n",
    "\n",
    "* 2- One CNN layer with 64 filters, 3 * 3 kernel, Relu activation\n",
    "    Input: 26 * 26 * 32\n",
    "    Activation Map =  $ \\frac{26 - 3 + 2*0}{1} + 1 = 24 $\n",
    "\n",
    "    Output = 24 *24 * 64 \n",
    "\n",
    "    Params: 1 filter = 9 weights\n",
    "    64 filters: 64 * 9 \n",
    "    each receives 32 from last layer\n",
    "    Total weights = 64 *9 *32 = 18432\n",
    "    biases = 64\n",
    "    Total params: 18496\n",
    "\n",
    "* 3- Max Pooling Layer: \n",
    "    Pool size = 2 * 2\n",
    "    Stride: default is same as pool size\n",
    "    Activation Map = 24 / 2 \n",
    "    (24 size of input divided by pool size)\n",
    "\n",
    "    Output = 12 * 12 * 64 \n",
    "\n",
    "* 4- Flatten layer\n",
    "    Input: 12 *12 * 64\n",
    "    Flattens to 12 * 12 * 64 = 9216\n",
    "\n",
    "* 5- One dense layer with 128 units\n",
    "    Output 128 \n",
    "\n",
    "    #Params = 9216 * 128 + 128 (Input = 9216, units = 128, biases = 128)\n",
    "            = 1 179 776\n",
    "\n",
    "* 6- One output layer, 10 units, Softmax\n",
    "    Output: 10 probabilties\n",
    "    #Params = 10 * 128 + 10 = 1290\n",
    " \n",
    "\n",
    "## Results:##\n",
    "   loss: 0.0207 - accuracy: 0.9944 - val_loss: 0.0623 - val_accuracy: 0.9910"
   ]
  },
  {
   "cell_type": "markdown",
   "metadata": {},
   "source": [
    "Import packages"
   ]
  },
  {
   "cell_type": "code",
   "execution_count": null,
   "metadata": {},
   "outputs": [
    {
     "ename": "Error",
     "evalue": "Failed to connect to remote Jupyter notebook.\r\nCheck that the Jupyter Server URI setting has a valid running server specified.\r\nhttp://localhost:8989/\r\nTypeError: Only absolute URLs are supported",
     "output_type": "error",
     "traceback": [
      "Error: Failed to connect to remote Jupyter notebook.",
      "Check that the Jupyter Server URI setting has a valid running server specified.",
      "http://localhost:8989/",
      "TypeError: Only absolute URLs are supported",
      "at c:\\Users\\mannl\\.vscode\\extensions\\ms-python.python-2020.2.64397\\out\\client\\extension.js:1:817741"
     ]
    }
   ],
   "source": [
    "#numpy: Numeric library\n",
    "import numpy as np \n",
    "#graphics\n",
    "from matplotlib import pyplot as plt\n",
    "\n",
    "#tensorflow: use some TF tools\n",
    "import tensorflow as tf\n",
    "#Keras: Deep learning API. In TF 2.x, it is included in TF\n",
    "from tensorflow import keras\n",
    "#Import Dense layer\n",
    "from tensorflow.keras.layers import Dense\n",
    "from tensorflow.keras import Sequential\n",
    "from tensorflow.keras import Model\n",
    "#Optimizers: SGD (Stochastic Gradien Descent)\n",
    "#from tensorflow.keras.optimizers import SGD as sgd\n",
    "\n",
    "#import data set MNIST\n",
    "from tensorflow.keras.datasets import mnist\n",
    "\n",
    "#Batch Norm\n",
    "from tensorflow.keras.layers import BatchNormalization\n",
    "\n",
    "# import regularizer\n",
    "from tensorflow.keras import regularizers  \n",
    "\n",
    "#Dropout\n",
    "from tensorflow.keras.layers import Dropout\n",
    "\n",
    "#CNN \n",
    "from tensorflow.keras.layers import Conv2D, MaxPool2D\n",
    "from tensorflow.keras.layers import Flatten\n",
    "from tensorflow.keras.layers import Activation"
   ]
  },
  {
   "cell_type": "markdown",
   "metadata": {},
   "source": [
    "Import MNIST data set\n",
    "60000 training examples\n",
    "10000 validation examples\n",
    "1 example = 28 * 28 matrix (image with 28 * 28 pixels)\n"
   ]
  },
  {
   "cell_type": "code",
   "execution_count": null,
   "metadata": {},
   "outputs": [
    {
     "ename": "Error",
     "evalue": "Failed to connect to remote Jupyter notebook.\r\nCheck that the Jupyter Server URI setting has a valid running server specified.\r\nhttp://localhost:8989/\r\nTypeError: Only absolute URLs are supported",
     "output_type": "error",
     "traceback": [
      "Error: Failed to connect to remote Jupyter notebook.",
      "Check that the Jupyter Server URI setting has a valid running server specified.",
      "http://localhost:8989/",
      "TypeError: Only absolute URLs are supported",
      "at c:\\Users\\mannl\\.vscode\\extensions\\ms-python.python-2020.2.64397\\out\\client\\extension.js:1:817741"
     ]
    }
   ],
   "source": [
    "(X_train, y_train), (X_valid, y_valid) = mnist.load_data()\n"
   ]
  },
  {
   "cell_type": "code",
   "execution_count": null,
   "metadata": {},
   "outputs": [
    {
     "ename": "Error",
     "evalue": "Failed to connect to remote Jupyter notebook.\r\nCheck that the Jupyter Server URI setting has a valid running server specified.\r\nhttp://localhost:8989/\r\nTypeError: Only absolute URLs are supported",
     "output_type": "error",
     "traceback": [
      "Error: Failed to connect to remote Jupyter notebook.",
      "Check that the Jupyter Server URI setting has a valid running server specified.",
      "http://localhost:8989/",
      "TypeError: Only absolute URLs are supported",
      "at c:\\Users\\mannl\\.vscode\\extensions\\ms-python.python-2020.2.64397\\out\\client\\extension.js:1:817741"
     ]
    }
   ],
   "source": [
    "print(X_train.shape)\n"
   ]
  },
  {
   "cell_type": "code",
   "execution_count": null,
   "metadata": {},
   "outputs": [
    {
     "ename": "Error",
     "evalue": "Failed to connect to remote Jupyter notebook.\r\nCheck that the Jupyter Server URI setting has a valid running server specified.\r\nhttp://localhost:8989/\r\nTypeError: Only absolute URLs are supported",
     "output_type": "error",
     "traceback": [
      "Error: Failed to connect to remote Jupyter notebook.",
      "Check that the Jupyter Server URI setting has a valid running server specified.",
      "http://localhost:8989/",
      "TypeError: Only absolute URLs are supported",
      "at c:\\Users\\mannl\\.vscode\\extensions\\ms-python.python-2020.2.64397\\out\\client\\extension.js:1:817741"
     ]
    }
   ],
   "source": [
    "print(y_train.shape)"
   ]
  },
  {
   "cell_type": "code",
   "execution_count": null,
   "metadata": {},
   "outputs": [
    {
     "ename": "Error",
     "evalue": "Failed to connect to remote Jupyter notebook.\r\nCheck that the Jupyter Server URI setting has a valid running server specified.\r\nhttp://localhost:8989/\r\nTypeError: Only absolute URLs are supported",
     "output_type": "error",
     "traceback": [
      "Error: Failed to connect to remote Jupyter notebook.",
      "Check that the Jupyter Server URI setting has a valid running server specified.",
      "http://localhost:8989/",
      "TypeError: Only absolute URLs are supported",
      "at c:\\Users\\mannl\\.vscode\\extensions\\ms-python.python-2020.2.64397\\out\\client\\extension.js:1:817741"
     ]
    }
   ],
   "source": [
    "print(X_valid.shape)\n",
    "print(y_valid.shape)"
   ]
  },
  {
   "cell_type": "markdown",
   "metadata": {},
   "source": [
    "Process & Prepare data\n",
    "Reshaping input data:\n",
    "Input data (x_train[i]) should not be converted to a vector. Is must stay as 60000 of images (28 *28)\n",
    "- From shape (60000, 28, 28) to shape (60000, 28, 28, 1)\n",
    "- Last dimension 1 : value of the pixel (monochrome). If it was color image, it would be 3\n",
    "- Convert to float32 (default is uint8, which python will convert to float64) (flaot 32 will take less memory)"
   ]
  },
  {
   "cell_type": "code",
   "execution_count": null,
   "metadata": {},
   "outputs": [
    {
     "ename": "Error",
     "evalue": "Failed to connect to remote Jupyter notebook.\r\nCheck that the Jupyter Server URI setting has a valid running server specified.\r\nhttp://localhost:8989/\r\nTypeError: Only absolute URLs are supported",
     "output_type": "error",
     "traceback": [
      "Error: Failed to connect to remote Jupyter notebook.",
      "Check that the Jupyter Server URI setting has a valid running server specified.",
      "http://localhost:8989/",
      "TypeError: Only absolute URLs are supported",
      "at c:\\Users\\mannl\\.vscode\\extensions\\ms-python.python-2020.2.64397\\out\\client\\extension.js:1:817741"
     ]
    }
   ],
   "source": [
    "#use numpy reshape\n",
    "x_train = X_train.reshape( 60000, 28, 28, 1).astype('float32')\n",
    "x_valid = X_valid.reshape(10000, 28, 28, 1).astype('float32')"
   ]
  },
  {
   "cell_type": "code",
   "execution_count": null,
   "metadata": {},
   "outputs": [
    {
     "ename": "Error",
     "evalue": "Failed to connect to remote Jupyter notebook.\r\nCheck that the Jupyter Server URI setting has a valid running server specified.\r\nhttp://localhost:8989/\r\nTypeError: Only absolute URLs are supported",
     "output_type": "error",
     "traceback": [
      "Error: Failed to connect to remote Jupyter notebook.",
      "Check that the Jupyter Server URI setting has a valid running server specified.",
      "http://localhost:8989/",
      "TypeError: Only absolute URLs are supported",
      "at c:\\Users\\mannl\\.vscode\\extensions\\ms-python.python-2020.2.64397\\out\\client\\extension.js:1:817741"
     ]
    }
   ],
   "source": [
    "print(x_train.shape)\n",
    "print(x_valid.shape)\n",
    "print(x_train[0][0][21][0])"
   ]
  },
  {
   "cell_type": "markdown",
   "metadata": {},
   "source": [
    "Prepare Data (2)\n",
    "divide by 255, so the values will range from 0 to 1\n"
   ]
  },
  {
   "cell_type": "markdown",
   "metadata": {},
   "source": [
    "Prepare labels (y_train and y_valid)\n",
    "y_train[i] is given as a number (0, 9). We have 10 possible values. \n",
    "Convert to one-hot format:\n",
    "0 => [1, 0, 0, 0, 0,0, 0,0, 0,0]\n",
    "1 => [0, 1, 0, 0, 0,0, 0,0, 0,0]\n",
    "9 => [0, 0, 0, 0, 0,0, 0,0, 0,1]"
   ]
  },
  {
   "cell_type": "code",
   "execution_count": null,
   "metadata": {},
   "outputs": [
    {
     "ename": "Error",
     "evalue": "Failed to connect to remote Jupyter notebook.\r\nCheck that the Jupyter Server URI setting has a valid running server specified.\r\nhttp://localhost:8989/\r\nTypeError: Only absolute URLs are supported",
     "output_type": "error",
     "traceback": [
      "Error: Failed to connect to remote Jupyter notebook.",
      "Check that the Jupyter Server URI setting has a valid running server specified.",
      "http://localhost:8989/",
      "TypeError: Only absolute URLs are supported",
      "at c:\\Users\\mannl\\.vscode\\extensions\\ms-python.python-2020.2.64397\\out\\client\\extension.js:1:817741"
     ]
    }
   ],
   "source": [
    "n_classes = 10\n",
    "print(y_train[0])\n",
    "y_train = keras.utils.to_categorical(y_train, n_classes)\n",
    "print(y_train[0])\n",
    "\n",
    "print(y_valid[0])\n",
    "y_valid = keras.utils.to_categorical(y_valid, n_classes)\n",
    "print(y_valid[0])\n"
   ]
  },
  {
   "cell_type": "markdown",
   "metadata": {},
   "source": [
    "Define Neural Network Architecture\n",
    "Using Keras API"
   ]
  },
  {
   "cell_type": "code",
   "execution_count": null,
   "metadata": {},
   "outputs": [
    {
     "ename": "Error",
     "evalue": "Failed to connect to remote Jupyter notebook.\r\nCheck that the Jupyter Server URI setting has a valid running server specified.\r\nhttp://localhost:8989/\r\nTypeError: Only absolute URLs are supported",
     "output_type": "error",
     "traceback": [
      "Error: Failed to connect to remote Jupyter notebook.",
      "Check that the Jupyter Server URI setting has a valid running server specified.",
      "http://localhost:8989/",
      "TypeError: Only absolute URLs are supported",
      "at c:\\Users\\mannl\\.vscode\\extensions\\ms-python.python-2020.2.64397\\out\\client\\extension.js:1:817741"
     ]
    }
   ],
   "source": [
    "#Define activations\n",
    "relu = keras.activations.relu\n",
    "softmax = keras.activations.softmax\n",
    "\n",
    "#define loss function: Cross entropy\n",
    "loss = keras.losses.categorical_crossentropy\n",
    "\n",
    "#define metrics\n",
    "metrics = [keras.metrics.Accuracy()]\n",
    "\n",
    "#define optimizer\n",
    "sgd=keras.optimizers.SGD(lr=0.1)\n",
    "tf.print(sgd.lr)\n"
   ]
  },
  {
   "cell_type": "code",
   "execution_count": null,
   "metadata": {},
   "outputs": [
    {
     "ename": "Error",
     "evalue": "Failed to connect to remote Jupyter notebook.\r\nCheck that the Jupyter Server URI setting has a valid running server specified.\r\nhttp://localhost:8989/\r\nTypeError: Only absolute URLs are supported",
     "output_type": "error",
     "traceback": [
      "Error: Failed to connect to remote Jupyter notebook.",
      "Check that the Jupyter Server URI setting has a valid running server specified.",
      "http://localhost:8989/",
      "TypeError: Only absolute URLs are supported",
      "at c:\\Users\\mannl\\.vscode\\extensions\\ms-python.python-2020.2.64397\\out\\client\\extension.js:1:817741"
     ]
    }
   ],
   "source": [
    "# Sequential: model of type sequential (layer n can pass information only to layer n+1)\n",
    "model = Sequential()\n",
    "model.to_json()"
   ]
  },
  {
   "cell_type": "code",
   "execution_count": null,
   "metadata": {},
   "outputs": [
    {
     "ename": "Error",
     "evalue": "Failed to connect to remote Jupyter notebook.\r\nCheck that the Jupyter Server URI setting has a valid running server specified.\r\nhttp://localhost:8989/\r\nTypeError: Only absolute URLs are supported",
     "output_type": "error",
     "traceback": [
      "Error: Failed to connect to remote Jupyter notebook.",
      "Check that the Jupyter Server URI setting has a valid running server specified.",
      "http://localhost:8989/",
      "TypeError: Only absolute URLs are supported",
      "at c:\\Users\\mannl\\.vscode\\extensions\\ms-python.python-2020.2.64397\\out\\client\\extension.js:1:817741"
     ]
    }
   ],
   "source": [
    "#define First Convolutional layer\n",
    "nbFilters_1 = 32 #Filters for first layer\n",
    "kernel_size = (3, 3)\n",
    "input_shape=(28,28,1)\n",
    "\n",
    "layer1 = Conv2D(nbFilters_1,   kernel_size=kernel_size, activation=relu, input_shape=input_shape)\n",
    "# No Pooling layer\n"
   ]
  },
  {
   "cell_type": "code",
   "execution_count": null,
   "metadata": {},
   "outputs": [
    {
     "ename": "Error",
     "evalue": "Failed to connect to remote Jupyter notebook.\r\nCheck that the Jupyter Server URI setting has a valid running server specified.\r\nhttp://localhost:8989/\r\nTypeError: Only absolute URLs are supported",
     "output_type": "error",
     "traceback": [
      "Error: Failed to connect to remote Jupyter notebook.",
      "Check that the Jupyter Server URI setting has a valid running server specified.",
      "http://localhost:8989/",
      "TypeError: Only absolute URLs are supported",
      "at c:\\Users\\mannl\\.vscode\\extensions\\ms-python.python-2020.2.64397\\out\\client\\extension.js:1:817741"
     ]
    }
   ],
   "source": [
    "#define Second Convolutional layer\n",
    "nbFilters_2 = 64 #Filters for first layer\n",
    "kernel_size = (3, 3)\n",
    "\n",
    "layer2 = Conv2D(nbFilters_2,   kernel_size=kernel_size, activation=relu)\n"
   ]
  },
  {
   "cell_type": "code",
   "execution_count": null,
   "metadata": {},
   "outputs": [
    {
     "ename": "Error",
     "evalue": "Failed to connect to remote Jupyter notebook.\r\nCheck that the Jupyter Server URI setting has a valid running server specified.\r\nhttp://localhost:8989/\r\nTypeError: Only absolute URLs are supported",
     "output_type": "error",
     "traceback": [
      "Error: Failed to connect to remote Jupyter notebook.",
      "Check that the Jupyter Server URI setting has a valid running server specified.",
      "http://localhost:8989/",
      "TypeError: Only absolute URLs are supported",
      "at c:\\Users\\mannl\\.vscode\\extensions\\ms-python.python-2020.2.64397\\out\\client\\extension.js:1:817741"
     ]
    }
   ],
   "source": [
    "# Add Pooling layer\n",
    "pool_size=(2,2)\n",
    "poolingLayer=MaxPool2D(pool_size=pool_size)\n"
   ]
  },
  {
   "cell_type": "code",
   "execution_count": null,
   "metadata": {},
   "outputs": [
    {
     "ename": "Error",
     "evalue": "Failed to connect to remote Jupyter notebook.\r\nCheck that the Jupyter Server URI setting has a valid running server specified.\r\nhttp://localhost:8989/\r\nTypeError: Only absolute URLs are supported",
     "output_type": "error",
     "traceback": [
      "Error: Failed to connect to remote Jupyter notebook.",
      "Check that the Jupyter Server URI setting has a valid running server specified.",
      "http://localhost:8989/",
      "TypeError: Only absolute URLs are supported",
      "at c:\\Users\\mannl\\.vscode\\extensions\\ms-python.python-2020.2.64397\\out\\client\\extension.js:1:817741"
     ]
    }
   ],
   "source": [
    "#Add dense layer \n",
    "denseLayer= Dense(128, activation=relu)\n",
    "\n",
    "#Add outputLayer=\n",
    "outputLayer = Dense(n_classes, activation=softmax)"
   ]
  },
  {
   "cell_type": "code",
   "execution_count": null,
   "metadata": {},
   "outputs": [
    {
     "ename": "Error",
     "evalue": "Failed to connect to remote Jupyter notebook.\r\nCheck that the Jupyter Server URI setting has a valid running server specified.\r\nhttp://localhost:8989/\r\nTypeError: Only absolute URLs are supported",
     "output_type": "error",
     "traceback": [
      "Error: Failed to connect to remote Jupyter notebook.",
      "Check that the Jupyter Server URI setting has a valid running server specified.",
      "http://localhost:8989/",
      "TypeError: Only absolute URLs are supported",
      "at c:\\Users\\mannl\\.vscode\\extensions\\ms-python.python-2020.2.64397\\out\\client\\extension.js:1:817741"
     ]
    }
   ],
   "source": [
    "#Compose Model\n",
    "model.add(layer1) #Convolutional\n",
    "model.add(layer2) #Convolutional\n",
    "\n",
    "model.add(poolingLayer) # Pooling Layer (Max)\n",
    "\n",
    "model.add(Dropout(0.25)) #Dropout 25%\n",
    "\n",
    "# Important : Flatten the output so as to add a dense layer\n",
    "# Dense layer must have a flattened inpit (vector of scalars)\n",
    "model.add(Flatten())\n",
    "\n",
    "#Dense layer with dropout\n",
    "model.add(denseLayer)\n",
    "model.add(Dropout(0.5))\n",
    "\n",
    "# Output layer\n",
    "model.add(outputLayer)\n"
   ]
  },
  {
   "cell_type": "code",
   "execution_count": null,
   "metadata": {},
   "outputs": [
    {
     "ename": "Error",
     "evalue": "Failed to connect to remote Jupyter notebook.\r\nCheck that the Jupyter Server URI setting has a valid running server specified.\r\nhttp://localhost:8989/\r\nTypeError: Only absolute URLs are supported",
     "output_type": "error",
     "traceback": [
      "Error: Failed to connect to remote Jupyter notebook.",
      "Check that the Jupyter Server URI setting has a valid running server specified.",
      "http://localhost:8989/",
      "TypeError: Only absolute URLs are supported",
      "at c:\\Users\\mannl\\.vscode\\extensions\\ms-python.python-2020.2.64397\\out\\client\\extension.js:1:817741"
     ]
    }
   ],
   "source": [
    "#compile Model\n",
    "model.compile(loss=loss, \n",
    "         optimizer='adam', #sgd,\n",
    "         metrics=['accuracy'])"
   ]
  },
  {
   "cell_type": "code",
   "execution_count": null,
   "metadata": {},
   "outputs": [
    {
     "ename": "Error",
     "evalue": "Failed to connect to remote Jupyter notebook.\r\nCheck that the Jupyter Server URI setting has a valid running server specified.\r\nhttp://localhost:8989/\r\nTypeError: Only absolute URLs are supported",
     "output_type": "error",
     "traceback": [
      "Error: Failed to connect to remote Jupyter notebook.",
      "Check that the Jupyter Server URI setting has a valid running server specified.",
      "http://localhost:8989/",
      "TypeError: Only absolute URLs are supported",
      "at c:\\Users\\mannl\\.vscode\\extensions\\ms-python.python-2020.2.64397\\out\\client\\extension.js:1:817741"
     ]
    }
   ],
   "source": [
    "# print model summary\n",
    "model.summary()"
   ]
  },
  {
   "cell_type": "markdown",
   "metadata": {},
   "source": [
    "TensorBoard"
   ]
  },
  {
   "cell_type": "code",
   "execution_count": null,
   "metadata": {},
   "outputs": [
    {
     "ename": "Error",
     "evalue": "Failed to connect to remote Jupyter notebook.\r\nCheck that the Jupyter Server URI setting has a valid running server specified.\r\nhttp://localhost:8989/\r\nTypeError: Only absolute URLs are supported",
     "output_type": "error",
     "traceback": [
      "Error: Failed to connect to remote Jupyter notebook.",
      "Check that the Jupyter Server URI setting has a valid running server specified.",
      "http://localhost:8989/",
      "TypeError: Only absolute URLs are supported",
      "at c:\\Users\\mannl\\.vscode\\extensions\\ms-python.python-2020.2.64397\\out\\client\\extension.js:1:817741"
     ]
    }
   ],
   "source": [
    "from tensorflow.keras.callbacks import TensorBoard\n",
    "import os \n",
    "import datetime\n",
    "folder=\"logs/first_2_cnn_1_dense\"\n",
    "if not os.path.exists(folder):\n",
    "   os.mkdir(folder)\n",
    "log_dir = folder + \"/\" + datetime.datetime.now().strftime(\"%Y%m%d-%H%M%S\")\n",
    "print(log_dir)\n",
    "os.mkdir(log_dir)\n",
    " \n",
    "tensorBoard = TensorBoard(log_dir, histogram_freq=1,profile_batch = 100000000)"
   ]
  },
  {
   "cell_type": "code",
   "execution_count": null,
   "metadata": {},
   "outputs": [
    {
     "ename": "Error",
     "evalue": "Failed to connect to remote Jupyter notebook.\r\nCheck that the Jupyter Server URI setting has a valid running server specified.\r\nhttp://localhost:8989/\r\nTypeError: Only absolute URLs are supported",
     "output_type": "error",
     "traceback": [
      "Error: Failed to connect to remote Jupyter notebook.",
      "Check that the Jupyter Server URI setting has a valid running server specified.",
      "http://localhost:8989/",
      "TypeError: Only absolute URLs are supported",
      "at c:\\Users\\mannl\\.vscode\\extensions\\ms-python.python-2020.2.64397\\out\\client\\extension.js:1:817741"
     ]
    }
   ],
   "source": [
    "# Train\n",
    "batch_size = 128\n",
    "nb_epoch = 20\n",
    "history=model.fit(x_train, y_train, batch_size= batch_size, epochs = nb_epoch, verbose=1, validation_data=(x_valid, y_valid),callbacks=[tensorBoard])"
   ]
  },
  {
   "cell_type": "markdown",
   "metadata": {},
   "source": [
    "Save Model"
   ]
  },
  {
   "cell_type": "code",
   "execution_count": null,
   "metadata": {},
   "outputs": [
    {
     "ename": "Error",
     "evalue": "Failed to connect to remote Jupyter notebook.\r\nCheck that the Jupyter Server URI setting has a valid running server specified.\r\nhttp://localhost:8989/\r\nTypeError: Only absolute URLs are supported",
     "output_type": "error",
     "traceback": [
      "Error: Failed to connect to remote Jupyter notebook.",
      "Check that the Jupyter Server URI setting has a valid running server specified.",
      "http://localhost:8989/",
      "TypeError: Only absolute URLs are supported",
      "at c:\\Users\\mannl\\.vscode\\extensions\\ms-python.python-2020.2.64397\\out\\client\\extension.js:1:817741"
     ]
    }
   ],
   "source": [
    "# serialize model to JSON\n",
    "print(log_dir)\n",
    "model_json = model.to_json()\n",
    "with open(log_dir + \"/model.json\", \"w\") as json_file:\n",
    "    json_file.write(model_json)\n",
    "\n",
    "# serialize weights to HDF5\n",
    "model.save(log_dir + \"/model_all.h5\")"
   ]
  },
  {
   "cell_type": "markdown",
   "metadata": {},
   "source": [
    "Plot History"
   ]
  },
  {
   "cell_type": "code",
   "execution_count": null,
   "metadata": {},
   "outputs": [
    {
     "ename": "Error",
     "evalue": "Failed to connect to remote Jupyter notebook.\r\nCheck that the Jupyter Server URI setting has a valid running server specified.\r\nhttp://localhost:8989/\r\nTypeError: Only absolute URLs are supported",
     "output_type": "error",
     "traceback": [
      "Error: Failed to connect to remote Jupyter notebook.",
      "Check that the Jupyter Server URI setting has a valid running server specified.",
      "http://localhost:8989/",
      "TypeError: Only absolute URLs are supported",
      "at c:\\Users\\mannl\\.vscode\\extensions\\ms-python.python-2020.2.64397\\out\\client\\extension.js:1:817741"
     ]
    }
   ],
   "source": [
    "\n",
    "# Plot training & validation accuracy values\n",
    "plt.plot(history.history['accuracy'])\n",
    "plt.plot(history.history['val_accuracy'])\n",
    "plt.title('Model accuracy')\n",
    "plt.ylabel('Accuracy')\n",
    "plt.xlabel('Epoch')\n",
    "plt.legend(['Train', 'Test'], loc='upper left')\n",
    "plt.show()\n",
    "\n",
    "#Plot training & validation loss values\n",
    "plt.plot(history.history['loss'])\n",
    "plt.plot(history.history['val_loss'])\n",
    "plt.title('Model loss')\n",
    "plt.ylabel('Loss')\n",
    "plt.xlabel('Epoch')\n",
    "plt.legend(['Train', 'Test'], loc='upper left')\n",
    "plt.show()"
   ]
  },
  {
   "cell_type": "code",
   "execution_count": null,
   "metadata": {},
   "outputs": [
    {
     "ename": "Error",
     "evalue": "Failed to connect to remote Jupyter notebook.\r\nCheck that the Jupyter Server URI setting has a valid running server specified.\r\nhttp://localhost:8989/\r\nTypeError: Only absolute URLs are supported",
     "output_type": "error",
     "traceback": [
      "Error: Failed to connect to remote Jupyter notebook.",
      "Check that the Jupyter Server URI setting has a valid running server specified.",
      "http://localhost:8989/",
      "TypeError: Only absolute URLs are supported",
      "at c:\\Users\\mannl\\.vscode\\extensions\\ms-python.python-2020.2.64397\\out\\client\\extension.js:1:817741"
     ]
    }
   ],
   "source": [
    "# summary\n",
    "model.summary()"
   ]
  },
  {
   "cell_type": "code",
   "execution_count": null,
   "metadata": {},
   "outputs": [
    {
     "ename": "Error",
     "evalue": "Failed to connect to remote Jupyter notebook.\r\nCheck that the Jupyter Server URI setting has a valid running server specified.\r\nhttp://localhost:8989/\r\nTypeError: Only absolute URLs are supported",
     "output_type": "error",
     "traceback": [
      "Error: Failed to connect to remote Jupyter notebook.",
      "Check that the Jupyter Server URI setting has a valid running server specified.",
      "http://localhost:8989/",
      "TypeError: Only absolute URLs are supported",
      "at c:\\Users\\mannl\\.vscode\\extensions\\ms-python.python-2020.2.64397\\out\\client\\extension.js:1:817741"
     ]
    }
   ],
   "source": [
    "json = model.to_json()\n",
    "tf.print(json)"
   ]
  },
  {
   "cell_type": "markdown",
   "metadata": {},
   "source": [
    "End"
   ]
  }
 ],
 "metadata": {
  "file_extension": ".py",
  "kernelspec": {
   "display_name": "Python 3",
   "language": "python",
   "name": "python3"
  },
  "language_info": {
   "codemirror_mode": {
    "name": "ipython",
    "version": 3
   },
   "file_extension": ".py",
   "mimetype": "text/x-python",
   "name": "python",
   "nbconvert_exporter": "python",
   "pygments_lexer": "ipython3",
   "version": "3.6.9"
  },
  "mimetype": "text/x-python",
  "name": "python",
  "npconvert_exporter": "python",
  "pygments_lexer": "ipython3",
  "version": 3
 },
 "nbformat": 4,
 "nbformat_minor": 4
}
