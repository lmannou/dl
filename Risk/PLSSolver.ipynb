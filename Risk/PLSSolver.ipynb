{
 "cells": [
  {
   "cell_type": "code",
   "execution_count": 334,
   "metadata": {},
   "outputs": [],
   "source": [
    "import numpy as np\n",
    "import pandas as pd\n",
    "import pyodbc\n",
    "import matplotlib.pyplot as plt"
   ]
  },
  {
   "cell_type": "code",
   "execution_count": 335,
   "metadata": {},
   "outputs": [],
   "source": [
    "# Solvers \n",
    "from scipy.optimize import root as root\n",
    "from scipy.optimize import brentq as brentq"
   ]
  },
  {
   "cell_type": "markdown",
   "metadata": {},
   "source": [
    "Parametres"
   ]
  },
  {
   "cell_type": "code",
   "execution_count": 336,
   "metadata": {},
   "outputs": [],
   "source": [
    "session_date = '2020-06-29'\n",
    "# If no session id, then take published session\n",
    "session_id   = None\n",
    "\n",
    "risk_ids = \"('IND_CDP_CAISSE', 'FUND_IND_MSCI_ACWI_EX_CANADA', 'IND_SP_TSX_CAP', 'FUND_IND_DEX_UNIV')\"\n",
    "\n",
    "# Indice CAISSE: IND_CDP_CAISSE\n",
    "indice_caisse_id = 'IND_CDP_CAISSE';\n",
    "\n",
    "# Indices de base pour MB     \n",
    "indice_pour_mb_1_id = 'FUND_IND_MSCI_ACWI_EX_CANADA';\n",
    "indice_pour_mb_1_percent = 0.80;\n",
    "indice_pour_mb_2_id = 'IND_SP_TSX_CAP';\n",
    "indice_pour_mb_2_percent = 0.20;\n",
    "\n",
    "# Indices de base pour RF      \n",
    "indice_pour_rf_1_id = 'FUND_IND_DEX_UNIV';\n",
    "indice_pour_mb_rf_percent = 1.0;\n",
    "\n",
    "# Calcul de la VaR\n",
    "percent = 95\n",
    "metho = 'RobustHD'\n",
    "timeFactor = 13"
   ]
  },
  {
   "cell_type": "code",
   "execution_count": 337,
   "metadata": {
    "tags": []
   },
   "outputs": [
    {
     "output_type": "stream",
     "name": "stdout",
     "text": "<module 'pyodbc' from 'C:\\\\ProgramData\\\\Anaconda3\\\\envs\\\\DLENV\\\\lib\\\\site-packages\\\\pyodbc.cp37-win_amd64.pyd'>\n<pyodbc.Connection object at 0x000001B7876B49F0>\n"
    }
   ],
   "source": [
    "print(pyodbc)\n",
    "con = pyodbc.connect('Driver={SQL Server};'\n",
    "                      'Server=CECGENSQL4\\MECZAPRSK01;'\n",
    "                      'Database=rsq_model;'\n",
    "                      'Trusted_Connection=yes;')\n",
    "print(con)"
   ]
  },
  {
   "cell_type": "markdown",
   "metadata": {},
   "source": [
    "conn = pyodbc.connect('Driver={SQL Server};'\n",
    "                      'Server=server_name;'\n",
    "                      'Database=db_name;'\n",
    "                      'Trusted_Connection=yes;')\n"
   ]
  },
  {
   "cell_type": "code",
   "execution_count": 338,
   "metadata": {
    "tags": []
   },
   "outputs": [
    {
     "output_type": "stream",
     "name": "stdout",
     "text": "\nSELECT   \n\t  IndiceIDRisque\n\t  , [SessionDate]\n      ,[SessionID]\n      ,[DynamicIdentifier]\n      ,[CaracteristiqueScenarioLibelle]\n      ,[IndicateurDonneePubliee]\n      ,[FrequenceSessionCode]\n      ,[TypeScenario]\n      ,[HorizonCalcul]\n      ,[NombreObservation]\n      ,[ValeurMarchande]\n      , A.Date as ScenarioDate\n\t  , A.Pnl  as Pnl\n\t  , A.Pnl/ValeurMarchande as Pnl_percent\n  FROM  [MesureRisqueMarche].[V_PnLRMIndiceVecteur] V\n  cross apply [dbo].[PivotDatePnl] ([VecteurScenariodate], vecteurIndicePnl, ';') A\n  where SessionDate = '2020-06-29'\n  and IndicateurDonneePubliee = 1\n  and IndiceIDRisque in ('IND_CDP_CAISSE', 'FUND_IND_MSCI_ACWI_EX_CANADA', 'IND_SP_TSX_CAP', 'FUND_IND_DEX_UNIV')\n  \n\n"
    }
   ],
   "source": [
    "query_template = \"\"\"\n",
    "SELECT   \n",
    "\t  IndiceIDRisque\n",
    "\t  , [SessionDate]\n",
    "      ,[SessionID]\n",
    "      ,[DynamicIdentifier]\n",
    "      ,[CaracteristiqueScenarioLibelle]\n",
    "      ,[IndicateurDonneePubliee]\n",
    "      ,[FrequenceSessionCode]\n",
    "      ,[TypeScenario]\n",
    "      ,[HorizonCalcul]\n",
    "      ,[NombreObservation]\n",
    "      ,[ValeurMarchande]\n",
    "      , A.Date as ScenarioDate\n",
    "\t  , A.Pnl  as Pnl\n",
    "\t  , A.Pnl/ValeurMarchande as Pnl_percent\n",
    "  FROM  [MesureRisqueMarche].[V_PnLRMIndiceVecteur] V\n",
    "  cross apply [dbo].[PivotDatePnl] ([VecteurScenariodate], vecteurIndicePnl, ';') A\n",
    "  where SessionDate = '{}'\n",
    "  and {}\n",
    "  and IndiceIDRisque in {}\n",
    "  \n",
    "\"\"\"\n",
    "\n",
    "if session_id is None:\n",
    "    query_session_selection = 'IndicateurDonneePubliee = 1'\n",
    "else:\n",
    "    query_session_selection = 'sessionId = {}'.format(session_id)\n",
    "\n",
    "query = query_template.format(session_date, query_session_selection, risk_ids)\n",
    "\n",
    "print(query)"
   ]
  },
  {
   "cell_type": "code",
   "execution_count": 339,
   "metadata": {},
   "outputs": [],
   "source": [
    "# Load data\n",
    "data = pd.read_sql(query, con)"
   ]
  },
  {
   "cell_type": "code",
   "execution_count": 340,
   "metadata": {},
   "outputs": [
    {
     "output_type": "execute_result",
     "data": {
      "text/plain": "(15040, 14)"
     },
     "metadata": {},
     "execution_count": 340
    }
   ],
   "source": [
    "data.shape"
   ]
  },
  {
   "cell_type": "code",
   "execution_count": 341,
   "metadata": {},
   "outputs": [
    {
     "output_type": "execute_result",
     "data": {
      "text/plain": "3760"
     },
     "metadata": {},
     "execution_count": 341
    }
   ],
   "source": [
    "data.NombreObservation.unique()[0]"
   ]
  },
  {
   "cell_type": "code",
   "execution_count": 342,
   "metadata": {},
   "outputs": [
    {
     "output_type": "execute_result",
     "data": {
      "text/plain": "      IndiceIDRisque SessionDate  SessionID      DynamicIdentifier  \\\n0  FUND_IND_DEX_UNIV  2020-06-29       2565  CDPQ_20200629_Daily_1   \n1  FUND_IND_DEX_UNIV  2020-06-29       2565  CDPQ_20200629_Daily_1   \n2  FUND_IND_DEX_UNIV  2020-06-29       2565  CDPQ_20200629_Daily_1   \n3  FUND_IND_DEX_UNIV  2020-06-29       2565  CDPQ_20200629_Daily_1   \n4  FUND_IND_DEX_UNIV  2020-06-29       2565  CDPQ_20200629_Daily_1   \n5  FUND_IND_DEX_UNIV  2020-06-29       2565  CDPQ_20200629_Daily_1   \n6  FUND_IND_DEX_UNIV  2020-06-29       2565  CDPQ_20200629_Daily_1   \n7  FUND_IND_DEX_UNIV  2020-06-29       2565  CDPQ_20200629_Daily_1   \n8  FUND_IND_DEX_UNIV  2020-06-29       2565  CDPQ_20200629_Daily_1   \n9  FUND_IND_DEX_UNIV  2020-06-29       2565  CDPQ_20200629_Daily_1   \n\n  CaracteristiqueScenarioLibelle  IndicateurDonneePubliee  \\\n0         Historique_4W_20060131                     True   \n1         Historique_4W_20060131                     True   \n2         Historique_4W_20060131                     True   \n3         Historique_4W_20060131                     True   \n4         Historique_4W_20060131                     True   \n5         Historique_4W_20060131                     True   \n6         Historique_4W_20060131                     True   \n7         Historique_4W_20060131                     True   \n8         Historique_4W_20060131                     True   \n9         Historique_4W_20060131                     True   \n\n  FrequenceSessionCode TypeScenario  HorizonCalcul  NombreObservation  \\\n0                    D   historique             20               3760   \n1                    D   historique             20               3760   \n2                    D   historique             20               3760   \n3                    D   historique             20               3760   \n4                    D   historique             20               3760   \n5                    D   historique             20               3760   \n6                    D   historique             20               3760   \n7                    D   historique             20               3760   \n8                    D   historique             20               3760   \n9                    D   historique             20               3760   \n\n   ValeurMarchande ScenarioDate           Pnl  Pnl_percent  \n0     1.368446e+11   2020-06-29  1.897176e+09     0.013864  \n1     1.368446e+11   2020-06-26  1.684572e+09     0.012310  \n2     1.368446e+11   2020-06-25  2.064747e+09     0.015088  \n3     1.368446e+11   2020-06-24  1.607615e+09     0.011748  \n4     1.368446e+11   2020-06-23  1.788941e+09     0.013073  \n5     1.368446e+11   2020-06-22  1.388963e+09     0.010150  \n6     1.368446e+11   2020-06-19  1.629813e+09     0.011910  \n7     1.368446e+11   2020-06-18  1.918419e+09     0.014019  \n8     1.368446e+11   2020-06-17  1.749468e+09     0.012784  \n9     1.368446e+11   2020-06-16  1.977796e+09     0.014453  ",
      "text/html": "<div>\n<style scoped>\n    .dataframe tbody tr th:only-of-type {\n        vertical-align: middle;\n    }\n\n    .dataframe tbody tr th {\n        vertical-align: top;\n    }\n\n    .dataframe thead th {\n        text-align: right;\n    }\n</style>\n<table border=\"1\" class=\"dataframe\">\n  <thead>\n    <tr style=\"text-align: right;\">\n      <th></th>\n      <th>IndiceIDRisque</th>\n      <th>SessionDate</th>\n      <th>SessionID</th>\n      <th>DynamicIdentifier</th>\n      <th>CaracteristiqueScenarioLibelle</th>\n      <th>IndicateurDonneePubliee</th>\n      <th>FrequenceSessionCode</th>\n      <th>TypeScenario</th>\n      <th>HorizonCalcul</th>\n      <th>NombreObservation</th>\n      <th>ValeurMarchande</th>\n      <th>ScenarioDate</th>\n      <th>Pnl</th>\n      <th>Pnl_percent</th>\n    </tr>\n  </thead>\n  <tbody>\n    <tr>\n      <th>0</th>\n      <td>FUND_IND_DEX_UNIV</td>\n      <td>2020-06-29</td>\n      <td>2565</td>\n      <td>CDPQ_20200629_Daily_1</td>\n      <td>Historique_4W_20060131</td>\n      <td>True</td>\n      <td>D</td>\n      <td>historique</td>\n      <td>20</td>\n      <td>3760</td>\n      <td>1.368446e+11</td>\n      <td>2020-06-29</td>\n      <td>1.897176e+09</td>\n      <td>0.013864</td>\n    </tr>\n    <tr>\n      <th>1</th>\n      <td>FUND_IND_DEX_UNIV</td>\n      <td>2020-06-29</td>\n      <td>2565</td>\n      <td>CDPQ_20200629_Daily_1</td>\n      <td>Historique_4W_20060131</td>\n      <td>True</td>\n      <td>D</td>\n      <td>historique</td>\n      <td>20</td>\n      <td>3760</td>\n      <td>1.368446e+11</td>\n      <td>2020-06-26</td>\n      <td>1.684572e+09</td>\n      <td>0.012310</td>\n    </tr>\n    <tr>\n      <th>2</th>\n      <td>FUND_IND_DEX_UNIV</td>\n      <td>2020-06-29</td>\n      <td>2565</td>\n      <td>CDPQ_20200629_Daily_1</td>\n      <td>Historique_4W_20060131</td>\n      <td>True</td>\n      <td>D</td>\n      <td>historique</td>\n      <td>20</td>\n      <td>3760</td>\n      <td>1.368446e+11</td>\n      <td>2020-06-25</td>\n      <td>2.064747e+09</td>\n      <td>0.015088</td>\n    </tr>\n    <tr>\n      <th>3</th>\n      <td>FUND_IND_DEX_UNIV</td>\n      <td>2020-06-29</td>\n      <td>2565</td>\n      <td>CDPQ_20200629_Daily_1</td>\n      <td>Historique_4W_20060131</td>\n      <td>True</td>\n      <td>D</td>\n      <td>historique</td>\n      <td>20</td>\n      <td>3760</td>\n      <td>1.368446e+11</td>\n      <td>2020-06-24</td>\n      <td>1.607615e+09</td>\n      <td>0.011748</td>\n    </tr>\n    <tr>\n      <th>4</th>\n      <td>FUND_IND_DEX_UNIV</td>\n      <td>2020-06-29</td>\n      <td>2565</td>\n      <td>CDPQ_20200629_Daily_1</td>\n      <td>Historique_4W_20060131</td>\n      <td>True</td>\n      <td>D</td>\n      <td>historique</td>\n      <td>20</td>\n      <td>3760</td>\n      <td>1.368446e+11</td>\n      <td>2020-06-23</td>\n      <td>1.788941e+09</td>\n      <td>0.013073</td>\n    </tr>\n    <tr>\n      <th>5</th>\n      <td>FUND_IND_DEX_UNIV</td>\n      <td>2020-06-29</td>\n      <td>2565</td>\n      <td>CDPQ_20200629_Daily_1</td>\n      <td>Historique_4W_20060131</td>\n      <td>True</td>\n      <td>D</td>\n      <td>historique</td>\n      <td>20</td>\n      <td>3760</td>\n      <td>1.368446e+11</td>\n      <td>2020-06-22</td>\n      <td>1.388963e+09</td>\n      <td>0.010150</td>\n    </tr>\n    <tr>\n      <th>6</th>\n      <td>FUND_IND_DEX_UNIV</td>\n      <td>2020-06-29</td>\n      <td>2565</td>\n      <td>CDPQ_20200629_Daily_1</td>\n      <td>Historique_4W_20060131</td>\n      <td>True</td>\n      <td>D</td>\n      <td>historique</td>\n      <td>20</td>\n      <td>3760</td>\n      <td>1.368446e+11</td>\n      <td>2020-06-19</td>\n      <td>1.629813e+09</td>\n      <td>0.011910</td>\n    </tr>\n    <tr>\n      <th>7</th>\n      <td>FUND_IND_DEX_UNIV</td>\n      <td>2020-06-29</td>\n      <td>2565</td>\n      <td>CDPQ_20200629_Daily_1</td>\n      <td>Historique_4W_20060131</td>\n      <td>True</td>\n      <td>D</td>\n      <td>historique</td>\n      <td>20</td>\n      <td>3760</td>\n      <td>1.368446e+11</td>\n      <td>2020-06-18</td>\n      <td>1.918419e+09</td>\n      <td>0.014019</td>\n    </tr>\n    <tr>\n      <th>8</th>\n      <td>FUND_IND_DEX_UNIV</td>\n      <td>2020-06-29</td>\n      <td>2565</td>\n      <td>CDPQ_20200629_Daily_1</td>\n      <td>Historique_4W_20060131</td>\n      <td>True</td>\n      <td>D</td>\n      <td>historique</td>\n      <td>20</td>\n      <td>3760</td>\n      <td>1.368446e+11</td>\n      <td>2020-06-17</td>\n      <td>1.749468e+09</td>\n      <td>0.012784</td>\n    </tr>\n    <tr>\n      <th>9</th>\n      <td>FUND_IND_DEX_UNIV</td>\n      <td>2020-06-29</td>\n      <td>2565</td>\n      <td>CDPQ_20200629_Daily_1</td>\n      <td>Historique_4W_20060131</td>\n      <td>True</td>\n      <td>D</td>\n      <td>historique</td>\n      <td>20</td>\n      <td>3760</td>\n      <td>1.368446e+11</td>\n      <td>2020-06-16</td>\n      <td>1.977796e+09</td>\n      <td>0.014453</td>\n    </tr>\n  </tbody>\n</table>\n</div>"
     },
     "metadata": {},
     "execution_count": 342
    }
   ],
   "source": [
    "data.head(10)"
   ]
  },
  {
   "cell_type": "code",
   "execution_count": 343,
   "metadata": {},
   "outputs": [
    {
     "output_type": "execute_result",
     "data": {
      "text/plain": "0        FUND_IND_DEX_UNIV\n1        FUND_IND_DEX_UNIV\n2        FUND_IND_DEX_UNIV\n3        FUND_IND_DEX_UNIV\n4        FUND_IND_DEX_UNIV\n               ...        \n15035       IND_SP_TSX_CAP\n15036       IND_SP_TSX_CAP\n15037       IND_SP_TSX_CAP\n15038       IND_SP_TSX_CAP\n15039       IND_SP_TSX_CAP\nName: IndiceIDRisque, Length: 15040, dtype: object"
     },
     "metadata": {},
     "execution_count": 343
    }
   ],
   "source": [
    "data.IndiceIDRisque"
   ]
  },
  {
   "cell_type": "code",
   "execution_count": 344,
   "metadata": {},
   "outputs": [
    {
     "output_type": "execute_result",
     "data": {
      "text/plain": "       IndiceIDRisque SessionDate  SessionID      DynamicIdentifier  \\\n7520   IND_CDP_CAISSE  2020-06-29       2565  CDPQ_20200629_Daily_1   \n7521   IND_CDP_CAISSE  2020-06-29       2565  CDPQ_20200629_Daily_1   \n7522   IND_CDP_CAISSE  2020-06-29       2565  CDPQ_20200629_Daily_1   \n7523   IND_CDP_CAISSE  2020-06-29       2565  CDPQ_20200629_Daily_1   \n7524   IND_CDP_CAISSE  2020-06-29       2565  CDPQ_20200629_Daily_1   \n...               ...         ...        ...                    ...   \n11275  IND_CDP_CAISSE  2020-06-29       2565  CDPQ_20200629_Daily_1   \n11276  IND_CDP_CAISSE  2020-06-29       2565  CDPQ_20200629_Daily_1   \n11277  IND_CDP_CAISSE  2020-06-29       2565  CDPQ_20200629_Daily_1   \n11278  IND_CDP_CAISSE  2020-06-29       2565  CDPQ_20200629_Daily_1   \n11279  IND_CDP_CAISSE  2020-06-29       2565  CDPQ_20200629_Daily_1   \n\n      CaracteristiqueScenarioLibelle  IndicateurDonneePubliee  \\\n7520          Historique_4W_20060131                     True   \n7521          Historique_4W_20060131                     True   \n7522          Historique_4W_20060131                     True   \n7523          Historique_4W_20060131                     True   \n7524          Historique_4W_20060131                     True   \n...                              ...                      ...   \n11275         Historique_4W_20060131                     True   \n11276         Historique_4W_20060131                     True   \n11277         Historique_4W_20060131                     True   \n11278         Historique_4W_20060131                     True   \n11279         Historique_4W_20060131                     True   \n\n      FrequenceSessionCode TypeScenario  HorizonCalcul  NombreObservation  \\\n7520                     D   historique             20               3760   \n7521                     D   historique             20               3760   \n7522                     D   historique             20               3760   \n7523                     D   historique             20               3760   \n7524                     D   historique             20               3760   \n...                    ...          ...            ...                ...   \n11275                    D   historique             20               3760   \n11276                    D   historique             20               3760   \n11277                    D   historique             20               3760   \n11278                    D   historique             20               3760   \n11279                    D   historique             20               3760   \n\n       ValeurMarchande ScenarioDate       Pnl  Pnl_percent  \n7520               1.0   2020-06-29  0.011419     0.011419  \n7521               1.0   2020-06-26  0.007566     0.007566  \n7522               1.0   2020-06-25  0.016778     0.016778  \n7523               1.0   2020-06-24  0.012449     0.012449  \n7524               1.0   2020-06-23  0.027886     0.027886  \n...                ...          ...       ...          ...  \n11275              1.0   2006-02-06 -0.001686    -0.001686  \n11276              1.0   2006-02-03 -0.001046    -0.001046  \n11277              1.0   2006-02-02  0.006615     0.006615  \n11278              1.0   2006-02-01  0.013039     0.013039  \n11279              1.0   2006-01-31  0.019076     0.019076  \n\n[3760 rows x 14 columns]",
      "text/html": "<div>\n<style scoped>\n    .dataframe tbody tr th:only-of-type {\n        vertical-align: middle;\n    }\n\n    .dataframe tbody tr th {\n        vertical-align: top;\n    }\n\n    .dataframe thead th {\n        text-align: right;\n    }\n</style>\n<table border=\"1\" class=\"dataframe\">\n  <thead>\n    <tr style=\"text-align: right;\">\n      <th></th>\n      <th>IndiceIDRisque</th>\n      <th>SessionDate</th>\n      <th>SessionID</th>\n      <th>DynamicIdentifier</th>\n      <th>CaracteristiqueScenarioLibelle</th>\n      <th>IndicateurDonneePubliee</th>\n      <th>FrequenceSessionCode</th>\n      <th>TypeScenario</th>\n      <th>HorizonCalcul</th>\n      <th>NombreObservation</th>\n      <th>ValeurMarchande</th>\n      <th>ScenarioDate</th>\n      <th>Pnl</th>\n      <th>Pnl_percent</th>\n    </tr>\n  </thead>\n  <tbody>\n    <tr>\n      <th>7520</th>\n      <td>IND_CDP_CAISSE</td>\n      <td>2020-06-29</td>\n      <td>2565</td>\n      <td>CDPQ_20200629_Daily_1</td>\n      <td>Historique_4W_20060131</td>\n      <td>True</td>\n      <td>D</td>\n      <td>historique</td>\n      <td>20</td>\n      <td>3760</td>\n      <td>1.0</td>\n      <td>2020-06-29</td>\n      <td>0.011419</td>\n      <td>0.011419</td>\n    </tr>\n    <tr>\n      <th>7521</th>\n      <td>IND_CDP_CAISSE</td>\n      <td>2020-06-29</td>\n      <td>2565</td>\n      <td>CDPQ_20200629_Daily_1</td>\n      <td>Historique_4W_20060131</td>\n      <td>True</td>\n      <td>D</td>\n      <td>historique</td>\n      <td>20</td>\n      <td>3760</td>\n      <td>1.0</td>\n      <td>2020-06-26</td>\n      <td>0.007566</td>\n      <td>0.007566</td>\n    </tr>\n    <tr>\n      <th>7522</th>\n      <td>IND_CDP_CAISSE</td>\n      <td>2020-06-29</td>\n      <td>2565</td>\n      <td>CDPQ_20200629_Daily_1</td>\n      <td>Historique_4W_20060131</td>\n      <td>True</td>\n      <td>D</td>\n      <td>historique</td>\n      <td>20</td>\n      <td>3760</td>\n      <td>1.0</td>\n      <td>2020-06-25</td>\n      <td>0.016778</td>\n      <td>0.016778</td>\n    </tr>\n    <tr>\n      <th>7523</th>\n      <td>IND_CDP_CAISSE</td>\n      <td>2020-06-29</td>\n      <td>2565</td>\n      <td>CDPQ_20200629_Daily_1</td>\n      <td>Historique_4W_20060131</td>\n      <td>True</td>\n      <td>D</td>\n      <td>historique</td>\n      <td>20</td>\n      <td>3760</td>\n      <td>1.0</td>\n      <td>2020-06-24</td>\n      <td>0.012449</td>\n      <td>0.012449</td>\n    </tr>\n    <tr>\n      <th>7524</th>\n      <td>IND_CDP_CAISSE</td>\n      <td>2020-06-29</td>\n      <td>2565</td>\n      <td>CDPQ_20200629_Daily_1</td>\n      <td>Historique_4W_20060131</td>\n      <td>True</td>\n      <td>D</td>\n      <td>historique</td>\n      <td>20</td>\n      <td>3760</td>\n      <td>1.0</td>\n      <td>2020-06-23</td>\n      <td>0.027886</td>\n      <td>0.027886</td>\n    </tr>\n    <tr>\n      <th>...</th>\n      <td>...</td>\n      <td>...</td>\n      <td>...</td>\n      <td>...</td>\n      <td>...</td>\n      <td>...</td>\n      <td>...</td>\n      <td>...</td>\n      <td>...</td>\n      <td>...</td>\n      <td>...</td>\n      <td>...</td>\n      <td>...</td>\n      <td>...</td>\n    </tr>\n    <tr>\n      <th>11275</th>\n      <td>IND_CDP_CAISSE</td>\n      <td>2020-06-29</td>\n      <td>2565</td>\n      <td>CDPQ_20200629_Daily_1</td>\n      <td>Historique_4W_20060131</td>\n      <td>True</td>\n      <td>D</td>\n      <td>historique</td>\n      <td>20</td>\n      <td>3760</td>\n      <td>1.0</td>\n      <td>2006-02-06</td>\n      <td>-0.001686</td>\n      <td>-0.001686</td>\n    </tr>\n    <tr>\n      <th>11276</th>\n      <td>IND_CDP_CAISSE</td>\n      <td>2020-06-29</td>\n      <td>2565</td>\n      <td>CDPQ_20200629_Daily_1</td>\n      <td>Historique_4W_20060131</td>\n      <td>True</td>\n      <td>D</td>\n      <td>historique</td>\n      <td>20</td>\n      <td>3760</td>\n      <td>1.0</td>\n      <td>2006-02-03</td>\n      <td>-0.001046</td>\n      <td>-0.001046</td>\n    </tr>\n    <tr>\n      <th>11277</th>\n      <td>IND_CDP_CAISSE</td>\n      <td>2020-06-29</td>\n      <td>2565</td>\n      <td>CDPQ_20200629_Daily_1</td>\n      <td>Historique_4W_20060131</td>\n      <td>True</td>\n      <td>D</td>\n      <td>historique</td>\n      <td>20</td>\n      <td>3760</td>\n      <td>1.0</td>\n      <td>2006-02-02</td>\n      <td>0.006615</td>\n      <td>0.006615</td>\n    </tr>\n    <tr>\n      <th>11278</th>\n      <td>IND_CDP_CAISSE</td>\n      <td>2020-06-29</td>\n      <td>2565</td>\n      <td>CDPQ_20200629_Daily_1</td>\n      <td>Historique_4W_20060131</td>\n      <td>True</td>\n      <td>D</td>\n      <td>historique</td>\n      <td>20</td>\n      <td>3760</td>\n      <td>1.0</td>\n      <td>2006-02-01</td>\n      <td>0.013039</td>\n      <td>0.013039</td>\n    </tr>\n    <tr>\n      <th>11279</th>\n      <td>IND_CDP_CAISSE</td>\n      <td>2020-06-29</td>\n      <td>2565</td>\n      <td>CDPQ_20200629_Daily_1</td>\n      <td>Historique_4W_20060131</td>\n      <td>True</td>\n      <td>D</td>\n      <td>historique</td>\n      <td>20</td>\n      <td>3760</td>\n      <td>1.0</td>\n      <td>2006-01-31</td>\n      <td>0.019076</td>\n      <td>0.019076</td>\n    </tr>\n  </tbody>\n</table>\n<p>3760 rows × 14 columns</p>\n</div>"
     },
     "metadata": {},
     "execution_count": 344
    }
   ],
   "source": [
    "is_indice_caisse = data.IndiceIDRisque == indice_caisse_id\n",
    "data[is_indice_caisse] "
   ]
  },
  {
   "cell_type": "code",
   "execution_count": 345,
   "metadata": {},
   "outputs": [
    {
     "output_type": "execute_result",
     "data": {
      "text/plain": "7520     0.011419\n7521     0.007566\n7522     0.016778\n7523     0.012449\n7524     0.027886\n           ...   \n11275   -0.001686\n11276   -0.001046\n11277    0.006615\n11278    0.013039\n11279    0.019076\nName: Pnl_percent, Length: 3760, dtype: float64"
     },
     "metadata": {},
     "execution_count": 345
    }
   ],
   "source": [
    "v_caisse = data[data.IndiceIDRisque == indice_caisse_id].Pnl_percent\n",
    "v_caisse"
   ]
  },
  {
   "cell_type": "code",
   "execution_count": 346,
   "metadata": {},
   "outputs": [
    {
     "output_type": "execute_result",
     "data": {
      "text/plain": "3760    0.022768\n3761    0.012649\n3762    0.030139\n3763    0.020084\n3764    0.047477\n          ...   \n7515   -0.028136\n7516   -0.019802\n7517    0.000040\n7518    0.020207\n7519    0.028666\nName: Pnl_percent, Length: 3760, dtype: float64"
     },
     "metadata": {},
     "execution_count": 346
    }
   ],
   "source": [
    "v_mb_1 = data[data.IndiceIDRisque == indice_pour_mb_1_id].Pnl_percent\n",
    "v_mb_1"
   ]
  },
  {
   "cell_type": "code",
   "execution_count": 347,
   "metadata": {},
   "outputs": [
    {
     "output_type": "execute_result",
     "data": {
      "text/plain": "11280    0.017521\n11281    0.006101\n11282    0.018527\n11283    0.008114\n11284    0.033386\n           ...   \n15035    0.039880\n15036    0.028607\n15037    0.036424\n15038    0.034504\n15039    0.033853\nName: Pnl_percent, Length: 3760, dtype: float64"
     },
     "metadata": {},
     "execution_count": 347
    }
   ],
   "source": [
    "v_mb_2 = data[data.IndiceIDRisque == indice_pour_mb_2_id].Pnl_percent\n",
    "v_mb_2"
   ]
  },
  {
   "cell_type": "code",
   "execution_count": 348,
   "metadata": {},
   "outputs": [
    {
     "output_type": "execute_result",
     "data": {
      "text/plain": "0       0.013864\n1       0.012310\n2       0.015088\n3       0.011748\n4       0.013073\n          ...   \n3755   -0.009722\n3756   -0.009237\n3757   -0.014050\n3758   -0.017416\n3759   -0.012569\nName: Pnl_percent, Length: 3760, dtype: float64"
     },
     "metadata": {},
     "execution_count": 348
    }
   ],
   "source": [
    "v_rf_1 = data[data.IndiceIDRisque == indice_pour_rf_1_id].Pnl_percent\n",
    "v_rf_1"
   ]
  },
  {
   "cell_type": "code",
   "execution_count": 349,
   "metadata": {},
   "outputs": [
    {
     "output_type": "execute_result",
     "data": {
      "text/plain": "array([0.02171887, 0.01133982, 0.02781667, ..., 0.00731655, 0.02306682,\n       0.029703  ])"
     },
     "metadata": {},
     "execution_count": 349
    }
   ],
   "source": [
    "v_mb = indice_pour_mb_1_percent * np.array(v_mb_1) + indice_pour_mb_2_percent * np.array(v_mb_2)\n",
    "v_mb"
   ]
  },
  {
   "cell_type": "code",
   "execution_count": 350,
   "metadata": {},
   "outputs": [
    {
     "output_type": "execute_result",
     "data": {
      "text/plain": "array([ 0.01386372,  0.01231011,  0.01508826, ..., -0.0140504 ,\n       -0.01741596, -0.01256941])"
     },
     "metadata": {},
     "execution_count": 350
    }
   ],
   "source": [
    "v_rf = indice_pour_mb_rf_percent * np.array(v_rf_1)  \n",
    "v_rf"
   ]
  },
  {
   "cell_type": "code",
   "execution_count": 351,
   "metadata": {
    "tags": []
   },
   "outputs": [],
   "source": [
    "# Get Poids HD\n",
    "def getHDWeights(percent, metho, nb_observation):\n",
    "    hd_query = \"\"\"\n",
    "    SELECT \n",
    "        -- [Methodologie]\n",
    "        --,[NombreObservation]\n",
    "        --,[Percentile],\n",
    "        [Rang]\n",
    "        ,[Poids]\n",
    "    FROM [rsq_model].[MesureRisqueMarche].[V_PonderationHarrellDavis]\n",
    "    where Methodologie = '{}' and  [Percentile] = {} and \n",
    "    NombreObservation =  {} \n",
    "    \"\"\" \n",
    "    print(hd_query)\n",
    "    hd = pd.read_sql(hd_query.format(metho, percent, nb_observation), con)\n",
    "    hd.head()\n",
    "\n",
    "    # Sort by Rang\n",
    "    return hd.sort_values('Rang')"
   ]
  },
  {
   "cell_type": "code",
   "execution_count": 352,
   "metadata": {
    "tags": []
   },
   "outputs": [
    {
     "output_type": "stream",
     "name": "stdout",
     "text": "3760\n\n    SELECT \n        -- [Methodologie]\n        --,[NombreObservation]\n        --,[Percentile],\n        [Rang]\n        ,[Poids]\n    FROM [rsq_model].[MesureRisqueMarche].[V_PonderationHarrellDavis]\n    where Methodologie = '{}' and  [Percentile] = {} and \n    NombreObservation =  {} \n    \n"
    }
   ],
   "source": [
    "percent = 95\n",
    "metho = 'RobustHD'\n",
    "nb_observation = data.NombreObservation.unique()[0]\n",
    "print(nb_observation)\n",
    "\n",
    "hd = getHDWeights(percent, metho, nb_observation)\n",
    "# hd['Poids']"
   ]
  },
  {
   "cell_type": "code",
   "execution_count": 353,
   "metadata": {},
   "outputs": [],
   "source": [
    "from math import sqrt, pow\n",
    "\n",
    "def calculVaR(percent, metho, nb_observation, timeFactor, positionAmount ,  v_pnl): \n",
    "# Fonction qui calcule la VaR des pnls considérés \n",
    "    # 1- Poids HD\n",
    "    v_hdWeights = getHDWeights(percent, metho, nb_observation)\n",
    "    #print(hdWeights.head())\n",
    "\n",
    "    # 2- Sort Pnls\n",
    "    #print(v_pnl)\n",
    "    v_pnl_sorted = np.sort(v_pnl)\n",
    "    #print(v_pnl_sorted)\n",
    "\n",
    "    # 3 sort HD \n",
    "    v_hdWeights_sorted = v_hdWeights.sort_values('Rang')['Poids']\n",
    "\n",
    "    # Multiply Pnl by HD\n",
    "    print(v_pnl_sorted.shape, v_hdWeights_sorted.shape) \n",
    "    v_pnl_hd = v_pnl_sorted * v_hdWeights_sorted\n",
    "    # print(v_pnl_hd.shape)\n",
    "\n",
    "    # Average, Percentile\n",
    "    average = np.average(v_pnl)\n",
    "    sum = np.sum(v_pnl_hd)\n",
    "    percentile = sum \n",
    "    # print(average, sum, percentile)\n",
    "\n",
    "    # Annualized\n",
    "    annualizedVaR = 1- pow(1 + (percentile - average) / positionAmount, sqrt(timeFactor))\n",
    "    # return var \n",
    "    return annualizedVaR\n",
    " "
   ]
  },
  {
   "cell_type": "code",
   "execution_count": 354,
   "metadata": {
    "tags": []
   },
   "outputs": [
    {
     "output_type": "stream",
     "name": "stdout",
     "text": "3760\n"
    }
   ],
   "source": [
    "nb_observation = data.NombreObservation.unique()[0]\n",
    "positionAmount = 1 # Valeur marchande = 1 si %\n",
    "print(nb_observation)\n"
   ]
  },
  {
   "cell_type": "code",
   "execution_count": 355,
   "metadata": {
    "tags": []
   },
   "outputs": [
    {
     "output_type": "stream",
     "name": "stdout",
     "text": "\n    SELECT \n        -- [Methodologie]\n        --,[NombreObservation]\n        --,[Percentile],\n        [Rang]\n        ,[Poids]\n    FROM [rsq_model].[MesureRisqueMarche].[V_PonderationHarrellDavis]\n    where Methodologie = '{}' and  [Percentile] = {} and \n    NombreObservation =  {} \n    \n(3760,) (3760,)\n0.13691006787276627\n"
    }
   ],
   "source": [
    "# VaR Caisse\n",
    "var_Caisse = calculVaR(percent, metho, nb_observation, timeFactor, positionAmount, v_caisse) \n",
    "print(var_Caisse)\n",
    "var_target = var_Caisse\n",
    "\n",
    "#print(v_caisse)"
   ]
  },
  {
   "cell_type": "code",
   "execution_count": 356,
   "metadata": {
    "tags": []
   },
   "outputs": [
    {
     "output_type": "stream",
     "name": "stdout",
     "text": "\n    SELECT \n        -- [Methodologie]\n        --,[NombreObservation]\n        --,[Percentile],\n        [Rang]\n        ,[Poids]\n    FROM [rsq_model].[MesureRisqueMarche].[V_PonderationHarrellDavis]\n    where Methodologie = '{}' and  [Percentile] = {} and \n    NombreObservation =  {} \n    \n(3760,) (3760,)\n0.22708480854080748\n"
    }
   ],
   "source": [
    "var_mb_1 = calculVaR(percent, metho, nb_observation, timeFactor, positionAmount, v_mb_1) \n",
    "print(var_mb_1)\n",
    " "
   ]
  },
  {
   "cell_type": "code",
   "execution_count": 357,
   "metadata": {
    "tags": []
   },
   "outputs": [
    {
     "output_type": "stream",
     "name": "stdout",
     "text": "\n    SELECT \n        -- [Methodologie]\n        --,[NombreObservation]\n        --,[Percentile],\n        [Rang]\n        ,[Poids]\n    FROM [rsq_model].[MesureRisqueMarche].[V_PonderationHarrellDavis]\n    where Methodologie = '{}' and  [Percentile] = {} and \n    NombreObservation =  {} \n    \n(3760,) (3760,)\n0.20701090545262046\n"
    }
   ],
   "source": [
    "var_mb_2 = calculVaR(percent, metho, nb_observation, timeFactor, positionAmount, v_mb_2) \n",
    "print(var_mb_2)\n",
    " "
   ]
  },
  {
   "cell_type": "code",
   "execution_count": 358,
   "metadata": {
    "tags": []
   },
   "outputs": [
    {
     "output_type": "stream",
     "name": "stdout",
     "text": "\n    SELECT \n        -- [Methodologie]\n        --,[NombreObservation]\n        --,[Percentile],\n        [Rang]\n        ,[Poids]\n    FROM [rsq_model].[MesureRisqueMarche].[V_PonderationHarrellDavis]\n    where Methodologie = '{}' and  [Percentile] = {} and \n    NombreObservation =  {} \n    \n(3760,) (3760,)\n0.2175687344852335\n[0.02171887 0.01133982 0.02781667 ... 0.00731655 0.02306682 0.029703  ]\n"
    }
   ],
   "source": [
    "var_mb = calculVaR(percent, metho, nb_observation, timeFactor, positionAmount, v_mb) \n",
    "print(var_mb)\n",
    "print(v_mb)"
   ]
  },
  {
   "cell_type": "code",
   "execution_count": 359,
   "metadata": {
    "tags": []
   },
   "outputs": [
    {
     "output_type": "stream",
     "name": "stdout",
     "text": "\n    SELECT \n        -- [Methodologie]\n        --,[NombreObservation]\n        --,[Percentile],\n        [Rang]\n        ,[Poids]\n    FROM [rsq_model].[MesureRisqueMarche].[V_PonderationHarrellDavis]\n    where Methodologie = '{}' and  [Percentile] = {} and \n    NombreObservation =  {} \n    \n(3760,) (3760,)\n0.06983071382570982\n"
    }
   ],
   "source": [
    "var_rf_1 = calculVaR(percent, metho, nb_observation, timeFactor, positionAmount, v_rf_1) \n",
    "print(var_rf_1)\n"
   ]
  },
  {
   "cell_type": "code",
   "execution_count": 360,
   "metadata": {
    "tags": []
   },
   "outputs": [
    {
     "output_type": "stream",
     "name": "stdout",
     "text": "\n    SELECT \n        -- [Methodologie]\n        --,[NombreObservation]\n        --,[Percentile],\n        [Rang]\n        ,[Poids]\n    FROM [rsq_model].[MesureRisqueMarche].[V_PonderationHarrellDavis]\n    where Methodologie = '{}' and  [Percentile] = {} and \n    NombreObservation =  {} \n    \n(3760,) (3760,)\n0.06983071382570982\n[ 0.01386372  0.01231011  0.01508826 ... -0.0140504  -0.01741596\n -0.01256941]\n"
    }
   ],
   "source": [
    "var_rf = calculVaR(percent, metho, nb_observation, timeFactor, positionAmount, v_rf) \n",
    "print(var_rf)\n",
    "print(v_rf)"
   ]
  },
  {
   "cell_type": "code",
   "execution_count": 361,
   "metadata": {},
   "outputs": [],
   "source": [
    "def getVectorPLS(x:float):\n",
    "    pnl =  x * v_mb + (1-x) * v_rf\n",
    "    print(pnl[:10])\n",
    "    print(pnl.shape)\n",
    "    return pnl  "
   ]
  },
  {
   "cell_type": "code",
   "execution_count": 362,
   "metadata": {},
   "outputs": [],
   "source": [
    "def calculateVaRPLS(x:float):\n",
    "    pnl =  getVectorPLS(x)\n",
    "    var = calculVaR(percent, metho, nb_observation, timeFactor, positionAmount ,  pnl)\n",
    "    return abs(var)  "
   ]
  },
  {
   "cell_type": "code",
   "execution_count": 363,
   "metadata": {},
   "outputs": [],
   "source": [
    "# Fonction a optimiser\n",
    "def toOptimize(x:float):\n",
    "    var = calculateVaRPLS(x)\n",
    "    return abs(var) - abs(var_target)"
   ]
  },
  {
   "cell_type": "code",
   "execution_count": 364,
   "metadata": {
    "tags": []
   },
   "outputs": [
    {
     "output_type": "stream",
     "name": "stdout",
     "text": "0.13691006787276627\n"
    }
   ],
   "source": [
    "print(var_target)\n",
    " "
   ]
  },
  {
   "cell_type": "code",
   "execution_count": 365,
   "metadata": {
    "tags": []
   },
   "outputs": [
    {
     "output_type": "stream",
     "name": "stdout",
     "text": "[0.02171887 0.01133982 0.02781667 0.01768976 0.04465854 0.0425582\n 0.04354729 0.04740938 0.04232882 0.06090862]\n(3760,)\n\n    SELECT \n        -- [Methodologie]\n        --,[NombreObservation]\n        --,[Percentile],\n        [Rang]\n        ,[Poids]\n    FROM [rsq_model].[MesureRisqueMarche].[V_PonderationHarrellDavis]\n    where Methodologie = '{}' and  [Percentile] = {} and \n    NombreObservation =  {} \n    \n(3760,) (3760,)\n[0.02171887 0.01133982 0.02781667 0.01768976 0.04465854 0.0425582\n 0.04354729 0.04740938 0.04232882 0.06090862]\n(3760,)\n\n    SELECT \n        -- [Methodologie]\n        --,[NombreObservation]\n        --,[Percentile],\n        [Rang]\n        ,[Poids]\n    FROM [rsq_model].[MesureRisqueMarche].[V_PonderationHarrellDavis]\n    where Methodologie = '{}' and  [Percentile] = {} and \n    NombreObservation =  {} \n    \n(3760,) (3760,)\n[0.02171887 0.01133982 0.02781667 0.01768976 0.04465854 0.0425582\n 0.04354729 0.04740938 0.04232882 0.06090862]\n(3760,)\n\n    SELECT \n        -- [Methodologie]\n        --,[NombreObservation]\n        --,[Percentile],\n        [Rang]\n        ,[Poids]\n    FROM [rsq_model].[MesureRisqueMarche].[V_PonderationHarrellDavis]\n    where Methodologie = '{}' and  [Percentile] = {} and \n    NombreObservation =  {} \n    \n(3760,) (3760,)\n[0.02171887 0.01133982 0.02781667 0.01768976 0.04465854 0.0425582\n 0.04354729 0.04740938 0.04232882 0.06090862]\n(3760,)\n\n    SELECT \n        -- [Methodologie]\n        --,[NombreObservation]\n        --,[Percentile],\n        [Rang]\n        ,[Poids]\n    FROM [rsq_model].[MesureRisqueMarche].[V_PonderationHarrellDavis]\n    where Methodologie = '{}' and  [Percentile] = {} and \n    NombreObservation =  {} \n    \n(3760,) (3760,)\n[0.01854748 0.01173156 0.02267778 0.01529077 0.03190631 0.0294739\n 0.03077424 0.03392855 0.03040072 0.04215287]\n(3760,)\n\n    SELECT \n        -- [Methodologie]\n        --,[NombreObservation]\n        --,[Percentile],\n        [Rang]\n        ,[Poids]\n    FROM [rsq_model].[MesureRisqueMarche].[V_PonderationHarrellDavis]\n    where Methodologie = '{}' and  [Percentile] = {} and \n    NombreObservation =  {} \n    \n(3760,) (3760,)\n[0.01854299 0.01173212 0.02267051 0.01528737 0.03188825 0.02945537\n 0.03075615 0.03390946 0.03038383 0.04212631]\n(3760,)\n\n    SELECT \n        -- [Methodologie]\n        --,[NombreObservation]\n        --,[Percentile],\n        [Rang]\n        ,[Poids]\n    FROM [rsq_model].[MesureRisqueMarche].[V_PonderationHarrellDavis]\n    where Methodologie = '{}' and  [Percentile] = {} and \n    NombreObservation =  {} \n    \n(3760,) (3760,)\n[0.0185428  0.01173214 0.02267019 0.01528723 0.03188746 0.02945456\n 0.03075535 0.03390862 0.03038309 0.04212515]\n(3760,)\n\n    SELECT \n        -- [Methodologie]\n        --,[NombreObservation]\n        --,[Percentile],\n        [Rang]\n        ,[Poids]\n    FROM [rsq_model].[MesureRisqueMarche].[V_PonderationHarrellDavis]\n    where Methodologie = '{}' and  [Percentile] = {} and \n    NombreObservation =  {} \n    \n(3760,) (3760,)\n[0.0185428  0.01173214 0.02267019 0.01528723 0.03188746 0.02945456\n 0.03075535 0.03390862 0.03038309 0.04212515]\n(3760,)\n\n    SELECT \n        -- [Methodologie]\n        --,[NombreObservation]\n        --,[Percentile],\n        [Rang]\n        ,[Poids]\n    FROM [rsq_model].[MesureRisqueMarche].[V_PonderationHarrellDavis]\n    where Methodologie = '{}' and  [Percentile] = {} and \n    NombreObservation =  {} \n    \n(3760,) (3760,)\n[0.0185428  0.01173214 0.02267019 0.01528723 0.03188746 0.02945456\n 0.03075535 0.03390862 0.03038309 0.04212515]\n(3760,)\n\n    SELECT \n        -- [Methodologie]\n        --,[NombreObservation]\n        --,[Percentile],\n        [Rang]\n        ,[Poids]\n    FROM [rsq_model].[MesureRisqueMarche].[V_PonderationHarrellDavis]\n    where Methodologie = '{}' and  [Percentile] = {} and \n    NombreObservation =  {} \n    \n(3760,) (3760,)\n"
    },
    {
     "output_type": "execute_result",
     "data": {
      "text/plain": "    fjac: array([[-1.]])\n     fun: 0.0\n message: 'The solution converged.'\n    nfev: 7\n     qtf: array([2.44249065e-15])\n       r: array([-0.19107831])\n  status: 1\n success: True\n       x: array([0.59566966])"
     },
     "metadata": {},
     "execution_count": 365
    }
   ],
   "source": [
    "# Optimize using root\n",
    "\n",
    "sol = root(toOptimize, 1)\n",
    "sol"
   ]
  },
  {
   "cell_type": "markdown",
   "metadata": {},
   "source": [
    "Résultat 1: Méthode root"
   ]
  },
  {
   "cell_type": "code",
   "execution_count": 366,
   "metadata": {
    "tags": []
   },
   "outputs": [
    {
     "output_type": "stream",
     "name": "stdout",
     "text": "0.5956696556387304\n"
    }
   ],
   "source": [
    "x1 = sol.x[0]\n",
    "print(x1)"
   ]
  },
  {
   "cell_type": "code",
   "execution_count": 367,
   "metadata": {
    "tags": []
   },
   "outputs": [
    {
     "output_type": "stream",
     "name": "stdout",
     "text": "[0.0185428  0.01173214 0.02267019 0.01528723 0.03188746 0.02945456\n 0.03075535 0.03390862 0.03038309 0.04212515]\n(3760,)\n\n    SELECT \n        -- [Methodologie]\n        --,[NombreObservation]\n        --,[Percentile],\n        [Rang]\n        ,[Poids]\n    FROM [rsq_model].[MesureRisqueMarche].[V_PonderationHarrellDavis]\n    where Methodologie = '{}' and  [Percentile] = {} and \n    NombreObservation =  {} \n    \n(3760,) (3760,)\n"
    },
    {
     "output_type": "execute_result",
     "data": {
      "text/plain": "0.0"
     },
     "metadata": {},
     "execution_count": 367
    }
   ],
   "source": [
    "toOptimize(x1)"
   ]
  },
  {
   "cell_type": "code",
   "execution_count": 368,
   "metadata": {
    "tags": []
   },
   "outputs": [
    {
     "output_type": "stream",
     "name": "stdout",
     "text": "[0.0185428  0.01173214 0.02267019 0.01528723 0.03188746 0.02945456\n 0.03075535 0.03390862 0.03038309 0.04212515]\n(3760,)\n"
    },
    {
     "output_type": "execute_result",
     "data": {
      "text/plain": "array([ 0.0185428 ,  0.01173214,  0.02267019, ..., -0.00132276,\n        0.0066984 ,  0.01261098])"
     },
     "metadata": {},
     "execution_count": 368
    }
   ],
   "source": [
    "getVectorPLS(x1)"
   ]
  },
  {
   "cell_type": "code",
   "execution_count": 369,
   "metadata": {
    "tags": []
   },
   "outputs": [
    {
     "output_type": "stream",
     "name": "stdout",
     "text": "[0.0185428  0.01173214 0.02267019 0.01528723 0.03188746 0.02945456\n 0.03075535 0.03390862 0.03038309 0.04212515]\n(3760,)\n\n    SELECT \n        -- [Methodologie]\n        --,[NombreObservation]\n        --,[Percentile],\n        [Rang]\n        ,[Poids]\n    FROM [rsq_model].[MesureRisqueMarche].[V_PonderationHarrellDavis]\n    where Methodologie = '{}' and  [Percentile] = {} and \n    NombreObservation =  {} \n    \n(3760,) (3760,)\n"
    },
    {
     "output_type": "execute_result",
     "data": {
      "text/plain": "0.13691006787276627"
     },
     "metadata": {},
     "execution_count": 369
    }
   ],
   "source": [
    "calculateVaRPLS(x1)"
   ]
  },
  {
   "cell_type": "markdown",
   "metadata": {},
   "source": [
    "Résultat 2: Méthode brentq"
   ]
  },
  {
   "cell_type": "code",
   "execution_count": 370,
   "metadata": {
    "tags": []
   },
   "outputs": [
    {
     "output_type": "stream",
     "name": "stdout",
     "text": "[0.02171887 0.01133982 0.02781667 0.01768976 0.04465854 0.0425582\n 0.04354729 0.04740938 0.04232882 0.06090862]\n(3760,)\n\n    SELECT \n        -- [Methodologie]\n        --,[NombreObservation]\n        --,[Percentile],\n        [Rang]\n        ,[Poids]\n    FROM [rsq_model].[MesureRisqueMarche].[V_PonderationHarrellDavis]\n    where Methodologie = '{}' and  [Percentile] = {} and \n    NombreObservation =  {} \n    \n(3760,) (3760,)\n"
    },
    {
     "output_type": "execute_result",
     "data": {
      "text/plain": "0.08065866661246723"
     },
     "metadata": {},
     "execution_count": 370
    }
   ],
   "source": [
    "toOptimize(1)"
   ]
  },
  {
   "cell_type": "code",
   "execution_count": 371,
   "metadata": {
    "tags": []
   },
   "outputs": [
    {
     "output_type": "stream",
     "name": "stdout",
     "text": "[0.01386372 0.01231011 0.01508826 0.01174775 0.01307279 0.01014993\n 0.01190996 0.01401896 0.01278434 0.01445286]\n(3760,)\n\n    SELECT \n        -- [Methodologie]\n        --,[NombreObservation]\n        --,[Percentile],\n        [Rang]\n        ,[Poids]\n    FROM [rsq_model].[MesureRisqueMarche].[V_PonderationHarrellDavis]\n    where Methodologie = '{}' and  [Percentile] = {} and \n    NombreObservation =  {} \n    \n(3760,) (3760,)\n[0.02171887 0.01133982 0.02781667 0.01768976 0.04465854 0.0425582\n 0.04354729 0.04740938 0.04232882 0.06090862]\n(3760,)\n\n    SELECT \n        -- [Methodologie]\n        --,[NombreObservation]\n        --,[Percentile],\n        [Rang]\n        ,[Poids]\n    FROM [rsq_model].[MesureRisqueMarche].[V_PonderationHarrellDavis]\n    where Methodologie = '{}' and  [Percentile] = {} and \n    NombreObservation =  {} \n    \n(3760,) (3760,)\n[0.01743029 0.01186956 0.0208675  0.01444567 0.02741407 0.02486467\n 0.02627465 0.02917963 0.02619879 0.03554576]\n(3760,)\n\n    SELECT \n        -- [Methodologie]\n        --,[NombreObservation]\n        --,[Percentile],\n        [Rang]\n        ,[Poids]\n    FROM [rsq_model].[MesureRisqueMarche].[V_PonderationHarrellDavis]\n    where Methodologie = '{}' and  [Percentile] = {} and \n    NombreObservation =  {} \n    \n(3760,) (3760,)\n[0.01914294 0.01165801 0.02364265 0.0157412  0.03430064 0.03193058\n 0.03317247 0.03645968 0.03264031 0.04567441]\n(3760,)\n\n    SELECT \n        -- [Methodologie]\n        --,[NombreObservation]\n        --,[Percentile],\n        [Rang]\n        ,[Poids]\n    FROM [rsq_model].[MesureRisqueMarche].[V_PonderationHarrellDavis]\n    where Methodologie = '{}' and  [Percentile] = {} and \n    NombreObservation =  {} \n    \n(3760,) (3760,)\n[0.01852005 0.01173495 0.02263333 0.01527002 0.031796   0.02936072\n 0.03066375 0.03381194 0.03029754 0.04199063]\n(3760,)\n\n    SELECT \n        -- [Methodologie]\n        --,[NombreObservation]\n        --,[Percentile],\n        [Rang]\n        ,[Poids]\n    FROM [rsq_model].[MesureRisqueMarche].[V_PonderationHarrellDavis]\n    where Methodologie = '{}' and  [Percentile] = {} and \n    NombreObservation =  {} \n    \n(3760,) (3760,)\n[0.01854232 0.0117322  0.02266941 0.01528686 0.03188554 0.02945259\n 0.03075343 0.03390659 0.03038129 0.04212233]\n(3760,)\n\n    SELECT \n        -- [Methodologie]\n        --,[NombreObservation]\n        --,[Percentile],\n        [Rang]\n        ,[Poids]\n    FROM [rsq_model].[MesureRisqueMarche].[V_PonderationHarrellDavis]\n    where Methodologie = '{}' and  [Percentile] = {} and \n    NombreObservation =  {} \n    \n(3760,) (3760,)\n[0.0185428  0.01173214 0.02267019 0.01528723 0.03188746 0.02945456\n 0.03075536 0.03390862 0.03038309 0.04212515]\n(3760,)\n\n    SELECT \n        -- [Methodologie]\n        --,[NombreObservation]\n        --,[Percentile],\n        [Rang]\n        ,[Poids]\n    FROM [rsq_model].[MesureRisqueMarche].[V_PonderationHarrellDavis]\n    where Methodologie = '{}' and  [Percentile] = {} and \n    NombreObservation =  {} \n    \n(3760,) (3760,)\n[0.0185428  0.01173214 0.02267019 0.01528723 0.03188746 0.02945456\n 0.03075535 0.03390862 0.03038309 0.04212515]\n(3760,)\n\n    SELECT \n        -- [Methodologie]\n        --,[NombreObservation]\n        --,[Percentile],\n        [Rang]\n        ,[Poids]\n    FROM [rsq_model].[MesureRisqueMarche].[V_PonderationHarrellDavis]\n    where Methodologie = '{}' and  [Percentile] = {} and \n    NombreObservation =  {} \n    \n(3760,) (3760,)\n[0.0185428  0.01173214 0.02267019 0.01528723 0.03188746 0.02945456\n 0.03075535 0.03390862 0.03038309 0.04212515]\n(3760,)\n\n    SELECT \n        -- [Methodologie]\n        --,[NombreObservation]\n        --,[Percentile],\n        [Rang]\n        ,[Poids]\n    FROM [rsq_model].[MesureRisqueMarche].[V_PonderationHarrellDavis]\n    where Methodologie = '{}' and  [Percentile] = {} and \n    NombreObservation =  {} \n    \n(3760,) (3760,)\n0.5956696556387302\n"
    }
   ],
   "source": [
    "#Optimize using brentq\n",
    "x2 = brentq(toOptimize, 0, 1)\n",
    "\n",
    "print(x2)"
   ]
  },
  {
   "cell_type": "code",
   "execution_count": 372,
   "metadata": {},
   "outputs": [
    {
     "output_type": "execute_result",
     "data": {
      "text/plain": "0.5956696556387302"
     },
     "metadata": {},
     "execution_count": 372
    }
   ],
   "source": [
    "x2"
   ]
  },
  {
   "cell_type": "code",
   "execution_count": 373,
   "metadata": {
    "tags": []
   },
   "outputs": [
    {
     "output_type": "stream",
     "name": "stdout",
     "text": "[0.0185428  0.01173214 0.02267019 0.01528723 0.03188746 0.02945456\n 0.03075535 0.03390862 0.03038309 0.04212515]\n(3760,)\n\n    SELECT \n        -- [Methodologie]\n        --,[NombreObservation]\n        --,[Percentile],\n        [Rang]\n        ,[Poids]\n    FROM [rsq_model].[MesureRisqueMarche].[V_PonderationHarrellDavis]\n    where Methodologie = '{}' and  [Percentile] = {} and \n    NombreObservation =  {} \n    \n(3760,) (3760,)\n"
    },
    {
     "output_type": "execute_result",
     "data": {
      "text/plain": "0.0"
     },
     "metadata": {},
     "execution_count": 373
    }
   ],
   "source": [
    "toOptimize(x2)"
   ]
  },
  {
   "cell_type": "code",
   "execution_count": 374,
   "metadata": {
    "tags": []
   },
   "outputs": [
    {
     "output_type": "stream",
     "name": "stdout",
     "text": "[0.0185428  0.01173214 0.02267019 0.01528723 0.03188746 0.02945456\n 0.03075535 0.03390862 0.03038309 0.04212515]\n(3760,)\n\n    SELECT \n        -- [Methodologie]\n        --,[NombreObservation]\n        --,[Percentile],\n        [Rang]\n        ,[Poids]\n    FROM [rsq_model].[MesureRisqueMarche].[V_PonderationHarrellDavis]\n    where Methodologie = '{}' and  [Percentile] = {} and \n    NombreObservation =  {} \n    \n(3760,) (3760,)\n0.13691006787276627\n"
    }
   ],
   "source": [
    "y = calculateVaRPLS (x2)\n",
    "print(y)"
   ]
  },
  {
   "cell_type": "code",
   "execution_count": 375,
   "metadata": {
    "tags": []
   },
   "outputs": [
    {
     "output_type": "stream",
     "name": "stdout",
     "text": "[0.0185428  0.01173214 0.02267019 0.01528723 0.03188746 0.02945456\n 0.03075535 0.03390862 0.03038309 0.04212515]\n(3760,)\n"
    },
    {
     "output_type": "execute_result",
     "data": {
      "text/plain": "array([ 0.0185428 ,  0.01173214,  0.02267019, ..., -0.00132276,\n        0.0066984 ,  0.01261098])"
     },
     "metadata": {},
     "execution_count": 375
    }
   ],
   "source": [
    "getVectorPLS(x2)"
   ]
  },
  {
   "cell_type": "code",
   "execution_count": null,
   "metadata": {},
   "outputs": [],
   "source": []
  }
 ],
 "metadata": {
  "file_extension": ".py",
  "kernelspec": {
   "display_name": "Python 3.7.6 64-bit ('DLENV': conda)",
   "language": "python",
   "name": "python37664bitdlenvconda29b652f870674263985143dd5e5a7bc4"
  },
  "language_info": {
   "codemirror_mode": {
    "name": "ipython",
    "version": 3
   },
   "file_extension": ".py",
   "mimetype": "text/x-python",
   "name": "python",
   "nbconvert_exporter": "python",
   "pygments_lexer": "ipython3",
   "version": "3.7.6"
  },
  "mimetype": "text/x-python",
  "name": "python",
  "npconvert_exporter": "python",
  "pygments_lexer": "ipython3",
  "version": 3
 },
 "nbformat": 4,
 "nbformat_minor": 4
}