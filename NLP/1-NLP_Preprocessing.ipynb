{
 "cells": [
  {
   "cell_type": "markdown",
   "metadata": {},
   "source": [
    "Packages\n",
    "\n",
    "conda install nltk\n",
    "\n",
    "conda install gensim\n",
    "\n",
    "conda install bookeh"
   ]
  },
  {
   "cell_type": "code",
   "execution_count": 3,
   "metadata": {},
   "outputs": [],
   "source": [
    "import nltk\n",
    "from nltk import word_tokenize, sent_tokenize\n",
    "from nltk.corpus import stopwords\n",
    "from nltk.stem.porter import * # Porter Stemmer\n",
    "\n",
    "import string\n",
    "import gensim\n",
    "from gensim.models.phrases import Phraser, Phrases\n",
    "from gensim.models.word2vec import Word2Vec\n",
    "\n",
    "from sklearn.manifold import TSNE\n",
    "\n",
    "import pandas as pandas\n",
    "\n",
    "from bokeh.io import output_notebook, output_file\n",
    "from bokeh.plotting import show, figure\n",
    "\n",
    "%matplotlib inline"
   ]
  },
  {
   "cell_type": "markdown",
   "metadata": {},
   "source": [
    "Project Gutenberg: Books"
   ]
  },
  {
   "cell_type": "code",
   "execution_count": 4,
   "metadata": {},
   "outputs": [
    {
     "output_type": "stream",
     "name": "stderr",
     "text": "[nltk_data] Downloading package gutenberg to\n[nltk_data]     C:\\Users\\mannl\\AppData\\Roaming\\nltk_data...\n[nltk_data]   Package gutenberg is already up-to-date!\n"
    },
    {
     "output_type": "execute_result",
     "data": {
      "text/plain": "['austen-emma.txt',\n 'austen-persuasion.txt',\n 'austen-sense.txt',\n 'bible-kjv.txt',\n 'blake-poems.txt',\n 'bryant-stories.txt',\n 'burgess-busterbrown.txt',\n 'carroll-alice.txt',\n 'chesterton-ball.txt',\n 'chesterton-brown.txt',\n 'chesterton-thursday.txt',\n 'edgeworth-parents.txt',\n 'melville-moby_dick.txt',\n 'milton-paradise.txt',\n 'shakespeare-caesar.txt',\n 'shakespeare-hamlet.txt',\n 'shakespeare-macbeth.txt',\n 'whitman-leaves.txt']"
     },
     "metadata": {},
     "execution_count": 4
    }
   ],
   "source": [
    "from nltk.corpus import gutenberg\n",
    "nltk.download('gutenberg')\n",
    "# Titles\n",
    "gutenberg.fileids()\n"
   ]
  },
  {
   "cell_type": "code",
   "execution_count": 5,
   "metadata": {},
   "outputs": [
    {
     "output_type": "execute_result",
     "data": {
      "text/plain": "2621613"
     },
     "metadata": {},
     "execution_count": 5
    }
   ],
   "source": [
    "len(gutenberg.words())"
   ]
  },
  {
   "cell_type": "code",
   "execution_count": 6,
   "metadata": {},
   "outputs": [
    {
     "output_type": "execute_result",
     "data": {
      "text/plain": "94428"
     },
     "metadata": {},
     "execution_count": 6
    }
   ],
   "source": [
    "#Tokenize sentences\n",
    "gberg_sent_tokens = sent_tokenize(gutenberg.raw())\n",
    "len(gberg_sent_tokens)"
   ]
  },
  {
   "cell_type": "code",
   "execution_count": 7,
   "metadata": {},
   "outputs": [
    {
     "output_type": "execute_result",
     "data": {
      "text/plain": "'[Emma by Jane Austen 1816]\\n\\nVOLUME I\\n\\nCHAPTER I\\n\\n\\nEmma Woodhouse, handsome, clever, and rich, with a comfortable home\\nand happy disposition, seemed to unite some of the best blessings\\nof existence; and had lived nearly twenty-one years in the world\\nwith very little to distress or vex her.'"
     },
     "metadata": {},
     "execution_count": 7
    }
   ],
   "source": [
    " gberg_sent_tokens[0]"
   ]
  },
  {
   "cell_type": "markdown",
   "metadata": {},
   "source": [
    "Tokenize Words"
   ]
  },
  {
   "cell_type": "code",
   "execution_count": 8,
   "metadata": {},
   "outputs": [
    {
     "output_type": "execute_result",
     "data": {
      "text/plain": "['She',\n 'was',\n 'the',\n 'youngest',\n 'of',\n 'the',\n 'two',\n 'daughters',\n 'of',\n 'a',\n 'most',\n 'affectionate',\n ',',\n 'indulgent',\n 'father',\n ';',\n 'and',\n 'had',\n ',',\n 'in',\n 'consequence',\n 'of',\n 'her',\n 'sister',\n \"'s\",\n 'marriage',\n ',',\n 'been',\n 'mistress',\n 'of',\n 'his',\n 'house',\n 'from',\n 'a',\n 'very',\n 'early',\n 'period',\n '.']"
     },
     "metadata": {},
     "execution_count": 8
    }
   ],
   "source": [
    "word_tokenize(gberg_sent_tokens[1])"
   ]
  },
  {
   "cell_type": "markdown",
   "metadata": {},
   "source": [
    "Tokenize sentences and words at te same time"
   ]
  },
  {
   "cell_type": "code",
   "execution_count": null,
   "metadata": {},
   "outputs": [],
   "source": []
  },
  {
   "cell_type": "code",
   "execution_count": 9,
   "metadata": {},
   "outputs": [
    {
     "output_type": "execute_result",
     "data": {
      "text/plain": "['She',\n 'was',\n 'the',\n 'youngest',\n 'of',\n 'the',\n 'two',\n 'daughters',\n 'of',\n 'a',\n 'most',\n 'affectionate',\n ',',\n 'indulgent',\n 'father',\n ';',\n 'and',\n 'had',\n ',',\n 'in',\n 'consequence',\n 'of',\n 'her',\n 'sister',\n \"'\",\n 's',\n 'marriage',\n ',',\n 'been',\n 'mistress',\n 'of',\n 'his',\n 'house',\n 'from',\n 'a',\n 'very',\n 'early',\n 'period',\n '.']"
     },
     "metadata": {},
     "execution_count": 9
    }
   ],
   "source": [
    "gberg_sents = gutenberg.sents()\n",
    "gberg_sents[4]\n"
   ]
  },
  {
   "cell_type": "code",
   "execution_count": 10,
   "metadata": {},
   "outputs": [
    {
     "output_type": "execute_result",
     "data": {
      "text/plain": "['she',\n 'was',\n 'the',\n 'youngest',\n 'of',\n 'the',\n 'two',\n 'daughters',\n 'of',\n 'a',\n 'most',\n 'affectionate',\n ',',\n 'indulgent',\n 'father',\n ';',\n 'and',\n 'had',\n ',',\n 'in',\n 'consequence',\n 'of',\n 'her',\n 'sister',\n \"'\",\n 's',\n 'marriage',\n ',',\n 'been',\n 'mistress',\n 'of',\n 'his',\n 'house',\n 'from',\n 'a',\n 'very',\n 'early',\n 'period',\n '.']"
     },
     "metadata": {},
     "execution_count": 10
    }
   ],
   "source": [
    "[w.lower() for w in gberg_sents[4]]"
   ]
  },
  {
   "cell_type": "markdown",
   "metadata": {},
   "source": [
    "Stop words"
   ]
  },
  {
   "cell_type": "code",
   "execution_count": 11,
   "metadata": {},
   "outputs": [
    {
     "output_type": "stream",
     "name": "stderr",
     "text": "[nltk_data] Downloading package stopwords to\n[nltk_data]     C:\\Users\\mannl\\AppData\\Roaming\\nltk_data...\n[nltk_data]   Package stopwords is already up-to-date!\n"
    },
    {
     "output_type": "execute_result",
     "data": {
      "text/plain": "<WordListCorpusReader in 'C:\\\\Users\\\\mannl\\\\AppData\\\\Roaming\\\\nltk_data\\\\corpora\\\\stopwords'>"
     },
     "metadata": {},
     "execution_count": 11
    }
   ],
   "source": [
    "nltk.download('stopwords')\n",
    "stopwords  \n",
    " "
   ]
  },
  {
   "cell_type": "code",
   "execution_count": 12,
   "metadata": {},
   "outputs": [
    {
     "output_type": "execute_result",
     "data": {
      "text/plain": "['!',\n '\"',\n '#',\n '$',\n '%',\n '&',\n \"'\",\n '(',\n ')',\n '*',\n '+',\n ',',\n '-',\n '.',\n '/',\n ':',\n ';',\n '<',\n '=',\n '>',\n '?',\n '@',\n '[',\n '\\\\',\n ']',\n '^',\n '_',\n '`',\n '{',\n '|',\n '}',\n '~']"
     },
     "metadata": {},
     "execution_count": 12
    }
   ],
   "source": [
    "list(string.punctuation)"
   ]
  },
  {
   "cell_type": "code",
   "execution_count": 13,
   "metadata": {},
   "outputs": [
    {
     "output_type": "execute_result",
     "data": {
      "text/plain": "['i',\n 'me',\n 'my',\n 'myself',\n 'we',\n 'our',\n 'ours',\n 'ourselves',\n 'you',\n \"you're\",\n \"you've\",\n \"you'll\",\n \"you'd\",\n 'your',\n 'yours',\n 'yourself',\n 'yourselves',\n 'he',\n 'him',\n 'his',\n 'himself',\n 'she',\n \"she's\",\n 'her',\n 'hers',\n 'herself',\n 'it',\n \"it's\",\n 'its',\n 'itself',\n 'they',\n 'them',\n 'their',\n 'theirs',\n 'themselves',\n 'what',\n 'which',\n 'who',\n 'whom',\n 'this',\n 'that',\n \"that'll\",\n 'these',\n 'those',\n 'am',\n 'is',\n 'are',\n 'was',\n 'were',\n 'be',\n 'been',\n 'being',\n 'have',\n 'has',\n 'had',\n 'having',\n 'do',\n 'does',\n 'did',\n 'doing',\n 'a',\n 'an',\n 'the',\n 'and',\n 'but',\n 'if',\n 'or',\n 'because',\n 'as',\n 'until',\n 'while',\n 'of',\n 'at',\n 'by',\n 'for',\n 'with',\n 'about',\n 'against',\n 'between',\n 'into',\n 'through',\n 'during',\n 'before',\n 'after',\n 'above',\n 'below',\n 'to',\n 'from',\n 'up',\n 'down',\n 'in',\n 'out',\n 'on',\n 'off',\n 'over',\n 'under',\n 'again',\n 'further',\n 'then',\n 'once',\n 'here',\n 'there',\n 'when',\n 'where',\n 'why',\n 'how',\n 'all',\n 'any',\n 'both',\n 'each',\n 'few',\n 'more',\n 'most',\n 'other',\n 'some',\n 'such',\n 'no',\n 'nor',\n 'not',\n 'only',\n 'own',\n 'same',\n 'so',\n 'than',\n 'too',\n 'very',\n 's',\n 't',\n 'can',\n 'will',\n 'just',\n 'don',\n \"don't\",\n 'should',\n \"should've\",\n 'now',\n 'd',\n 'll',\n 'm',\n 'o',\n 're',\n 've',\n 'y',\n 'ain',\n 'aren',\n \"aren't\",\n 'couldn',\n \"couldn't\",\n 'didn',\n \"didn't\",\n 'doesn',\n \"doesn't\",\n 'hadn',\n \"hadn't\",\n 'hasn',\n \"hasn't\",\n 'haven',\n \"haven't\",\n 'isn',\n \"isn't\",\n 'ma',\n 'mightn',\n \"mightn't\",\n 'mustn',\n \"mustn't\",\n 'needn',\n \"needn't\",\n 'shan',\n \"shan't\",\n 'shouldn',\n \"shouldn't\",\n 'wasn',\n \"wasn't\",\n 'weren',\n \"weren't\",\n 'won',\n \"won't\",\n 'wouldn',\n \"wouldn't\"]"
     },
     "metadata": {},
     "execution_count": 13
    }
   ],
   "source": [
    "stopwords.words('english')"
   ]
  },
  {
   "cell_type": "code",
   "execution_count": 14,
   "metadata": {},
   "outputs": [
    {
     "output_type": "execute_result",
     "data": {
      "text/plain": "['i',\n 'me',\n 'my',\n 'myself',\n 'we',\n 'our',\n 'ours',\n 'ourselves',\n 'you',\n \"you're\",\n \"you've\",\n \"you'll\",\n \"you'd\",\n 'your',\n 'yours',\n 'yourself',\n 'yourselves',\n 'he',\n 'him',\n 'his',\n 'himself',\n 'she',\n \"she's\",\n 'her',\n 'hers',\n 'herself',\n 'it',\n \"it's\",\n 'its',\n 'itself',\n 'they',\n 'them',\n 'their',\n 'theirs',\n 'themselves',\n 'what',\n 'which',\n 'who',\n 'whom',\n 'this',\n 'that',\n \"that'll\",\n 'these',\n 'those',\n 'am',\n 'is',\n 'are',\n 'was',\n 'were',\n 'be',\n 'been',\n 'being',\n 'have',\n 'has',\n 'had',\n 'having',\n 'do',\n 'does',\n 'did',\n 'doing',\n 'a',\n 'an',\n 'the',\n 'and',\n 'but',\n 'if',\n 'or',\n 'because',\n 'as',\n 'until',\n 'while',\n 'of',\n 'at',\n 'by',\n 'for',\n 'with',\n 'about',\n 'against',\n 'between',\n 'into',\n 'through',\n 'during',\n 'before',\n 'after',\n 'above',\n 'below',\n 'to',\n 'from',\n 'up',\n 'down',\n 'in',\n 'out',\n 'on',\n 'off',\n 'over',\n 'under',\n 'again',\n 'further',\n 'then',\n 'once',\n 'here',\n 'there',\n 'when',\n 'where',\n 'why',\n 'how',\n 'all',\n 'any',\n 'both',\n 'each',\n 'few',\n 'more',\n 'most',\n 'other',\n 'some',\n 'such',\n 'no',\n 'nor',\n 'not',\n 'only',\n 'own',\n 'same',\n 'so',\n 'than',\n 'too',\n 'very',\n 's',\n 't',\n 'can',\n 'will',\n 'just',\n 'don',\n \"don't\",\n 'should',\n \"should've\",\n 'now',\n 'd',\n 'll',\n 'm',\n 'o',\n 're',\n 've',\n 'y',\n 'ain',\n 'aren',\n \"aren't\",\n 'couldn',\n \"couldn't\",\n 'didn',\n \"didn't\",\n 'doesn',\n \"doesn't\",\n 'hadn',\n \"hadn't\",\n 'hasn',\n \"hasn't\",\n 'haven',\n \"haven't\",\n 'isn',\n \"isn't\",\n 'ma',\n 'mightn',\n \"mightn't\",\n 'mustn',\n \"mustn't\",\n 'needn',\n \"needn't\",\n 'shan',\n \"shan't\",\n 'shouldn',\n \"shouldn't\",\n 'wasn',\n \"wasn't\",\n 'weren',\n \"weren't\",\n 'won',\n \"won't\",\n 'wouldn',\n \"wouldn't\",\n '!',\n '\"',\n '#',\n '$',\n '%',\n '&',\n \"'\",\n '(',\n ')',\n '*',\n '+',\n ',',\n '-',\n '.',\n '/',\n ':',\n ';',\n '<',\n '=',\n '>',\n '?',\n '@',\n '[',\n '\\\\',\n ']',\n '^',\n '_',\n '`',\n '{',\n '|',\n '}',\n '~']"
     },
     "metadata": {},
     "execution_count": 14
    }
   ],
   "source": [
    "stpwords = stopwords.words('english') + list(string.punctuation)\n",
    "stpwords"
   ]
  },
  {
   "cell_type": "code",
   "execution_count": 15,
   "metadata": {},
   "outputs": [
    {
     "output_type": "execute_result",
     "data": {
      "text/plain": "['youngest',\n 'two',\n 'daughters',\n 'affectionate',\n 'indulgent',\n 'father',\n 'consequence',\n 'sister',\n 'marriage',\n 'mistress',\n 'house',\n 'early',\n 'period']"
     },
     "metadata": {},
     "execution_count": 15
    }
   ],
   "source": [
    "[w.lower() for w in gberg_sents[4] if w.lower() not in stpwords]"
   ]
  },
  {
   "cell_type": "markdown",
   "metadata": {},
   "source": [
    "Stemming\n",
    "\n",
    "Using Porter algorithm\n",
    "\n",
    "Not usually necessary for a large corpus in which we may prefere to handle words differently (singular vs plural for example)"
   ]
  },
  {
   "cell_type": "code",
   "execution_count": 16,
   "metadata": {},
   "outputs": [
    {
     "output_type": "execute_result",
     "data": {
      "text/plain": "['she',\n 'youngest',\n 'two',\n 'daughter',\n 'affection',\n 'indulg',\n 'father',\n 'consequ',\n 'sister',\n 'marriag',\n 'mistress',\n 'hous',\n 'earli',\n 'period']"
     },
     "metadata": {},
     "execution_count": 16
    }
   ],
   "source": [
    "stemmer = nltk.stem.PorterStemmer()\n",
    "[stemmer.stem(w.lower()) for  w in gberg_sents[4] if w not in stpwords]"
   ]
  },
  {
   "cell_type": "markdown",
   "metadata": {},
   "source": [
    "N-grams\n",
    "Ex New York as one word 'New York'"
   ]
  },
  {
   "cell_type": "code",
   "execution_count": 17,
   "metadata": {},
   "outputs": [],
   "source": [
    "phrases = Phrases(gberg_sents)\n",
    "bigram = Phraser(phrases)"
   ]
  },
  {
   "cell_type": "code",
   "execution_count": 18,
   "metadata": {},
   "outputs": [
    {
     "output_type": "execute_result",
     "data": {
      "text/plain": "xtremely', b'sorry'): 73.46994297481388,\n (b'Every', b'thing'): 22.46842755413457,\n (b'many', b'weeks'): 20.757955155746508,\n (b'Am', b'I'): 15.552098209854075,\n (b'madam', b',\"'): 15.249039878189363,\n (b'extremely', b'well'): 29.947748184019368,\n (b'!--', b'Such'): 19.885431136492258,\n (b'poor', b'Harriet'): 12.145847347359634,\n (b'-', b'headed'): 37.268308851224106,\n (b'an', b'instant'): 43.261013866434524,\n (b'thirty', b'thousand'): 42.25608127995964,\n (b'so', b'easily'): 10.348707172705279,\n (b'worth', b'having'): 21.664774916798038,\n (b'poor', b'girl'): 16.40337746734157,\n (b'laugh', b'at'): 11.791126449054302,\n (b'knowing', b'what'): 15.75053166426834,\n (b'many', b'days'): 14.230254790394108,\n (b'whole', b'party'): 21.733756466486728,\n (b'six', b'weeks'): 18.23820337383508,\n (b'too', b'late'): 87.81454226528567,\n (b'-', b'minded'): 20.81474696477942,\n (b'her', b'companions'): 11.854581263120794,\n (b'drew', b'near'): 135.39134997206745,\n (b'three', b'months'): 82.38692831354994,\n (b'other', b'side'): 28.113809270630338,\n (b'an', b'unnatural'): 19.2271172739709,\n (b'get', b'rid'): 302.7023984336759,\n (b'watering', b'-'): 20.552376204719177,\n (b'while', b'ago'): 15.477085481465169,\n (b'at', b'Weymouth'): 43.7310743397876,\n (b'present', b'occasion'): 32.735843313703434,\n (b'No', b',\"'): 11.56716665027149,\n (b'their', b'hearts'): 18.284578085269942,\n (b'break', b'through'): 11.454968114101241,\n (b'burst', b'forth'): 49.66500488033903,\n (b'young', b'men'): 28.058139771512256,\n (b'-', b'bred'): 27.95123163841808,\n (b'nobody', b'else'): 96.32925917464537,\n (b'something', b'else'): 38.92533060859677,\n (b'walking', b'together'): 11.84464959491295,\n (b'burst', b'out'): 11.10216993785889,\n (b'-', b'sized'): 27.17480853735091,\n (b'how', b'long'): 10.246816619029866,\n (b'Miss', b'Fairfax'): 273.22756777255375,\n (b'extremely', b'happy'): 19.519016507275197,\n (b'don', b\"'\"): 30.892577640288216,\n (b'ma', b\"'\"): 29.826517196587346,\n (b's', b'handwriting'): 11.482861705288176,\n (b'Ma', b\"'\"): 17.287270917893842,\n (b'without', b'seeming'): 24.251803921568627,\n (b'Colonel', b'Campbell'): 896.7708845596117,\n (b'those', b'days'): 24.94261977039944,\n (b'Miss', b'Campbell'): 75.31616124710753,\n (b'most', b'charming'): 10.48020200479592,\n (b'caught', b'hold'): 25.41177679158448,\n (b'four', b'months'): 21.51366300812301,\n (b'may', b'guess'): 13.366929644439642,\n (b'Bless', b'me'): 16.96059544124817,\n (b'running', b'away'): 11.650452540443363,\n (b'My', b'father'): 11.188894979347538,\n (b'five', b'minutes'): 145.59218386745533,\n (b'nine', b'years'): 22.042968784808547,\n (b'hundred', b'pounds'): 62.90946390424197,\n (b'more', b'honourable'): 10.647964489624442,\n (b'rather', b'than'): 19.03811275415246,\n (b'few', b'months'): 59.138014296301606,\n (b'she', b'wished'): 11.819087018586881,\n (b'without', b'feeling'): 13.668488522623221,\n (b'twelve', b'thousand'): 59.18560102353321,\n (b'passed', b'between'): 19.790738607270864,\n (b\",'\", b'said'): 30.379793675936877,\n (b'Miss', b'Hawkins'): 356.6758207630878,\n (b'dear', b'Jane'): 28.087065128531204,\n (b'three', b'minutes'): 10.882367432840969,\n (b'have', b'suffered'): 12.705105290190035,\n (b'hour', b'ago'): 35.65865950134926,\n (b'looked', b'round'): 11.609345695809427,\n (b'help', b'thinking'): 32.395023572551075,\n (b'a', b'series'): 10.464298240216587,\n (b'laughed', b'at'): 12.563958901229746,\n (b'weeks', b'ago'): 66.07767923923495,\n (b'She', b'wished'): 10.481853991240559,\n (b'twenty', b'miles'): 32.07910571636062,\n (b'elder', b'sister'): 20.892601351351352,\n (b'alas', b'!'): 57.08794297143443,\n (b'no', b'fault'): 10.495943652410048,\n (b'driven', b'away'): 15.108423197384944,\n (b'setting', b'off'): 17.077163107511044,\n (b'little', b'farther'): 13.377838741396264,\n (b'spot', b'where'): 40.488884971796935,\n (b'front', b'door'): 45.13461833203179,\n (b'they', b'parted'): 10.443101887710071,\n (b'without', b'delay'): 17.832208765859285,\n (b'six', b'months'): 149.7251460218503,\n (b'months', b'ago'): 33.90373070913626,\n (b'leaned', b'back'): 12.550400811770675,\n (b'at', b'Oxford'): 14.908320797654866,\n (b'turned', b'round'): 11.258866238141938,\n (b'pass', b'through'): 22.187894661308842,\n (b'clock', b'struck'): 287.94205291005295,\n (b'four', b'hours'): 47.339972748289114,\n (b'faster', b'than'): 39.88937910393849,\n (b'musical', b'society'): 113.40931597285898,\n (b'worth', b'while'): 39.414977692797954,\n (b'mixed', b'with'): 10.669850873308452,\n (b'extremely', b'glad'): 72.78966572504707,\n (b'knew', b'nothing'): 12.448864562804845,\n (b'make', b'amends'): 67.17951224811253,\n (b'amends', b'for'): 15.103436605959109,\n (b'oftener', b'than'): 50.68297580265126,\n (b'old', b'woman'): 19.444449684793035,\n (b'post', b'-'): 12.22866384180791,\n (b'just', b'going'): 13.260137742937028,\n (b'At', b'least'): 28.035284695357834,\n (b'their', b'lives'): 14.905906047774408,\n (b'six', b'days'): 14.20782138820221,\n (b'may', b'prove'): 10.693543715551712,\n (b'stronger', b'than'): 58.08610709966773,\n (b'particular', b'friend'): 19.81788291694974,\n (b'Hum', b'!'): 26.95819529206626,\n (b'good', b'tidings'): 31.69042304845414,\n (b'among', b'themselves'): 14.912692334403358,\n (b'next', b'summer'): 20.513743918620076,\n (b'breaking', b'up'): 10.278262005104766,\n (b'perfectly', b'safe'): 16.44561748750133,\n (b'two', b'ladies'): 10.206988182478378,\n (b'same', b'moment'): 15.560860129375872,\n (b'well', b'worth'): 11.682096812278632,\n (b',\"', b'added'): 22.00020571516956,\n (b'little', b'girls'): 24.596639156806205,\n (b'be', b'ashamed'): 15.57521865836133,\n (b'been', b'staying'): 13.958581617912605,\n (b'shut', b'up'): 33.02080970890481,\n (b'too', b'large'): 13.758850077869242,\n (b'At', b'first'): 13.622350914881029,\n (b'worse', b'than'): 50.56400168104879,\n (b'opposite', b'side'): 21.484700834657843,\n (b'short', b'pause'): 86.61965123608095,\n (b'large', b'party'): 14.159718830137988,\n (b'six', b'years'): 24.75055888120844,\n (b'who', b'knows'): 17.154535367545076,\n (b'extremely', b'fond'): 34.25396034119863,\n (b'or', b'twice'): 10.479935604134893,\n (b'somebody', b'else'): 146.97092685503037,\n (b'five', b'couple'): 31.78235173193545,\n (b'\"', b'Don'): 12.435245486561662,\n (b'bad', b'news'): 32.31039707419018,\n (b'baked', b'apples'): 613.5128968253968,\n (b'will', b'send'): 16.24789061081296,\n (b'William', b'Larkins'): 5074.223589743589,\n (b'low', b'voice'): 55.283668345011634,\n (b'one', b'leg'): 10.745803649000868,\n (b'an', b'immediate'): 14.761464229693788,\n (b'Tell', b'me'): 25.092668376242766,\n (b',\"', b'resumed'): 28.97963722613529,\n (b'many', b'times'): 11.52315244811375,\n (b'Nothing', b'can'): 15.5144376709064,\n (b'few', b'words'): 11.709704106675987,\n (b'no', b'objection'): 30.84522216218463,\n (b'It', b'seems'): 18.227904675031336,\n (b'astonished', b'at'): 13.982976748145253,\n (b'four', b'times'): 17.90461714401523,\n (b'other', b'end'): 10.241020603889318,\n (b'few', b'hours'): 78.07853039580834,\n (b'an', b'extraordinary'): 10.355991878257592,\n (b'look', b'forward'): 11.731590179742955,\n (b'Alas', b'!'): 24.207359037773784,\n (b'immediately', b'followed'): 12.604630780832807,\n (b'wait', b'till'): 29.399153804709538,\n (b'-', b'bye'): 39.93033091202583,\n (b'contrast', b'between'): 166.24220430107528,\n (b'dared', b'not'): 11.783382014386875,\n (b'three', b'weeks'): 21.40939225562999,\n (b'-', b'sighted'): 32.25142112125163,\n (b'Maple', b'Grove'): 16731.47346514048,\n (b'My', b'brother'): 11.063251359603091,\n (b'at', b'Maple'): 11.541925778829572,\n (b'almost', b'fancy'): 16.725382014874913,\n (b'left', b'behind'): 29.19139358595579,\n (b'barouche', b'-'): 13.97561581920904,\n (b'-', b'landau'): 19.965165456012915,\n (b'whose', b'name'): 31.460744776298874,\n (b'most', b'serious'): 10.186756348661634,\n (b'We', b'cannot'): 11.86846921192564,\n (b'waited', b'for'): 10.711792586527258,\n (b'E', b'.,'): 566.3195970695971,\n (b'person', b'who'): 10.409305441471528,\n (b'greater', b'part'): 16.18360863375623,\n (b'drew', b'back'): 15.195552552368083,\n (b'Her', b'manners'): 10.694144704987204,\n (b'third', b'time'): 13.583626301884719,\n (b'very', b'extraordinary'): 11.12691105559154,\n (b'better', b'acquainted'): 13.44978251413658,\n (b'According', b'to'): 10.652559050879573,\n (b'have', b'committed'): 16.773483913206135,\n (b'hardly', b'less'): 12.999957957579198,\n (b'will', b'shew'): 12.349694416837725,\n (b'little', b'boys'): 17.749466634776372,\n (b'easily', b'believe'): 21.82456945228684,\n (b'my', b'lord'): 36.09212316660775,\n (b'\"', b'Excuse'): 17.184566649067715,\n (b'Excuse', b'me'): 37.6902120916626,\n (b'put', b'forth'): 10.696077873443938,\n (b'drawing', b'near'): 18.702625052924454,\n (b'great', b'joy'): 10.008039650578848,\n (b'eight', b'o'): 65.15181205225453,\n (b'spread', b'abroad'): 194.30906996229578,\n (b'few', b'lines'): 43.57778059642595,\n (b'good', b'news'): 24.794821736984947,\n (b'most', b'likely'): 19.419197832415968,\n (b'talk', b'about'): 21.82456945228684,\n (b'tells', b'us'): 30.445234478296342,\n (b'dear', b'madam'): 68.52158400921863,\n (b'eleven', b'years'): 16.99145510495659,\n (b'your', b'sister'): 15.96501961999174,\n (b'two', b'hours'): 15.078657986492088,\n (b'two', b'months'): 19.986458535324154,\n (b'door', b'opened'): 32.959977767541375,\n (b'Who', b'can'): 10.979605329969967,\n (b'began', b'talking'): 13.574813692886854,\n (b'mean', b'?\"'): 26.417439208554274,\n (b'In', b'spite'): 11.906105907607598,\n (b'many', b'hours'): 13.124384550084889,\n (b'few', b'steps'): 22.23496206809765,\n (b'most', b'excellent'): 12.940493329092522,\n (b'later', b'than'): 11.966813731181546,\n (b'whole', b'story'): 36.394832862523536,\n (b'whole', b'history'): 19.243869803335823,\n (b'lined', b'with'): 13.540103155017157,\n (b'-', b'plaister'): 17.4695197740113,\n (b'Lord', b'bless'): 16.701184413580247,\n (b'these', b'things'): 42.22024236217784,\n (b'laid', b'down'): 12.408517237129121,\n (b'forty', b'years'): 161.26435572340617,\n (b'faint', b'smile'): 24.270839874411305,\n (b'turned', b'towards'): 11.117214558790042,\n (b'totally', b'different'): 158.3259088581669,\n (b'Box', b'Hill'): 8589.180555555555,\n (b'some', b'surprise'): 22.397283733443707,\n (b'may', b'depend'): 21.164305270362764,\n (b',\"', b'interrupted'): 30.235165275720284,\n (b'whatever', b'else'): 18.739462440532105,\n (b'mid', b'-'): 25.824507492016703,\n (b'larger', b'than'): 19.006115925994223,\n (b'were', b'assembled'): 18.151482242442032,\n (b'insisted', b'on'): 11.611141360470139,\n (b'clothed', b'with'): 12.658921838579532,\n (b'twenty', b'minutes'): 11.181099087860133,\n (b'quite', b'alone'): 11.34125512474631,\n (b'etc', b'.,'): 3964.237179487179,\n (b'As', b'soon'): 20.834318136064653,\n (b'without', b'knowing'): 34.569457344341245,\n (b',\"', b'whispered'): 26.71560306784347,\n (b'shan', b\"'\"): 22.473452193261995,\n (b'looking', b'round'): 17.251680754316958,\n (b'Pardon', b'me'): 10.147364793909164,\n (b',\"', b'answered'): 22.574837953998617,\n (b'An', b'old'): 19.494650501535183,\n (b'Shall', b'we'): 13.344431737263449,\n (b'old', b'age'): 48.2305151350481,\n (b'an', b'infant'): 23.77170862963675,\n (b'be', b'forgiven'): 18.33315259385065,\n (b'lie', b'down'): 31.29163861453632,\n (b'four', b'miles'): 16.305990613299585,\n (b'great', b'hurry'): 19.653682918020948,\n (b'without', b'waiting'): 19.24746342981637,\n (b'comes', b'back'): 15.420287686817213,\n (b'heightened', b'by'): 11.874899189677024,\n (b'In', b'fact'): 39.68262953497974,\n (b'cut', b'off'): 155.49937138546645,\n (b'never', b'mind'): 11.197235791371655,\n (b'trembling', b'voice'): 11.950048791799114,\n (b'More', b'than'): 24.232797805642633,\n (b'time', b'past'): 13.32652296494053,\n (b'second', b'time'): 20.945309358703252,\n (b'five', b'hundred'): 85.88703405366368,\n (b'turning', b'away'): 10.732190271245857,\n (b'an', b'arrow'): 14.85731789352297,\n (b'--', b'oh'): 12.810820328683882,\n (b'presented', b'themselves'): 11.894541467918142,\n (b'at', b'random'): 18.66781039010696,\n (b'far', b'distant'): 26.635412180205016,\n (b'few', b'seconds'): 96.54154470592826,\n (b'passing', b'through'): 15.455115709501674,\n (b'will', b'heal'): 10.57744672117128,\n (b'rose', b'early'): 50.250699385933345,\n (b'east', b'wind'): 148.3861256175018,\n (b'gone', b'mad'): 20.604417938295462,\n (b'freed', b'from'): 25.542343339556247,\n (b'sinned', b'against'): 81.41629018847007,\n (b'locked', b'up'): 13.13762812682564,\n (b'deep', b'sigh'): 47.7618937287612,\n (b'ten', b'thousand'): 127.07678714010615,\n (b'happier', b'than'): 23.413331213181287,\n (b'contend', b'with'): 10.669850873308452,\n (b'had', b'formerly'): 11.685871610947764,\n (b'little', b'boy'): 26.45163569321534,\n (b'fancying', b'herself'): 29.039303155522166,\n (b'right', b'hand'): 45.67275064863757,\n (b'surrounded', b'by'): 30.406938834172983,\n (b'infinitely', b'more'): 12.604887693122986,\n (b'such', b'cases'): 14.9147687533664,\n (b'No', b'wonder'): 19.253530718908465,\n (b'poor', b'fellow'): 72.63216713721062,\n (b'Poor', b'fellow'): 45.430376492194675,\n (b'days', b'ago'): 15.442637278485753,\n (b'help', b'laughing'): 20.696820615796522,\n (b'draw', b'near'): 83.0335357666646,\n (b'at', b'intervals'): 31.38593852137866,\n (b'into', b'temptation'): 11.801251836726903,\n (b'stood', b'before'): 10.3924315864046,\n (b'Sir', b'Walter'): 1001.3120125576278,\n (b'Walter', b'Elliot'): 158.52514448173008,\n (b'Kellynch', b'Hall'): 4945.285774410774,\n (b'arising', b'from'): 10.216937335822498,\n (b'Charles', b'Musgrove'): 248.91721824686942,\n (b'first', b'year'): 36.52536994480359,\n (b'Lady', b'Elliot'): 34.95596737726098,\n (b'seventeen', b'years'): 50.974365314869765,\n (b'an', b'awful'): 15.611271338865924,\n (b'Lady', b'Russell'): 1370.6224754175123,\n (b'Anne', b'Elliot'): 69.51674910071942,\n (b'Miss', b'Elliot'): 81.92874088041015,\n (b'everybody', b'else'): 116.64359274208759,\n (b'her', b'mistress'): 10.11840289117327,\n (b'Mr', b'Elliot'): 154.42250147754135,\n (b'Mr', b'Shepherd'): 153.50875886524824,\n (b'anybody', b'else'): 167.79555359595722,\n (b'reference', b'to'): 10.087650616363232,\n (b'an', b'honest'): 22.111184865066537,\n (b'descend', b'into'): 19.585056239674437,\n (b'Mrs', b'Clay'): 287.0445438704621,\n (b'Miss', b'Anne'): 13.816993610080877,\n (b'their', b'fathers'): 21.03847250792006,\n (b'an', b'example'): 17.82878147222756,\n (b'Admiral', b'Croft'): 1020.8710564930301,\n (b'Mrs', b'Croft'): 207.37305091376518,\n (b'walked', b'along'): 11.422274896105895,\n (b'Frederick', b'Wentworth'): 23.252406376898783,\n (b'either', b'side'): 19.363312306866,\n (b'Captain', b'Wentworth'): 976.2658980080998,\n (b'eldest', b'son'): 39.758333601208655,\n (b'removed', b'from'): 14.303712270151498,\n (b'good', b'humour'): 57.21881939304219,\n (b'The', b'Crofts'): 10.249618801378945,\n (b'startled', b'by'): 14.177175563185834,\n (b'most', b'important'): 33.80560735175321,\n (b'replied', b'Anne'): 13.874444726962713,\n (b'at', b'Uppercross'): 13.940248018586365,\n (b'Great', b'House'): 1177.944761904762,\n (b'left', b'alone'): 14.13574836462775,\n (b'Mr', b'Musgrove'): 32.388661211129296,\n (b'Miss', b'Musgroves'): 227.52303763499037,\n (b'Mrs', b'Musgrove'): 156.77048165232932,\n (b'flower', b'-'): 13.52478950246036,\n (b'grown', b'up'): 12.21891287320147,\n (b'their', b'faces'): 22.656977192617102,\n (b'surprised', b'at'): 14.056416752074586,\n (b'ere', b'long'): 33.88236905544598,\n (b'anything', b'else'): 74.81068120893052,\n (b'quite', b'different'): 19.349238133975785,\n (b'their', b'sakes'): 16.878072078710716,\n (b'twentieth', b'year'): 185.54485448544855,\n (b'on', b'board'): 34.25698443940126,\n (b'eight', b'years'): 61.89744359662757,\n (b'-', b'bone'): 13.499174370826912,\n (b'their', b'heads'): 21.62117992564767,\n (b'Your', b'sister'): 24.014484311898105,\n (b'dressing', b'-'): 29.645245677110086,\n (b'up', b'stairs'): 14.51249618660972,\n (b'waited', b'till'): 12.054520291606565,\n (b'third', b'part'): 80.67867146551659,\n (b'Phoo', b'!'): 23.96284025961445,\n (b'dear', b'fellow'): 20.63122602168474,\n (b'good', b'cheer'): 58.85364280427197,\n (b'Mrs', b'Harville'): 84.63892670628489,\n (b'\"', b'Ay'): 18.457497511961623,\n (b'fifteen', b'years'): 52.05892627901593,\n (b'Charles', b'Hayter'): 2649.294369645043,\n (b'came', b'near'): 11.627278418555207,\n (b'Her', b'husband'): 21.943829394649068,\n (b'two', b'hundred'): 34.52901130958137,\n (b'Dr', b'Shirley'): 1086.3785682916116,\n (b'went', b'up'): 10.892879248012838,\n (b'within', b'reach'): 18.479083248670293,\n (b'-', b'yard'): 16.037591923682502,\n (b'turn', b'back'): 10.596023199431151,\n (b'walking', b'along'): 19.12445108751675,\n (b'leaning', b'against'): 23.700128657852233,\n (b'trodden', b'under'): 72.24544392523364,\n (b'under', b'foot'): 22.22936736161035,\n (b'Louisa', b'Musgrove'): 189.52528348145879,\n (b'provoke', b'me'): 16.48946779010239,\n (b'Very', b'good'): 10.325200491977538,\n (b'good', b'humoured'): 26.15717457967643,\n (b'Captain', b'Harville'): 475.42275075075077,\n (b'at', b'Lyme'): 20.293117264867515,\n (b'earnest', b'desire'): 32.79008483563097,\n (b'Captain', b'Benwick'): 811.8267953667954,\n (b'an', b'officer'): 10.895366455250176,\n (b'place', b'where'): 29.88335727268697,\n (b'-', b'coat'): 13.073963185711682,\n (b'an', b'introduction'): 10.895366455250176,\n (b'preceding', b'evening'): 48.9411997467553,\n (b'an', b'agony'): 15.202836914302573,\n (b'catching', b'hold'): 135.5294762217839,\n (b'raised', b'up'): 20.917452604163728,\n (b'could', b'scarcely'): 17.384072637319388,\n (b'passed', b'along'): 16.544168004280362,\n (b'leaning', b'over'): 33.66056062742769,\n (b't', b'talk'): 11.57051713815297,\n (b'Camden', b'Place'): 11505.506976744186,\n (b'straight', b'forward'): 11.997691337666117,\n (b'same', b'hour'): 12.921683411398027,\n (b'-', b'glasses'): 16.35444404375526,\n (b'poring', b'over'): 41.31068804275217,\n (b'thirty', b'feet'): 12.120752621435336,\n (b'Colonel', b'Wallis'): 967.3744677153037,\n (b'Mrs', b'Wallis'): 54.17854483332603,\n (b'-', b'haired'): 60.68359500446031,\n (b'at', b'length'): 17.88998495718584,\n (b'carried', b'away'): 68.93771731236751,\n (b'greater', b'than'): 48.182171075546755,\n (b'Miss', b'Carteret'): 320.09368530020697,\n (b'contact', b'with'): 11.025512569085398,\n (b'Lady', b'Dalrymple'): 1027.2774086378738,\n (b'Laura', b'Place'): 777.3991200502828,\n (b'be', b'established'): 13.256107901092253,\n (b'Mrs', b'Smith'): 111.99977591965032,\n (b'Westgate', b'Buildings'): 8589.180555555555,\n (b'buried', b'him'): 10.212015743068294,\n (b'at', b'liberty'): 14.03136075073399,\n (b'human', b'nature'): 43.51094068810244,\n (b'five', b'thousand'): 37.910597744077265,\n (b'whose', b'names'): 20.29106718070708,\n (b'her', b'ladyship'): 34.12236790377201,\n (b'-', b'maker'): 26.620220608017217,\n (b'old', b'gentleman'): 27.054312400201237,\n (b'almost', b'entirely'): 36.10558657179347,\n (b'lower', b'part'): 15.927465187754331,\n (b'staring', b'at'): 25.04597894006017,\n (b'an', b'oath'): 44.98731955716202,\n (b'wiser', b'than'): 29.373088249263795,\n (b'prejudice', b'against'): 39.177763699714916,\n (b'both', b'sides'): 99.67073029216844,\n (b'my', b'soul'): 16.443509373671976,\n (b'rejoice', b'over'): 10.116903194143386,\n (b'same', b'instant'): 25.162444780283654,\n (b'every', b'one'): 14.671392435905247,\n (b'their', b'seats'): 12.658554059033037,\n (b'their', b'mouths'): 26.497142818484406,\n (b'short', b'silence'): 19.427041120849434,\n (b'-', b'blooded'): 17.4695197740113,\n (b'general', b'character'): 10.833526031812768,\n (b'fifty', b'pounds'): 35.380799816923165,\n (b'be', b'saved'): 13.4097233300756,\n (b'threw', b'himself'): 10.02991247371238,\n (b'some', b'moments'): 21.006148097826088,\n (b'exclaimed', b'Mrs'): 12.149128235351897,\n (b'compassion', b'on'): 13.01248600742343,\n (b'an', b'explanation'): 16.343049682875264,\n (b'our', b'hearts'): 14.94420279348509,\n (b'minutes', b'afterwards'): 22.216989096657148,\n (b'make', b'haste'): 50.3846341860844,\n (b\"'\", b'n'): 22.533063472289214,\n (b'n', b\"'\"): 16.09504533734944,\n (b'rising', b'sun'): 13.06573846170098,\n (b'-', b'faced'): 42.60858481466171,\n (b'an', b'atonement'): 89.61132859823739,\n (b'atonement', b'for'): 24.315805643301744,\n (b'\"', b'Look'): 10.09252327008739,\n (b'Look', b'here'): 26.311681865240885,\n ...}"
     },
     "metadata": {},
     "execution_count": 18
    }
   ],
   "source": [
    "bigram.phrasegrams"
   ]
  },
  {
   "cell_type": "code",
   "execution_count": 19,
   "metadata": {},
   "outputs": [
    {
     "output_type": "execute_result",
     "data": {
      "text/plain": "['Adam', 'lives', 'in', 'New', 'York', 'City']"
     },
     "metadata": {},
     "execution_count": 19
    }
   ],
   "source": [
    "tokenized_sentence = \"Adam lives in New York City\".split()\n",
    "tokenized_sentence"
   ]
  },
  {
   "cell_type": "code",
   "execution_count": 20,
   "metadata": {},
   "outputs": [
    {
     "output_type": "execute_result",
     "data": {
      "text/plain": "['Adam', 'lives', 'in', 'New_York', 'City']"
     },
     "metadata": {},
     "execution_count": 20
    }
   ],
   "source": [
    "bigram[tokenized_sentence]"
   ]
  },
  {
   "cell_type": "code",
   "execution_count": 21,
   "metadata": {},
   "outputs": [
    {
     "output_type": "execute_result",
     "data": {
      "text/plain": "['Adam',\n 'watches',\n 'a',\n 'rising_sun',\n 'when',\n 'the',\n 'sun',\n 'is',\n 'at',\n 'its',\n 'most',\n 'high',\n 'position.']"
     },
     "metadata": {},
     "execution_count": 21
    }
   ],
   "source": [
    "tokenized_sentence = \"Adam watches a rising sun when the sun is at its most high position.\".split()\n",
    "bigram[tokenized_sentence]"
   ]
  },
  {
   "cell_type": "code",
   "execution_count": 22,
   "metadata": {},
   "outputs": [],
   "source": [
    "# trigrams\n",
    "phrases3 = Phrases(bigram[gberg_sents])\n",
    "trigram = Phraser(phrases3)"
   ]
  },
  {
   "cell_type": "code",
   "execution_count": 23,
   "metadata": {},
   "outputs": [
    {
     "output_type": "execute_result",
     "data": {
      "text/plain": "at_you'): 16.02635075556808,\n (b'ever', b'seen'): 10.5721423691383,\n (b',_I', b'suppose'): 101.73837388608436,\n (b'I', b'suppose_,'): 104.65968915064887,\n (b'does', b'not'): 26.66534718734304,\n (b'He_does', b'not'): 15.188029465930018,\n (b'\"', b'Oh'): 75.1319406562986,\n (b'\"', b'Oh_yes'): 52.6382639221318,\n (b'\"_Oh', b'yes'): 24.940826612903226,\n (b'any', b'thing_of'): 169.30151398511677,\n (b'very', b'entertaining'): 34.88067671160455,\n (b'soon', b'as'): 16.06394445903384,\n (b'as', b'soon_as'): 45.51649265826329,\n (b'as_soon', b'as'): 1302.9096023427867,\n (b'\"', b'What'): 11.401210306502007,\n (b'\"', b'Oh_!'): 63.414601418001304,\n (b'\"_Oh', b'!'): 38.537615065572865,\n (b'have', b'seen'): 23.94594709940406,\n (b'have', b'seen_him'): 17.201055890500243,\n (b'on', b'horseback'): 1327.167211465929,\n (b'their', b'families'): 82.31152142723474,\n (b'It', b'is_not'): 47.168547686276476,\n (b'no', b'doubt'): 85.72133091113263,\n (b'have', b'no_doubt'): 17.458336640999182,\n (b'have_no', b'doubt'): 265.35070785070786,\n (b'no', b'doubt_of'): 158.58446218559533,\n (b'very', b'respectable'): 20.611308965948144,\n (b'a_very', b'respectable'): 85.52125820947114,\n (b'young', b'man_.'): 58.364597385938914,\n (b'very', b'odd'): 44.53514972999509,\n (b'perfectly', b'right'): 29.77445974521636,\n (b'young', b'woman'): 88.93904680158022,\n (b'very', b'desirable'): 25.91135984290624,\n (b'Dear', b'Miss'): 531.2141706924316,\n (b'Dear', b'Miss_Woodhouse'): 233.46355272469918,\n (b'Dear_Miss', b'Woodhouse'): 604.1831501831501,\n (b'thirty', b'years'): 313.629794973545,\n (b'\"', b'Well_,'): 56.55813463973737,\n (b'can', b'afford'): 47.87345354279287,\n (b',_I', b'dare'): 116.01744390518394,\n (b'good', b'luck'): 87.35033512618949,\n (b'any', b'thing_;'): 16.930151398511676,\n (b'acquainted', b'with'): 164.99511486574443,\n (b'it_does', b'not'): 36.451270718232045,\n (b'be_no', b'doubt'): 153.72041006523764,\n (b'your', b'own'): 35.29079341942946,\n (b'\"', b'Yes'): 113.88404269945497,\n (b'\"', b'Yes_,'): 74.84503151428116,\n (b',_Miss', b'Woodhouse'): 12405.894017094017,\n (b',_I', b'am'): 135.25936143092176,\n (b'I', b'am_not'): 344.8117091002556,\n (b'Miss', b'Woodhouse_.'): 956.1855072463768,\n (b'be_acquainted', b'with'): 162.73490781278903,\n (b'acquainted', b'with_the'): 114.74796263168356,\n (b'set', b'up'): 14.58541204243726,\n (b\"'\", b's_--'): 3314.0293009627458,\n (b'of_his', b'wife'): 13.657948787183296,\n (b'his', b'wife_.'): 12.679834170716306,\n (b'The_young', b'man'): 64.91223927587563,\n (b'Harriet', b\"'_s\"): 12.466456551903814,\n (b'next', b'day'): 65.85223529807301,\n (b'next', b'day_,'): 106.0863304874633,\n (b'an', b'opportunity'): 110.37237528266188,\n (b'an', b'opportunity_of'): 157.31235097758702,\n (b'a', b'few_yards'): 165.2311545204107,\n (b'a_few', b'yards'): 204.1361386138614,\n (b'Robert', b'Martin'): 4848.492933860938,\n (b'looked', b'like'): 12.978331755791968,\n (b'did', b'not_know_what'): 117.22956645344706,\n (b'did_not', b'know_what'): 33.249780216703535,\n (b'did_not_know', b'what'): 24.60127772760041,\n (b'a', b'few_minutes'): 116.41285886665301,\n (b'a_few', b'minutes'): 761.2896597930469,\n (b'as_Miss', b'Woodhouse'): 2114.6410256410254,\n (b'Only', b'think'): 13.69097323096078,\n (b'He_did', b'not'): 91.12817679558012,\n (b'did', b'not_think'): 84.89037570766854,\n (b'been', b'able'): 421.8979293544458,\n (b'not', b'been_able'): 14.019719507012327,\n (b'not_been', b'able'): 916.3444444444443,\n (b'been', b'able_to'): 83.70990661794559,\n (b'been_able', b'to'): 11.220238905063809,\n (b'-', b'morrow'): 102.8477007014809,\n (b'to', b'-_morrow'): 13.497779936539445,\n (b'to_-', b'morrow'): 3269.0494685527046,\n (b'-', b'morrow_.'): 174.84109119251755,\n (b'should', b'happen'): 26.23592802465454,\n (b'should', b'happen_to'): 11.47821851078636,\n (b'Do', b'you'): 35.44735580499579,\n (b'Do', b'you_think'): 525.7115537848606,\n (b'Do_you', b'think'): 62.52455154674067,\n (b'compared', b'with'): 35.377153872345446,\n (b'I_did', b'not'): 34.56586016384073,\n (b'no', b'idea'): 15.206125473604889,\n (b'sure_,\"', b'said'): 324.6756612671724,\n (b'wondering', b'at'): 11.898574073628778,\n (b'Do', b'not'): 18.516083731372852,\n (b'\"', b'Certainly'): 127.83578381089153,\n (b'\"', b'Certainly_,'): 39.47869794159885,\n (b\"Knightley_'\", b's'): 372912.3478260869,\n (b'You', b'must'): 27.882246494788077,\n (b'an', b'old'): 27.247686452344322,\n (b'an', b'old_man'): 21.698255307253383,\n (b'an_old', b'man'): 14.461460901967232,\n (b'good', b'manners'): 10.775123576421402,\n (b'more', b'valuable'): 37.145752634897754,\n (b'more', b'important'): 15.308552601048774,\n (b',\"', b'replied'): 708.6905058905058,\n (b'very', b'bad'): 26.128090547911956,\n (b'How', b'much'): 10.017734588521105,\n (b'great', b'deal_too'): 1603.974068071313,\n (b'great_deal', b'too'): 18.060084583764844,\n (b'of_any', b'thing'): 57.80542510689002,\n (b'any', b'thing_else'): 1142.7852193995382,\n (b'any_thing', b'else'): 52.200965266239415,\n (b'no', b'doubt_that'): 59.46917331959825,\n (b'rich', b'man'): 11.127812447292968,\n (b'no', b'more'): 35.64767772822122,\n (b'said_no', b'more'): 3031.0934150076573,\n (b'Elton', b\"'_s\"): 10.911816087784045,\n (b\"'\", b's_.'): 32864.1239012139,\n (b'is_so', b'much'): 22.711775721524564,\n (b'very', b'well_;'): 28.943540250054834,\n (b'any', b'thing_,'): 60.80547333268277,\n (b'Did', b'not'): 12.461972895122067,\n (b'I_tell', b'you'): 97.77237700059275,\n (b'tell', b'you_what'): 2691.0368495077355,\n (b'tell_you', b'what'): 18.135751272745196,\n (b'very', b'agreeable'): 42.1812834651962,\n (b'fixed', b'on'): 14.188465254158782,\n (b'every_body', b'else'): 53.7445421961551,\n (b'same', b'time'): 26.64096205488973,\n (b'the_same', b'time'): 30.56477119463262,\n (b'same', b'time_,'): 42.896301818749244,\n (b'respectable', b'young'): 34.15655415199834,\n (b'pleasing', b'young'): 72.72040561393196,\n (b'she', b'could_not'): 12.66941790961399,\n (b'she_could', b'not'): 25.85581206699991,\n (b'not_know', b'what'): 31.597121299855893,\n (b'your', b'opinion'): 12.719016917662396,\n (b'bad', b'thing'): 11.346194965218563,\n (b'Do', b'you_really'): 197.1418326693227,\n (b'Do_you', b'really'): 16.134928916134083,\n (b'very', b'differently'): 204.05195876288658,\n (b'\"', b'Perhaps'): 20.700440868254077,\n (b'think_I', b'am'): 69.84332655826559,\n (b'I', b'am_come'): 153.09263040653425,\n (b'to_quarrel', b'with'): 20.34186347659863,\n (b'ever', b'since'): 85.05313588441832,\n (b'twelve', b'years'): 194.72319444444446,\n (b'twelve', b'years_old'): 499.8242424242424,\n (b'twelve_years', b'old'): 113.16775300171525,\n (b'I_have', b'seen'): 31.20060531542609,\n (b'have', b'seen_a'): 31.425005953798525,\n (b'very', b'neatly'): 64.77839960726558,\n (b'and_I', b'dare'): 48.04802330420308,\n (b'I_have', b'done'): 24.19743593892421,\n (b'have', b'done_with'): 35.5239197738592,\n (b'.--', b'You'): 10.12102974225763,\n (b'half', b'so_much'): 10.39558063977361,\n (b'half_so', b'much'): 237.6001152405647,\n (b'so', b'much_as'): 63.52545843476642,\n (b'\"_I', b'dare'): 55.3806379406827,\n (b',\"', b'replied_Mrs'): 1188.771171171171,\n (b'do_any', b'thing'): 299.22808290625426,\n (b'any', b'thing_I'): 20.048863498237512,\n (b',\"--', b'said'): 11.595559330970444,\n (b',\"', b'he'): 12.477866604328447,\n (b'ten', b'years'): 303.2022058823529,\n (b'ten', b'years_old'): 98.00475341651813,\n (b'ten_years', b'old'): 15.560566037735848,\n (b'being', b'able'): 161.3913894324853,\n (b'of_being', b'able'): 75.66146788990827,\n (b'being', b'able_to'): 33.62320613176777,\n (b'being_able', b'to'): 10.939732932437213,\n (b'her', b'mother'): 17.466620507076673,\n (b'her', b\"mother_'_s\"): 18.155421023665383,\n (b'her_mother', b\"'_s\"): 12.757943968204788,\n (b'should', b'have_been'): 12.851879549602577,\n (b'should_have', b'been'): 241.60976968944297,\n (b'have', b'spoken'): 20.970953973168214,\n (b'to_any', b'body'): 94.05294884327142,\n (b'\"', b'Yes_,\"_said'): 2947.742779639381,\n (b'\"_Yes', b',\"_said'): 42.55038281170824,\n (b'\"_Yes_,\"', b'said'): 420.87585719818645,\n (b',\"', b'said_he'): 838.4379452299983,\n (b'\"', b'You_are'): 41.93942979161721,\n (b'\"_You', b'are'): 21.197775483568076,\n (b'very', b'material'): 12.595799923634974,\n (b'\"', b'Thank'): 250.03175363012605,\n (b'\"', b'Thank_you'): 143.55890160581401,\n (b'\"_Thank', b'you'): 34.106643139741664,\n (b'\"', b'Why'): 20.187045545394877,\n (b'\"', b'Why_,'): 45.3146793764439,\n (b'so', b'much_the'): 92.32366625852721,\n (b'How', b'can'): 22.254686511784797,\n (b'any', b'thing_to'): 73.1074719481186,\n (b'Very', b'well'): 84.37470426497859,\n (b'know', b'what_I'): 16.12651544779038,\n (b'But_I', b'am'): 112.0829025603689,\n (b'I', b'am_a'): 175.54621619949262,\n (b'oh', b'!'): 32.674627474400246,\n (b'look', b'at'): 17.620441881207146,\n (b'to_look', b'at'): 37.64734019063497,\n (b'look', b'at_her'): 24.807038652428936,\n (b'any', b'harm'): 23.086570088879558,\n (b'is_an', b'excellent'): 72.50197802197803,\n (b'\"', b'Very'): 87.73043987021967,\n (b'\"', b'Very_well'): 89.08013894514613,\n (b'\"_Very', b'well'): 129.2741004631279,\n (b'an', b'angel'): 64.10705632323634,\n (b'an', b'angel_,'): 21.451684224216415,\n (b'excuse', b'me'): 10.589100091483475,\n (b'an', b'end'): 42.14957573777222,\n (b'put', b'an_end'): 59.192628401342596,\n (b'put_an', b'end'): 3284.3502196193263,\n (b'an', b'end_to'): 368.70082260371964,\n (b'It', b'has_been'): 11.756876738814233,\n (b'It_has', b'been'): 321.4460414129111,\n (b'many', b'years'): 84.14707229718475,\n (b'so_many', b'years'): 49.08988095238096,\n (b',\"', b'cried'): 238.60335649935652,\n (b'all_,\"', b'cried'): 235.63142857142856,\n (b',\"', b'cried_he'): 206.74281237759496,\n (b'much', b'obliged'): 231.66011235955057,\n (b'I_am', b'much_obliged'): 81.51993410214166,\n (b'I_am_much', b'obliged'): 24741.3,\n (b'much', b'obliged_to'): 45.76002219447913,\n (b'John', b'Knightley'): 471.6187958567113,\n (b'._John', b'Knightley'): 37871.87915407855,\n (b'ill', b'-'): 50.888185242920244,\n (b'ill', b'-_humour'): 687.2583333333333,\n (b'ill_-', b'humour'): 134.6465306122449,\n (b'does', b'not_seem'): 1249.560606060606,\n (b'does_not', b'seem'): 42.25489944921225,\n (b'my', b'sister'): 11.498765674998005,\n (b'wonder', b'what'): 10.19401316030894,\n (b'I_,\"', b'said'): 372.02419520196844,\n (b',\"', b'said_Mrs'): 2062.867620561738,\n (b',\"_said', b'Mrs'): 10.087442807357974,\n (b'cared', b'for'): 22.949693896481357,\n (b'be_very', b'much'): 33.8498794315325,\n (b'very', b'much_in'): 64.77839960726558,\n (b'I', b'assure'): 81.64940288348492,\n (b',_I', b'assure'): 222.75349229795313,\n (b'I', b'assure_you'): 115.47558407807155,\n (b'I_assure', b'you'): 46.092692014565166,\n (b'much', b'as_possible'): 70.89052618652914,\n (b'much_as', b'possible'): 176.5434250764526,\n (b'soon', b'afterwards'): 159.37791146194547,\n (b'What', b'does'): 14.86664540462588,\n (b'most', b'agreeable'): 48.47848929056909,\n (b'no', b'scruple'): 65.35073991164643,\n (b'\"', b'You_have'): 28.268697291515227,\n (b'have', b'given'): 13.181742497420021,\n (b'infinitely', b'superior'): 599.7890909090909,\n (b'I_am', b'glad'): 25.92190887019856,\n (b'very', b'few'): 22.2551556932937,\n (b',\"', b'said_the'): 1070.6440674112598,\n (b'Exactly', b'so'): 76.93638854877265,\n (b'has', b'been_the'): 320.5869776482021,\n (b'Did', b'you'): 28.412485624103883,\n (b'\"', b'Did_you'): 16.58465849601413,\n (b'\"_Did', b'you'): 70.27389596917605,\n (b'Did', b'you_ever'): 2114.6410256410254,\n (b'Did_you', b'ever'): 107.27498882159261,\n (b'very', b'interesting'): 30.22991981672394,\n (b'a_very', b'interesting'): 16.724157160963244,\n (b'No', b'sooner'): 277.9921348314607,\n (b'or_three', b'years'): 38.82815442561205,\n (b'Let', b'me'): 11.011129442955644,\n (b'you_,\"', b'cried'): 277.2134453781513,\n (b',\"', b'cried_Mr'): 216.14021294021293,\n (b'Don', b\"'\"): 1294.5426956885726,\n (b't', b'pretend'): 24.049281912954726,\n (b't', b'pretend_to'): 15.668471549349292,\n (b'why', b'should'): 31.345331950681356,\n (b'cannot', b'imagine'): 68.7437353477468,\n (b'I', b'cannot_imagine'): 13.18951892733218,\n (b'I_cannot', b'imagine'): 188.27460252751732,\n (b'back', b'again'): 22.326845245990043,\n (b'back', b'again_,'): 20.407254634672274,\n (b'ever', b'been'): 11.128201235857455,\n (b',_half', b'-'): 42.480572028872544,\n (b'almost', b'every'): 20.333909278104276,\n (b'in_almost', b'every'): 211.5997434252726,\n (b'always', b'been'): 22.79759158956816,\n (b'an', b'artist'): 17.69763948497854,\n (b'higher', b'than'): 112.8953138460449,\n (b'much', b'less'): 45.89076511503478,\n (b'ten', b'times'): 115.50560224089637,\n (b'They', b'were_both'): 144.36936542669582,\n (b'They_were', b'both'): 32.9693510416204,\n (b'Miss', b\"Woodhouse_'_s\"): 919.4091415830546,\n (b'you_,\"', b'said'): 461.54873415431376,\n (b'my', b'own'): 20.779573389807894,\n (b'every', b'occasion'): 10.759308987725726,\n (b'could', b'not_refuse'): 93.4647967134155,\n (b'could_not', b'refuse'): 19.326498330306404,\n (b'stand', b'still'): 11.299977163736013,\n (b'I', b'am_rather'): 24.49482086504548,\n (b'my', b'brother'): 10.167476059955899,\n (b'could', b'not_help'): 1366.9226519337017,\n (b'could_not', b'help'): 65.40126883425853,\n (b'right', b'side'): 16.891574285055942,\n (b'it_did', b'not'): 43.99291293579729,\n (b'more', b'than_I'): 61.11075433483179,\n (b'at', b'once_.'): 337.4868282701981,\n (b\"'\", b's_.\"'): 2761.691084135621,\n (b'must', b'allow'): 20.526152046492527,\n (b'have', b'been_too'): 40.85250773993808,\n (b'She', b'could_not'): 17.904033464384522,\n (b'She_could', b'not'): 54.944930126746826,\n (b'at', b'last_,'): 160.93121903625186,\n (b'the_next', b'day'): 131.36065260974766,\n (b'next', b'day_;'): 49.51540395512027,\n (b'\"', b'Do_you'): 18.57821079604652,\n (b'\"_Do', b'you'): 97.77237700059275,\n (b'\"', b'Oh_no'): 21.055305568852724,\n (b'sitting', b'down'): 27.087934931521648,\n (b'fore', b'-'): 38.56788776305534,\n (b'my', b'dear_.'): 184.59351830263464,\n (b'say_any', b'thing'): 712.1628373168851,\n (b'must', b'confess'): 22.411206826272455,\n (b'It', b'must_be'): 13.101943145373488,\n (b'It_must', b'be'): 64.71612979165849,\n (b'must', b'be_done'): 17.773512003263473,\n (b'depended', b'on'): 39.29113454997816,\n (b'be_depended', b'on'): 82.94795071662057,\n (b'could', b'not_bear'): 420.5915852103698,\n (b'could_not', b'bear'): 34.15958579881657,\n (b'no', b'sooner'): 89.20375997939738,\n (b'how', b'much'): 37.27180241642748,\n (b'could', b'not_endure'): 700.9859753506162,\n (b'could_not', b'endure'): 84.50113988575526,\n (b'few', b'minutes'): 182.6010424835094,\n (b'after', b'breakfast'): 14.850163184154255,\n (b'sooner', b'than'): 68.80774731823598,\n (b'soon', b'as_she'): 69.41250193154283,\n (b'soon_as', b'she'): 12.553738428898974,\n (b'had', b'been_there'): 104.65862944162436,\n (b'an', b'hour_before'): 943.8741058655222,\n (b'an_hour', b'before'): 10.89400206398349,\n (b'at', b'home'): 32.97215733994127,\n (b'not_at', b'home'): 14.447052640798807,\n (b'at', b'home_,'): 31.532860217164973,\n (b'know', b'what_to'): 43.919020793982305,\n (b'at', b'least'): 156.00352674313288,\n (b',_at', b'least'): 531.3462900455972,\n (b'her_very', b'much'): 51.48002496878902,\n (b'did', b'not_know'): 169.88352426728346,\n (b'did_not', b'know'): 15.72982041538484,\n (b'Upon', b'my'): 34.51267703307806,\n (b'\"', b'Upon_my'): 30.267001755225788,\n (b'\"_Upon', b'my'): 589.6737390223052,\n (b'Upon', b'my_word'): 4229.282051282051,\n (b'Upon_my', b'word'): 346.30124416796264,\n (b'Will', b'you'): 27.678209665608982,\n (b'\"', b'Will_you'): 15.406321147941016,\n (b'\"_Will', b'you'): 146.65856550088915,\n (b\"'\", b'd'): 4922.30822642996,\n (b\"I_'\", b'd'): 22740.165441176472,\n (b'She', b'paused'): 59.03964205816554,\n (b'was_at', b'last'): 26.280080859581165,\n (b',\"', b'replied_Emma'): 2674.7351351351354,\n (b',\"_replied', b'Emma'): 31.802178733249786,\n (b'that_every', b'thing'): 152.60632228218967,\n (b'can', b'hardly'): 47.55745714977114,\n (b'I_can', b'hardly'): 62.811119573495816,\n (b'too', b'strong'): 11.995872696005272,\n (b'sensible', b'man_,'): 55.14057433223013,\n (b'It', b'is_so'): 17.05179365243461,\n (b'Do', b'you_mean'): 206.97305267120493,\n (b'Do_you', b'mean'): 87.33096839095673,\n (b'your', b'own_.'): 14.236626890792566,\n (b'I', b'am_persuaded'): 32.65976115339397,\n (b'I_am', b'persuaded'): 10.979115703992147,\n (b'then_,\"', b'said'): 375.78201535552364,\n (b'do', b'you_mean'): 81.89801945345066,\n (b'do_you', b'mean'): 327.59571945218477,\n (b'Are', b'you'): 32.59079233353092,\n (b'I', b'beg'): 32.8930451616325,\n (b'your', b'pardon'): 75.9286767508937,\n (b'I', b'beg_your_pardon'): 140.8452199740115,\n (b'I_beg', b'your_pardon'): 7887.0395010395005,\n (b'I_beg_your', b'pardon'): 229919.15151515152,\n (b'your', b'pardon_,'): 100.67329015631887,\n (b'\"', b'You_mean'): 175.46087974043934,\n (b'\"_You', b'mean'): 33.12553973450083,\n (b'dear', b'Miss'): 125.34266948922543,\n (b',_dear', b'Miss'): 67.33700755256174,\n (b'dear', b'Miss_Woodhouse'): 78.69557957012334,\n (b'dear_Miss', b'Woodhouse'): 1762.2008547008547,\n (b'tell', b'me'): 15.367350835999579,\n (b'This', b'is_a'): 30.033959412584103,\n (b'little', b'while'): 14.595543227300103,\n (b'a', b'little_while'): 14.916701449759302,\n (b'a_little', b'while'): 33.515146384001895,\n (b\",'\", b'she'): 12.250594177064764,\n (b'`', b'No'): 22.062867843766718,\n (b'entered', b'into'): 117.58902576446329,\n (b'older', b'than'): 187.2319654917986,\n (b'very', b'serious'): 11.626892237201517,\n (b'.--', b'It'): 12.820267463501207,\n (b'advise', b'you'): 19.916595314935563,\n (b'I_advise', b'you'): 97.77237700059275,\n (b'of_your', b'own'): 42.891363028663655,\n (b',_why', b'should'): 23.612335222189085,\n (b'why', b'should_you'): 1181.2038989456933,\n (b'run', b'away'): 72.50197802197802,\n (b'run', b'away_with'): 422.92820512820515,\n (b'At', b'last'): 217.438140932293,\n (b'At', b'last_,'): 814.3203949608445,\n (b'some', b'hesitation'): 10.258544018409676,\n (b'my', b'dearest'): 11.832917839912477,\n (b'Now_I', b'am'): 48.763340724316336,\n (b'for', b'ever_.\"'): 81.5989116319337,\n (b'any', b'thing_in'): 71.10663587374904,\n (b'\"', b'Indeed'): 40.752204326811714,\n (b'\"', b'Indeed_,'): 22.94488427374976,\n (b'have', b'been_.'): 61.278761609907114,\n (b'\"', b'Dear_me'): 105.2765278442636,\n (b'\"_Dear', b'me'): 14.842841153874273,\n (b'have', b'borne'): 19.27871151772359,\n (b'good', b'opinion'): 19.39886884147609,\n (b'good', b'opinion_of'): 15.451120600151445,\n (b'at', b'least_,'): 1278.7000937793061,\n (b'good', b'natured'): 233.97411194515044,\n (b'thank', b'you'): 34.734923408105324,\n (b',_thank', b'you'): 40.25921405906761,\n (b'thank', b'you_,'): 82.33463326365707,\n (b'merely', b'because'): 12.894606204877439,\n (b'Emma', b'felt'): 20.716451941703017,\n (b'I', b'am_quite'): 489.8964173009096,\n (b'no', b'difficulty'): 21.238990471285092,\n (b'no', b'difficulty_in'): 12.13656598359148,\n (b'protest', b'against'): 17.650294275013376,\n (b'so', b'much_of'): 41.96530284478509,\n (b'but_Emma', b'could'): 28.039439014024648,\n (b'You', b'are_a'): 48.54345746749493,\n (b'be', b'spared'): 10.45414404326791,\n (b'And_I', b'am'): 43.25780225544191,\n (b'for_I', b'am'): 316.33654367312903,\n (b'so', b'much_.'): 25.645462849590885,\n (b',\"', b'said_she'): 1096.1396513396512,\n (b'Let', b'us'): 49.436562201449895,\n (b'\"_Let', b'us'): 147.39419471173025,\n (b',\"', b'cried_Emma'): 339.64890604890604,\n (b',\"_cried', b'Emma'): 25.0068413970853,\n (b'how', b'much_more'): 72.38822509682586,\n (b'how_much', b'more'): 51.02850867016257,\n (b'\"', b'Has'): 25.266366682623268,\n (b'more', b'than_half'): 884.0689127105666,\n (b'more_than', b'half'): 14.11544503737935,\n (b'obliged', b'to_go'): 220.90446428571428,\n (b'obliged_to', b'go'): 10.25423913212415,\n (b'next', b'morning'): 145.7988648346877,\n (b'the_next', b'morning'): 249.09608163265304,\n (b'for_an', b'hour'): 412.6386890987554,\n (b'an', b'hour_or'): 1533.7954220314734,\n (b'some', b'time_with'): 33.23768261964736,\n (b'of_an', b'hour'): 277.5155536011319,\n (b'an', b'hour_.'): 31.462470195517405,\n (b'My', b'dear_sir'): 2954.185074626866,\n (b'My_dear', b'sir'): 59.2517287831163,\n (b'but_I', b'am'): 112.31087687761301,\n (b';_I', b'am'): 113.83632172484712,\n (b'I_am', b'going'): 13.38765007447511,\n (b'sat', b'down'): 113.08401183957938,\n (b',_sat', b'down'): 85.92966918468352,\n ...}"
     },
     "metadata": {},
     "execution_count": 23
    }
   ],
   "source": [
    "trigram.phrasegrams"
   ]
  },
  {
   "cell_type": "markdown",
   "metadata": {},
   "source": [
    "Process all the Corpus"
   ]
  },
  {
   "cell_type": "code",
   "execution_count": 24,
   "metadata": {},
   "outputs": [],
   "source": [
    "lower_sents = []\n",
    "for s in gberg_sents:\n",
    "    lower_sents.append([w.lower() for w in s if w.lower() not in list(string.punctuation)])"
   ]
  },
  {
   "cell_type": "code",
   "execution_count": 25,
   "metadata": {},
   "outputs": [
    {
     "output_type": "execute_result",
     "data": {
      "text/plain": "['emma', 'by', 'jane', 'austen', '1816']"
     },
     "metadata": {},
     "execution_count": 25
    }
   ],
   "source": [
    "lower_sents[0]"
   ]
  },
  {
   "cell_type": "code",
   "execution_count": 26,
   "metadata": {},
   "outputs": [],
   "source": [
    "min_count = 32 # minimum count for a bigram \n",
    "threshold = 64 # score threshold \n",
    "lower_bigram = Phraser(Phrases(lower_sents, min_count = min_count, threshold = threshold))"
   ]
  },
  {
   "cell_type": "code",
   "execution_count": 27,
   "metadata": {},
   "outputs": [
    {
     "output_type": "execute_result",
     "data": {
      "text/plain": "{(b'miss', b'taylor'): 156.44059469941823,\n (b'mr', b'woodhouse'): 82.04651843976633,\n (b'mr', b'weston'): 75.87438262077481,\n (b'mrs', b'weston'): 160.68485093258923,\n (b'great', b'deal'): 93.36368125424357,\n (b'mr', b'knightley'): 161.74131790625913,\n (b'miss', b'woodhouse'): 229.03802722366902,\n (b'years', b'ago'): 74.31594785893046,\n (b'mr', b'elton'): 121.3990121932397,\n (b'dare', b'say'): 89.94000515807346,\n (b'frank', b'churchill'): 1316.4456593286038,\n (b'miss', b'bates'): 276.39588291692513,\n (b'drawing', b'room'): 84.91494947493561,\n (b'mrs', b'goddard'): 143.57843432545658,\n (b'miss', b'smith'): 73.03442128232508,\n (b'few', b'minutes'): 204.16834974753786,\n (b'john', b'knightley'): 83.03755747111268,\n (b'don', b't'): 250.30957446808512,\n (b'good', b'natured'): 88.69936184891343,\n (b'few', b'moments'): 107.77584531675087,\n (b'thousand', b'pounds'): 166.51834523092802,\n (b'o', b'clock'): 89.14789088153573,\n (b'jane', b'fairfax'): 654.5565917587609,\n (b'miss', b'fairfax'): 196.19987447261062,\n (b'ma', b'am'): 157.25846601094193,\n (b'mrs', b'elton'): 93.08931456265867,\n (b'forty', b'years'): 90.60220877269607,\n (b'cut', b'off'): 129.60290535032792,\n (b'ten', b'thousand'): 84.00099962514057,\n (b'sir', b'walter'): 399.5145142857143,\n (b'lady', b'russell'): 613.6301581282135,\n (b'mr', b'elliot'): 126.18129960463163,\n (b'mrs', b'clay'): 93.08931456265867,\n (b'captain', b'wentworth'): 529.8756608388247,\n (b'mrs', b'musgrove'): 85.21252640735679,\n (b'charles', b'hayter'): 92.03437785214481,\n (b'captain', b'benwick'): 241.49037086312987,\n (b'mrs', b'smith'): 84.60327207490248,\n (b'mrs', b'dashwood'): 115.06873605661974,\n (b'mrs', b'ferrars'): 102.75628184416554,\n (b'sir', b'john'): 95.83994133176884,\n (b'lady', b'middleton'): 350.26733319243175,\n (b'mrs', b'jennings'): 279.0655756128398,\n (b'colonel', b'brandon'): 1313.0078125,\n (b'miss', b'dashwood'): 76.66830732292917,\n (b'won', b't'): 189.96708776595744,\n (b'm', b'sure'): 69.15069432539002,\n (b'six', b'hundred'): 73.57615079223149,\n (b'gathered', b'together'): 103.28066074898891,\n (b'thou', b'shalt'): 66.88233182614454,\n (b'burnt', b'offerings'): 299.15702343127646,\n (b'sweet', b'savour'): 286.17879256965944,\n (b'unleavened', b'bread'): 237.70041787206688,\n (b'burnt', b'offering'): 297.524653753951,\n (b'afar', b'off'): 108.14220347465505,\n (b'take', b'heed'): 86.38454061712328,\n (b'sent', b'messengers'): 79.21555418015616,\n (b'thus', b'saith'): 144.0289127889979,\n (b'without', b'blemish'): 83.71359108159393,\n (b'peace', b'offerings'): 176.2577199456205,\n (b'sin', b'offering'): 129.96079665512747,\n (b'meat', b'offering'): 210.66724956379437,\n (b'fine', b'flour'): 86.07682458386685,\n (b'high', b'places'): 129.8123390846559,\n (b'fig', b'tree'): 121.73722334004026,\n (b'fir', b'tree'): 72.6789393074867,\n (b'mercy', b'endureth'): 269.07674062361025,\n (b'chief', b'priests'): 116.31947753846512,\n (b'jesus', b'christ'): 172.16816954974848,\n (b'holy', b'ghost'): 313.0305073859987,\n (b'o', b'er'): 108.14993564993564,\n (b'couldn', b't'): 171.76138536935215,\n (b'didn', b't'): 220.51081560283686,\n (b'little', b'jackal'): 69.81254128038833,\n (b'wasn', b't'): 120.2225788701394,\n (b'isn', b't'): 131.96593211752787,\n (b'doesn', b't'): 106.2634985949418,\n (b'wouldn', b't'): 120.2225788701394,\n (b'father', b'brown'): 91.68277248710235,\n (b'buster', b'bear'): 479.87410772225826,\n (b'green', b'forest'): 336.37733627667404,\n (b'little', b'joe'): 133.28784038147822,\n (b'joe', b'otter'): 1271.6141235813368,\n (b'farmer', b'brown'): 386.05179596892236,\n (b'mock', b'turtle'): 2528.877742946708,\n (b'dr', b'bull'): 680.7870294599019,\n (b'guinea', b'hen'): 905.8822695035461,\n (b'sir', b'arthur'): 131.41924812030075,\n (b'miss', b'somers'): 160.06190476190477,\n (b'mr', b'gresham'): 87.31390492359931,\n (b'mrs', b'theresa'): 170.20061244665206,\n (b'de', b'grey'): 603.2109624246722,\n (b'dr', b'middleton'): 162.73103819257668,\n (b'moby', b'dick'): 4115.877551020409,\n (b'sperm', b'whale'): 297.3672297627184,\n (b'mast', b'heads'): 77.7358926919519,\n (b'wee', b'l'): 450.39751861042186}"
     },
     "metadata": {},
     "execution_count": 27
    }
   ],
   "source": [
    "lower_bigram.phrasegrams"
   ]
  },
  {
   "cell_type": "code",
   "execution_count": 28,
   "metadata": {},
   "outputs": [
    {
     "output_type": "execute_result",
     "data": {
      "text/plain": "['emma',\n 'woodhouse',\n 'handsome',\n 'clever',\n 'and',\n 'rich',\n 'with',\n 'a',\n 'comfortable',\n 'home',\n 'and',\n 'happy',\n 'disposition',\n 'seemed',\n 'to',\n 'unite',\n 'some',\n 'of',\n 'the',\n 'best',\n 'blessings',\n 'of',\n 'existence',\n 'and',\n 'had',\n 'lived',\n 'nearly',\n 'twenty',\n 'one',\n 'years',\n 'in',\n 'the',\n 'world',\n 'with',\n 'very',\n 'little',\n 'to',\n 'distress',\n 'or',\n 'vex',\n 'her']"
     },
     "metadata": {},
     "execution_count": 28
    }
   ],
   "source": [
    "lower_bigram[lower_sents[3]]"
   ]
  },
  {
   "cell_type": "code",
   "execution_count": 29,
   "metadata": {},
   "outputs": [],
   "source": [
    "# Clean corpus that includes bigrams\n",
    "clean_sents = []\n",
    "for s in lower_sents:\n",
    "    clean_sents.append(lower_bigram[s])"
   ]
  },
  {
   "cell_type": "code",
   "execution_count": 30,
   "metadata": {},
   "outputs": [
    {
     "output_type": "execute_result",
     "data": {
      "text/plain": "['sixteen',\n 'years',\n 'had',\n 'miss_taylor',\n 'been',\n 'in',\n 'mr_woodhouse',\n 's',\n 'family',\n 'less',\n 'as',\n 'a',\n 'governess',\n 'than',\n 'a',\n 'friend',\n 'very',\n 'fond',\n 'of',\n 'both',\n 'daughters',\n 'but',\n 'particularly',\n 'of',\n 'emma']"
     },
     "metadata": {},
     "execution_count": 30
    }
   ],
   "source": [
    "clean_sents[6]"
   ]
  },
  {
   "cell_type": "markdown",
   "metadata": {},
   "source": [
    "Word2vector"
   ]
  },
  {
   "cell_type": "code",
   "execution_count": 31,
   "metadata": {},
   "outputs": [
    {
     "output_type": "execute_result",
     "data": {
      "text/plain": "98552"
     },
     "metadata": {},
     "execution_count": 31
    }
   ],
   "source": [
    "model = Word2Vec(sentences=clean_sents, size=64, sg=1, window=10, iter=5, min_count=10, workers=2)\n",
    "model.corpus_count"
   ]
  },
  {
   "cell_type": "code",
   "execution_count": 32,
   "metadata": {},
   "outputs": [],
   "source": [
    "model.save(\"word2vec.model\")"
   ]
  },
  {
   "cell_type": "code",
   "execution_count": 33,
   "metadata": {},
   "outputs": [
    {
     "output_type": "execute_result",
     "data": {
      "text/plain": "(15625924, 22148410)"
     },
     "metadata": {},
     "execution_count": 33
    }
   ],
   "source": [
    "model.train(sentences=clean_sents, total_examples=model.corpus_count, epochs=10, )"
   ]
  },
  {
   "cell_type": "code",
   "metadata": {},
   "source": [
    "len(model.wv.vocab)"
   ],
   "execution_count": 34,
   "outputs": [
    {
     "output_type": "execute_result",
     "data": {
      "text/plain": "10329"
     },
     "metadata": {},
     "execution_count": 34
    }
   ]
  },
  {
   "cell_type": "code",
   "execution_count": 35,
   "metadata": {},
   "outputs": [
    {
     "output_type": "execute_result",
     "data": {
      "text/plain": "64"
     },
     "metadata": {},
     "execution_count": 35
    }
   ],
   "source": [
    "model.save(\"word2vec_trained.model\")\n",
    "model.wv[\"dog\"].size"
   ]
  },
  {
   "cell_type": "code",
   "execution_count": 36,
   "metadata": {},
   "outputs": [
    {
     "output_type": "execute_result",
     "data": {
      "text/plain": "array([-0.625514  , -0.24818219,  0.07252005,  0.31959692, -0.224164  ,\n        0.17598388,  0.03279137, -0.5092319 , -0.02164627,  0.25882456,\n       -0.24998383, -0.15957484, -0.4582527 , -0.6673035 ,  0.28942484,\n       -0.21129629, -0.51241034, -0.08342306, -0.1714549 , -0.46921262,\n       -0.13530974, -0.15348025,  0.15231505,  0.2323617 ,  0.20704864,\n       -0.19046226, -0.14800394,  0.4311636 ,  0.36905426, -0.04128177,\n       -0.2935139 , -0.642017  , -0.02542609, -0.06805125,  0.33638635,\n       -0.392164  ,  0.16694413, -0.2524177 ,  0.40870368,  0.2299098 ,\n       -0.6423045 , -0.49313188, -0.21347433,  0.19575925, -0.40476498,\n        0.04924691, -0.5027443 ,  0.08066988,  0.5405933 ,  0.3933318 ,\n        0.26946694,  0.06008299,  0.526307  ,  0.13874301,  0.33206028,\n        0.47443146,  0.45480448, -0.28939044,  0.03366875, -0.29323316,\n        0.21833195,  0.2961765 , -0.04194815, -0.30649844], dtype=float32)"
     },
     "metadata": {},
     "execution_count": 36
    }
   ],
   "source": [
    "model.wv[\"dog\"]"
   ]
  },
  {
   "cell_type": "code",
   "execution_count": 37,
   "metadata": {},
   "outputs": [
    {
     "output_type": "execute_result",
     "data": {
      "text/plain": "[('mother', 0.8224015235900879),\n ('brother', 0.7630574703216553),\n ('sister', 0.7172968983650208),\n ('daughter', 0.7060635089874268)]"
     },
     "metadata": {},
     "execution_count": 37
    }
   ],
   "source": [
    "model.wv.most_similar(\"father\", topn=4)"
   ]
  },
  {
   "cell_type": "code",
   "execution_count": 38,
   "metadata": {},
   "outputs": [
    {
     "output_type": "execute_result",
     "data": {
      "text/plain": "[('lily', 0.6540316343307495),\n ('roses', 0.6482978463172913),\n ('green', 0.6466939449310303),\n ('blossom', 0.6455932855606079)]"
     },
     "metadata": {},
     "execution_count": 38
    }
   ],
   "source": [
    "model.wv.most_similar(\"flower\", topn=4)"
   ]
  },
  {
   "cell_type": "code",
   "execution_count": 39,
   "metadata": {},
   "outputs": [
    {
     "output_type": "execute_result",
     "data": {
      "text/plain": "[('one', 0.6992020606994629),\n ('sort', 0.6682378053665161),\n ('he', 0.6603000164031982),\n ('but', 0.6503064632415771)]"
     },
     "metadata": {},
     "execution_count": 39
    }
   ],
   "source": [
    "model.wv.most_similar(\"man\", topn=4)"
   ]
  },
  {
   "cell_type": "code",
   "execution_count": 48,
   "metadata": {},
   "outputs": [
    {
     "output_type": "execute_result",
     "data": {
      "text/plain": "[('child', 0.734136164188385),\n ('husband', 0.7056044340133667),\n ('person', 0.692615807056427),\n ('girl', 0.6758147478103638)]"
     },
     "metadata": {},
     "execution_count": 48
    }
   ],
   "source": [
    "model.wv.most_similar(\"woman\", topn=4)"
   ]
  },
  {
   "cell_type": "code",
   "execution_count": 47,
   "metadata": {},
   "outputs": [
    {
     "output_type": "execute_result",
     "data": {
      "text/plain": "'dog'"
     },
     "metadata": {},
     "execution_count": 47
    }
   ],
   "source": [
    "model.wv.doesnt_match(\"mother father siter brother dog\".split())"
   ]
  },
  {
   "cell_type": "code",
   "execution_count": 49,
   "metadata": {},
   "outputs": [
    {
     "output_type": "execute_result",
     "data": {
      "text/plain": "0.3505311"
     },
     "metadata": {},
     "execution_count": 49
    }
   ],
   "source": [
    "model.wv.similarity('father', 'dog')"
   ]
  },
  {
   "cell_type": "code",
   "execution_count": 50,
   "metadata": {},
   "outputs": [
    {
     "output_type": "execute_result",
     "data": {
      "text/plain": "[('pet', 0.6828274726867676),\n ('puppy', 0.6671871542930603),\n ('cow', 0.630781888961792),\n ('fox', 0.6171541213989258)]"
     },
     "metadata": {},
     "execution_count": 50
    }
   ],
   "source": [
    "model.wv.most_similar(\"dog\", topn=4)"
   ]
  },
  {
   "cell_type": "code",
   "execution_count": 44,
   "metadata": {},
   "outputs": [
    {
     "output_type": "execute_result",
     "data": {
      "text/plain": "[('mother', 0.7751302719116211),\n ('sister', 0.7370947599411011),\n ('wife', 0.7230050563812256),\n ('daughter', 0.7127106189727783),\n ('husband', 0.6966926455497742),\n ('daughters', 0.6714266538619995),\n ('brother', 0.6557520627975464),\n ('child', 0.6020352840423584),\n ('concubine', 0.6003448963165283),\n ('birthright', 0.5954861640930176)]"
     },
     "metadata": {},
     "execution_count": 44
    }
   ],
   "source": [
    "model.wv.most_similar(positive=[\"father\", \"woman\"], negative=[\"man\"])"
   ]
  },
  {
   "cell_type": "code",
   "execution_count": 45,
   "metadata": {},
   "outputs": [
    {
     "output_type": "execute_result",
     "data": {
      "text/plain": "[('wife', 0.6951807737350464),\n ('sister', 0.6846370697021484),\n ('mother', 0.6577304601669312),\n ('maid', 0.6419896483421326),\n ('daughter', 0.6163996458053589),\n ('child', 0.5976742506027222),\n ('daughters', 0.5915648937225342),\n ('widow', 0.5697234869003296),\n ('whore', 0.5395685434341431),\n ('conceived', 0.5368436574935913)]"
     },
     "metadata": {},
     "execution_count": 45
    }
   ],
   "source": [
    "model.wv.most_similar(positive=[\"husband\", \"woman\"], negative=[\"man\"])"
   ]
  },
  {
   "cell_type": "code",
   "execution_count": 46,
   "metadata": {},
   "outputs": [
    {
     "output_type": "execute_result",
     "data": {
      "text/plain": "[('fellow', 0.5650209188461304),\n ('englishman', 0.5336260795593262),\n ('landlord', 0.5327835083007812),\n ('person', 0.5248395204544067),\n ('counsellor', 0.5242331027984619),\n ('boy', 0.5120242834091187),\n ('hypocrite', 0.5068137049674988),\n ('curate', 0.5052440166473389),\n ('asketh', 0.5043734312057495),\n ('thing', 0.5034611225128174)]"
     },
     "metadata": {},
     "execution_count": 46
    }
   ],
   "source": [
    "model.wv.most_similar(positive=[\"man\", \"dog\"], negative=[\"bark\"])"
   ]
  },
  {
   "cell_type": "code",
   "execution_count": null,
   "metadata": {},
   "outputs": [],
   "source": []
  }
 ],
 "metadata": {
  "language_info": {
   "name": "python",
   "codemirror_mode": {
    "name": "ipython",
    "version": 3
   },
   "version": "3.7.6-final"
  },
  "orig_nbformat": 2,
  "file_extension": ".py",
  "mimetype": "text/x-python",
  "name": "python",
  "npconvert_exporter": "python",
  "pygments_lexer": "ipython3",
  "version": 3,
  "kernelspec": {
   "name": "python37664bitdlenvoptcondad12e93bea256401b8a31a8a4f6dc7a5b",
   "display_name": "Python 3.7.6 64-bit ('DLENV_OPT': conda)"
  }
 },
 "nbformat": 4,
 "nbformat_minor": 2
}