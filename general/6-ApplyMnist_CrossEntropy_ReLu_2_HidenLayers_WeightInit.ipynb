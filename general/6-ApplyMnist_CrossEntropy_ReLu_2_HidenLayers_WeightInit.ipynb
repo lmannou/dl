{
 "nbformat": 4,
 "nbformat_minor": 2,
 "metadata": {
  "language_info": {
   "name": "python",
   "codemirror_mode": {
    "name": "ipython",
    "version": 3
   },
   "version": "3.7.6-final"
  },
  "orig_nbformat": 2,
  "file_extension": ".py",
  "mimetype": "text/x-python",
  "name": "python",
  "npconvert_exporter": "python",
  "pygments_lexer": "ipython3",
  "version": 3,
  "kernelspec": {
   "name": "python37664bitdlenvconda29b652f870674263985143dd5e5a7bc4",
   "display_name": "Python 3.7.6 64-bit ('DLENV': conda)"
  }
 },
 "cells": [
  {
   "cell_type": "markdown",
   "execution_count": null,
   "metadata": {},
   "outputs": [],
   "source": [
    "Apply Model to some inputs Learn how:\n",
    "\n",
    "Load a saved Model\n",
    "Select inputs\n",
    "Apply Model to inputs (Predict)"
   ]
  },
  {
   "cell_type": "markdown",
   "execution_count": null,
   "metadata": {},
   "outputs": [],
   "source": [
    "Import packages"
   ]
  },
  {
   "cell_type": "code",
   "execution_count": 2,
   "metadata": {},
   "outputs": [],
   "source": [
    "#numpy: Numeric library\n",
    "import numpy as np \n",
    "#graphics\n",
    "from matplotlib import pyplot as plt\n",
    "\n",
    "#tensorflow: use some TF tools\n",
    "import tensorflow as tf\n",
    "#Keras: Deep learning API. In TF 2.x, it is included in TF\n",
    "from tensorflow import keras\n",
    "#Import Dense layer\n",
    "from tensorflow.keras.layers import Dense\n",
    "from tensorflow.keras import Sequential\n",
    "from tensorflow.keras import Model\n",
    "#Optimizers: SGD (Stochastic Gradien Descent)\n",
    "#from tensorflow.keras.optimizers import SGD as sgd\n",
    "\n",
    "#import data set MNIST\n",
    "from tensorflow.keras.datasets import mnist"
   ]
  },
  {
   "cell_type": "markdown",
   "execution_count": null,
   "metadata": {},
   "outputs": [],
   "source": [
    "Some verifications"
   ]
  },
  {
   "cell_type": "markdown",
   "execution_count": null,
   "metadata": {},
   "outputs": [],
   "source": [
    "Import MNIST data set\n",
    "60000 training examples\n",
    "10000 validation examples\n",
    "1 example = 28 * 28 matrix (image with 28 * 28 pixels)\n"
   ]
  },
  {
   "cell_type": "code",
   "execution_count": 3,
   "metadata": {},
   "outputs": [],
   "source": [
    "(X_train, y_train), (X_valid, y_valid) = mnist.load_data()\n"
   ]
  },
  {
   "cell_type": "markdown",
   "execution_count": null,
   "metadata": {},
   "outputs": [],
   "source": [
    "Process & Prepare data\n",
    "Flattening Input data:\n",
    "Input data (x_train[i]) should be a vector of real values\n",
    "- From shape (60000, 28, 28) to shape (60000, 28 * 28)\n",
    "- Convert to float32 (default is uint8, which python will convert to float64) (flaot 32 will take less memory)"
   ]
  },
  {
   "cell_type": "code",
   "execution_count": 4,
   "metadata": {},
   "outputs": [],
   "source": [
    "#use numpy reshape\n",
    "x_train = np.reshape(X_train, (60000, 28 * 28)).astype('float32')\n",
    "x_valid = np.reshape(X_valid, (10000, 28 * 28)).astype('float32')"
   ]
  },
  {
   "cell_type": "markdown",
   "execution_count": null,
   "metadata": {},
   "outputs": [],
   "source": [
    "Prepare Data (2)\n",
    "divide by 255, so the values will range from 0 to 1\n"
   ]
  },
  {
   "cell_type": "code",
   "execution_count": 5,
   "metadata": {},
   "outputs": [],
   "source": [
    "#print(x_train)\n",
    "x_train /=  255\n",
    "x_valid /=  255"
   ]
  },
  {
   "cell_type": "markdown",
   "execution_count": null,
   "metadata": {},
   "outputs": [],
   "source": [
    "Load Model"
   ]
  },
  {
   "cell_type": "code",
   "execution_count": 6,
   "metadata": {},
   "outputs": [],
   "source": [
    "from tensorflow.keras.models import load_model\n",
    "\n",
    "#load Model\n",
    "folder = \"logs/crossEntropyReLu2LayersWI/20200229-180923/\"\n",
    "model = load_model(folder + 'model_all.h5')\n"
   ]
  },
  {
   "cell_type": "markdown",
   "execution_count": null,
   "metadata": {},
   "outputs": [],
   "source": [
    "Select some inputs"
   ]
  },
  {
   "cell_type": "code",
   "execution_count": 7,
   "metadata": {},
   "outputs": [
    {
     "name": "stdout",
     "output_type": "stream",
     "text": "indexes: array([3940, 8558, 1412, 9910, 7374,  411, 1855, 3715, 1451, 9562, 1559,\n       8247, 1022, 9485, 9570, 3762, 8677,  610,  744, 5638, 4332, 6397,\n        728, 2097, 2213, 5218, 1364, 2018, 5890, 7754, 4545, 9277, 9341,\n       1509, 7729, 2612, 4687, 6669, 8363, 7786, 5396, 3825, 4006, 7767,\n       6336, 4723, 2161, 5917, 2374,  285,  718, 4166, 5937,  882, 1272,\n       9249, 9954, 3891, 6083, 9877, 4131, 9186, 8778, 9321, 8762, 4567,\n       7560, 7997, 9252, 4500, 5974, 1914, 1978, 4217, 3387, 8815, 8032,\n       6962, 2708, 6877, 5948, 6794, 9579, 4658, 1228, 4533, 4766, 7315,\n       9839,  386, 5254, 2578, 3789,  344, 1632, 8299, 4477, 6386, 1910,\n       5425, 8382, 6921, 3501, 8108, 2085, 5954, 6522, 9442, 1215,  815,\n        335, 3254, 8269, 3921, 2087, 1573, 1825, 8175,  698, 8776, 2752,\n       6118, 3578, 2319, 8368, 5383, 9863, 3749, 5178,  383, 7399,  516,\n        242, 4840, 4595,  884, 3953, 9396, 4424, 7762, 9621, 3408, 6899,\n       9859, 6748, 9058, 6724, 8613, 3951, 4439, 8899, 7323, 9292, 3629,\n        828, 4048, 5293, 7372, 8889, 5280, 1445, 8973, 1881, 4741,  696,\n       5116, 5556, 5536, 1041, 4086, 2301, 1173, 8753, 4999, 2820, 9600,\n       1513, 4091, 5224,  623, 2154, 2100, 6038, 3342, 8452, 7775, 3047,\n       4639, 4770, 5893, 5035, 8856, 1567, 1801, 2143, 6657, 1845, 2989,\n       6305, 3169, 1850, 4844,  162, 3796, 5919, 7497, 9474,  521, 3479,\n       5788, 7630, 6524, 9315,  708, 2590,   21, 4565, 4473, 9809, 1568,\n       9953, 8127, 7189, 2851, 7892, 1554, 1358, 4273, 4734, 8697, 5279,\n       3523, 4395, 2938, 9280, 6162, 3660,  798, 9160, 4957, 5072, 1305,\n        479, 7070, 1819, 4568, 8586, 6309, 3154, 4966, 3022, 1505, 6936,\n       5350, 5914, 3267, 8946, 8767, 9168, 2319,  886, 6396, 5445, 7284,\n       5354, 1080, 3784, 8519, 7037, 7108, 8893, 5308, 8255, 6904,  621,\n       8356, 2713, 9948, 8865, 4725, 9313,  528, 3311, 2684, 1017, 8916,\n       6587, 4950, 1910,  504,  640, 1074, 6937, 8820, 5308, 1435, 8058,\n       6495, 1495, 8324, 5685, 2704, 9430, 6176, 8837, 3716, 8498, 6955,\n        806, 1701, 5815,  728, 2821, 7061, 6717, 6435, 7381, 7381,  304,\n       7996, 9786, 4542, 2905, 2442, 3457, 9816, 1585, 7149, 5513, 7138,\n       2452, 8030, 5751, 2584,  981, 9966, 3510, 5164,  950, 5273,  580,\n         63, 5448,  339, 5716, 2950, 1214, 2691, 2879, 3158, 3094, 6255,\n       7435, 6091,  814, 8368, 9957, 7609, 3269, 8596, 1135, 7120, 4746,\n       9651, 4040, 4828, 8515, 8415, 8349, 5710, 4713, 5674, 2338, 2028,\n       6440,  433, 7597, 3318, 9332, 1719, 2451, 6573, 7053, 7386, 7540,\n       1795,  485, 3327, 8248, 4419, 3620, 5879, 2358, 9113, 3327, 8952,\n       9772, 3193, 9620, 4965, 3899, 7606, 6810, 6330, 7785,  520, 7495,\n       1611, 8583, 8935, 4171, 5650, 3798, 9509, 2875, 8397, 9295, 4722,\n       9966, 8133, 5055, 5800, 2955, 3441, 7051, 1118, 5289, 8127, 7534,\n       4005, 9034,  738, 9923,  332, 9432, 4838, 5904, 9956, 3775, 3503,\n       7786, 7505, 3184, 3318, 3957, 6890, 6937, 6032, 6915, 2463, 6138,\n       9224, 9197, 1468, 7795, 1782,   68, 8639,  166, 3073, 5772, 8844,\n        694, 1471, 8732, 1244, 7422,  440, 8966, 3209, 6033, 4376, 4868,\n       1873, 9804, 4956, 2003,   75, 4785, 2711, 3676, 4072, 3703,  302,\n       8036, 4267, 2461, 8225, 9047, 7441, 4138, 9983, 7354, 4918, 5135,\n        230, 1887, 4463, 4392, 6206, 3892, 7510, 2689, 3319, 6911, 7542,\n       3300, 5392, 7718, 8471, 7511, 2937, 6044, 4306,  680, 4868, 2887,\n       6349,   14, 1055, 9192, 9430, 7429, 3232, 8857, 8409, 2367, 6704,\n       8914, 5467, 5842, 7384, 9909, 2441, 7611, 2561, 5372, 7925, 8631,\n       1442, 8224, 8261, 7395,  714, 6973,  774,  394, 9891, 8685, 1245,\n       9143, 6187, 3970, 7587, 5087, 4888, 9544, 6518, 2816, 2336, 8874,\n       1202, 1756, 5976, 4536, 8629, 6148, 8929, 4357, 7160, 5275, 4652,\n       9646, 3722, 6106, 3526, 5864, 2606, 4986, 7403, 9581, 3355, 1360,\n        125,   97, 4376, 6589, 4508, 7361, 4208, 4561, 8334, 7846, 2609,\n       1319, 6579,  190, 4640, 8228, 9489, 6915, 7332, 7650, 4523, 1374,\n       5679, 1637, 7456, 4576,  343, 9946, 5138, 5683, 7292, 5501, 8514,\n       5005, 1509, 9668, 5607, 7386, 7599, 8467,  807, 1493, 1385, 7402,\n       3048, 5179, 3588, 4599,  181, 6795, 2987, 7225, 6485, 1279, 6479,\n       8372, 5121, 1426, 8477, 8268, 4215, 1951,  812, 8282, 3295, 2777,\n       2112, 6198, 8461,  735, 8603, 9624, 8389, 1541, 8029,  583, 5645,\n       6564,  966, 6128, 7000, 8186, 8829, 2009, 8084, 1472, 5671, 9464,\n       8539, 4578, 7769, 9343, 7106, 3454, 1890, 8964, 1102, 1172, 2475,\n       3565, 9220, 2525, 5021, 8542, 4762, 8034,  478, 8532, 7867, 6445,\n       3670, 6308, 8418, 3826, 3168, 2580,  976, 7013, 8438,  383, 2846,\n       1631, 4275,   88, 4129, 8474, 2301,  198, 7554,  331, 6653, 9726,\n       7593, 6335, 2428,  794, 6166, 9917, 1687, 2927, 8149, 9595, 6289,\n       9054,  539, 8658,  214, 2905, 5751,  207, 8251, 6176, 5764, 4470,\n       8833, 5388, 8050, 7595, 9312,  854, 9240, 3824, 5659, 9373, 2758,\n       3547, 6232, 7614, 6151, 6408, 3460, 2056, 3486, 1846,    5, 6681,\n       9293, 9721,  745,  973, 1387, 8983, 8474, 9462, 9124, 3851, 4746,\n       8000, 6944, 2267, 5107, 4218, 1065, 3707, 4371, 9899,  876, 7875,\n       3368, 5748, 1475, 9279, 3711, 2422, 6229, 1610, 1187, 3354,   82,\n       9295, 8129, 3360, 7135, 4502, 2733, 2971, 3849, 8538, 5793, 4711,\n        478, 5697, 4146, 3706, 2272, 6300, 3629, 3812, 2523, 9068, 3435,\n       5707,  233, 8963, 7267, 4760, 8136, 5414, 4039, 1241, 8942, 9807,\n       9340, 6620, 7891, 5121, 5424, 8045, 1943, 3918, 2345, 2446, 5041,\n       9270, 4707, 3093, 3329, 1807, 1520,  414, 4929, 2148, 1055, 5643,\n       8945, 2399, 3700, 2568, 6805, 6613, 3640, 2818,  852, 9897, 1633,\n       3634, 4832,  901, 2382, 2411, 2457, 8834, 3399, 4120, 7156, 4044,\n       6302,  824, 3782, 4739, 7751, 1498, 7445, 4189,  983, 5015, 2588,\n       5025, 5846, 3409, 2445, 7132, 1303, 4499, 6266, 1205, 9486,    7,\n       9184, 4256, 1896, 5654, 2418, 2814, 4602, 3939, 9944, 8051, 7064,\n       4317, 6295, 1447,  686, 7919, 8545, 2999, 1700, 9451, 6933, 9478,\n       5938, 3815, 4621, 8771, 6378,  669, 9709, 2130,  376, 5663, 3268,\n       9792,  723, 9430, 8787, 1215, 2799, 1903, 6638, 7822, 4841, 9024,\n       9000, 7886, 4395, 5816, 5281, 4338, 3150, 5722, 8553, 9440, 8686,\n       3010, 3444, 6136, 3355,  714, 9575, 4560, 6629, 9546, 5866, 9977,\n       1254, 3590, 2279, 4001, 2927, 5260, 7550, 5512, 1851, 9760, 8006,\n       6091, 1803, 1554, 3929, 8677, 4393,  956, 6288, 6656, 1288, 4354,\n       3029, 1510, 6934, 1162, 4400, 9199, 3269,  607, 3684, 3776, 7433,\n        598, 9321, 3922,  444,  448, 5532, 7077, 8002, 2973, 3207])\n(1000, 784)\n(1000,)\n"
    }
   ],
   "source": [
    "#print(x_train[0])\n",
    "size = 1000\n",
    "indexes = np.random.randint(0, y_valid.size-1, size=size)\n",
    "tf.print(\"indexes:\", indexes)\n",
    "x = np.array([x_valid[i] for i in indexes])\n",
    "X = np.array([X_valid[i] for i in indexes])\n",
    "y = np.array([y_valid[i] for i in indexes])\n",
    "tf.print(x.shape)\n",
    "tf.print(y.shape)\n",
    "# x = np.array([x_train[0], x_train[1], x_train[4566]])\n",
    "# y = np.array([y_train[0], y_train[1], y_train[4566]])\n"
   ]
  },
  {
   "cell_type": "markdown",
   "execution_count": null,
   "metadata": {},
   "outputs": [],
   "source": [
    "Predict"
   ]
  },
  {
   "cell_type": "code",
   "execution_count": 8,
   "metadata": {},
   "outputs": [],
   "source": [
    " \n",
    "#predict\n",
    "y_predicted = model.predict_classes(x)\n"
   ]
  },
  {
   "cell_type": "markdown",
   "execution_count": null,
   "metadata": {},
   "outputs": [],
   "source": [
    "Print Prediction results"
   ]
  },
  {
   "cell_type": "code",
   "execution_count": 9,
   "metadata": {},
   "outputs": [],
   "source": [
    "#print prediction results\n",
    "#tf.print(\"y:\", y)\n",
    "#tf.print(\"predicted classes\", y_predicted)"
   ]
  },
  {
   "cell_type": "code",
   "execution_count": 10,
   "metadata": {},
   "outputs": [
    {
     "name": "stdout",
     "output_type": "stream",
     "text": "False\nNot predicted indexes: [ 15  17  52  88 203 249 439 459 475 564 594 672 682 689 719 722 786 803\n 807 899 920 924 934 961 971 974 988 994]\nNot predicted y: [6, 4, 5, 2, 2, 7, 9, 1, 8, 6, 8, 7, 5, 5, 9, 3, 6, 5, 8, 3, 4, 4, 7, 3, 5, 1, 5, 9]\nNot predicted y_predicted: [8, 2, 3, 3, 8, 1, 1, 2, 4, 5, 0, 9, 8, 8, 3, 2, 4, 8, 0, 8, 9, 9, 2, 2, 8, 2, 8, 8]\n"
    }
   ],
   "source": [
    "#check if prediction is valid\n",
    "comparison = y == y_predicted\n",
    "equal_arrays = comparison.all()\n",
    "\n",
    "#prints True if All is OK\n",
    "print(equal_arrays)\n",
    "\n",
    "#print not predicted indexes\n",
    "diff = y - y_predicted\n",
    " \n",
    "indexes_false = np.array([i for i in np.arange(diff.size) if diff[i] != 0])\n",
    "print(\"Not predicted indexes:\", indexes_false)\n",
    "print(\"Not predicted y:\", [y[i] for i in indexes_false])\n",
    "print(\"Not predicted y_predicted:\", [y_predicted[i] for i in indexes_false])"
   ]
  },
  {
   "cell_type": "code",
   "execution_count": 11,
   "metadata": {},
   "outputs": [
    {
     "name": "stdout",
     "output_type": "stream",
     "text": "Accuracy =  0.972\n"
    }
   ],
   "source": [
    "#Accuracy\n",
    "acc =  1- indexes_false.size/size\n",
    "print(\"Accuracy = \", acc)"
   ]
  },
  {
   "cell_type": "code",
   "execution_count": 12,
   "metadata": {},
   "outputs": [
    {
     "data": {
      "text/plain": "array([ 15,  17,  52,  88, 203, 249, 439, 459, 475, 564, 594, 672, 682,\n       689, 719, 722, 786, 803, 807, 899, 920, 924, 934, 961, 971, 974,\n       988, 994])"
     },
     "execution_count": 12,
     "metadata": {},
     "output_type": "execute_result"
    }
   ],
   "source": [
    " \n",
    "np.array(indexes_false)"
   ]
  },
  {
   "cell_type": "code",
   "execution_count": 13,
   "metadata": {},
   "outputs": [
    {
     "data": {
      "image/png": "[encoded data removed]",
      "image/svg+xml": "<?xml version=\"1.0\" encoding=\"utf-8\" standalone=\"no\"?>\r\n<!DOCTYPE svg PUBLIC \"-//W3C//DTD SVG 1.1//EN\"\r\n  \"http://www.w3.org/Graphics/SVG/1.1/DTD/svg11.dtd\">\r\n<!-- Created with matplotlib (https://matplotlib.org/) -->\r\n<svg height=\"310.840665pt\" version=\"1.1\" viewBox=\"0 0 352.8 310.840665\" width=\"352.8pt\" xmlns=\"http://www.w3.org/2000/svg\" xmlns:xlink=\"http://www.w3.org/1999/xlink\">\r\n <defs>\r\n  <style type=\"text/css\">\r\n*{stroke-linecap:butt;stroke-linejoin:round;}\r\n  </style>\r\n </defs>\r\n <g id=\"figure_1\">\r\n  <g id=\"patch_1\">\r\n   <path d=\"M 0 310.840665 \r\nL 352.8 310.840665 \r\nL 352.8 0 \r\nL 0 0 \r\nz\r\n\" style=\"fill:none;\"/>\r\n  </g>\r\n  <g id=\"axes_1\">\r\n   <g clip-path=\"url(#pe5998db1ed)\">\r\n    <image height=\"77\" id=\"image4438aa808b\" transform=\"scale(1 -1)translate(0 -77)\" width=\"77\" x=\"7.2\" xlink:href=\"data:image/png;base64,\r\niVBORw0KGgoAAAANSUhEUgAAAE0AAABNCAYAAADjCemwAAAABHNCSVQICAgIfAhkiAAAA0JJREFUeJztm78rtnEYxY/fBkr8AeRHLIqiLAwGZJLFQikDkRgMJgP/ArOSSaGUMhiQlA2DTSjJooyIvMPbfXzfvH4d93M/6Hym05VHV+c5V/f9XPf3znh6enqC+RSZ6W7gJ2LTBGyagE0TsGkCNk3ApgnYNAGbJmDTBGyagE0TsGkC2eluAAAuLi6oZ2ZmAADl5eWs5eXlUY+MjFDn5OQk0N1LnDQBmyaQ6Hg+Pj5S9/b2Uu/v71OfnZ29+Fy4Jy0sLKQeGBiIucOP4aQJZCS57j45OaGuqqr6798MDw8DAPr7+1lbWlqi3tnZod7c3AQAFBQUxNnmuzhpAjZNIG3jWVNTQ723t0fd0NDwt7GMDNbCC8j4+Dh11Prs7Gz8zb6BkyZg0wQSvU9bW1ujLikpoW5sbHzzc1lZWdTR+ALA9vZ2jN19HCdNwKYJJDqetbW11OHV8T3Cq+7i4iL1+fk5AOD+/p613Nzcr7T4IZw0gUSTVllZSX1zc0M9PT1N3dnZCQBYXl5m7fj4mPrg4IB6bGwMAJCdnexa0EkTsGkCif6MCqmvr6c+PDykLi4uBgDk5+ez1tbWRh3u4VpbW1PZ4qs4aQI2TSDR8QxX2eESMtxiRExNTVF3dHRQNzU1paa5T+CkCdg0gZTdFd7e3lJH47e6uvqi9hp9fX3UFRUVMXf3NZw0gZQlrbu7m/ro6AgAUFdXx9rp6Sl1UVERdWlpKQBgd3eXNSftF2DTBFI2nuEKO3rYG24jwp9JIQsLCwCAwcFB1pqbm6nLysqoMzPT8507aQI2TSBtW473GB0dpZ6bm6NeWVmh7urqSrSnCCdNwKYJfNvxfHh4oG5vb6eObpSB58OA4fncJHDSBL5t0kKur6+po0N/ALC1tQXg+fkn8Pr9X5w4aQI2TeBHjGfI5eUl9cTEBACgurqatcnJSerwpY04cdIEbJrAjxvPkKurKwDA0NAQa+G5j1DHed7DSROwaQI/ejwj7u7uqMO3WzY2Nqjn5+cBxHPoz0kT+BVJe42enh7q6OXalpaWL/9fJ03Apgn86vEMLxDr6+sA/n2IreKkCdg0gV89nqnCSROwaQI2TcCmCdg0AZsmYNME/gC+LOpn1YxobgAAAABJRU5ErkJggg==\" y=\"-6.7\"/>\r\n   </g>\r\n  </g>\r\n  <g id=\"axes_2\">\r\n   <g clip-path=\"url(#p477e91f10a)\">\r\n    <image height=\"77\" id=\"image8145a38f7a\" transform=\"scale(1 -1)translate(0 -77)\" width=\"77\" x=\"94.5\" xlink:href=\"data:image/png;base64,\r\niVBORw0KGgoAAAANSUhEUgAAAE0AAABNCAYAAADjCemwAAAABHNCSVQICAgIfAhkiAAAA4pJREFUeJztm80rbWEUxp9zuyOJmRiImZSBJEpKyERkqsx8jpTMFCPmyoh8jcjMQJkpzMiA/4AUMUMMlM4dveuunePuu5/zXc9v4mk55z17P6113r3W3ieVTqfTEIn4VewDKEdkGoFMI5BpBDKNQKYRyDQCmUYg0whkGoFMI5BpBDKN4HexD+AnLi8vTR8dHWV8zfLycqEOJ4IyjUCmEaTYIeTW1hYAYH9/32IHBwema2pqsjqwvr4+06enp6ZTqZTpr6+vrD6DRZlGQG8EFxcXAIDz83OLtba2fvs/ANTX1ydef2BgwPTZ2Zlpn2kfHx8AgIqKisTrZ4MyjUCmEdAbwcvLCwCgubnZYo+Pj6br6upMPzw8JF7/+PjY9NDQkGlfnqOjowCAvb29xOtngzKNQKYR0OUZCNdrADAzM/N3YVdG4+PjAIClpSWLxe2oz8/Ppn2p+3XDod/e3v73urlAmUYg0wiyLk/P1NSU6Z2dHdPhI3xp9fT0mB4bGzM9PDwMINqGxa17d3dnMZVniZLTTPP47AmNfKYv8Z/iSV47OTlpsdXVVdP5aq+UaQQyjSBv5RkmEADQ3d0NALi5ubGY/1hfXldXV/98bVwp+9H44OAgfwL/QJlGINMI8laenjCQ9IPF9/d3074UW1paAETbKD9Gn5+fNx230/qyX1xcBABUVVVZrLq6OumpAFCmUcg0goKUZ8BPRKanp02PjIyYPjw8/Pa+z89P009PT6YbGhoAJLsQrq2ttVhvb6/pzc1N03EXxco0goJmmqe9vd309fW16Y2NDQDAxMRE7Bqhkd/d3bWYPx2fVU1NTQCi7Z2f03niru+UaQQyjaBo5RnuZgHRO1pvb28AgJOTE4t1dHRkXOP+/h4A0NjYaDF/OnEbDIsyjUCmERTtoT7fwszOzpoO7c729rbFQmsFRK+hwmjbj879cx/+fblEmUYg0wiKtnt64gaWKysrphcWFr69309E1tbWTPub17m8S6VMIyiJTPOEpt7PzSorK01n+7BgLlCmEcg0gpIrz8Dc3Jxp/+Wer9YoCco0AplGULLl6XfJrq4u036E/fr6CkCPxJcFMo2gZMvT09bWZjpTe5WptconyjSCkv2RrMc/qNff32/aN+qFRJlGINMIymIj8I8lrK+vm+7s7Iz8LRTKNAKZRlAW5VlqKNMIZBqBTCOQaQQyjUCmEcg0gj8/EUvAoH454gAAAABJRU5ErkJggg==\" y=\"-6.7\"/>\r\n   </g>\r\n  </g>\r\n  <g id=\"axes_3\">\r\n   <g clip-path=\"url(#pcb4cbb4b8b)\">\r\n    <image height=\"77\" id=\"image89d46e9137\" transform=\"scale(1 -1)translate(0 -77)\" width=\"77\" x=\"181.8\" xlink:href=\"data:image/png;base64,\r\niVBORw0KGgoAAAANSUhEUgAAAE0AAABNCAYAAADjCemwAAAABHNCSVQICAgIfAhkiAAAA09JREFUeJztm80r9FEcxc94a1ZiwYZQkrJhYyVZyILs/BUWFFkoJWWhvCwtiLKwVOwsLMTKygZlsvBeXjbKgpCxeJrvXHlmPHPmzmWezmd1utPc7+04X/f3cicSj8fjEBlR8NMLyEdkGoFMI5BpBDKNQKYRyDSCohBFrq+vAQCbm5t//fzw8ND0zc0NAODg4MDGhoaGTNfW1pru6uryus5/RUkjkGkEkRC3UfX19QCAs7OzrOeKRCKmp6enAQDDw8NZz5sJShqBTCMI0p51dXUAgMvLS6/zFhT8+Zs3NDTY2M7OjumKigqv9axuTmb9z5FpBEEubjs7OwEAKysrXud9f38HAMRiMRtbXFw0PTY25rVeAiWNIMhGcHJyAgBYWlqysZaWFtO9vb1fvnN7e2t6cnLS9OrqatpahYWFpre3t023tbVlsOL0KGkEMo0gSHtmy9vbm+mpqSnTExMTab/X2tpqem9vz9t6lDQCmUYQ5DotW4qKksscHR398nmqNnV3YJ8oaQQyjSAvds9UPDw8APh8oew+SampqTF9enrqra6SRpAXG0EqysrKAAA9PT02trCwkPO6ShqBTCPI6/Y8OjoCAKyvrwetq6QRyDSCH2vPq6sr0y8vL6arq6sBACUlJTaWON8BAPPz86aXl5cBAHd3dzYWjUZNz87OelxxEiWNQKYRBG3PkZER0+77gsfHR9Pd3d0AgPLychvb2toyfX9/n7bGzMyM6b6+Pn6xaVDSCILcsD89PQEAmpqabOzi4sLb/B0dHaY3NjZMl5aWeqvhoqQRyDSCIBvB7u4uAL8tCSTbMkRLuihpBDKNIEh7fnf+IhMaGxtNJ9oyREu6KGkEMo0gZ+15fHxs2t3dsiXxBgpIHhLs7++3seLiYm+1UqGkEeQsae77x+fnZ2/zukcNEr+ZOj8/t7G5uTlvtVKhpBHINIIgTzkSJ33cZ10+aW5uNr2/v5+TGi5KGoFMIwhyGzU4OAjg80PI8fFx0+3t7abX1tYAAK+vrzb23X+QENdmLkoagUwj+LWH+tyXwgMDA6bd5VZVVQH4vGNWVlbmfG1KGsGvTdpvRkkjkGkEMo1AphHINAKZRiDTCGQagUwjkGkEMo1AphHINIIP05jlYBZbJroAAAAASUVORK5CYII=\" y=\"-6.7\"/>\r\n   </g>\r\n  </g>\r\n  <g id=\"axes_4\">\r\n   <g clip-path=\"url(#ped88d5d9f5)\">\r\n    <image height=\"77\" id=\"image41eea732a1\" transform=\"scale(1 -1)translate(0 -77)\" width=\"77\" x=\"269.1\" xlink:href=\"data:image/png;base64,\r\niVBORw0KGgoAAAANSUhEUgAAAE0AAABNCAYAAADjCemwAAAABHNCSVQICAgIfAhkiAAAA5VJREFUeJztm7sv7EEYht/luCTELS5RiUJDgk7cIm4FUYiIRiQKQaIShUrh8jcgOkSloxUUChQaiUrlLtEIKrdTzWs25zjWe3Z/u5LvqZ58kd3Z1zeZndn5hd7f399hfIukeA/gJ2KhCVhoAhaagIUm8CuIN3l9fQUA9PT0sLa5uUkfGRmhj46OAgCqqqqCGJqEdZpAKIjvac/PzwCAtLS0L/82OTkZADAxMcHa9PQ0PZLXiDXWaQIWmkAg09MtBPX19awdHh7Sa2pq6Ofn5wCAq6sr1kpKSujb29v00tLS6A82AqzTBCw0gUCmp2Nvb4/e1NREf3p6orupvLq6ypq/kvb29tKXl5djMs6vsE4TsNAEAp2ePjk5OfTZ2Vn62NgYACAp6eP/eXl5SU9NTaUXFBTEcoifYp0mELdO293dpbe2ttLv7u4AALm5uUEPKWKs0wQsNIG4Tc+Hhwd6c3Mzvbi4GACwvr7OWnp6enADiwDrNAELTSBu09Pn8fGRXlZWBgDY2tpiraKiIvAx/QvrNAELTSCQX6O+IjMzkz40NAQAaGtrY21/f5/uH0jGC+s0gYRYCHzcedrAwABrOzs79OPjY3p+fn5wA/OwThOw0AQSbno63DQFwrdZdXV19JmZGQDhZ2xBYJ0mYKEJJMT3tL/h7nQAwNzcHL29vZ3uvrO5m0YAEAqFYj426zQBC00gYVfPz1hZWaEPDg4CAI6Ojlirrq6O+Ris0wR+XKf5w+3s7AQQvrU6PT2lx+qY3DpNwEITiOr09G8FFRUV0d0RdrRxW62+vj7W+vv76f5t8mhinSZgoQlEdRt1dnZG7+jooE9NTQH4OMoGgLy8vP9+P7fV8g8sJycn6Y2NjfRo3jCyThOw0ASiunre39/Ty8vL6dfX1wCArKws1vztUFdXF92/zBcp7okYAKisrKSPj4/Th4eHv/26n2GdJhDVhSA7O5t+cnJCX1hYABB+Ltbd3U2vra2luwc0GhoaWGtpaaFnZGTQX15eAIQfjaekpOgfIEKs0wQsNIFATzlubm7o8/Pz9KWlJbq7c/v29saaP+XcyQYAXFxcAABub2//qAHA4uIi3RaCOGOhCSTcIeTBwQEAYG1tjTX//q0/xd0vT/5HKCwspG9sbND9xyP/F+s0AQtNIOGm50/AOk3AQhOw0AQsNAELTcBCE7DQBCw0AQtNwEITsNAELDQBC03AQhOw0AR+A7QVCOLFGWEQAAAAAElFTkSuQmCC\" y=\"-6.7\"/>\r\n   </g>\r\n  </g>\r\n  <g id=\"axes_5\">\r\n   <g clip-path=\"url(#p835d6516c1)\">\r\n    <image height=\"77\" id=\"image9f89f5fedd\" transform=\"scale(1 -1)translate(0 -77)\" width=\"77\" x=\"7.2\" xlink:href=\"data:image/png;base64,\r\niVBORw0KGgoAAAANSUhEUgAAAE0AAABNCAYAAADjCemwAAAABHNCSVQICAgIfAhkiAAAA2lJREFUeJztm8srbWEYxh/HJYkUBiQlUgYUAzMzJmIkMwOKlORfMGFCSclApDAx2BkpmclAKSXFwCWXFCm3FIpkG5zW09pnuz62b61T72/069Xa3p7er7X3+r6VFI1GozC+xZ+gG/gfsdAELDQBC03AQhOw0AQsNIGUoP5xZ2cnfWpqKu7veXl59K6uLnp7ezu9pKQEAJCcnPwLHb6PTZqAhSaQ5PJn1Pn5Ob2oqIj+8vJCb2hoAADs7++zdnFxQb+5uaHPzMwAAFpbW1lzsVRt0gQsNAGnd8/h4WH68/Mzvbe3lz46Ohp33e3tLX19fZ3e2NgIAIhEIqwtLCwkptkPsEkTsNAEnC7P09PTN+uFhYUfXpednU2vr6+nPzw8AACmp6dZ29nZoZeXlyttfopNmoDTSauqqqLPzc39+PO872QdHR0//qzvYJMmYKEJOP0ZdXd3R8/NzaW3tbXRJyYmXLUjY5MmYKEJOF2eflpaWuiLi4v0g4MDAEBBQYHznr6KTZqAhSYQ2B5BdXU1fX5+nj4yMgIAGBoact7TV7FJEwjsRnB1dUUvLS2lZ2ZmAgCOjo5YS01NddfYF7BJE7DQBAJbnn78m8XeJvLk5GRcLSzYpAlYaAKhWJ6bm5v0mpoaALGPwLe2tuhZWVnuGnsHmzQBC00gFMvTT19fHwCgv7+fNf/d039XDQqbNIHQTdrl5SWA908VbW9v08vKytw15sMmTcBCEwjd8vQYHx+nd3d303NycujeMYf09HR3jcEmTcJCEwhss/jw8JDuP92TlpYGALi+vmbNO/oOxB7w8w7z+Xe2XGCTJmChCThdnqurq/Ta2lp6c3Mz3TuXW1xczJr/C21lZSU9JeXvZtrx8TFrnx0QTAQ2aQJOJ8077gkAdXV19LW1Nbr3TtTGxgZr+fn59IqKCvre3h4AYGxsjLWenp4Edvw2NmkCFppAYD+j/Eu1qamJvry8DCD20N/g4CDd/8TDe6UxIyODtfv7+8Q3+w82aQIWmkAonnI8Pj7ST05OAACzs7OsDQwMfHi9/wDg2dlZgruLxyZNwEITCMXyfIunpyf60tISfWVlhb67uwsg9nVH/xOR38ImTSC0kxZmbNIELDQBC03AQhOw0AQsNAELTcBCE7DQBCw0AQtNwEITsNAEXgEySwd9lN+TQQAAAABJRU5ErkJggg==\" y=\"-116.670332\"/>\r\n   </g>\r\n  </g>\r\n  <g id=\"axes_6\">\r\n   <g clip-path=\"url(#p25a781a7c3)\">\r\n    <image height=\"77\" id=\"imagedcd176f268\" transform=\"scale(1 -1)translate(0 -77)\" width=\"77\" x=\"94.5\" xlink:href=\"data:image/png;base64,\r\niVBORw0KGgoAAAANSUhEUgAAAE0AAABNCAYAAADjCemwAAAABHNCSVQICAgIfAhkiAAAAvhJREFUeJztm79LcnEYxY9lkBBEBA1hm2Vbm+Ci0CJUi0N/QTVUOEXg1tDf0ODmkDT6NwhBSktTSy0RTf20QQpSG17u4+2t7PW8ee8tzmc6PKA+HM/j/d7v9xpqt9ttiJ4Y8LuBn4hMIwj79cHb29umV1ZWTM/OzvrRTk8oaQQyjcC38UwkEqaz2azp09NTAEAoFPK8p39FSSMI+bVOq9frpsfGxkxXq1UAb5MYNJQ0AplG4NuFwP1DHw532tjf3weg8fx1yDQC366ebnK5nOlyuQwAODs7s1okEvG8p24oaQQyjSAQ41mr1Uwnk0kAnUUuELwrqZJG4Ns6zc3MzMy7mrNeA5S0X4FMIwjEeA4MdL674eFhAMDR0ZFf7XyJkkYg0wgCMZ6jo6OmM5kMAOD8/NxqzWbT9ODgoHeNfYKSRiDTCAIxnm6WlpYAAGtra1a7vb01PTEx4XlPf6OkEQQuaR9RqVRMLy8v+9jJH5Q0AplG4Ol4Pj8/m3bvoaVSqa6vu7+/71tPDEoagUwj8HS7++LiwvT09LTpWCxm2lmTXV9fWy0ej5t2TquAzinV+Pi41UZGRr6x449R0ghkGoGn49lqtUyfnJyYnp+fN/34+Njz+7rHc2Njw/Tq6qrpqampnt/3M5Q0gkCcezYaDdOFQgEAsLW1ZbVisWh6cnLStPPowsHBgdUODw9NO1vnAHB3d/euxqKkEcg0gkCMp5v19XUAQKlUstrl5aVp99a4g3s7/ObmxrT7Vm1hYQHA2wcIWZQ0AplGEIjxfHh4MO1sZ8/NzVnt+PjY8566oaQRyDSCQJwR7OzsmH55eQEA5PN5v9r5EiWNoG9Je3p6Mh2NRgEAu7u7Vru6ujK9t7dnOp1OAwAWFxf71dp/o6QRyDSCvo3n0NCQaec/6pubm1ZzLw/dp1HO7dN37Eb0CyWNQKYRBOI26qehpBHINAKZRiDTCGQagUwjkGkEMo1AphHINAKZRiDTCGQagUwjkGkEMo1AphHINIJXqRu5Tc/OPAYAAAAASUVORK5CYII=\" y=\"-116.670332\"/>\r\n   </g>\r\n  </g>\r\n  <g id=\"axes_7\">\r\n   <g clip-path=\"url(#p1a9525477e)\">\r\n    <image height=\"77\" id=\"image4323340556\" transform=\"scale(1 -1)translate(0 -77)\" width=\"77\" x=\"181.8\" xlink:href=\"data:image/png;base64,\r\niVBORw0KGgoAAAANSUhEUgAAAE0AAABNCAYAAADjCemwAAAABHNCSVQICAgIfAhkiAAAAhZJREFUeJztm0GKwkAQRX+GWesRBI+h4Nor6MK1kBN4A28guBRBPIC4F/QErhWPEC8QF0M3LSYjfrDSDf+tmiTDFI9fJJWOWVmWJcRH/DRdQIpIGoGkEUgagaQRSBqBpBH8Nl3Ap2RZ5tfD4RAAsN/vTWtQ0ggkjSBLYYw6nU5+3e/3X85Pp1O/XiwWX69HSSOQNIIk7p6Hw6HpEp5Q0ggkjSCJ9lwul/+e73Q6RpX8oaQRJPGcFo5OIW6M2m63/lir1fp6PUoagaQRRNue9/vdr9vtduU1x+MRANDr9UxqcihpBJJGEO1z2vl8fnuNdVs6lDQCSSOItj1vt1vTJdSipBFEm7S6d2jhq+2mUNIIJI0g2jGq7s2GG50APaclhaQRSBqBpBFIGkFyd88YylXSCEzHqPl87tez2cyvw9FoMBhYlkShpBFIGoHJjWCz2QAAxuMx9fduUxiw/762CiWNQNIITO6eq9Xq5VhRFH692+38uqqFJ5PJdwojUdIIJI3A5O7Z7XYBANfr1R+r+7efXNsUShpBFLtR4RdCYcKqzlt8tPcOJY1A0ghM2nO9XgN4/l2TG62A6o3hcHSKoSVDlDQCSSMwaU+3qRu23Ls3HrGNTiFKGoGkEZjuRl0uF7/O87zyGteWo9HIpCYGJY0g2n3PmFHSCCSNQNIIJI1A0ggkjUDSCCSNQNIIJI1A0ggkjUDSCB4vWogrQMTSlAAAAABJRU5ErkJggg==\" y=\"-116.670332\"/>\r\n   </g>\r\n  </g>\r\n  <g id=\"axes_8\">\r\n   <g clip-path=\"url(#p14017406ad)\">\r\n    <image height=\"77\" id=\"image902b325910\" transform=\"scale(1 -1)translate(0 -77)\" width=\"77\" x=\"269.1\" xlink:href=\"data:image/png;base64,\r\niVBORw0KGgoAAAANSUhEUgAAAE0AAABNCAYAAADjCemwAAAABHNCSVQICAgIfAhkiAAAA6FJREFUeJztm88rfFEYxp+RH9mwsCAhdlhISf4DpRQbO83CArFVIrKwtZKytVEslJUFG4spJWKaJgqlUIpEyG/zXei+3zM5M+Y+l7l36v2sno655x6P53XnnvveUCKRSEBxRZ7fC8hF1DQCNY1ATSNQ0wjUNAI1jUBNI1DTCNQ0gnyvEzw8PIhuamoSfXV1JXpkZAQAMDg4KGPl5eVeT+0bmjQCNY0g5HWX4/LyUnRVVVXaz9bU1Ih2ShYAOjo6RNfV1aWd4+XlRfTe3t63Y7JR9po0AjWNwHN5Pj4+ijbLbGtrS7TtFOZYcXGx6HA4DACYmZmxnm9ubk70+Pg4AKC3t1fGFhYWMl06jSaNwHPSUrG7uyv6+PgYADAwMCBj9/f3/xcRCmU8b0NDg+iDgwMAQEVFhYydn5+7X6xLNGkEahrBn5WnjZubG9GRSET08vKy6KWlpbRzfH5+is7L+/qbl5SUyNj6+rro1tZWfrFp0KQRqGkEWS3PTHh7ewMAzM/Py9jY2Jjo5+dn0T9dddva2kS3t7cDAOrr62Xs8PBQ9PT0tOjV1VUAQGdnp3VeTRqBmkYQuPK0YZbZzs6OaDdfip1fM5NjJicnAQBTU1PWn2vSCAKbtJOTE9GNjY2izeVub29/O865iQeAaDQq+u7uDkDyhcSktLRUdCwWAwBUVlZaP6tJI1DTCDw/jfor3t/fRX98fIhuaWkR3dzc/O24tbU163xnZ2cAgI2NDRkzt8nNec3bMhuaNAI1jSCw5WliXjHNXQ43VFdXAwD6+vo8r0eTRqCmEeREeZq3PhMTEz6u5AtNGkFgk3Z6eur3ElKiSSNQ0wg8l+fr66to8/tUUVGRp/lS7WUFAU0agZpG4Lk8h4aGRG9uboru7u4W3d/fDwCora2VscLCQut8ztMoc1s7aGjSCNQ0As/PCJx+CuDnJz2zs7Oih4eHrZ9xmgRTbQSurKyINv8FZBNNGoHnpJmJWVxcFG2+lGGjrKxMtHkx6enpAZD8IoeJmbSuri53i/0lNGkEahrBrz4svri4EH19fS3a6chxunGA5FsuN+0FWp45ippGkJVejtvbWwDA6OiojJlX2lT9FTaenp5EFxQU/MLq3KNJI1DTCHxrtXJ6K4Dk96CclvajoyPrcWaPh19o0ggC19S3v78PIPltu3g8Ltp8u88vNGkEahpB4MozF9CkEahpBGoagZpGoKYRqGkEahqBmkagphGoaQT/ABP+KgBgE/QhAAAAAElFTkSuQmCC\" y=\"-116.670332\"/>\r\n   </g>\r\n  </g>\r\n  <g id=\"axes_9\">\r\n   <g clip-path=\"url(#p4cc470e1b3)\">\r\n    <image height=\"77\" id=\"imagecf0944516d\" transform=\"scale(1 -1)translate(0 -77)\" width=\"77\" x=\"7.2\" xlink:href=\"data:image/png;base64,\r\niVBORw0KGgoAAAANSUhEUgAAAE0AAABNCAYAAADjCemwAAAABHNCSVQICAgIfAhkiAAAA4lJREFUeJztmz8otlEYxq+Xr0j5k8kgu2QRGSmLFDFIhJEsBmUzGEgGrMhiQKmXGGxsRinJ4E/JILJRkvB+i+d2vu993j/P5f1b129xdd7HcXe5b+fc5zlCkUgkAhGIgmwHkI/INAKZRiDTCGQagUwjkGkEf7IdQCze3t5MHxwcmO7t7TUdCoUAAIuLizY2Pj6e9tiUaQQyjSCUq23UycmJ6ebmZtNuuF55FhUV2djc3JzpdJWqMo1AphHkXHmenZ0BADo6Omzs4eHBdG1trembmxsAwPv7u+9cHx8f6QhRmcYg0whyrjzr6+sBABcXF76ff35+mvY2tZOTkwmfTSXKNIKca6O8vZf3FQBGR0d9n21ra4t6NhMo0whkGkHOlacfdXV12Q7hH5RpBDKNIC/Ks6qqyrR7OLmwsJCNcJRpDDKNIC/aqO7ubtNfX1+m9/f3486lNiqH+PVCMDQ0ZHpra8t0T0+P6f7+fgA/bQ8AlJeX+87n10bt7e2Z9jvudtne3k46dhZlGoFMI0jbPm13dzdK19TU2Jhbnu4f7Ovr68A/a2BgwLR7TJ4ulGkEMo0go23U3d2d73iiFTEWXlkuLy/bWHFxMRld8ijTCGQawa/Lc3Bw0PTm5mbcZ6empkyfn5+b3tnZMV1QEP/36LZR3ma5pKQkuWBThDKNIKUN+8zMjOnp6emoz4Ncvnt9fTXd3t5u+vj42LS3aJyentqY1/CnE2UagUwjSGl5uiVVVlYW9bl7+c69R9vS0pL0vKWlpaa98tzY2LCxvr6+ABFzKNMIZBpBSsvTnaq6utr04+Nj1LONjY2mj46OTCfac7krsLfvc8u+q6vL9Pr6ejJhB0aZRiDTCNL2Nur+/t70ysoKAGB2dtb3WXcj7LZaiVhaWgIQ+1KfO+/ExASA1LRcyjSCjLz39BaC1tZWG7u6ujLthtDU1AQAmJ+ft7FY+zjv+4aHh23MfSPmzvv09AQAqKysDBz//yjTCGQaQUavJbiLg/vi+PLy8ieg79bIPa1wTzH8eHl5MR0Oh013dnaarqioAAAUFhYGDTsKZRqBTCPI2q2h1dVV02NjYz8BfZene5pxeHhouqGhIQPRxUeZRiDTCLJ253ZkZMS0+1/Ea2trAIDn52cbu729Na3yzFNy7vpoPqBMI5BpBDKNQKYRyDQCmUYg0whkGoFMI5BpBDKNQKYRyDSCvzm7FP2GfHbwAAAAAElFTkSuQmCC\" y=\"-226.640665\"/>\r\n   </g>\r\n  </g>\r\n  <g id=\"axes_10\">\r\n   <g clip-path=\"url(#pd5b475ac06)\">\r\n    <image height=\"77\" id=\"imagefa22db2cd0\" transform=\"scale(1 -1)translate(0 -77)\" width=\"77\" x=\"94.5\" xlink:href=\"data:image/png;base64,\r\niVBORw0KGgoAAAANSUhEUgAAAE0AAABNCAYAAADjCemwAAAABHNCSVQICAgIfAhkiAAAA15JREFUeJztm88rfFEYxp/5kkwk+QMUyloWko2QkpCFlRQ7G/4DGyk/4h8g5UfJWlLEQtlIjWQhYW3h10ryeyy+zdvRHN3rcc2Mej6rp/eee+bt6X3nnjn3TCyZTCYhvsW/bCfwF5FpBDKNQKYRyDQCmUYg0whkGoFMI5BpBPnZTiAMV1dXpk9OTky3tLSkjV1ZWTG9t7dnemZmBgAQj8d/nI8qjUCmEcRybZfj8fERADA/P2+x1dVV0/v7+9S8iUQCAFBTU/OD7P6jSiOQaQQ50Z7Ly8uml5aWAAC7u7uB9+Xl5aXF3t7evGNra2sBfG5v3/1hUKURZG2ddn9/b3pnZ8d0UIX19PSY7u3tBQBsbm5abG5uznvf4eEhACCKxlKlEcg0goy25/Pzs+nh4WHT7k8fH0NDQ6anp6dNFxQUAAC2traiSjEUqjQCmUaQ0fZ8eHgw7a7NfPT395uenJw0nWpJAHh9fQUAPD09RZViKFRpBDKNICPteXl5CQBoamoKHFtUVAQA6Orqspi7cei24tjYGABgcXExcN6Ojg4AQCwWC044AFUaQUYqLfWlf3FxETh2dnYWANDd3e29Pj4+bnpiYiJ0DqOjowD4H+kuqjQCmUbwa/tpp6enphsbGwEANzc33rFlZWWmz8/PAQBnZ2cWGxwcNO2+jUqt01w6OztNu1vmJSUlAD6v81hUaQQyjSDSp+f7+7vptbU101+1ZYqFhQXTpaWlAD5vUh4fH6ddB4CBgYG0udwnahSt6EOVRiDTCCJ9er68vJguLCwMfd/6+rrp9vZ2AMDd3Z3Fjo6OTBcXF5uuq6uj8vwpqjSCnD015K7dmpubs5hJOqo0AplGINMIZBqBTCOQaQQyjUCmEcg0AplGINMIZBqBTCPIif20+vp609XV1QCAtrY2i7kp+g7wjYyMmK6qqgr9uSyqNAKZRhBpe7pTHRwcmG5oaPj2XPn5/v1R3wti96vg9vbWG48SVRqBTCOI9B2Be2CusrLSdGtrKwBge3s79Fy+NvyKvr4+01EcpQpClUaQkX/hpY4lXF9fe69PTU2Z9p36dlOsqKgwvbGxAQAoLy+3WOr46W+iSiOQaQQ58SfZv4YqjUCmEcg0AplGINMIZBqBTCOQaQQyjUCmEXwAvEPuRo9+uuwAAAAASUVORK5CYII=\" y=\"-226.640665\"/>\r\n   </g>\r\n  </g>\r\n  <g id=\"axes_11\">\r\n   <g clip-path=\"url(#p9e8bbf7696)\">\r\n    <image height=\"77\" id=\"image58e9719e27\" transform=\"scale(1 -1)translate(0 -77)\" width=\"77\" x=\"181.8\" xlink:href=\"data:image/png;base64,\r\niVBORw0KGgoAAAANSUhEUgAAAE0AAABNCAYAAADjCemwAAAABHNCSVQICAgIfAhkiAAABCxJREFUeJztm0sotGEUx/8jd5IsUBKSQhZCimLrEiu5lJRsLFiIQpSdBXtlaeFSFrK0EyKKIsKGSDaUW27lMt/Gc5z5ZpiZM++80/d1fqt/5zXP+/g7x/M+533G4XQ6nVD8IizUE/gXUdMEqGkC1DQBapoANU2AmiZATROgpglQ0wSEh3oCAMB3cmtrawCAnZ0disXFxZFOSkoiXVtbCwCIjo6mWFhY8PNAM02AmiYgZOV5cXFBenp6mvTQ0JDfY/X29pLu7u4mnZWVJZzd72imCVDTBDjsbEKurq6Srq6uJv3y8mLZPcLDv//jjIyMkB4YGAAAREZGBnwPzTQBtmTa4+MjACAlJYViz8/PnifkcAAAWltbPV5fXl4mfXl56fMcxsbGAAD9/f0+f+YnNNMEqGkCbHlO29zcBPBzSR4cHJDOyMgAAMTHx3v82dfXV9LHx8cAgLa2No9jcYaHh13GB4Dm5mavc/eEZpoANU1A0FbPt7c30pWVlQC+yxRwLY25ubnvCX2tnv6wtbVFurOzk/Te3t6vn5P+6pppAtQ0AUErz/v7e9KJiYlu14+Ojkjn5uZadt+bmxvS6enppD2t3FqeNhK05zS+MTZ/cd5D4xtrK+HtcN4UWFhYAAAUFBQEfA/NNAFqmoCglWdMTAzpwcFBAEBXVxfFmpqaSG9vb5MO9G3S+/s7ab4oGNrb2wMaH9BME6GmCbClCWlWzezsbIrxbZZ5QQwAZWVlAFzL1J+tFX/JXFJS4nb97OyMNO94+INmmgA1TYAtTcjr6+tfr1dUVLjF6urqSE9OTpJOS0sj/fHxAQBYX1+nWFVVlcd7mNVaWpIczTQBtmzYTXY8PT2JxuLZNT4+TnpiYgIAsLGx4fFzhYWFpOfn5wEAOTk5ojlwNNMEqGkCvJbnw8MD6YSEBJ8HrqmpIb20tAQAaGhooBjvcuTl5ZFeXFwEAOzu7vp8L45prQPA1NQUaStPEGmmCVDTBHgtz8bGRtKlpaWke3p6AAAREREU4y1s3uyLiooCANze3rrF/sa8DObNxJ9OFbW0tAAAysvLKdbR0UGan9W1Es00AWqaAK/leXh4SJqXQX19PQCgr6+PYvzBMT8/n7TpzxcXF3udkGkcFhUVUez8/Jx0amoq6ZOTEwBAbGys13GtRDNNgNcNO88YnlXmaObMzAzFkpOTSfN+2crKCgDg7u6OYvzIwNXVFWmzNTIHAQHX3tro6ChpuzPMoJkmQE0T4FeX4/Pzk7QpI/5lCV5SVsK3RqbUQ4lmmgA1TUDATcjT01PSptEHALOzs6T39/f9Hpdv33i3IlQrJkczTYCaJiBo7wj4mQp+xMrrhL5eDGdmZlo9JcvQTBNg67fw/hc00wSoaQLUNAFqmgA1TYCaJkBNE6CmCVDTBKhpAtQ0AWqaADVNwB9w/UE7UjtXxgAAAABJRU5ErkJggg==\" y=\"-226.640665\"/>\r\n   </g>\r\n  </g>\r\n  <g id=\"axes_12\">\r\n   <g clip-path=\"url(#pd7aed05fff)\">\r\n    <image height=\"77\" id=\"image9759c3dfce\" transform=\"scale(1 -1)translate(0 -77)\" width=\"77\" x=\"269.1\" xlink:href=\"data:image/png;base64,\r\niVBORw0KGgoAAAANSUhEUgAAAE0AAABNCAYAAADjCemwAAAABHNCSVQICAgIfAhkiAAAAptJREFUeJztm0+rcVEYxR+8ZsoMScocZWCufAGZMiMDE99BPoEoKWOljHwLChliLIyUOe/gzXP37b43LJw/tX6j1XY7npa173P2Pvt4rtfrVchTeO0uwI3QNACaBkDTAGgawB+7C3iE3W6nut/v//i8VqupjkajH6+HSQNwRdKy2azqw+Hw4/N0Oq26WCx+vB4mDYCmATh2ek4mE9X7/V61x+NRHY/HRUQkn89bV5gwaRA0DcCx03O5XKq+XC6qvd6v3/l8PouIyPF41LFgMPjx2pg0AJoG4HHDJqTP51Ntds8bo9FINW9uHYpjG4FJu91W3Wg0bKzkH0waAE0DcMX0jEQidpfwDSYNgKYBuGJ6mreSTritZNIAaBqAK6anuXT63zLKapg0AFckbbVa2V3CN5g0AJoG4Or9tNvTqMVioWPc7nYoNA3gY93TPN1TKBRERCQUCkHX+u1pVCAQEBFrpqQJkwZA0wDeOj3H47Hqer2uutlsiojIdDrVsXuH71qtlmpzSprd0+yqVsKkAViyjLqd+jGbg5lEtEHYBZMGQNMALN3lMP+5D4dD1dVqVXWlUhERkdPpdPd6sVjsjdU9DpMGQNMA3rrLYb4kce8Yu/m197awf/vb2+5GKpV6vtgXYNIAaBrAW7unuTSaz+eqc7mciIhsNpuXv6NUKqlOJpMvXw+BSQOwZLu70+mIiEi329Wx9Xr9VcQTjWC73apOJBLvKvEpmDQAmgZg6dMo834tk8moNl+euBEOh1WXy2XV5lLM7/e/u8SHYNIAaBqAbQ+LzSVXr9dTPRgMRERkNpvpmBXvpT8DkwZA0wBccZbDaTBpADQNgKYB0DQAmgZA0wBoGgBNA6BpADQNgKYB0DQAmgZA0wBoGsBfdtihWbMbpu0AAAAASUVORK5CYII=\" y=\"-226.640665\"/>\r\n   </g>\r\n  </g>\r\n </g>\r\n <defs>\r\n  <clipPath id=\"pe5998db1ed\">\r\n   <rect height=\"76.5\" width=\"76.5\" x=\"7.2\" y=\"7.2\"/>\r\n  </clipPath>\r\n  <clipPath id=\"p477e91f10a\">\r\n   <rect height=\"76.5\" width=\"76.5\" x=\"94.5\" y=\"7.2\"/>\r\n  </clipPath>\r\n  <clipPath id=\"pcb4cbb4b8b\">\r\n   <rect height=\"76.5\" width=\"76.5\" x=\"181.8\" y=\"7.2\"/>\r\n  </clipPath>\r\n  <clipPath id=\"ped88d5d9f5\">\r\n   <rect height=\"76.5\" width=\"76.5\" x=\"269.1\" y=\"7.2\"/>\r\n  </clipPath>\r\n  <clipPath id=\"p835d6516c1\">\r\n   <rect height=\"76.5\" width=\"76.5\" x=\"7.2\" y=\"117.170332\"/>\r\n  </clipPath>\r\n  <clipPath id=\"p25a781a7c3\">\r\n   <rect height=\"76.5\" width=\"76.5\" x=\"94.5\" y=\"117.170332\"/>\r\n  </clipPath>\r\n  <clipPath id=\"p1a9525477e\">\r\n   <rect height=\"76.5\" width=\"76.5\" x=\"181.8\" y=\"117.170332\"/>\r\n  </clipPath>\r\n  <clipPath id=\"p14017406ad\">\r\n   <rect height=\"76.5\" width=\"76.5\" x=\"269.1\" y=\"117.170332\"/>\r\n  </clipPath>\r\n  <clipPath id=\"p4cc470e1b3\">\r\n   <rect height=\"76.5\" width=\"76.5\" x=\"7.2\" y=\"227.140665\"/>\r\n  </clipPath>\r\n  <clipPath id=\"pd5b475ac06\">\r\n   <rect height=\"76.5\" width=\"76.5\" x=\"94.5\" y=\"227.140665\"/>\r\n  </clipPath>\r\n  <clipPath id=\"p9e8bbf7696\">\r\n   <rect height=\"76.5\" width=\"76.5\" x=\"181.8\" y=\"227.140665\"/>\r\n  </clipPath>\r\n  <clipPath id=\"pd7aed05fff\">\r\n   <rect height=\"76.5\" width=\"76.5\" x=\"269.1\" y=\"227.140665\"/>\r\n  </clipPath>\r\n </defs>\r\n</svg>\r\n",
      "text/plain": "<Figure size 360x360 with 12 Axes>"
     },
     "metadata": {
      "needs_background": "light"
     },
     "output_type": "display_data"
    }
   ],
   "source": [
    "plt.figure(figsize=(5,5))\n",
    "for k in  np.arange(min(indexes_false.size, 12)):\n",
    "    plt.subplot(3, 4, k+1)\n",
    "    plt.imshow(X[indexes_false[k]], cmap=\"Greys\")\n",
    "    plt.axis('off')\n",
    "plt.tight_layout()\n",
    "plt.show()"
   ]
  },
  {
   "cell_type": "markdown",
   "execution_count": null,
   "metadata": {},
   "outputs": [],
   "source": [
    "End"
   ]
  }
 ]
}