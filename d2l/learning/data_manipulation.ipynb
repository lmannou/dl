{
 "metadata": {
  "language_info": {
   "codemirror_mode": {
    "name": "ipython",
    "version": 3
   },
   "file_extension": ".py",
   "mimetype": "text/x-python",
   "name": "python",
   "nbconvert_exporter": "python",
   "pygments_lexer": "ipython3",
   "version": "3.7.6-final"
  },
  "orig_nbformat": 2,
  "kernelspec": {
   "name": "python_defaultSpec_1601048445053",
   "display_name": "Python 3.7.6 64-bit ('DLENV': conda)"
  }
 },
 "nbformat": 4,
 "nbformat_minor": 2,
 "cells": [
  {
   "cell_type": "code",
   "execution_count": 1,
   "metadata": {},
   "outputs": [],
   "source": [
    "import tensorflow as tf"
   ]
  },
  {
   "cell_type": "code",
   "execution_count": 2,
   "metadata": {
    "tags": []
   },
   "outputs": [
    {
     "output_type": "stream",
     "name": "stdout",
     "text": "tf.Tensor([ 0  1  2  3  4  5  6  7  8  9 10 11], shape=(12,), dtype=int32)\n"
    },
    {
     "output_type": "execute_result",
     "data": {
      "text/plain": "TensorShape([12])"
     },
     "metadata": {},
     "execution_count": 2
    }
   ],
   "source": [
    "x= tf.range(12)\n",
    "print(x)\n",
    "x.shape"
   ]
  },
  {
   "cell_type": "code",
   "execution_count": 3,
   "metadata": {
    "tags": []
   },
   "outputs": [
    {
     "output_type": "stream",
     "name": "stdout",
     "text": "tf.Tensor(0, shape=(), dtype=int32)\n"
    }
   ],
   "source": [
    "print(x[0])"
   ]
  },
  {
   "cell_type": "code",
   "execution_count": 4,
   "metadata": {},
   "outputs": [
    {
     "output_type": "execute_result",
     "data": {
      "text/plain": "<tf.Tensor: id=8, shape=(), dtype=int32, numpy=12>"
     },
     "metadata": {},
     "execution_count": 4
    }
   ],
   "source": [
    "tf.size(x)"
   ]
  },
  {
   "cell_type": "code",
   "execution_count": 5,
   "metadata": {},
   "outputs": [
    {
     "output_type": "execute_result",
     "data": {
      "text/plain": "TensorShape([12])"
     },
     "metadata": {},
     "execution_count": 5
    }
   ],
   "source": [
    "x.shape"
   ]
  },
  {
   "cell_type": "code",
   "execution_count": 6,
   "metadata": {
    "tags": []
   },
   "outputs": [
    {
     "output_type": "stream",
     "name": "stdout",
     "text": "tf.Tensor(\n[[ 0  1  2  3]\n [ 4  5  6  7]\n [ 8  9 10 11]], shape=(3, 4), dtype=int32)\n"
    }
   ],
   "source": [
    "X = tf.reshape(x, (3, 4))\n",
    "print(X)"
   ]
  },
  {
   "cell_type": "code",
   "execution_count": 7,
   "metadata": {
    "tags": []
   },
   "outputs": [
    {
     "output_type": "stream",
     "name": "stdout",
     "text": "tf.Tensor(\n[[ 0  1  2]\n [ 3  4  5]\n [ 6  7  8]\n [ 9 10 11]], shape=(4, 3), dtype=int32)\n"
    }
   ],
   "source": [
    "X = tf.reshape(x, (4, -1))\n",
    "print(X)"
   ]
  },
  {
   "cell_type": "code",
   "execution_count": 8,
   "metadata": {
    "tags": []
   },
   "outputs": [
    {
     "output_type": "stream",
     "name": "stdout",
     "text": "tf.Tensor(\n[[ 0  1]\n [ 2  3]\n [ 4  5]\n [ 6  7]\n [ 8  9]\n [10 11]], shape=(6, 2), dtype=int32)\n"
    }
   ],
   "source": [
    "X = tf.reshape(x, (-1, 2))\n",
    "print(X)"
   ]
  },
  {
   "cell_type": "code",
   "execution_count": 9,
   "metadata": {},
   "outputs": [],
   "source": [
    "Y = tf.zeros((2,  3, 4))"
   ]
  },
  {
   "cell_type": "code",
   "execution_count": 10,
   "metadata": {},
   "outputs": [
    {
     "output_type": "execute_result",
     "data": {
      "text/plain": "<tf.Tensor: id=19, shape=(24,), dtype=float32, numpy=\narray([0., 0., 0., 0., 0., 0., 0., 0., 0., 0., 0., 0., 0., 0., 0., 0., 0.,\n       0., 0., 0., 0., 0., 0., 0.], dtype=float32)>"
     },
     "metadata": {},
     "execution_count": 10
    }
   ],
   "source": [
    "tf.reshape(Y, (-1,))"
   ]
  },
  {
   "cell_type": "code",
   "execution_count": 11,
   "metadata": {},
   "outputs": [
    {
     "output_type": "execute_result",
     "data": {
      "text/plain": "<tf.Tensor: id=21, shape=(2, 3, 4), dtype=float32, numpy=\narray([[[0., 0., 0., 0.],\n        [0., 0., 0., 0.],\n        [0., 0., 0., 0.]],\n\n       [[0., 0., 0., 0.],\n        [0., 0., 0., 0.],\n        [0., 0., 0., 0.]]], dtype=float32)>"
     },
     "metadata": {},
     "execution_count": 11
    }
   ],
   "source": [
    "tf.reshape(Y, (2,3,-1))"
   ]
  },
  {
   "cell_type": "code",
   "execution_count": 12,
   "metadata": {},
   "outputs": [],
   "source": [
    "Z = tf.ones((1000, 100000))"
   ]
  },
  {
   "cell_type": "code",
   "execution_count": 13,
   "metadata": {},
   "outputs": [
    {
     "output_type": "execute_result",
     "data": {
      "text/plain": "TensorShape([1000, 100000])"
     },
     "metadata": {},
     "execution_count": 13
    }
   ],
   "source": [
    "Z.shape"
   ]
  },
  {
   "cell_type": "code",
   "execution_count": 14,
   "metadata": {},
   "outputs": [
    {
     "output_type": "execute_result",
     "data": {
      "text/plain": "<tf.Tensor: id=30, shape=(2, 3), dtype=float32, numpy=\narray([[0.49228057, 1.1084286 , 1.6981337 ],\n       [0.00829166, 1.3875483 , 0.7171227 ]], dtype=float32)>"
     },
     "metadata": {},
     "execution_count": 14
    }
   ],
   "source": [
    "tf.random.normal((2, 3))"
   ]
  },
  {
   "cell_type": "code",
   "execution_count": 15,
   "metadata": {},
   "outputs": [
    {
     "output_type": "execute_result",
     "data": {
      "text/plain": "<tf.Tensor: id=36, shape=(2, 3), dtype=float32, numpy=\narray([[-1.7056819, -1.7026196, -2.496129 ],\n       [-1.8412044, -1.7018927, -1.360469 ]], dtype=float32)>"
     },
     "metadata": {},
     "execution_count": 15
    }
   ],
   "source": [
    "tf.random.normal((2, 3), -2, 1)"
   ]
  },
  {
   "cell_type": "code",
   "execution_count": 16,
   "metadata": {},
   "outputs": [
    {
     "output_type": "execute_result",
     "data": {
      "text/plain": "<tf.Tensor: id=42, shape=(2, 3), dtype=float32, numpy=\narray([[2.169958  , 2.800726  , 0.32656455],\n       [2.601099  , 2.499468  , 2.2792807 ]], dtype=float32)>"
     },
     "metadata": {},
     "execution_count": 16
    }
   ],
   "source": [
    "tf.random.normal((2, 3), 2, 1)"
   ]
  },
  {
   "cell_type": "code",
   "execution_count": 17,
   "metadata": {},
   "outputs": [],
   "source": [
    "import numpy as np"
   ]
  },
  {
   "cell_type": "code",
   "execution_count": 18,
   "metadata": {},
   "outputs": [],
   "source": [
    "a = np.array([[1, 2], [3, 4]])"
   ]
  },
  {
   "cell_type": "code",
   "execution_count": 19,
   "metadata": {},
   "outputs": [
    {
     "output_type": "execute_result",
     "data": {
      "text/plain": "<tf.Tensor: id=43, shape=(2, 2), dtype=int32, numpy=\narray([[1, 2],\n       [3, 4]])>"
     },
     "metadata": {},
     "execution_count": 19
    }
   ],
   "source": [
    "tf.constant(a)"
   ]
  },
  {
   "cell_type": "code",
   "execution_count": 20,
   "metadata": {},
   "outputs": [
    {
     "output_type": "execute_result",
     "data": {
      "text/plain": "(<tf.Tensor: id=46, shape=(4,), dtype=float32, numpy=array([ 3.,  4.,  6., 10.], dtype=float32)>,\n <tf.Tensor: id=47, shape=(4,), dtype=float32, numpy=array([-1.,  0.,  2.,  6.], dtype=float32)>,\n <tf.Tensor: id=48, shape=(4,), dtype=float32, numpy=array([ 2.,  4.,  8., 16.], dtype=float32)>,\n <tf.Tensor: id=49, shape=(4,), dtype=float32, numpy=array([0.5, 1. , 2. , 4. ], dtype=float32)>,\n <tf.Tensor: id=50, shape=(4,), dtype=float32, numpy=array([ 1.,  4., 16., 64.], dtype=float32)>)"
     },
     "metadata": {},
     "execution_count": 20
    }
   ],
   "source": [
    "x = tf.constant([1.0, 2, 4, 8])\n",
    "y = tf.constant([2.0, 2, 2, 2])\n",
    "x + y, x - y, x * y, x / y, x ** y  # The ** operator is exponentiation"
   ]
  },
  {
   "cell_type": "code",
   "execution_count": 21,
   "metadata": {},
   "outputs": [
    {
     "output_type": "execute_result",
     "data": {
      "text/plain": "<tf.Tensor: id=51, shape=(4,), dtype=float32, numpy=\narray([2.7182817e+00, 7.3890562e+00, 5.4598152e+01, 2.9809580e+03],\n      dtype=float32)>"
     },
     "metadata": {},
     "execution_count": 21
    }
   ],
   "source": [
    "tf.exp(x)"
   ]
  },
  {
   "cell_type": "code",
   "execution_count": 22,
   "metadata": {},
   "outputs": [
    {
     "output_type": "execute_result",
     "data": {
      "text/plain": "<tf.Tensor: id=52, shape=(4,), dtype=float32, numpy=array([ 0.5403023 , -0.4161468 , -0.6536436 , -0.14550003], dtype=float32)>"
     },
     "metadata": {},
     "execution_count": 22
    }
   ],
   "source": [
    "tf.cos(x)"
   ]
  },
  {
   "cell_type": "code",
   "execution_count": 23,
   "metadata": {},
   "outputs": [
    {
     "output_type": "execute_result",
     "data": {
      "text/plain": "(<tf.Tensor: id=64, shape=(6, 4), dtype=float32, numpy=\n array([[ 0.,  1.,  2.,  3.],\n        [ 4.,  5.,  6.,  7.],\n        [ 8.,  9., 10., 11.],\n        [ 2.,  1.,  4.,  3.],\n        [ 1.,  2.,  3.,  4.],\n        [ 4.,  3.,  2.,  1.]], dtype=float32)>,\n <tf.Tensor: id=66, shape=(3, 8), dtype=float32, numpy=\n array([[ 0.,  1.,  2.,  3.,  2.,  1.,  4.,  3.],\n        [ 4.,  5.,  6.,  7.,  1.,  2.,  3.,  4.],\n        [ 8.,  9., 10., 11.,  4.,  3.,  2.,  1.]], dtype=float32)>)"
     },
     "metadata": {},
     "execution_count": 23
    }
   ],
   "source": [
    "X = tf.reshape(tf.range(12, dtype=tf.float32), (3, 4))\n",
    "Y = tf.constant([[2.0, 1, 4, 3], [1, 2, 3, 4], [4, 3, 2, 1]])\n",
    "tf.concat([X, Y], axis=0), tf.concat([X, Y], axis=1)"
   ]
  },
  {
   "cell_type": "code",
   "execution_count": 24,
   "metadata": {},
   "outputs": [
    {
     "output_type": "execute_result",
     "data": {
      "text/plain": "<tf.Tensor: id=67, shape=(3, 4), dtype=bool, numpy=\narray([[False,  True, False,  True],\n       [False, False, False, False],\n       [False, False, False, False]])>"
     },
     "metadata": {},
     "execution_count": 24
    }
   ],
   "source": [
    "X == Y"
   ]
  },
  {
   "cell_type": "code",
   "execution_count": 25,
   "metadata": {},
   "outputs": [
    {
     "output_type": "execute_result",
     "data": {
      "text/plain": "<tf.Tensor: id=68, shape=(3, 4), dtype=bool, numpy=\narray([[ True, False,  True, False],\n       [ True,  True,  True,  True],\n       [ True,  True,  True,  True]])>"
     },
     "metadata": {},
     "execution_count": 25
    }
   ],
   "source": [
    "X != Y"
   ]
  },
  {
   "cell_type": "code",
   "execution_count": 26,
   "metadata": {},
   "outputs": [
    {
     "output_type": "execute_result",
     "data": {
      "text/plain": "<tf.Tensor: id=73, shape=(3, 4), dtype=bool, numpy=\narray([[False, False, False, False],\n       [False, False, False, False],\n       [False, False, False, False]])>"
     },
     "metadata": {},
     "execution_count": 26
    }
   ],
   "source": [
    "X -1 == Y +1"
   ]
  },
  {
   "cell_type": "code",
   "execution_count": 27,
   "metadata": {},
   "outputs": [
    {
     "output_type": "execute_result",
     "data": {
      "text/plain": "<tf.Tensor: id=75, shape=(3, 4), dtype=float32, numpy=\narray([[ 0.,  3.,  6.,  9.],\n       [12., 15., 18., 21.],\n       [24., 27., 30., 33.]], dtype=float32)>"
     },
     "metadata": {},
     "execution_count": 27
    }
   ],
   "source": [
    "3 * X"
   ]
  },
  {
   "cell_type": "code",
   "execution_count": 28,
   "metadata": {},
   "outputs": [
    {
     "output_type": "execute_result",
     "data": {
      "text/plain": "<tf.Tensor: id=77, shape=(3, 4), dtype=float32, numpy=\narray([[ 0.,  3.,  6.,  9.],\n       [12., 15., 18., 21.],\n       [24., 27., 30., 33.]], dtype=float32)>"
     },
     "metadata": {},
     "execution_count": 28
    }
   ],
   "source": [
    "X * 3"
   ]
  },
  {
   "cell_type": "code",
   "execution_count": 29,
   "metadata": {},
   "outputs": [
    {
     "output_type": "execute_result",
     "data": {
      "text/plain": "<tf.Tensor: id=79, shape=(3, 4), dtype=float32, numpy=\narray([[0.  , 0.25, 0.5 , 0.75],\n       [1.  , 1.25, 1.5 , 1.75],\n       [2.  , 2.25, 2.5 , 2.75]], dtype=float32)>"
     },
     "metadata": {},
     "execution_count": 29
    }
   ],
   "source": [
    "X / 4"
   ]
  },
  {
   "cell_type": "code",
   "execution_count": 30,
   "metadata": {},
   "outputs": [
    {
     "output_type": "execute_result",
     "data": {
      "text/plain": "<tf.Tensor: id=81, shape=(), dtype=float32, numpy=66.0>"
     },
     "metadata": {},
     "execution_count": 30
    }
   ],
   "source": [
    "tf.reduce_sum(X)"
   ]
  },
  {
   "cell_type": "code",
   "execution_count": 31,
   "metadata": {},
   "outputs": [
    {
     "output_type": "execute_result",
     "data": {
      "text/plain": "<tf.Tensor: id=85, shape=(), dtype=float32, numpy=1728000.0>"
     },
     "metadata": {},
     "execution_count": 31
    }
   ],
   "source": [
    "tf.reduce_prod(Y+1)"
   ]
  },
  {
   "cell_type": "code",
   "execution_count": 32,
   "metadata": {},
   "outputs": [
    {
     "output_type": "execute_result",
     "data": {
      "text/plain": "(<tf.Tensor: id=91, shape=(3, 1), dtype=int32, numpy=\n array([[0],\n        [1],\n        [2]])>,\n <tf.Tensor: id=97, shape=(1, 2), dtype=int32, numpy=array([[0, 1]])>)"
     },
     "metadata": {},
     "execution_count": 32
    }
   ],
   "source": [
    "a = tf.reshape(tf.range(3), (3, 1))\n",
    "b = tf.reshape(tf.range(2), (1, 2))\n",
    "a, b"
   ]
  },
  {
   "cell_type": "code",
   "execution_count": 33,
   "metadata": {},
   "outputs": [
    {
     "output_type": "execute_result",
     "data": {
      "text/plain": "<tf.Tensor: id=98, shape=(3, 2), dtype=int32, numpy=\narray([[0, 1],\n       [1, 2],\n       [2, 3]])>"
     },
     "metadata": {},
     "execution_count": 33
    }
   ],
   "source": [
    "a+b"
   ]
  },
  {
   "cell_type": "code",
   "execution_count": 34,
   "metadata": {},
   "outputs": [
    {
     "output_type": "execute_result",
     "data": {
      "text/plain": "(<tf.Tensor: id=102, shape=(4,), dtype=float32, numpy=array([ 8.,  9., 10., 11.], dtype=float32)>,\n <tf.Tensor: id=106, shape=(2, 4), dtype=float32, numpy=\n array([[ 4.,  5.,  6.,  7.],\n        [ 8.,  9., 10., 11.]], dtype=float32)>)"
     },
     "metadata": {},
     "execution_count": 34
    }
   ],
   "source": [
    "X[-1], X[1:3]"
   ]
  },
  {
   "cell_type": "code",
   "execution_count": 35,
   "metadata": {},
   "outputs": [
    {
     "output_type": "execute_result",
     "data": {
      "text/plain": "<tf.Tensor: id=61, shape=(3, 4), dtype=float32, numpy=\narray([[ 0.,  1.,  2.,  3.],\n       [ 4.,  5.,  6.,  7.],\n       [ 8.,  9., 10., 11.]], dtype=float32)>"
     },
     "metadata": {},
     "execution_count": 35
    }
   ],
   "source": [
    "X"
   ]
  },
  {
   "cell_type": "code",
   "execution_count": 36,
   "metadata": {},
   "outputs": [
    {
     "output_type": "execute_result",
     "data": {
      "text/plain": "<tf.Tensor: id=118, shape=(), dtype=float32, numpy=6.0>"
     },
     "metadata": {},
     "execution_count": 36
    }
   ],
   "source": [
    "X_Var = tf.Variable(X)\n",
    "X_Var[1, 2]"
   ]
  },
  {
   "cell_type": "code",
   "execution_count": 37,
   "metadata": {},
   "outputs": [
    {
     "output_type": "execute_result",
     "data": {
      "text/plain": "<tf.Variable 'UnreadVariable' shape=(3, 4) dtype=float32, numpy=\narray([[ 0.,  1.,  2.,  3.],\n       [ 4.,  5.,  2.,  7.],\n       [ 8.,  9., 10., 11.]], dtype=float32)>"
     },
     "metadata": {},
     "execution_count": 37
    }
   ],
   "source": [
    "X_Var[1, 2].assign(2)"
   ]
  },
  {
   "cell_type": "code",
   "execution_count": 38,
   "metadata": {},
   "outputs": [
    {
     "output_type": "execute_result",
     "data": {
      "text/plain": "(<tf.Tensor: id=61, shape=(3, 4), dtype=float32, numpy=\n array([[ 0.,  1.,  2.,  3.],\n        [ 4.,  5.,  6.,  7.],\n        [ 8.,  9., 10., 11.]], dtype=float32)>,\n <tf.Variable 'Variable:0' shape=(3, 4) dtype=float32, numpy=\n array([[ 0.,  1.,  2.,  3.],\n        [ 4.,  5.,  2.,  7.],\n        [ 8.,  9., 10., 11.]], dtype=float32)>)"
     },
     "metadata": {},
     "execution_count": 38
    }
   ],
   "source": [
    "X, X_Var"
   ]
  },
  {
   "cell_type": "code",
   "execution_count": 39,
   "metadata": {},
   "outputs": [
    {
     "output_type": "execute_result",
     "data": {
      "text/plain": "2194125634200"
     },
     "metadata": {},
     "execution_count": 39
    }
   ],
   "source": [
    "id(Y)"
   ]
  },
  {
   "cell_type": "code",
   "execution_count": 40,
   "metadata": {},
   "outputs": [
    {
     "output_type": "execute_result",
     "data": {
      "text/plain": "2194125623544"
     },
     "metadata": {},
     "execution_count": 40
    }
   ],
   "source": [
    "id(X)"
   ]
  },
  {
   "cell_type": "code",
   "execution_count": 41,
   "metadata": {},
   "outputs": [],
   "source": [
    "Y = X + Y"
   ]
  },
  {
   "cell_type": "code",
   "execution_count": 42,
   "metadata": {},
   "outputs": [
    {
     "output_type": "execute_result",
     "data": {
      "text/plain": "(2194125623544, 2193980289448)"
     },
     "metadata": {},
     "execution_count": 42
    }
   ],
   "source": [
    "id(X),id(Y)"
   ]
  },
  {
   "cell_type": "code",
   "execution_count": 43,
   "metadata": {
    "tags": []
   },
   "outputs": [
    {
     "output_type": "stream",
     "name": "stdout",
     "text": "id(Z): 2193980318984\nid(Z): 2193980318984\n"
    }
   ],
   "source": [
    "Z = tf.Variable(tf.zeros_like(Y))\n",
    "print('id(Z):', id(Z))\n",
    "Z.assign(X + Y)\n",
    "print('id(Z):', id(Z))"
   ]
  },
  {
   "cell_type": "code",
   "execution_count": 44,
   "metadata": {},
   "outputs": [
    {
     "output_type": "execute_result",
     "data": {
      "text/plain": "(<tf.Tensor: id=138, shape=(2,), dtype=float32, numpy=array([0., 0.], dtype=float32)>,\n <tf.Tensor: id=139, shape=(3, 4), dtype=float32, numpy=\n array([[0., 0., 0., 0.],\n        [0., 0., 0., 0.],\n        [0., 0., 0., 0.]], dtype=float32)>)"
     },
     "metadata": {},
     "execution_count": 44
    }
   ],
   "source": [
    "tf.zeros(2),tf.zeros_like(X)"
   ]
  },
  {
   "cell_type": "code",
   "execution_count": 45,
   "metadata": {},
   "outputs": [
    {
     "output_type": "execute_result",
     "data": {
      "text/plain": "<function tensorflow.python.ops.array_ops.zeros_like_v2(input, dtype=None, name=None)>"
     },
     "metadata": {},
     "execution_count": 45
    }
   ],
   "source": [
    "tf.zeros_like"
   ]
  },
  {
   "cell_type": "code",
   "execution_count": 46,
   "metadata": {},
   "outputs": [],
   "source": [
    "@tf.function\n",
    "def computation(X, Y):\n",
    "    Z = tf.zeros_like(Y)  # This unused value will be pruned out\n",
    "    A = X + Y  # Allocations will be re-used when no longer needed\n",
    "    B = A + Y\n",
    "    C = B + Y\n",
    "    print(len(X), id(X), id(Y), id(A), id(B), id(C), id(Z))\n",
    "    return C + Y\n",
    "\n"
   ]
  },
  {
   "cell_type": "code",
   "execution_count": 47,
   "metadata": {
    "tags": []
   },
   "outputs": [
    {
     "output_type": "stream",
     "name": "stdout",
     "text": "3 2194125628936 2193980321288 2194126499016 2194126044936 2194126332232 2194126042568\n"
    },
    {
     "output_type": "execute_result",
     "data": {
      "text/plain": "<tf.Tensor: id=151, shape=(3, 4), dtype=float32, numpy=\narray([[ 8.,  9., 26., 27.],\n       [24., 33., 42., 51.],\n       [56., 57., 58., 59.]], dtype=float32)>"
     },
     "metadata": {},
     "execution_count": 47
    }
   ],
   "source": [
    "computation(X, Y)"
   ]
  },
  {
   "cell_type": "code",
   "execution_count": 48,
   "metadata": {
    "tags": []
   },
   "outputs": [
    {
     "output_type": "execute_result",
     "data": {
      "text/plain": "<tf.Tensor: id=156, shape=(3, 4), dtype=float32, numpy=\narray([[ 17.,  18.,  51.,  52.],\n       [ 45.,  62.,  79.,  96.],\n       [105., 106., 107., 108.]], dtype=float32)>"
     },
     "metadata": {},
     "execution_count": 48
    }
   ],
   "source": [
    "computation(X+1, Y*2)"
   ]
  },
  {
   "cell_type": "code",
   "execution_count": 50,
   "metadata": {},
   "outputs": [
    {
     "output_type": "execute_result",
     "data": {
      "text/plain": "(tensorflow.python.framework.ops.EagerTensor,\n numpy.ndarray,\n tensorflow.python.framework.ops.EagerTensor)"
     },
     "metadata": {},
     "execution_count": 50
    }
   ],
   "source": [
    "A = X.numpy()\n",
    "B = tf.constant(A)\n",
    "type(X), type(A), type(B)"
   ]
  },
  {
   "cell_type": "code",
   "execution_count": 51,
   "metadata": {},
   "outputs": [],
   "source": [
    "import d2l "
   ]
  },
  {
   "cell_type": "code",
   "execution_count": 53,
   "metadata": {},
   "outputs": [
    {
     "output_type": "error",
     "ename": "ModuleNotFoundError",
     "evalue": "No module named 'requests'",
     "traceback": [
      "\u001b[1;31m---------------------------------------------------------------------------\u001b[0m",
      "\u001b[1;31mModuleNotFoundError\u001b[0m                       Traceback (most recent call last)",
      "\u001b[1;32m<ipython-input-53-9b8989c1dada>\u001b[0m in \u001b[0;36m<module>\u001b[1;34m\u001b[0m\n\u001b[1;32m----> 1\u001b[1;33m \u001b[1;32mimport\u001b[0m \u001b[0md2l\u001b[0m\u001b[1;33m.\u001b[0m\u001b[0mtensorflow\u001b[0m\u001b[1;33m\u001b[0m\u001b[1;33m\u001b[0m\u001b[0m\n\u001b[0m",
      "\u001b[1;32m~\\.conda\\envs\\DLENV\\lib\\site-packages\\d2l\\tensorflow.py\u001b[0m in \u001b[0;36m<module>\u001b[1;34m\u001b[0m\n\u001b[0;32m     17\u001b[0m \u001b[1;32mimport\u001b[0m \u001b[0mtarfile\u001b[0m\u001b[1;33m\u001b[0m\u001b[1;33m\u001b[0m\u001b[0m\n\u001b[0;32m     18\u001b[0m \u001b[1;32mimport\u001b[0m \u001b[0mtime\u001b[0m\u001b[1;33m\u001b[0m\u001b[1;33m\u001b[0m\u001b[0m\n\u001b[1;32m---> 19\u001b[1;33m \u001b[1;32mimport\u001b[0m \u001b[0mrequests\u001b[0m\u001b[1;33m\u001b[0m\u001b[1;33m\u001b[0m\u001b[0m\n\u001b[0m\u001b[0;32m     20\u001b[0m \u001b[1;32mimport\u001b[0m \u001b[0mzipfile\u001b[0m\u001b[1;33m\u001b[0m\u001b[1;33m\u001b[0m\u001b[0m\n\u001b[0;32m     21\u001b[0m \u001b[1;32mimport\u001b[0m \u001b[0mhashlib\u001b[0m\u001b[1;33m\u001b[0m\u001b[1;33m\u001b[0m\u001b[0m\n",
      "\u001b[1;31mModuleNotFoundError\u001b[0m: No module named 'requests'"
     ]
    }
   ],
   "source": [
    "import d2l.tensorflow"
   ]
  },
  {
   "cell_type": "code",
   "execution_count": null,
   "metadata": {},
   "outputs": [],
   "source": []
  }
 ]
}