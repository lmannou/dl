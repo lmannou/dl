{
 "cells": [
  {
   "cell_type": "markdown",
   "metadata": {},
   "source": [
    "CNN example:\n",
    "Adding convolutional layers to MSIST example:\n",
    "1- One CNN layer with 32 filters, 3 * 3 kernel, Relu activation,  28 * 28 pixels\n",
    "    Stride: default = 1\n",
    "    Padding: default: no padding ('valid')\n",
    "    Activation map = ((D - F + 2P) / S ) + 1\n",
    "    D: size of image = 28\n",
    "    F: size of the filter = 3\n",
    "    P: amount of padding = 0\n",
    "    S: Stride = 1\n",
    "    Activation Map = ((28 - 3 + 2*0) / 1) + 1) = 26\n",
    " \n",
    "    Output: 26 * 26 * 32 \n",
    "\n",
    "    Params: 1 filter = 3 *3 = 9 weights\n",
    "            32 filters => 9 * 32 = 288\n",
    "            32 biases\n",
    "            Total params = 320\n",
    "\n",
    "2- One CNN layer with 64 filters, 3 * 3 kernel, Relu activation\n",
    "    Input: 26 * 26 * 32\n",
    "    Activation Map = ((26 - 3 + 2*0) / 1) + 1) = 24\n",
    "\n",
    "    Output = 24 *24 * 64 \n",
    "\n",
    "    Params: 1 filter = 9 weights\n",
    "    64 filters: 64 * 9 \n",
    "    each receives 32 from last layer\n",
    "    Total weights = 64 *9 *32 = 18432\n",
    "    biases = 64\n",
    "    Total params: 18496\n",
    "\n",
    "3- Max Pooling Layer: \n",
    "    Pool size = 2 * 2\n",
    "    Stride: default is same as pool size\n",
    "    Activation Map = 24 / 2 \n",
    "    (24 size of input divided by pool size)\n",
    "\n",
    "    Output = 12 * 12 * 64 \n",
    "\n",
    "4- Flatten layer\n",
    "    Input: 12 *12 * 64\n",
    "    Flattens to 12 * 12 * 64 = 9216\n",
    "\n",
    "4- One dense layer with 128 units\n",
    "    Output 128 \n",
    "\n",
    "    #Params = 9216 * 128 + 128 (Input = 9216, units = 128, biases = 128)\n",
    "            = 1 179 776\n",
    "\n",
    "5- One output layer, 10 units, Softmax\n",
    "    Output: 10 probabilties\n",
    "    #Params = 10 * 128 + 10 = 1290\n",
    " \n",
    "\n",
    "Results:\n",
    "   loss: 0.0207 - accuracy: 0.9944 - val_loss: 0.0623 - val_accuracy: 0.9910"
   ]
  },
  {
   "cell_type": "markdown",
   "metadata": {},
   "source": [
    "Import packages"
   ]
  },
  {
   "cell_type": "code",
   "execution_count": 37,
   "metadata": {},
   "outputs": [],
   "source": [
    "#numpy: Numeric library\n",
    "import numpy as np \n",
    "#graphics\n",
    "from matplotlib import pyplot as plt\n",
    "\n",
    "#tensorflow: use some TF tools\n",
    "import tensorflow as tf\n",
    "#Keras: Deep learning API. In TF 2.x, it is included in TF\n",
    "from tensorflow import keras\n",
    "#Import Dense layer\n",
    "from tensorflow.keras.layers import Dense\n",
    "from tensorflow.keras import Sequential\n",
    "from tensorflow.keras import Model\n",
    "#Optimizers: SGD (Stochastic Gradien Descent)\n",
    "#from tensorflow.keras.optimizers import SGD as sgd\n",
    "\n",
    "#import data set MNIST\n",
    "from tensorflow.keras.datasets import mnist\n",
    "\n",
    "#Batch Norm\n",
    "from tensorflow.keras.layers import BatchNormalization\n",
    "\n",
    "# import regularizer\n",
    "from tensorflow.keras import regularizers  \n",
    "\n",
    "#Dropout\n",
    "from tensorflow.keras.layers import Dropout\n",
    "\n",
    "#CNN \n",
    "from tensorflow.keras.layers import Conv2D, MaxPool2D\n",
    "from tensorflow.keras.layers import Flatten\n",
    "from tensorflow.keras.layers import Activation"
   ]
  },
  {
   "cell_type": "markdown",
   "metadata": {},
   "source": [
    "Import MNIST data set\n",
    "60000 training examples\n",
    "10000 validation examples\n",
    "1 example = 28 * 28 matrix (image with 28 * 28 pixels)\n"
   ]
  },
  {
   "cell_type": "code",
   "execution_count": 38,
   "metadata": {},
   "outputs": [],
   "source": [
    "(X_train, y_train), (X_valid, y_valid) = mnist.load_data()\n"
   ]
  },
  {
   "cell_type": "code",
   "execution_count": 39,
   "metadata": {},
   "outputs": [
    {
     "name": "stdout",
     "output_type": "stream",
     "text": [
      "(60000, 28, 28)\n"
     ]
    }
   ],
   "source": [
    "print(X_train.shape)\n"
   ]
  },
  {
   "cell_type": "code",
   "execution_count": 40,
   "metadata": {},
   "outputs": [
    {
     "name": "stdout",
     "output_type": "stream",
     "text": [
      "(60000,)\n"
     ]
    }
   ],
   "source": [
    "print(y_train.shape)"
   ]
  },
  {
   "cell_type": "code",
   "execution_count": 41,
   "metadata": {},
   "outputs": [
    {
     "name": "stdout",
     "output_type": "stream",
     "text": [
      "(10000, 28, 28)\n",
      "(10000,)\n"
     ]
    }
   ],
   "source": [
    "print(X_valid.shape)\n",
    "print(y_valid.shape)"
   ]
  },
  {
   "cell_type": "markdown",
   "metadata": {},
   "source": [
    "Process & Prepare data\n",
    "Reshaping input data:\n",
    "Input data (x_train[i]) should not be converted to a vector. Is must stay as 60000 of images (28 *28)\n",
    "- From shape (60000, 28, 28) to shape (60000, 28, 28, 1)\n",
    "- Last dimension 1 : value of the pixel (monochrome). If it was color image, it would be 3\n",
    "- Convert to float32 (default is uint8, which python will convert to float64) (flaot 32 will take less memory)"
   ]
  },
  {
   "cell_type": "code",
   "execution_count": 42,
   "metadata": {},
   "outputs": [],
   "source": [
    "#use numpy reshape\n",
    "x_train = X_train.reshape( 60000, 28, 28, 1).astype('float32')\n",
    "x_valid = X_valid.reshape(10000, 28, 28, 1).astype('float32')"
   ]
  },
  {
   "cell_type": "code",
   "execution_count": 43,
   "metadata": {},
   "outputs": [
    {
     "name": "stdout",
     "output_type": "stream",
     "text": [
      "(60000, 28, 28, 1)\n",
      "(10000, 28, 28, 1)\n",
      "0.0\n"
     ]
    }
   ],
   "source": [
    "print(x_train.shape)\n",
    "print(x_valid.shape)\n",
    "print(x_train[0][0][21][0])"
   ]
  },
  {
   "cell_type": "markdown",
   "metadata": {},
   "source": [
    "Prepare Data (2)\n",
    "divide by 255, so the values will range from 0 to 1\n"
   ]
  },
  {
   "cell_type": "markdown",
   "metadata": {},
   "source": [
    "Prepare labels (y_train and y_valid)\n",
    "y_train[i] is given as a number (0, 9). We have 10 possible values. \n",
    "Convert to one-hot format:\n",
    "0 => [1, 0, 0, 0, 0,0, 0,0, 0,0]\n",
    "1 => [0, 1, 0, 0, 0,0, 0,0, 0,0]\n",
    "9 => [0, 0, 0, 0, 0,0, 0,0, 0,1]"
   ]
  },
  {
   "cell_type": "code",
   "execution_count": 44,
   "metadata": {},
   "outputs": [
    {
     "name": "stdout",
     "output_type": "stream",
     "text": [
      "5\n",
      "[0. 0. 0. 0. 0. 1. 0. 0. 0. 0.]\n",
      "7\n",
      "[0. 0. 0. 0. 0. 0. 0. 1. 0. 0.]\n"
     ]
    }
   ],
   "source": [
    "n_classes = 10\n",
    "print(y_train[0])\n",
    "y_train = keras.utils.to_categorical(y_train, n_classes)\n",
    "print(y_train[0])\n",
    "\n",
    "print(y_valid[0])\n",
    "y_valid = keras.utils.to_categorical(y_valid, n_classes)\n",
    "print(y_valid[0])\n"
   ]
  },
  {
   "cell_type": "markdown",
   "metadata": {},
   "source": [
    "Define Neural Network Architecture\n",
    "Using Keras API"
   ]
  },
  {
   "cell_type": "code",
   "execution_count": 45,
   "metadata": {},
   "outputs": [
    {
     "name": "stdout",
     "output_type": "stream",
     "text": [
      "0.1\n"
     ]
    }
   ],
   "source": [
    "#Define activations\n",
    "relu = keras.activations.relu\n",
    "softmax = keras.activations.softmax\n",
    "\n",
    "#define loss function: Cross entropy\n",
    "loss = keras.losses.categorical_crossentropy\n",
    "\n",
    "#define metrics\n",
    "metrics = [keras.metrics.Accuracy()]\n",
    "\n",
    "#define optimizer\n",
    "sgd=keras.optimizers.SGD(lr=0.1)\n",
    "tf.print(sgd.lr)\n"
   ]
  },
  {
   "cell_type": "code",
   "execution_count": 46,
   "metadata": {},
   "outputs": [
    {
     "data": {
      "text/plain": [
       "'{\"class_name\": \"Sequential\", \"config\": {\"name\": \"sequential_1\", \"layers\": []}, \"keras_version\": \"2.2.4-tf\", \"backend\": \"tensorflow\"}'"
      ]
     },
     "execution_count": 46,
     "metadata": {},
     "output_type": "execute_result"
    }
   ],
   "source": [
    "# Sequential: model of type sequential (layer n can pass information only to layer n+1)\n",
    "model = Sequential()\n",
    "model.to_json()"
   ]
  },
  {
   "cell_type": "code",
   "execution_count": 47,
   "metadata": {},
   "outputs": [],
   "source": [
    "#define First Convolutional layer\n",
    "nbFilters_1 = 32 #Filters for first layer\n",
    "kernel_size = (3, 3)\n",
    "input_shape=(28,28,1)\n",
    "\n",
    "layer1 = Conv2D(nbFilters_1,   kernel_size=kernel_size, activation=relu, input_shape=input_shape)\n",
    "# No Pooling layer\n"
   ]
  },
  {
   "cell_type": "code",
   "execution_count": 48,
   "metadata": {},
   "outputs": [],
   "source": [
    "#define Second Convolutional layer\n",
    "nbFilters_2 = 64 #Filters for first layer\n",
    "kernel_size = (3, 3)\n",
    "\n",
    "layer2 = Conv2D(nbFilters_2,   kernel_size=kernel_size, activation=relu)\n"
   ]
  },
  {
   "cell_type": "code",
   "execution_count": 49,
   "metadata": {},
   "outputs": [],
   "source": [
    "# Add Pooling layer\n",
    "pool_size=(2,2)\n",
    "poolingLayer=MaxPool2D(pool_size=pool_size)\n"
   ]
  },
  {
   "cell_type": "code",
   "execution_count": 50,
   "metadata": {},
   "outputs": [],
   "source": [
    "#Add dense layer \n",
    "denseLayer= Dense(128, activation=relu)\n",
    "\n",
    "#Add outputLayer=\n",
    "outputLayer = Dense(n_classes, activation=softmax)"
   ]
  },
  {
   "cell_type": "code",
   "execution_count": 51,
   "metadata": {},
   "outputs": [],
   "source": [
    "#Compose Model\n",
    "model.add(layer1) #Convolutional\n",
    "model.add(layer2) #Convolutional\n",
    "\n",
    "model.add(poolingLayer) # Pooling Layer (Max)\n",
    "\n",
    "model.add(Dropout(0.25)) #Dropout 25%\n",
    "\n",
    "# Important : Flatten the output so as to add a dense layer\n",
    "# Dense layer must have a flattened inpit (vector of scalars)\n",
    "model.add(Flatten())\n",
    "\n",
    "#Dense layer with dropout\n",
    "model.add(denseLayer)\n",
    "model.add(Dropout(0.5))\n",
    "\n",
    "# Output layer\n",
    "model.add(outputLayer)\n"
   ]
  },
  {
   "cell_type": "code",
   "execution_count": 52,
   "metadata": {},
   "outputs": [],
   "source": [
    "#compile Model\n",
    "model.compile(loss=loss, \n",
    "         optimizer='adam', #sgd,\n",
    "         metrics=['accuracy'])"
   ]
  },
  {
   "cell_type": "code",
   "execution_count": 53,
   "metadata": {},
   "outputs": [
    {
     "name": "stdout",
     "output_type": "stream",
     "text": [
      "Model: \"sequential_1\"\n",
      "_________________________________________________________________\n",
      "Layer (type)                 Output Shape              Param #   \n",
      "=================================================================\n",
      "conv2d_2 (Conv2D)            (None, 26, 26, 32)        320       \n",
      "_________________________________________________________________\n",
      "conv2d_3 (Conv2D)            (None, 24, 24, 64)        18496     \n",
      "_________________________________________________________________\n",
      "max_pooling2d_1 (MaxPooling2 (None, 12, 12, 64)        0         \n",
      "_________________________________________________________________\n",
      "dropout_2 (Dropout)          (None, 12, 12, 64)        0         \n",
      "_________________________________________________________________\n",
      "flatten_1 (Flatten)          (None, 9216)              0         \n",
      "_________________________________________________________________\n",
      "dense_2 (Dense)              (None, 128)               1179776   \n",
      "_________________________________________________________________\n",
      "dropout_3 (Dropout)          (None, 128)               0         \n",
      "_________________________________________________________________\n",
      "dense_3 (Dense)              (None, 10)                1290      \n",
      "=================================================================\n",
      "Total params: 1,199,882\n",
      "Trainable params: 1,199,882\n",
      "Non-trainable params: 0\n",
      "_________________________________________________________________\n"
     ]
    }
   ],
   "source": [
    "# print model summary\n",
    "model.summary()"
   ]
  },
  {
   "cell_type": "markdown",
   "metadata": {},
   "source": [
    "TensorBoard"
   ]
  },
  {
   "cell_type": "code",
   "execution_count": 54,
   "metadata": {},
   "outputs": [
    {
     "name": "stdout",
     "output_type": "stream",
     "text": [
      "logs/first_2_cnn_1_dense/20200314-014329\n"
     ]
    }
   ],
   "source": [
    "from tensorflow.keras.callbacks import TensorBoard\n",
    "import os \n",
    "import datetime\n",
    "folder=\"logs/first_2_cnn_1_dense\"\n",
    "if not os.path.exists(folder):\n",
    "   os.mkdir(folder)\n",
    "log_dir = folder + \"/\" + datetime.datetime.now().strftime(\"%Y%m%d-%H%M%S\")\n",
    "print(log_dir)\n",
    "os.mkdir(log_dir)\n",
    " \n",
    "tensorBoard = TensorBoard(log_dir, histogram_freq=1,profile_batch = 100000000)"
   ]
  },
  {
   "cell_type": "code",
   "execution_count": 55,
   "metadata": {},
   "outputs": [
    {
     "name": "stdout",
     "output_type": "stream",
     "text": [
      "Train on 60000 samples, validate on 10000 samples\n",
      "Epoch 1/20\n",
      "60000/60000 [==============================] - 100s 2ms/sample - loss: 0.5300 - accuracy: 0.8869 - val_loss: 0.0662 - val_accuracy: 0.9800\n",
      "Epoch 2/20\n",
      "60000/60000 [==============================] - 99s 2ms/sample - loss: 0.1346 - accuracy: 0.9599 - val_loss: 0.0480 - val_accuracy: 0.9858\n",
      "Epoch 3/20\n",
      "60000/60000 [==============================] - 101s 2ms/sample - loss: 0.0981 - accuracy: 0.9708 - val_loss: 0.0473 - val_accuracy: 0.9853\n",
      "Epoch 4/20\n",
      "60000/60000 [==============================] - 100s 2ms/sample - loss: 0.0814 - accuracy: 0.9758 - val_loss: 0.0434 - val_accuracy: 0.9867\n",
      "Epoch 5/20\n",
      "60000/60000 [==============================] - 99s 2ms/sample - loss: 0.0673 - accuracy: 0.9789 - val_loss: 0.0453 - val_accuracy: 0.9864\n",
      "Epoch 6/20\n",
      "60000/60000 [==============================] - 99s 2ms/sample - loss: 0.0626 - accuracy: 0.9806 - val_loss: 0.0474 - val_accuracy: 0.9863\n",
      "Epoch 7/20\n",
      "60000/60000 [==============================] - 101s 2ms/sample - loss: 0.0592 - accuracy: 0.9814 - val_loss: 0.0428 - val_accuracy: 0.9886\n",
      "Epoch 8/20\n",
      "60000/60000 [==============================] - 101s 2ms/sample - loss: 0.0531 - accuracy: 0.9835 - val_loss: 0.0403 - val_accuracy: 0.9890\n",
      "Epoch 9/20\n",
      "60000/60000 [==============================] - 101s 2ms/sample - loss: 0.0476 - accuracy: 0.9851 - val_loss: 0.0367 - val_accuracy: 0.9911\n",
      "Epoch 10/20\n",
      "60000/60000 [==============================] - 103s 2ms/sample - loss: 0.0470 - accuracy: 0.9855 - val_loss: 0.0361 - val_accuracy: 0.9900\n",
      "Epoch 11/20\n",
      "60000/60000 [==============================] - 101s 2ms/sample - loss: 0.0448 - accuracy: 0.9862 - val_loss: 0.0338 - val_accuracy: 0.9900\n",
      "Epoch 12/20\n",
      "60000/60000 [==============================] - 101s 2ms/sample - loss: 0.0453 - accuracy: 0.9856 - val_loss: 0.0417 - val_accuracy: 0.9892\n",
      "Epoch 13/20\n",
      "60000/60000 [==============================] - 100s 2ms/sample - loss: 0.0406 - accuracy: 0.9873 - val_loss: 0.0429 - val_accuracy: 0.9893\n",
      "Epoch 14/20\n",
      "60000/60000 [==============================] - 101s 2ms/sample - loss: 0.0380 - accuracy: 0.9886 - val_loss: 0.0366 - val_accuracy: 0.9909\n",
      "Epoch 15/20\n",
      "60000/60000 [==============================] - 99s 2ms/sample - loss: 0.0387 - accuracy: 0.9878 - val_loss: 0.0391 - val_accuracy: 0.9904\n",
      "Epoch 16/20\n",
      "60000/60000 [==============================] - 100s 2ms/sample - loss: 0.0342 - accuracy: 0.9891 - val_loss: 0.0428 - val_accuracy: 0.9900\n",
      "Epoch 17/20\n",
      "60000/60000 [==============================] - 102s 2ms/sample - loss: 0.0340 - accuracy: 0.9898 - val_loss: 0.0362 - val_accuracy: 0.9921\n",
      "Epoch 18/20\n",
      "60000/60000 [==============================] - 103s 2ms/sample - loss: 0.0327 - accuracy: 0.9900 - val_loss: 0.0413 - val_accuracy: 0.9898\n",
      "Epoch 19/20\n",
      "60000/60000 [==============================] - 101s 2ms/sample - loss: 0.0299 - accuracy: 0.9909 - val_loss: 0.0372 - val_accuracy: 0.9920\n",
      "Epoch 20/20\n",
      "60000/60000 [==============================] - 101s 2ms/sample - loss: 0.0322 - accuracy: 0.9905 - val_loss: 0.0396 - val_accuracy: 0.9903\n"
     ]
    }
   ],
   "source": [
    "# Train\n",
    "batch_size = 128\n",
    "nb_epoch = 20\n",
    "history=model.fit(x_train, y_train, batch_size= batch_size, epochs = nb_epoch, verbose=1, validation_data=(x_valid, y_valid),callbacks=[tensorBoard])"
   ]
  },
  {
   "cell_type": "markdown",
   "metadata": {},
   "source": [
    "Save Model"
   ]
  },
  {
   "cell_type": "code",
   "execution_count": 56,
   "metadata": {},
   "outputs": [
    {
     "name": "stdout",
     "output_type": "stream",
     "text": [
      "logs/first_2_cnn_1_dense/20200314-014329\n"
     ]
    }
   ],
   "source": [
    "# serialize model to JSON\n",
    "print(log_dir)\n",
    "model_json = model.to_json()\n",
    "with open(log_dir + \"/model.json\", \"w\") as json_file:\n",
    "    json_file.write(model_json)\n",
    "\n",
    "# serialize weights to HDF5\n",
    "model.save(log_dir + \"/model_all.h5\")"
   ]
  },
  {
   "cell_type": "markdown",
   "metadata": {},
   "source": [
    "Plot History"
   ]
  },
  {
   "cell_type": "code",
   "execution_count": 57,
   "metadata": {},
   "outputs": [
    {
     "data": {
      "image/png": "[encoded data removed]",
      "text/plain": [
       "<Figure size 432x288 with 1 Axes>"
      ]
     },
     "metadata": {
      "needs_background": "light"
     },
     "output_type": "display_data"
    },
    {
     "data": {
      "image/png": "[encoded data removed]",
      "text/plain": [
       "<Figure size 432x288 with 1 Axes>"
      ]
     },
     "metadata": {
      "needs_background": "light"
     },
     "output_type": "display_data"
    }
   ],
   "source": [
    "\n",
    "# Plot training & validation accuracy values\n",
    "plt.plot(history.history['accuracy'])\n",
    "plt.plot(history.history['val_accuracy'])\n",
    "plt.title('Model accuracy')\n",
    "plt.ylabel('Accuracy')\n",
    "plt.xlabel('Epoch')\n",
    "plt.legend(['Train', 'Test'], loc='upper left')\n",
    "plt.show()\n",
    "\n",
    "#Plot training & validation loss values\n",
    "plt.plot(history.history['loss'])\n",
    "plt.plot(history.history['val_loss'])\n",
    "plt.title('Model loss')\n",
    "plt.ylabel('Loss')\n",
    "plt.xlabel('Epoch')\n",
    "plt.legend(['Train', 'Test'], loc='upper left')\n",
    "plt.show()"
   ]
  },
  {
   "cell_type": "code",
   "execution_count": 58,
   "metadata": {},
   "outputs": [
    {
     "name": "stdout",
     "output_type": "stream",
     "text": [
      "Model: \"sequential_1\"\n",
      "_________________________________________________________________\n",
      "Layer (type)                 Output Shape              Param #   \n",
      "=================================================================\n",
      "conv2d_2 (Conv2D)            (None, 26, 26, 32)        320       \n",
      "_________________________________________________________________\n",
      "conv2d_3 (Conv2D)            (None, 24, 24, 64)        18496     \n",
      "_________________________________________________________________\n",
      "max_pooling2d_1 (MaxPooling2 (None, 12, 12, 64)        0         \n",
      "_________________________________________________________________\n",
      "dropout_2 (Dropout)          (None, 12, 12, 64)        0         \n",
      "_________________________________________________________________\n",
      "flatten_1 (Flatten)          (None, 9216)              0         \n",
      "_________________________________________________________________\n",
      "dense_2 (Dense)              (None, 128)               1179776   \n",
      "_________________________________________________________________\n",
      "dropout_3 (Dropout)          (None, 128)               0         \n",
      "_________________________________________________________________\n",
      "dense_3 (Dense)              (None, 10)                1290      \n",
      "=================================================================\n",
      "Total params: 1,199,882\n",
      "Trainable params: 1,199,882\n",
      "Non-trainable params: 0\n",
      "_________________________________________________________________\n"
     ]
    }
   ],
   "source": [
    "# summary\n",
    "model.summary()"
   ]
  },
  {
   "cell_type": "code",
   "execution_count": 59,
   "metadata": {},
   "outputs": [
    {
     "name": "stdout",
     "output_type": "stream",
     "text": [
      "{\"class_name\": \"Sequential\", \"config\": {\"name\": \"sequential_1\", \"layers\": [{\"class_name\": \"Conv2D\", \"config\": {\"name\": \"conv2d_2\", \"trainable\": true, \"batch_input_shape\": [null, 28, 28, 1], \"dtype\": \"float32\", \"filters\": 32, \"kernel_size\": [3, 3], \"strides\": [1, 1], \"padding\": \"valid\", \"data_format\": \"channels_last\", \"dilation_rate\": [1, 1], \"activation\": \"relu\", \"use_bias\": true, \"kernel_initializer\": {\"class_name\": \"GlorotUniform\", \"config\": {\"seed\": null}}, \"bias_initializer\": {\"class_name\": \"Zeros\", \"config\": {}}, \"kernel_regularizer\": null, \"bias_regularizer\": null, \"activity_regularizer\": null, \"kernel_constraint\": null, \"bias_constraint\": null}}, {\"class_name\": \"Conv2D\", \"config\": {\"name\": \"conv2d_3\", \"trainable\": true, \"dtype\": \"float32\", \"filters\": 64, \"kernel_size\": [3, 3], \"strides\": [1, 1], \"padding\": \"valid\", \"data_format\": \"channels_last\", \"dilation_rate\": [1, 1], \"activation\": \"relu\", \"use_bias\": true, \"kernel_initializer\": {\"class_name\": \"GlorotUniform\", \"config\": {\"seed\": null}}, \"bias_initializer\": {\"class_name\": \"Zeros\", \"config\": {}}, \"kernel_regularizer\": null, \"bias_regularizer\": null, \"activity_regularizer\": null, \"kernel_constraint\": null, \"bias_constraint\": null}}, {\"class_name\": \"MaxPooling2D\", \"config\": {\"name\": \"max_pooling2d_1\", \"trainable\": true, \"dtype\": \"float32\", \"pool_size\": [2, 2], \"padding\": \"valid\", \"strides\": [2, 2], \"data_format\": \"channels_last\"}}, {\"class_name\": \"Dropout\", \"config\": {\"name\": \"dropout_2\", \"trainable\": true, \"dtype\": \"float32\", \"rate\": 0.25, \"noise_shape\": null, \"seed\": null}}, {\"class_name\": \"Flatten\", \"config\": {\"name\": \"flatten_1\", \"trainable\": true, \"dtype\": \"float32\", \"data_format\": \"channels_last\"}}, {\"class_name\": \"Dense\", \"config\": {\"name\": \"dense_2\", \"trainable\": true, \"dtype\": \"float32\", \"units\": 128, \"activation\": \"relu\", \"use_bias\": true, \"kernel_initializer\": {\"class_name\": \"GlorotUniform\", \"config\": {\"seed\": null}}, \"bias_initializer\": {\"class_name\": \"Zeros\", \"config\": {}}, \"kernel_regularizer\": null, \"bias_regularizer\": null, \"activity_regularizer\": null, \"kernel_constraint\": null, \"bias_constraint\": null}}, {\"class_name\": \"Dropout\", \"config\": {\"name\": \"dropout_3\", \"trainable\": true, \"dtype\": \"float32\", \"rate\": 0.5, \"noise_shape\": null, \"seed\": null}}, {\"class_name\": \"Dense\", \"config\": {\"name\": \"dense_3\", \"trainable\": true, \"dtype\": \"float32\", \"units\": 10, \"activation\": \"softmax\", \"use_bias\": true, \"kernel_initializer\": {\"class_name\": \"GlorotUniform\", \"config\": {\"seed\": null}}, \"bias_initializer\": {\"class_name\": \"Zeros\", \"config\": {}}, \"kernel_regularizer\": null, \"bias_regularizer\": null, \"activity_regularizer\": null, \"kernel_constraint\": null, \"bias_constraint\": null}}]}, \"keras_version\": \"2.2.4-tf\", \"backend\": \"tensorflow\"}\n"
     ]
    }
   ],
   "source": [
    "json = model.to_json()\n",
    "tf.print(json)"
   ]
  },
  {
   "cell_type": "markdown",
   "metadata": {},
   "source": [
    "End"
   ]
  }
 ],
 "metadata": {
  "file_extension": ".py",
  "kernelspec": {
   "display_name": "Python 3",
   "language": "python",
   "name": "python3"
  },
  "language_info": {
   "codemirror_mode": {
    "name": "ipython",
    "version": 3
   },
   "file_extension": ".py",
   "mimetype": "text/x-python",
   "name": "python",
   "nbconvert_exporter": "python",
   "pygments_lexer": "ipython3",
   "version": "3.6.9"
  },
  "mimetype": "text/x-python",
  "name": "python",
  "npconvert_exporter": "python",
  "pygments_lexer": "ipython3",
  "version": 3
 },
 "nbformat": 4,
 "nbformat_minor": 4
}
