{
 "metadata": {
  "language_info": {
   "codemirror_mode": {
    "name": "ipython",
    "version": 3
   },
   "file_extension": ".py",
   "mimetype": "text/x-python",
   "name": "python",
   "nbconvert_exporter": "python",
   "pygments_lexer": "ipython3",
   "version": "3.7.6-final"
  },
  "orig_nbformat": 2,
  "kernelspec": {
   "name": "python_defaultSpec_1601049194466",
   "display_name": "Python 3.7.6 64-bit ('DLENV': conda)"
  }
 },
 "nbformat": 4,
 "nbformat_minor": 2,
 "cells": [
  {
   "cell_type": "code",
   "execution_count": 27,
   "metadata": {},
   "outputs": [],
   "source": [
    "import os\n",
    "import tensorflow as tf"
   ]
  },
  {
   "cell_type": "code",
   "execution_count": 2,
   "metadata": {},
   "outputs": [],
   "source": [
    "def mkdir_if_not_exist(path):  #@save\n",
    "    \"\"\"Make a directory if it does not exist.\"\"\"\n",
    "    if not isinstance(path, str):\n",
    "        path = os.path.join(*path)\n",
    "    if not os.path.exists(path):\n",
    "        os.makedirs(path)"
   ]
  },
  {
   "cell_type": "code",
   "execution_count": 3,
   "metadata": {},
   "outputs": [],
   "source": [
    "data_file = '../data/house_tiny.csv'\n",
    "mkdir_if_not_exist('../data')"
   ]
  },
  {
   "cell_type": "code",
   "execution_count": 4,
   "metadata": {},
   "outputs": [],
   "source": [
    "with open(data_file, 'w') as f:\n",
    "    f.write('NumRooms,Alley,Price\\n')  # Column names\n",
    "    f.write('NA,Pave,127500\\n')  # Each row represents a data example\n",
    "    f.write('2,NA,106000\\n')\n",
    "    f.write('4,NA,178100\\n')\n",
    "    f.write('NA,NA,140000\\n')"
   ]
  },
  {
   "cell_type": "code",
   "execution_count": 5,
   "metadata": {},
   "outputs": [],
   "source": [
    "import pandas as pd"
   ]
  },
  {
   "cell_type": "code",
   "execution_count": 6,
   "metadata": {
    "tags": []
   },
   "outputs": [
    {
     "output_type": "stream",
     "name": "stdout",
     "text": "NumRooms Alley   Price\n0       NaN  Pave  127500\n1       2.0   NaN  106000\n2       4.0   NaN  178100\n3       NaN   NaN  140000\n"
    }
   ],
   "source": [
    "data = pd.read_csv(data_file)\n",
    "print(data)"
   ]
  },
  {
   "cell_type": "code",
   "execution_count": 7,
   "metadata": {
    "tags": []
   },
   "outputs": [
    {
     "output_type": "stream",
     "name": "stdout",
     "text": "Help on package pandas:\n\nNAME\n    pandas\n\nDESCRIPTION\n    pandas - a powerful data analysis and manipulation library for Python\n    =====================================================================\n    \n    **pandas** is a Python package providing fast, flexible, and expressive data\n    structures designed to make working with \"relational\" or \"labeled\" data both\n    easy and intuitive. It aims to be the fundamental high-level building block for\n    doing practical, **real world** data analysis in Python. Additionally, it has\n    the broader goal of becoming **the most powerful and flexible open source data\n    analysis / manipulation tool available in any language**. It is already well on\n    its way toward this goal.\n    \n    Main Features\n    -------------\n    Here are just a few of the things that pandas does well:\n    \n      - Easy handling of missing data in floating point as well as non-floating\n        point data.\n      - Size mutability: columns can be inserted and deleted from DataFrame and\n        higher dimensional objects\n      - Automatic and explicit data alignment: objects can be explicitly aligned\n        to a set of labels, or the user can simply ignore the labels and let\n        `Series`, `DataFrame`, etc. automatically align the data for you in\n        computations.\n      - Powerful, flexible group by functionality to perform split-apply-combine\n        operations on data sets, for both aggregating and transforming data.\n      - Make it easy to convert ragged, differently-indexed data in other Python\n        and NumPy data structures into DataFrame objects.\n      - Intelligent label-based slicing, fancy indexing, and subsetting of large\n        data sets.\n      - Intuitive merging and joining data sets.\n      - Flexible reshaping and pivoting of data sets.\n      - Hierarchical labeling of axes (possible to have multiple labels per tick).\n      - Robust IO tools for loading data from flat files (CSV and delimited),\n        Excel files, databases, and saving/loading data from the ultrafast HDF5\n        format.\n      - Time series-specific functionality: date range generation and frequency\n        conversion, moving window statistics, date shifting and lagging.\n\nPACKAGE CONTENTS\n    _config (package)\n    _libs (package)\n    _testing\n    _typing\n    _version\n    api (package)\n    arrays (package)\n    compat (package)\n    conftest\n    core (package)\n    errors (package)\n    io (package)\n    plotting (package)\n    testing\n    tests (package)\n    tseries (package)\n    util (package)\n\nSUBMODULES\n    _hashtable\n    _lib\n    _tslib\n    offsets\n\nFUNCTIONS\n    __getattr__(name)\n\nDATA\n    IndexSlice = <pandas.core.indexing._IndexSlice object>\n    NA = <NA>\n    NaT = NaT\n    __docformat__ = 'restructuredtext'\n    __git_version__ = '29d6b0232aab9576afa896ff5bab0b994760495a'\n    describe_option = <pandas._config.config.CallableDynamicDoc object>\n    get_option = <pandas._config.config.CallableDynamicDoc object>\n    options = <pandas._config.config.DictWrapper object>\n    reset_option = <pandas._config.config.CallableDynamicDoc object>\n    set_option = <pandas._config.config.CallableDynamicDoc object>\n\nVERSION\n    1.0.1\n\nFILE\n    c:\\users\\lmann\\.conda\\envs\\dlenv\\lib\\site-packages\\pandas\\__init__.py\n\n\n"
    }
   ],
   "source": [
    "help(pd)"
   ]
  },
  {
   "cell_type": "code",
   "execution_count": 8,
   "metadata": {},
   "outputs": [
    {
     "output_type": "execute_result",
     "data": {
      "text/plain": "pandas.core.frame.DataFrame"
     },
     "metadata": {},
     "execution_count": 8
    }
   ],
   "source": [
    "type(data)"
   ]
  },
  {
   "cell_type": "code",
   "execution_count": 17,
   "metadata": {},
   "outputs": [
    {
     "output_type": "execute_result",
     "data": {
      "text/plain": "   NumRooms Alley\n0       NaN  Pave\n1       2.0   NaN\n2       4.0   NaN\n3       NaN   NaN",
      "text/html": "<div>\n<style scoped>\n    .dataframe tbody tr th:only-of-type {\n        vertical-align: middle;\n    }\n\n    .dataframe tbody tr th {\n        vertical-align: top;\n    }\n\n    .dataframe thead th {\n        text-align: right;\n    }\n</style>\n<table border=\"1\" class=\"dataframe\">\n  <thead>\n    <tr style=\"text-align: right;\">\n      <th></th>\n      <th>NumRooms</th>\n      <th>Alley</th>\n    </tr>\n  </thead>\n  <tbody>\n    <tr>\n      <th>0</th>\n      <td>NaN</td>\n      <td>Pave</td>\n    </tr>\n    <tr>\n      <th>1</th>\n      <td>2.0</td>\n      <td>NaN</td>\n    </tr>\n    <tr>\n      <th>2</th>\n      <td>4.0</td>\n      <td>NaN</td>\n    </tr>\n    <tr>\n      <th>3</th>\n      <td>NaN</td>\n      <td>NaN</td>\n    </tr>\n  </tbody>\n</table>\n</div>"
     },
     "metadata": {},
     "execution_count": 17
    }
   ],
   "source": [
    "data.iloc[:, 0:2]"
   ]
  },
  {
   "cell_type": "code",
   "execution_count": 14,
   "metadata": {},
   "outputs": [
    {
     "output_type": "execute_result",
     "data": {
      "text/plain": "0    127500\n1    106000\n2    178100\n3    140000\nName: Price, dtype: int64"
     },
     "metadata": {},
     "execution_count": 14
    }
   ],
   "source": [
    "data.iloc[:, 2]"
   ]
  },
  {
   "cell_type": "code",
   "execution_count": 18,
   "metadata": {},
   "outputs": [],
   "source": [
    "inputs, outputs = data.iloc[:, 0:2], data.iloc[:, 2]"
   ]
  },
  {
   "cell_type": "code",
   "execution_count": 19,
   "metadata": {},
   "outputs": [
    {
     "output_type": "execute_result",
     "data": {
      "text/plain": "(   NumRooms Alley\n 0       NaN  Pave\n 1       2.0   NaN\n 2       4.0   NaN\n 3       NaN   NaN,\n 0    127500\n 1    106000\n 2    178100\n 3    140000\n Name: Price, dtype: int64)"
     },
     "metadata": {},
     "execution_count": 19
    }
   ],
   "source": [
    "inputs, outputs "
   ]
  },
  {
   "cell_type": "code",
   "execution_count": 20,
   "metadata": {},
   "outputs": [
    {
     "output_type": "execute_result",
     "data": {
      "text/plain": "NumRooms    3.0\ndtype: float64"
     },
     "metadata": {},
     "execution_count": 20
    }
   ],
   "source": [
    "inputs.mean()"
   ]
  },
  {
   "cell_type": "code",
   "execution_count": 23,
   "metadata": {},
   "outputs": [
    {
     "output_type": "execute_result",
     "data": {
      "text/plain": "137900.0"
     },
     "metadata": {},
     "execution_count": 23
    }
   ],
   "source": [
    "outputs.mean()"
   ]
  },
  {
   "cell_type": "code",
   "execution_count": 24,
   "metadata": {
    "tags": []
   },
   "outputs": [
    {
     "output_type": "stream",
     "name": "stdout",
     "text": "NumRooms Alley\n0       3.0  Pave\n1       2.0   NaN\n2       4.0   NaN\n3       3.0   NaN\n"
    }
   ],
   "source": [
    "inputs = inputs.fillna(inputs.mean())\n",
    "print(inputs)"
   ]
  },
  {
   "cell_type": "code",
   "execution_count": 25,
   "metadata": {
    "tags": []
   },
   "outputs": [
    {
     "output_type": "stream",
     "name": "stdout",
     "text": "NumRooms  Alley_Pave  Alley_nan\n0       3.0           1          0\n1       2.0           0          1\n2       4.0           0          1\n3       3.0           0          1\n"
    }
   ],
   "source": [
    "inputs = pd.get_dummies(inputs, dummy_na=True)\n",
    "print(inputs)"
   ]
  },
  {
   "cell_type": "code",
   "execution_count": 28,
   "metadata": {},
   "outputs": [
    {
     "output_type": "execute_result",
     "data": {
      "text/plain": "(<tf.Tensor: id=0, shape=(4, 3), dtype=float64, numpy=\n array([[3., 1., 0.],\n        [2., 0., 1.],\n        [4., 0., 1.],\n        [3., 0., 1.]])>,\n <tf.Tensor: id=1, shape=(4,), dtype=int64, numpy=array([127500, 106000, 178100, 140000], dtype=int64)>)"
     },
     "metadata": {},
     "execution_count": 28
    }
   ],
   "source": [
    "X, y = tf.constant(inputs.values), tf.constant(outputs.values)\n",
    "X, y"
   ]
  },
  {
   "cell_type": "code",
   "execution_count": 29,
   "metadata": {},
   "outputs": [
    {
     "output_type": "execute_result",
     "data": {
      "text/plain": "<tf.Tensor: id=1, shape=(4,), dtype=int64, numpy=array([127500, 106000, 178100, 140000], dtype=int64)>"
     },
     "metadata": {},
     "execution_count": 29
    }
   ],
   "source": [
    "y"
   ]
  },
  {
   "cell_type": "code",
   "execution_count": 30,
   "metadata": {},
   "outputs": [
    {
     "output_type": "execute_result",
     "data": {
      "text/plain": "1777903936088"
     },
     "metadata": {},
     "execution_count": 30
    }
   ],
   "source": [
    "id(y)"
   ]
  },
  {
   "cell_type": "code",
   "execution_count": 31,
   "metadata": {},
   "outputs": [
    {
     "output_type": "execute_result",
     "data": {
      "text/plain": "tensorflow.python.framework.ops.EagerTensor"
     },
     "metadata": {},
     "execution_count": 31
    }
   ],
   "source": [
    "type(y)"
   ]
  },
  {
   "cell_type": "code",
   "execution_count": null,
   "metadata": {},
   "outputs": [],
   "source": []
  }
 ]
}