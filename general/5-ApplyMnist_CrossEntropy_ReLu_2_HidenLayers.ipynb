{
 "nbformat": 4,
 "nbformat_minor": 2,
 "metadata": {
  "language_info": {
   "name": "python",
   "codemirror_mode": {
    "name": "ipython",
    "version": 3
   },
   "version": "3.7.6-final"
  },
  "orig_nbformat": 2,
  "file_extension": ".py",
  "mimetype": "text/x-python",
  "name": "python",
  "npconvert_exporter": "python",
  "pygments_lexer": "ipython3",
  "version": 3,
  "kernelspec": {
   "name": "python37664bitdlenvconda29b652f870674263985143dd5e5a7bc4",
   "display_name": "Python 3.7.6 64-bit ('DLENV': conda)"
  }
 },
 "cells": [
  {
   "cell_type": "markdown",
   "execution_count": null,
   "metadata": {},
   "outputs": [],
   "source": [
    "Apply Model to some inputs Learn how:\n",
    "\n",
    "Load a saved Model\n",
    "Select inputs\n",
    "Apply Model to inputs (Predict)"
   ]
  },
  {
   "cell_type": "markdown",
   "execution_count": null,
   "metadata": {},
   "outputs": [],
   "source": [
    "Import packages"
   ]
  },
  {
   "cell_type": "code",
   "execution_count": 1,
   "metadata": {},
   "outputs": [],
   "source": [
    "#numpy: Numeric library\n",
    "import numpy as np \n",
    "#graphics\n",
    "from matplotlib import pyplot as plt\n",
    "\n",
    "#tensorflow: use some TF tools\n",
    "import tensorflow as tf\n",
    "#Keras: Deep learning API. In TF 2.x, it is included in TF\n",
    "from tensorflow import keras\n",
    "#Import Dense layer\n",
    "from tensorflow.keras.layers import Dense\n",
    "from tensorflow.keras import Sequential\n",
    "from tensorflow.keras import Model\n",
    "#Optimizers: SGD (Stochastic Gradien Descent)\n",
    "#from tensorflow.keras.optimizers import SGD as sgd\n",
    "\n",
    "#import data set MNIST\n",
    "from tensorflow.keras.datasets import mnist"
   ]
  },
  {
   "cell_type": "markdown",
   "execution_count": null,
   "metadata": {},
   "outputs": [],
   "source": [
    "Some verifications"
   ]
  },
  {
   "cell_type": "markdown",
   "execution_count": null,
   "metadata": {},
   "outputs": [],
   "source": [
    "Import MNIST data set\n",
    "60000 training examples\n",
    "10000 validation examples\n",
    "1 example = 28 * 28 matrix (image with 28 * 28 pixels)\n"
   ]
  },
  {
   "cell_type": "code",
   "execution_count": 2,
   "metadata": {},
   "outputs": [],
   "source": [
    "(X_train, y_train), (X_valid, y_valid) = mnist.load_data()\n"
   ]
  },
  {
   "cell_type": "markdown",
   "execution_count": null,
   "metadata": {},
   "outputs": [],
   "source": [
    "Process & Prepare data\n",
    "Flattening Input data:\n",
    "Input data (x_train[i]) should be a vector of real values\n",
    "- From shape (60000, 28, 28) to shape (60000, 28 * 28)\n",
    "- Convert to float32 (default is uint8, which python will convert to float64) (flaot 32 will take less memory)"
   ]
  },
  {
   "cell_type": "code",
   "execution_count": 3,
   "metadata": {},
   "outputs": [],
   "source": [
    "#use numpy reshape\n",
    "x_train = np.reshape(X_train, (60000, 28 * 28)).astype('float32')\n",
    "x_valid = np.reshape(X_valid, (10000, 28 * 28)).astype('float32')"
   ]
  },
  {
   "cell_type": "markdown",
   "execution_count": null,
   "metadata": {},
   "outputs": [],
   "source": [
    "Prepare Data (2)\n",
    "divide by 255, so the values will range from 0 to 1\n"
   ]
  },
  {
   "cell_type": "code",
   "execution_count": 4,
   "metadata": {},
   "outputs": [],
   "source": [
    "#print(x_train)\n",
    "x_train /=  255\n",
    "x_valid /=  255"
   ]
  },
  {
   "cell_type": "markdown",
   "execution_count": null,
   "metadata": {},
   "outputs": [],
   "source": [
    "Load Model"
   ]
  },
  {
   "cell_type": "code",
   "execution_count": 6,
   "metadata": {},
   "outputs": [],
   "source": [
    "from tensorflow.keras.models import load_model\n",
    "\n",
    "#load Model\n",
    "folder = \"logs/crossEntropyReLu2Layers/20200229-202752/\"\n",
    "model = load_model(folder + 'model_all.h5')\n"
   ]
  },
  {
   "cell_type": "markdown",
   "execution_count": null,
   "metadata": {},
   "outputs": [],
   "source": [
    "Select some inputs"
   ]
  },
  {
   "cell_type": "code",
   "execution_count": 19,
   "metadata": {},
   "outputs": [
    {
     "name": "stdout",
     "output_type": "stream",
     "text": "indexes: array([3399, 2254, 8044, 3086, 3874, 8816, 1860,  116,  241,  200, 4089,\n       7550, 9725, 2770, 1363, 6495, 9254, 3513, 1796, 1134,   57, 8900,\n       9100,   95, 3094, 1069, 8939, 2272, 7241, 4264, 9240, 9844, 3869,\n       9690, 6224, 3541,  217, 2922, 4731, 2777, 6235, 6910, 5981, 1155,\n       9231, 4876, 5339, 3737, 2243, 1462, 7058, 2030,  816, 1157, 5236,\n       2618, 5784, 5862, 3499, 4510, 7912, 2876, 6724, 9585, 4856, 4550,\n       8336, 9428, 6746, 7630, 9781, 2548, 5990, 2191, 1703, 1293, 2487,\n       9742, 3687, 9131, 1740, 7998, 4975, 2827, 4052, 2345, 2485, 1959,\n       6703, 7785,  217, 9619, 8042,  222, 2551, 7606, 9097, 1241, 2716,\n       6166, 3749, 7846, 3734, 5683, 3149, 7957, 6108, 6729,  684, 8659,\n       4719,  583, 3221, 9308, 9851,  332,  104, 9487, 8928,  476, 5925,\n       2905, 5320, 8751, 4122, 9704, 2393, 5733, 8402, 5529, 4000, 1271,\n       7288, 6326, 2818, 5975, 1845, 3448, 4304, 5310, 8663, 4056, 3824,\n       9111, 5421, 9651, 1008, 3314, 9618,  814, 6033, 2932, 2568, 8104,\n       4852, 3731, 5230, 5301, 6190, 6258, 4304, 5834,  604, 3643, 1300,\n       1142, 8183, 5279, 3236, 9630, 1728, 9527, 6819, 5157, 1850,  650,\n       7433, 1122, 1324, 6813, 8837, 4490, 4865, 6157, 5295, 1723, 1470,\n        121, 9327,  276, 4186, 3270, 4926, 7746, 7232, 8079, 2068, 9796,\n       5132, 9862, 1294, 8983,  133, 4079, 1440, 6874, 1484, 5527, 8490,\n       8277, 9603, 5205, 1006, 8361, 9945, 5484, 3051, 4913, 2411, 8678,\n       8684, 9252, 7697, 9694, 4865, 1937, 9028, 1343, 4093, 5848, 1251,\n         12, 4589, 3367, 5473, 7688, 2904, 8428,  856, 6112, 9620, 2322,\n       1413, 7667, 6134, 7540, 2720, 1291, 8191, 7505, 2285, 1537, 5067,\n       3596, 3728, 2918,  476, 4415, 2034, 1836, 7321, 3826, 5896, 4287,\n       7496, 9208, 9445, 8062,  760, 5057, 1884, 6658, 7985, 9088, 1359,\n       9169, 5206, 2686, 4183, 9087, 1187, 8969, 9009, 7024, 8387, 1944,\n       2132, 6551, 4887, 2285, 4215, 4179,  834, 6286, 6451, 2116, 2744,\n       1511, 6044, 4129, 4941,  678, 6113, 6465, 7271, 6059, 7105, 7071,\n       5605, 3020, 4560, 7313, 5321, 8041, 5332, 9618, 2018, 8277, 1704,\n         32, 1326, 9649, 7127, 2905, 3230, 5101, 5720, 2949, 3147, 6353,\n       1332, 5646, 5924, 8614, 3217, 9645, 9749, 9974, 7030, 1825, 4942,\n         81, 5128, 2296, 2768, 2990,  404, 7295, 5829, 4460, 4739, 9274,\n       6144, 7434, 6984, 2457, 7908, 9063, 5533, 2251, 3564, 5139, 2215,\n       9103, 5240, 7203, 5556, 2519, 8192, 6142, 8234, 2651, 5103, 5104,\n       4663, 5244, 2556,  372, 8848, 4419, 1321, 7965, 7336, 5879, 4716,\n       3604, 7176,  494, 3253, 8429, 1449, 1799, 5884, 4331, 8884, 6503,\n       4348, 7817, 7112,  778, 2178, 8911, 4639, 7510, 5505,  236, 9675,\n       4535, 1850,  206, 2088, 2600, 2800, 2244, 6165, 5437, 5459, 4157,\n       5762, 9444, 8180, 4108, 3238, 4376, 5100,  281, 9061, 5555, 1943,\n       9429, 6054, 7674,  916, 5170, 2222, 5144, 2112, 6565, 8634,  732,\n       5096, 3038, 1636,  594, 5104, 4892,  688, 8700, 8035, 1360, 6196,\n       9892, 2232, 3890, 7558, 7952, 8311, 6585, 8347, 6162,   69, 4525,\n       5196, 6108, 6246, 4926, 7348, 1273, 3402, 4590, 2122, 5523,  939,\n       9822, 9544, 3015, 6175, 5489, 4737, 9023, 6179, 3477, 3565,  709,\n       5771, 7535,  869, 8747, 3764, 5853, 9322, 9600, 7334, 3043, 7936,\n       9467, 6744, 2047, 7055, 3576, 9428, 9264, 5599, 4208, 6862, 2128,\n        204, 9449, 3643, 8154, 1172, 2233, 3472, 9040, 4091, 8068,  742,\n       6368, 6613, 8364, 9983, 2197, 2432, 8814, 1290,  143, 9309, 8684,\n       2178, 8843,  366, 3948,  470, 9603, 5391, 2545, 3930, 8289, 4383,\n       5048, 5739, 4192, 4902, 8513, 9247, 9992, 6291, 2825, 3088, 3924,\n       2413, 7380, 6977, 2211, 2246, 9181, 9808, 6998, 6869, 3833,  407,\n       8045, 6655, 2437, 4001, 7281, 5178, 9390, 3005,  788, 5244, 2585,\n       4920,  678,  568, 1731, 3624, 3031, 7841, 3165, 2550, 4142, 3018,\n       7931, 6584, 3956, 6775, 8471, 3543, 8516, 9939,    2, 1689, 2845,\n       7220, 6544, 7648, 3460, 4673, 1568, 4551,  190, 4767, 9932, 1359,\n       4442, 3548, 8544, 1455, 6261,  970, 6136, 5380, 4041, 7197, 4900,\n       8749, 1453, 2209, 9258, 6687, 2320, 5351, 3924, 4826, 9424, 6564,\n       6552, 4457, 5822, 5329, 5390, 8410, 7370, 7603, 7187, 7333, 2348,\n       2478, 7404, 3390, 5247, 5659, 3166, 2423, 1673, 5589, 6512, 3007,\n       6719,  841, 1117, 9211, 3453, 2670, 8989, 3763, 9691, 5883, 9827,\n       8546, 9889, 3145, 2878, 1905, 3108, 8227, 1161, 5623, 9366, 5578,\n       1988, 6613, 9809, 2114, 4199, 4953, 2211, 4207, 5267, 3153, 3590,\n       3974, 6809, 3823, 2255, 9329, 6873, 5263, 8008, 5910, 2133, 9228,\n       2714, 2263, 6274, 3267, 8381, 7099, 5487, 3652, 8533, 1046, 2277,\n       8980, 1797, 4331,  813, 8600, 8651, 6378, 1957, 2560, 8472, 7871,\n       6161,  821, 3514, 9569, 3578, 4639, 5009,  100, 8484, 3918, 2727,\n       2424, 1461, 8425, 2291, 8425, 9491, 1531, 4251, 1981, 6283, 2803,\n       2477, 3633, 5968, 8913,  495, 8972, 7744, 7850, 4172, 9751, 8155,\n       8693, 2634, 5417, 5315, 9546, 2427, 3923, 1356, 2816, 8855,  942,\n       5414, 1327, 5092, 1083, 4249, 9996, 4065, 8582, 7882, 6151, 4653,\n       1898, 3684, 4510, 4339, 9208, 1846, 5432, 1178, 5250, 1325, 1214,\n       2187, 4019,  903, 1238, 9941, 3241, 5139, 3059, 1942,  990, 6661,\n       8581, 3652, 2384, 1563,  340, 2281,  512, 3887, 2435, 9559,  494,\n       4910,  327, 2218, 9223, 3618, 9198, 7921, 8384, 2344,  810, 4278,\n       1057, 8686, 2936, 7205, 7151, 4872, 4364, 5996, 7623, 5596, 1311,\n       4932, 4382, 1367, 6710, 9205, 4396, 6919, 3555, 4537, 9624, 8409,\n       9813, 7946, 7444, 3443, 4802, 4781, 9582, 3737, 8297, 9165, 2739,\n       2922, 6564, 7750, 7391, 9648, 2173, 1251,  861, 7682, 9075, 3679,\n       8679, 6614, 5867, 2701, 8636, 7548, 3892, 4334,  733, 4580, 9227,\n       9847, 9864,  359, 7436, 4800, 3638, 4519, 9125, 7498, 9915, 7146,\n       9852, 5206, 8358,  521, 8701, 9848, 2001, 3094, 8574, 9797, 3169,\n       1816, 3478, 3733, 1371, 4530, 6264, 7253, 1119, 9166,  797, 3772,\n       8746,  678, 6185, 4789, 9425, 1530,  953, 1704, 2559, 9032,  493,\n        350, 9453, 8217, 6288, 7048, 2692, 8788, 1688, 2828, 1780, 7258,\n       4913, 1359,  355, 1043, 6759, 4894, 7308, 8668, 5666, 5114, 2941,\n       8457, 6418, 2716, 8178, 3812,  998, 4919, 5174, 2412, 9206, 3706,\n        566, 9462, 6593, 4097, 7750, 3726, 3084, 6522, 8271, 6685, 2250,\n       8568, 6415, 2672, 3233, 2099, 1208, 6305, 5058, 2843, 6347, 6324,\n         60, 3720, 8858, 2772, 7989, 5010, 1861, 4805,  346, 5781, 5727,\n       7201, 9870, 4639, 4878, 2389, 1419,  137,  637,  209, 9384, 3214,\n       9241, 7808, 3768, 5209, 5717, 2624, 4727, 5939, 1958, 1719])\n(1000, 784)\n(1000,)\n"
    }
   ],
   "source": [
    "#print(x_train[0])\n",
    "size = 1000\n",
    "indexes = np.random.randint(0, y_valid.size-1, size=size)\n",
    "tf.print(\"indexes:\", indexes)\n",
    "x = np.array([x_valid[i] for i in indexes])\n",
    "X = np.array([X_valid[i] for i in indexes])\n",
    "y = np.array([y_valid[i] for i in indexes])\n",
    "tf.print(x.shape)\n",
    "tf.print(y.shape)\n",
    "# x = np.array([x_train[0], x_train[1], x_train[4566]])\n",
    "# y = np.array([y_train[0], y_train[1], y_train[4566]])\n"
   ]
  },
  {
   "cell_type": "markdown",
   "execution_count": null,
   "metadata": {},
   "outputs": [],
   "source": [
    "Predict"
   ]
  },
  {
   "cell_type": "code",
   "execution_count": 20,
   "metadata": {},
   "outputs": [],
   "source": [
    " \n",
    "#predict\n",
    "y_predicted = model.predict_classes(x)\n"
   ]
  },
  {
   "cell_type": "markdown",
   "execution_count": null,
   "metadata": {},
   "outputs": [],
   "source": [
    "Print Prediction results"
   ]
  },
  {
   "cell_type": "code",
   "execution_count": 63,
   "metadata": {},
   "outputs": [],
   "source": [
    "#print prediction results\n",
    "#tf.print(\"y:\", y)\n",
    "#tf.print(\"predicted classes\", y_predicted)"
   ]
  },
  {
   "cell_type": "code",
   "execution_count": 21,
   "metadata": {},
   "outputs": [
    {
     "name": "stdout",
     "output_type": "stream",
     "text": "False\nNot predicted indexes: [ 27  32  42  45  99 108 116 166 246 267 282 305 320 336 379 456 568 593\n 600 675 741 765 907]\nNot predicted y: [8, 9, 5, 2, 9, 7, 9, 8, 9, 5, 7, 3, 7, 5, 8, 6, 9, 9, 7, 7, 8, 0, 8]\nNot predicted y_predicted: [0, 4, 9, 4, 3, 3, 5, 5, 4, 8, 2, 9, 8, 6, 4, 4, 1, 4, 4, 9, 0, 8, 7]\n"
    }
   ],
   "source": [
    "#check if prediction is valid\n",
    "comparison = y == y_predicted\n",
    "equal_arrays = comparison.all()\n",
    "\n",
    "#prints True if All is OK\n",
    "print(equal_arrays)\n",
    "\n",
    "#print not predicted indexes\n",
    "diff = y - y_predicted\n",
    " \n",
    "indexes_false = np.array([i for i in np.arange(diff.size) if diff[i] != 0])\n",
    "print(\"Not predicted indexes:\", indexes_false)\n",
    "print(\"Not predicted y:\", [y[i] for i in indexes_false])\n",
    "print(\"Not predicted y_predicted:\", [y_predicted[i] for i in indexes_false])"
   ]
  },
  {
   "cell_type": "code",
   "execution_count": 22,
   "metadata": {},
   "outputs": [
    {
     "name": "stdout",
     "output_type": "stream",
     "text": "Accuracy =  0.977\n"
    }
   ],
   "source": [
    "#Accuracy\n",
    "acc =  1- indexes_false.size/size\n",
    "print(\"Accuracy = \", acc)"
   ]
  },
  {
   "cell_type": "code",
   "execution_count": 23,
   "metadata": {},
   "outputs": [
    {
     "data": {
      "text/plain": "array([ 27,  32,  42,  45,  99, 108, 116, 166, 246, 267, 282, 305, 320,\n       336, 379, 456, 568, 593, 600, 675, 741, 765, 907])"
     },
     "execution_count": 23,
     "metadata": {},
     "output_type": "execute_result"
    }
   ],
   "source": [
    " \n",
    "np.array(indexes_false)"
   ]
  },
  {
   "cell_type": "code",
   "execution_count": 24,
   "metadata": {},
   "outputs": [
    {
     "data": {
      "image/png": "[encoded data removed]",
      "image/svg+xml": "<?xml version=\"1.0\" encoding=\"utf-8\" standalone=\"no\"?>\r\n<!DOCTYPE svg PUBLIC \"-//W3C//DTD SVG 1.1//EN\"\r\n  \"http://www.w3.org/Graphics/SVG/1.1/DTD/svg11.dtd\">\r\n<!-- Created with matplotlib (https://matplotlib.org/) -->\r\n<svg height=\"310.840665pt\" version=\"1.1\" viewBox=\"0 0 352.8 310.840665\" width=\"352.8pt\" xmlns=\"http://www.w3.org/2000/svg\" xmlns:xlink=\"http://www.w3.org/1999/xlink\">\r\n <defs>\r\n  <style type=\"text/css\">\r\n*{stroke-linecap:butt;stroke-linejoin:round;}\r\n  </style>\r\n </defs>\r\n <g id=\"figure_1\">\r\n  <g id=\"patch_1\">\r\n   <path d=\"M 0 310.840665 \r\nL 352.8 310.840665 \r\nL 352.8 0 \r\nL 0 0 \r\nz\r\n\" style=\"fill:none;\"/>\r\n  </g>\r\n  <g id=\"axes_1\">\r\n   <g clip-path=\"url(#p4723a7485b)\">\r\n    <image height=\"77\" id=\"imagec9044a2449\" transform=\"scale(1 -1)translate(0 -77)\" width=\"77\" x=\"7.2\" xlink:href=\"data:image/png;base64,\r\niVBORw0KGgoAAAANSUhEUgAAAE0AAABNCAYAAADjCemwAAAABHNCSVQICAgIfAhkiAAABMFJREFUeJztm0sobW8Yxh8HHaLklntE5DqRUpRyGWGgXKJk4BIZyBiZiTIQOhHKiEgR5TahHKSYkFukRCI5iuRanMG/7z3fbm9s716c86/3N3p6115rffvZ77u+y/q23cvLywuED/Htbzfg/4iYxkBMYyCmMRDTGIhpDMQ0BmIaAzGNgZjGwOErbnJ1dQUAqKiooFhGRgbpzMxM0oGBgV/RJJuQTGMgpjGw+6xVjra2NtINDQ0AgPv7e4ufdXD485QoLi4GAERFRVGstLTU4nnu7u4AADs7O9sa+0Ek0xiIaQwMLU/VSwJAUlIS6d3dXbPPBgQEkPb39ye9urpq9f06OzsBAFlZWRQLDg62+nwukmkMDM20+fl50vo4TFFSUkK6q6uLtL29PemnpycAwOHhIcXS09NJn5+fm13XycmJdGVlJemmpibS379/BwB8+2Z7nkimMRDTGBhanr29vaSrqqrMji8vL5NOTEy0+rr6+K6uro700tISAMDR0ZFi6+vrpN3c3EgvLi4CAEJCQqy+72tIpjEQ0xgYWp76asXs7KzZ8f7+ftJ6T8rl4eEBAHBxcUGx2NhY0tfX16TVlEt/bKgpGwBERkZafV/JNAZiGoMvWYRUhIaGGno9NWDVp2Sbm5ukW1tbSff09AAAmpubKTY1NUW6vLycdHV19Zv3lUxjYGhHUF9fT7qlpcXs+NnZGWlvb2+jbmsV6qE/NDREMf2rR0REkF5bWwMAuLi4WLyWZBoDMY2BoeX569cv0gkJCaSPjo4AAHl5eRQbHh426rYfQl8F6evrs/iZhYUFAEBycrLF45JpDMQ0BoaO0zw9PUnr0xW1MjExMUExVQKA6cqDh4fHfw3T3lDpi4zvoaZWAHByckL64OAAALC/v2/xPD8/P9LqcSLlaSBiGgObe8+bmxvSo6OjpMvKykg/Pz+bnffaWr168auXp34t/RGws7MDAIiLi6OYXvb6OwtLbdAH2AUFBaQ7Ojosto3a/uZRwSI2Z1pjYyNp/e3Pe0RHR5Pe3t62+nhQUBDp4+NjAEBYWBjFLi8vSRcVFZF2dnYGYDox9/LyIq06IGuQTGMgpjGwuTxV2gPA4+MjaX35+MePHwAAHx8fiumlMTk5SXp6ehrAn4c8AGxtbb3Zhvj4eNLj4+Ok9e0ORiKZxkBMY2Bzeeob6vSxV0xMDOmNjY0PX1dvln7+4OAgaTUt29vbo5ivry9pPf7agiIHyTQGYhoDm8tzZGSEdGFhIWl9+5Ra7MvPz6eY3utyyc7OBgDMzc1RTO/BU1JSSKteWb3BsgXJNAY2Z5q+o2dgYID02NgYafUr69nV3t5OOjc3l/Tp6SkA08m0PqbTx29qol5bW0ux7u5u0nd3d6TV1lZXV9f3v9Q7SKYxENMYfNqfL25vb0nX1NQAMN01pI+bdK321KpdPgCQk5NDemZmhrQq5bS0NIrpjwh9PU1dQzqCv4SYxuDTytMSao8sYDqeWllZIf3z508AptMo9XYIMP1zRWpqKgDT8g0PDzewxZaRTGMgpjH40vL8CHqz9AG0EdMvW5FMY/DPZtq/jGQaAzGNgZjGQExjIKYxENMYiGkMxDQGYhoDMY2BmMZATGMgpjH4DXAdf4c9IhAVAAAAAElFTkSuQmCC\" y=\"-6.7\"/>\r\n   </g>\r\n  </g>\r\n  <g id=\"axes_2\">\r\n   <g clip-path=\"url(#p46e4d5c8f3)\">\r\n    <image height=\"77\" id=\"imageff965c6ea6\" transform=\"scale(1 -1)translate(0 -77)\" width=\"77\" x=\"94.5\" xlink:href=\"data:image/png;base64,\r\niVBORw0KGgoAAAANSUhEUgAAAE0AAABNCAYAAADjCemwAAAABHNCSVQICAgIfAhkiAAAA71JREFUeJztmz8ofWEcxp/rX6GwyWJQ5N+ipBikGCwGVsnCwKAoMsjEgEIkf0oWpWQymGRhUgZMpETKv4GEGHR/0/n+3ts57rn3cc49l76f6enc957z9Xi+3nPe8wqFw+EwlLhICbqA34iaRqCmEahpBGoaQVpQF355eRHd09MjemNjwzb25OREdGVlpb+FxYAmjSCwpK2vr4t2SpfJ6uqq6JmZGd9qihVNGoGaRhBYe15dXcU8NiUluX63yVXNL0FNIwgFtcrx8PAguqioSPT7+7tt7NramujOzk5/C4sBTRqBmkYQWHuaDAwMiJ6dnQUAmGW1tbWJ3tzcFJ2ampqA6uxo0giSImkHBwei6+vro459fX0VnZWV5VtN0dCkEahpBIE9Rpnk5uaKtv64f319OY6dnp4WPTIy4m9h36BJI1DTCHybPT8+PkQfHR3ZPq+oqBCdl5cnenR0FAAwNjbmeF5z7OXlJYDI9k4EmjQCNY3A09nTahcA6O/vF729vW0ba7ZUZmamaPPm1Ynn52fRy8vLAIChoaH4i/0BmjQCTyeC9vZ20W5vmLygrq4OALC3tyfHMjIyfL+uJo1ATSPwtD1LSkpEX1xceHVaV8xtDfPz86L9eoulSSNQ0wg8bU9zz0V3d7ftc3PR8Pz8XPTU1JToubk5AJHL3fHw9vYm2rz/8xJNGoGaRuDpY1RxcXHUz80XwTs7O6LN7VOtra0AgIaGBqqGjo4O0VtbW9Q53NCkEXg6EZinWlhYEN3X12cba04KZ2dnogsKCgAAp6encqy5uVn0/f191BrS09NFHx8fiy4tLY36vXjQpBGoaQS+LXc/Pj6KLiwsBAB8fn46ju3q6hK9tLQEIPIR6ObmRnR1dbVoc+eRE2VlZaIPDw8BANnZ2a61u6FJI1DTCBKyl2N3dxcA0NLSIse+a9WVlRUAkS1rcn19Ldq6J9vf33etYXx8HAAwPDwsx0KhkOv3nNCkEahpBAndamWu5Tc1NTmOsW56zbE1NTWi7+7uRFvvA8rLy+WY24w6MTEhenBwMJaybWjSCBKaNPNS5vvNyclJ0YuLiwCAp6cnOZaW9n9dIT8/X7Q1KZgTgfmg7/SjmYsK5uNbPGjSCNQ0gqTYc2tye3sLIHLHt0ljY6Nop3u5qqoq0eYqh4W2Z0CoaQRJ154/xdxVVFtbKzonJwdA5P9W9fb2UtfQpBGoaQR/rj0TgSaNQE0jUNMI1DQCNY1ATSNQ0wjUNAI1jUBNI1DTCNQ0AjWNQE0jUNMI/gEjnyLUZkgtigAAAABJRU5ErkJggg==\" y=\"-6.7\"/>\r\n   </g>\r\n  </g>\r\n  <g id=\"axes_3\">\r\n   <g clip-path=\"url(#p69ff618a94)\">\r\n    <image height=\"77\" id=\"image3200d10382\" transform=\"scale(1 -1)translate(0 -77)\" width=\"77\" x=\"181.8\" xlink:href=\"data:image/png;base64,\r\niVBORw0KGgoAAAANSUhEUgAAAE0AAABNCAYAAADjCemwAAAABHNCSVQICAgIfAhkiAAAA9tJREFUeJztm00odVEUht8rSRhIxNAEpfxEBuQnYkxMFBkpIwNMlFImUihDA0Mj8hMTpRiQDEhJipSBFCHM/OV+g6/9fvu6t885627nptYzelude/c+b2t19tl7nVA4HA5D8UVSoifwG1HTBKhpAtQ0AWqaADVNgJomIDlRA398fFCfnJxQ7+3tAQD6+/sZC4VC1H19fdTt7e0AgLq6OsZSUlLcT/YLmmkC1DQBoSBfo97f36lHR0epJycno661p2WXZyyWlpaoW1tb45miJzTTBKhpAgItz8fHR+ri4mLqu7u7qGv9lKfN6ekpdWFhod8pekIzTYCaJiDQxe3FxQX16+vrf6+tqKigPjo68jzG+vo69dDQkI/ZeUczTUAgmfb29gYAWFtbY+z5+Zl6YGCAemRkBACQlpbGmL2+u7+/p66pqQEA3N7eMnZ8fExtx3Nzc+U38AXNNAFqmoBA12muubm5ARC55rPLfmtri7qhocHZuJppAtQ0AQnbhHRBXl4eAKC3t5ex6elp6tnZWeqysjIAQGZmZtzjaqYJUNME/OryNJjS+8r19TW1i7I0aKYJCCTTzGuQOWkCgMrKSuqMjIy4/r+qqipm/Orqivrp6QmAPggShpomwGl5mtcaAGhqaqI2pWHvOmRnZ1Pbrzjz8/MAvB36mvHGx8cZ+/z8pO7s7KTWB0GCUdMEOC3PmZkZ6vPzc2qzkWKfKj08PFAvLy9Tm83HtrY2xiYmJqjz8/OpNzc3AQCrq6uMJSf/u6WcnBz/N+EBzTQBapoAp+V5eXnp7L9WVlaod3d3qRsbG6kXFxejftfd3U09ODjobD42mmkCnGZaenp6zHhJSQmAyG3p7e1t6lhtCTb2CVSs7LJpaWn5dp7xopkmQE0T4LQ87bWZzcLCAoDILh67g8juuTUPgJ2dHca+a0uwD5u7urp8zFiGZpoANU1A3IfFZ2dn1KWlpdR2y7tptCsqKvL8v3ZXkV2qdn+teVqPjY1FxX4SzTQBapoAp70cw8PD1FNTU9Rm58Jugy8oKKBubm72PIbZ2QCA+vp6AEBWVpb/ycaBZpoAp5lWW1tLvb+/Tx1rP+07vHR39/T0AADm5uYYS0r6+TzQTBOgpglwWp4bGxvUHR0d1C8vL38Hc1yehoODA+ry8nLPY0jRTBOgpgn4sZ5bu9/VbAy6Lk/zWnZ4eMhYamqqr3lK0EwToKYJCKQl3mw42otQW9vfTBnsL1bs1y+b6upqAJGL6iDQTBPwqz++SBSaaQLUNAFqmgA1TYCaJkBNE6CmCVDTBKhpAtQ0AWqaADVNgJom4A+byy+FkdZtBgAAAABJRU5ErkJggg==\" y=\"-6.7\"/>\r\n   </g>\r\n  </g>\r\n  <g id=\"axes_4\">\r\n   <g clip-path=\"url(#p4a3466296f)\">\r\n    <image height=\"77\" id=\"image688883dc0a\" transform=\"scale(1 -1)translate(0 -77)\" width=\"77\" x=\"269.1\" xlink:href=\"data:image/png;base64,\r\niVBORw0KGgoAAAANSUhEUgAAAE0AAABNCAYAAADjCemwAAAABHNCSVQICAgIfAhkiAAAAsJJREFUeJztmjFLcmEYhm/1s0EiN9Gh1UajoSCaFEH8A4Z/QISmfkG7U5O/IHDLyd0lMAI1GgQ3wYggSIeGhvyGDx/eSCvvznfUuK/p5lE8LxfP49H3PYHJZDKBWIjgshewjkgagaQRSBqBpBFIGoGkEUgagaQRSBqBpBFIGoGkEUgagaQRSBqBpBFIGoGkEUgagaQRSBqBpBFIGsEfLz+s3+9bPjs7s3x/fw8ACAQCVnPPqN366ekpACCdTlstEol4ucwfo04jkDSCgJfPcoRCIcvxeNxyMpn8d7FvjGez2fz0vXt7e5Zzudyn6ykUCpaj0SgAYGtr60NtUdRpBJ52mtsdiUTCcqfTAQDEYrEvP6NWqwEA7u7urNZoNCx3u13Lb29vAIBgMPihNq/urmtnZ8fy7u6u5ePjYwDAwcHBzDWq0wgkjcDT8Wy1Wpaz2azlzc3ND69vb297ddm5PD4+Wr6+vgbwfmQrlYrlWTej8/Nzq52cnFhWpxFIGoGn4+nijmK5XAYAPDw8WO3y8tLyvLvUshgMBgDej6z7daJOI5A0gv82ni7T3Y9SqWS1Xq9n2e+76k9RpxH40mlTXl5eLB8dHVl2bxDTvbdVRp1GIGkEvo6ny/SvCgBkMhnLV1dXAID9/X3f1/Rd1GkEkkawtPF8fX21fHh4aPn5+RkAcHt7azWdRv0CJI3A08PiRdjY2LDsnhC1220AwNPTk9U0nr+ApXWauxV9c3NjOZVKAXh/brpqqNMIJI3A1/F0dzny+fzMerVaBQCEw2H/FrYg6jQCSSPwZTxnbXcPh0PLFxcXllftZGoW6jQCSSPwdDzdjcVisWh5egbgPpBXr9ctr8NIuqjTCDzdTxuNRpbH47Hl6SXcB+pW+XfYV6jTCCSNYGnb3euMOo1A0ggkjUDSCCSNQNIIJI1A0ggkjUDSCP4CMPfKyL2YRaMAAAAASUVORK5CYII=\" y=\"-6.7\"/>\r\n   </g>\r\n  </g>\r\n  <g id=\"axes_5\">\r\n   <g clip-path=\"url(#pb9167fcd95)\">\r\n    <image height=\"77\" id=\"image1dfba7a43f\" transform=\"scale(1 -1)translate(0 -77)\" width=\"77\" x=\"7.2\" xlink:href=\"data:image/png;base64,\r\niVBORw0KGgoAAAANSUhEUgAAAE0AAABNCAYAAADjCemwAAAABHNCSVQICAgIfAhkiAAAAgNJREFUeJztnNuNwjAURJ3V9gJ90EHSBXRAAXQAXUAH9EGqyX5d634YZX2wHSPN+bIi8mA0w/UrDMuyLEFk8bP1A3wjEg0g0QASDSDRABININEAv2sfuN1usf18PmP78XiEEEIYxzEeOxwOyWscj0f8gD0ipwEkGmBYG0YNw1DsZj7Kl8sltne7XbF7tEBOA0g0wGo8p2mKbauYNbEI9xxfOQ0g0QCr8fS0jqpxvV5ju4eOspwGyHJaDn74dTqdatwivF6vEEL7QiGnASQaoFo8U8zzHNt+xuTT+LYuFHIaQKIBmsbzP1jVpZFtEVU5DSDRAN3F0yjRObbObwhlO8ByGqA7p1lfbr/fF71uya8ppwEkGmB1sbgFLebp7B73+/3ja8lpAIkG2GyW43w+xzaNpK1c5ZxfYpglpwEkGqBp9Uxt1colFS8f+9Kd4hRyGqCp02oNvP0x78Raq2ByGkCiAboYRqWoNRfmi5H6aQ2RaIBu41mLErMochpAogGaxjOn4+mHQ/48/1aMVdV3e0RqIacBvqIQ1BoOUeQ0gEQDbLZY3HoOzNB090ZINMBm1dPPXPhfCFvULb1obCtX795+zkFOA0g0QHdbrVL4DX4eGzL5KL/7I4KS+2/lNMBXOK035DSARANINIBEA0g0gEQDSDSARANINIBEA0g0gEQDSDTAH/X0vYta08AHAAAAAElFTkSuQmCC\" y=\"-116.670332\"/>\r\n   </g>\r\n  </g>\r\n  <g id=\"axes_6\">\r\n   <g clip-path=\"url(#pea6afd9e7a)\">\r\n    <image height=\"77\" id=\"image14a07415ed\" transform=\"scale(1 -1)translate(0 -77)\" width=\"77\" x=\"94.5\" xlink:href=\"data:image/png;base64,\r\niVBORw0KGgoAAAANSUhEUgAAAE0AAABNCAYAAADjCemwAAAABHNCSVQICAgIfAhkiAAAA49JREFUeJztm7svNGEUxp8V10RcIqj0OpEg0RCJRij9CQr+AlEqRaWSqBRo3CqhFkSEkJCQUCpEQVzizn7VHEe+2bX77M5+u1+eX/Xk3XlnTp49J+/MmXdi8Xg8DpEWRf86gEJEphHINAKZRiDTCGQagUwjKP7XAWTC4eEhAGBhYcHGnp6eTF9fX5uen58HAJSWlmZ8XWUagUwjKLjy9OU3PDwMADg4OAg9tq6uzvTn52fWYlCmEcg0goIrz9XVVdP7+/sAgFgsZmPd3d2mx8bGTFdUVGQtBmUagUwjiBVaE7Kzs9P03t4egJ/lWVVVZfr8/Ny0X0kzRZlGUBALwdXVlemzszPTX19fAICiou//vr6+3nRZWVkk8SjTCGQaQU7K8+PjAwDw+voa+ntJSYnpsC5EcD8GAA8PD6aDsvQLQVtbm+nKykoy4uQo0whkGkFk5Xl3d2c66EYsLi6GHtvV1WW6tbX1r9/n5uZSvu7Ozo7plZUV0/39/QCys6Iq0whkGkFkj1F+pezr6wMAbG5uhh7rQ/Ar4W8E8xLNaWpqMn16egoAKC8vT/n8iVCmEeTkgf329hYAcHJyYmO+LzY1NfUdUIaZNjg4aHpyctK0z7pMUaYRyDSCvOinPT4+mt7d3QUALC8v29jMzEzovKDL0dHRYWPb29umi4ujuQ1VphHINIK8aEL6bkRPTw8A4OjoyMYSrahBl8M3HqMqyR/XjfwK/yEyjSAvVk/P7OwsAGBoaOjXY6urqwEAFxcXNlZbWxtJXB5lGkFeLARBOxwANjY2Up4X3Ke9vb1lPaZkKNMIZBpBXpTny8uL6aWlpZTn9fb2AgAaGxuzHlMylGkEMo0gL8pzZGTEdDq3jcE291yjTCOQaQQ5Lc/393fT/jHJf3ES1tHw+2W3trZMZ+PrEwZlGkFopvn2s9+l4//xmpqapCf2WXV8fAwAGB8ft7G1tbWUg1xfXzfd0tKS8ryoUKYRyDSC0PKcnp427T9gaGhoMB20pT3+Huv+/t50Op2LAP8RRXt7e9rzo0SZRiDTCELb3X7F9C9qR0dHk54s090/ADAwMAAAmJiYsLHm5uaUz5ULlGkEMo3g17dR/ovc5+dn05eXlwCAm5sbG/OPOH5/bbCSJnrD5LscwZ5Yv00+31CmEeTde89CQJlGINMIZBqBTCOQaQQyjUCmEcg0AplGINMIZBqBTCOQaQR/APWQA9jg/FexAAAAAElFTkSuQmCC\" y=\"-116.670332\"/>\r\n   </g>\r\n  </g>\r\n  <g id=\"axes_7\">\r\n   <g clip-path=\"url(#p44af218a7a)\">\r\n    <image height=\"77\" id=\"imagefb82d7780c\" transform=\"scale(1 -1)translate(0 -77)\" width=\"77\" x=\"181.8\" xlink:href=\"data:image/png;base64,\r\niVBORw0KGgoAAAANSUhEUgAAAE0AAABNCAYAAADjCemwAAAABHNCSVQICAgIfAhkiAAAAy9JREFUeJztmz8ovVEcxp+LGCQxWPxbKLEoUkoZSFktDLIZFKNJycCklE1hk5RZFotMRMqfQTJIMRiUQRjc33SfXj9XeM7L9Xt/z2f6dNzOOffpe5z3vO97U+l0Og3zJfJyPYF/EYcm4NAEHJqAQxMoyPUE4uDx8ZE+ODhIr6uro09PTwMACgrCv7IrTSCVhOu08fFx+tzcXNbP3N7eAgDKy8uDx3OlCTg0gURsBDc3N1nb+/r66GVlZbGN50oTcGgCiVie75Gfn09PpVKx9etKE3BoAolenk9PT/SXlxcAQF5eeJ240gQScYxaX1+nDwwMZP2Mj1E5xqEJJGIjqK+vp0evx6L/ec7OzgAA7e3tweO50gQcmkAilmdzczO9qqqKfnV1Rd/Z2QHg5ZkzHJrAty3P6M4V5x2Gj3hvrDiOT+wrtp7+I2I9Rh0dHdEnJiboTU1NQf2OjIzQP6qYxcVF+szMDN3HqBzj0ASCl2f0lYCOjg764eHhm88WFRXRx8bG6MvLy/S7u7uQ6byipqaGfnJyAgAoLi4O7teVJuDQBIKv06ampujRJRl9Yyezi0WPO9G/j46O0nd3dwEAx8fHbNvY2Pj0fKJ9NTY20uNYlhlcaQIOTSB49ywpKaE/PDzQFxYW6MPDwyFD/DpcaQIOTcChCTg0geCNoLW1lR69Tuvp6aFvbm6GDPHrcKUJODSB4GPU0NAQPbo8t7a26AcHBwCAlpaW0OFe3VVZWloCAHR3d7OtoaEheIyPcKUJODSB4N3z+fmZ3tnZSd/b26N3dXUBANbW1tj2lXv19/f39Ojyy7Sfnp6yrba29tP9qrjSBGJ9GnV+fk5va2ujZyqisrKSbaurq/Tq6uo3fn19zbbok62VlRX69vY2gNe32X8CV5qAQxP4tnduLy4u6P39/QCyP6H6m97eXgDA/v4+2zIPegGgoqKCfnl5CQAoLCwMm+wXcaUJODSBH3klPvMjiNnZWbZNTk7SP3rDKHpUm5+fp5eWlsY6z8/iShNwaAKJ+MXKT+NKE3BoAg5NwKEJODQBhybg0AQcmoBDE3BoAg5NwKEJODQBhybg0AT+ANY54i7wUygxAAAAAElFTkSuQmCC\" y=\"-116.670332\"/>\r\n   </g>\r\n  </g>\r\n  <g id=\"axes_8\">\r\n   <g clip-path=\"url(#p68b8e685ce)\">\r\n    <image height=\"77\" id=\"imageceeb06e7ec\" transform=\"scale(1 -1)translate(0 -77)\" width=\"77\" x=\"269.1\" xlink:href=\"data:image/png;base64,\r\niVBORw0KGgoAAAANSUhEUgAAAE0AAABNCAYAAADjCemwAAAABHNCSVQICAgIfAhkiAAAA8RJREFUeJztmk0odFEYx//Di0iJkmJDUmSBBSvZKAsLUiiJhVJSFj7yVaIUC0qSr+wsfGwkJQuF2IkiCbGRHfKxUBZq3sXb/Xcu74zruWOGen4bv87M3Hvm7zlz7jn3erxerxfKlwgLdQd+IxqaAA1NgIYmQEMToKEJ0NAEaGgCNDQBGpoADU2AhiZAQxOgoQnQ0ARoaAL+uD3Ay8sL/fLykr60tESfnJx0fLzi4mIAwMLCAttiYmLcdDHgaKUJ8Ljd7q6pqaEvLy+77pBFWloava6ujj4wMBCwc0jRShOgoQlwPREkJyf/t31qaopeX1/v9xhvb2/0kZERAPbJY2hoiH50dERfWVkBAISFBfd/r5UmQEMT4Hp4+rqG2tnZoTc1NTk+3uDgIAAgJyeHbdXV1fS1tTV6qO5za6UJ0NAEuL64vb+/p8/Pz9P7+vroKSkpAID+/n621dbW+j3u8/MzPT4+nh4REUHf3NwEABQVFX21267QShPgutJ8sbGxQbeWQa+vr2zr6Oigd3d30w8ODgAAZWVlbHt6eqI3NjbSZ2ZmAAAejydQ3XaEVpoADU3Atw1PE+tHfXR0lG3j4+P09PR0+vHx8b+OGUOuqqqKPjs7S4+Liwt8Zx2glSZAQxMQlOFpcXZ2Rs/Ozvb73oKCAvrW1hb9J2x9a6UJ0NAEuN7l+Aqnp6eO37u/v0/Py8ujl5aW0q2L4qSkpAD0zjlaaQKCMhE8PDwAsF+PmUsja+kEAOHh4QCAi4sLtjU3N9MfHx/p1ja3ubTKysqim/t4kZGR8i/wDq00ARqagKBep5k3k7u6uui5ubn04eFhAPZhdnd3RzeH5+7uLgD7Haq5uTm6OYFUVFQAAMrLy9mWmZkp+BZaaSI0NAFBHZ4mY2Nj9Pb2dnpsbCwA4Pr6mm3mdvdnnJyc0Ht7e+nWpqh5YzkhIYG+t7dHz8jI8HsOrTQBGpqAkA3Pm5sbekNDA92aCXt6etjW1tbm+nzn5+cAgOnpabZNTEzQzaHa2dlp+/serTQBIas0k8PDQ3p+fv6H161HFQCgtbX1w+tRUVF0axnmC/MJJXPrvKWlhR4dHQ3A/misiVaaAA1NwI8YnuYyyZoU1tfXHX9+dXWVbt5k/ozb21t6SUkJPTU19cNxTbTSBGhoAoK63e2LxMRE+uLiIgD71vj29rbfzxcWForOay65rq6u6JWVlX4/p5UmQEMT8CNmz9+GVpoADU2AhiZAQxOgoQnQ0ARoaAI0NAEamgANTYCGJkBDE6ChCdDQBGhoAv4CTDMQbHlDyiQAAAAASUVORK5CYII=\" y=\"-116.670332\"/>\r\n   </g>\r\n  </g>\r\n  <g id=\"axes_9\">\r\n   <g clip-path=\"url(#p6224c99189)\">\r\n    <image height=\"77\" id=\"image5fadd1dc40\" transform=\"scale(1 -1)translate(0 -77)\" width=\"77\" x=\"7.2\" xlink:href=\"data:image/png;base64,\r\niVBORw0KGgoAAAANSUhEUgAAAE0AAABNCAYAAADjCemwAAAABHNCSVQICAgIfAhkiAAAA0JJREFUeJztm88rfFEYxp+RhJUFscCGnUSJHWHBQlloNtiNNVFY+wdYsWKnlJ1SLKQsKLG0NCULiixm4WdhrO77PePeGXm+nLnq+aye3jtnent6zpx7zr2TyGazWYhvUVLsBv4iMo1AphHINAKZRlBa7AYA4Pr62nRTUxMA4OXlxWpLS0ump6en/TWWByWNIBZJu7u7M+0mLOD4+NhnO1+ipBHINIJEHLZRmUzGdENDAwDg4eHBaqWl/35F0um06cbGRg/dhVHSCGQaQSxWz6qqKtPl5eUAcqfn6+ur6a2tLdNTU1MeugujpBHINIJYTM/v4K60xUJJI4hd0kZGRgAAq6urkdfPz899thOJkkYg0whisY1yOTo6AgB0d3dHXq+pqTF9c3PjpafPKGkEMo0gdqtne3s7AKC2ttZqxZqG+VDSCGQaQSym5/Pzs+nd3d1QzeX+/t70wcEBAKC3t/fXeotCSSMoWtLcJM3NzZleWVkpOO7p6cn09vY2ACXtTyDTCLxuo9wpmUwmTe/s7JgeGhoCAIyNjVltfHw88vuCe7nLy0urlZWV/UyzBVDSCGQagdfp6b79Mzs7G/mZs7MzAEB1dbXV6uvrTb+9vYXGBPdrANDT0/O/bX6JkkYg0wi83tze3t5G1hOJhOngpb7goTEAdHR0mD45OQmNX19fN63pGVO8Ju39/T2yPj8/b9pNWEBzc7PpqKT5RkkjkGkEXqenu91xGRgYKDiuv7/f9MbGRui6u8C4PwElJb+TCSWNQKYRxOK42z3xuLq6ApC7inZ2dhYcHxxGAsDh4aHp37pnU9IIZBqB11OOvb0904ODg5Gf2d/fBwD09fVZzT28bGlpMX1xcREan0qlTK+trfHNFkBJI/C6ELhPjSorK00/Pj6aXlhYAAB0dXVZraKiwnRra6vpIGnudw0PD/9Yv/lQ0ghkGkHRXupzj75PT09Nb25uAgAmJias5m6HRkdHTdfV1QHI/btjW1vbzzf7CSWNQKYRxOKd2+XlZdOTk5MAco/AZ2ZmTC8uLvprLA9KGoFMI4jF9PxrKGkEMo1AphHINAKZRiDTCGQagUwjkGkEMo1AphHINAKZRiDTCGQawQcHrdwAtEMu4wAAAABJRU5ErkJggg==\" y=\"-226.640665\"/>\r\n   </g>\r\n  </g>\r\n  <g id=\"axes_10\">\r\n   <g clip-path=\"url(#p08bd4fe7c6)\">\r\n    <image height=\"77\" id=\"image9ff6e7b1e5\" transform=\"scale(1 -1)translate(0 -77)\" width=\"77\" x=\"94.5\" xlink:href=\"data:image/png;base64,\r\niVBORw0KGgoAAAANSUhEUgAAAE0AAABNCAYAAADjCemwAAAABHNCSVQICAgIfAhkiAAAA59JREFUeJztmztIK1EQhv/4xFehRbAQbSy1ERFbK5UQQdBSkICVKKKCaCWCWvhshTRBbKzERhSxEGy0sbcJopVY+H6bW+3cE9xE99/NJt47X/Uzu3vO4XcmZ7I5BhKJRAKKI/KyvYDfiJpGoKYRqGkEahqBmkagphGoaQRqGoGaRlDgdoDPz0/Rq6urond2dkQfHBwAACoqKiQ2ODgoenl5WfTr6ysA4OzsTGI1NTWii4qK3C7ZNZppBGoaQcDtWw6zPDs6OkTv7++7GTaJxcVF0SMjI6Lz8rLzN9dMI1DTCFzvnia1tbW28WAwCAC4vb2V2PPzs+1z5+fnX54fHx8XXVVVJbq/v59eqxs00whcbwQmb29vou/u7kRbvdX7+7vEzA3EXMLo6CgAYH193XaOiYkJ0fPz8y5XzKGZRqCmEXi6ERQWFoo2P7Cd0N3dDQDY2NiQWK79YKaZRqCmEXhanqk4OTkBAPT09Nhen5mZEV1XVwcguSS1PP8B1DSCjJWn2ciOjY0BAC4uLmzvjUQioq3yNAkEAqLr6+u9WiKNZhpBxjKtoODv0C0tLQCAo6Ojb5+Lx+MAkrPLfG8WCoU8WiGPZhqBmkbgS5/W1NQEwFm/Zd67sLAgurq62ruFkWimEahpBJ6+hEyFNYX5NWprayvtvdPT0xKz+jwAKCsry8AKnaGZRqCmEfiye1qNamNjo8RSlafFwMCA6FwoSRPNNAJfNgKLm5sb0ZWVlWnvNTOxq6srY2ti0EwjUNMIfC3Pj48P0VNTU6LNU0F2Pd3m5qbruV9eXgAk/2LGnjrSTCNQ0wh86dMs8vPzRZeXl6e99/T0VPTj46Po0tLSH8/38PAg2voRemhoSGLhcPjHY5lophGoaQS+lqfJ8PCw6KWlJdHWwb++vj7b556enkSXlJR8uW4e4VpbWxNtnQFua2uTmJanj2Qt08weaXt7W3QsFgMAtLe3S6y5uVn09fW16M7OzrTjHh4efrne0NBArtiYw/UI/yFqGoGvX6Oc0NraKvr4+NizcWdnZ0VPTk5SY2imEahpBFnbPZ1gnuswP03M+HfXrbh5xsTs6Zy88dBMI1DTCHK2PHd3d0Xv7e2Jvry8FL2ysgIg9WFBO8zDhvoS0kdytk/7Cff39wCAq6sriUWjUdFzc3Oie3t7AST/z1VxcTE1r2YagZpG8KvLM1tophGoaQRqGoGaRqCmEahpBGoagZpGoKYRqGkEfwBl8gU9XOK+twAAAABJRU5ErkJggg==\" y=\"-226.640665\"/>\r\n   </g>\r\n  </g>\r\n  <g id=\"axes_11\">\r\n   <g clip-path=\"url(#p693ef37707)\">\r\n    <image height=\"77\" id=\"image8c6071ecba\" transform=\"scale(1 -1)translate(0 -77)\" width=\"77\" x=\"181.8\" xlink:href=\"data:image/png;base64,\r\niVBORw0KGgoAAAANSUhEUgAAAE0AAABNCAYAAADjCemwAAAABHNCSVQICAgIfAhkiAAAA39JREFUeJztm88r7FEYxt/hpjCUJRslWbBhQRayUIg0hQWWSpJkjYUk/wBlYWFDzdpCSqRsTRSyIVYWU9Nkw4wfae7idt57NGPufJ8580P3+ayezny/3/P2eF4z55wZXyKRSAjxREmhC/iJ0DQAmgZA0wBoGgBNA6BpAL9cPmx4eFj17e2t6pubG5fTFBwmDYCmAThtT5u7uzvVy8vLIiIyMzOjY3V1dbmaOucwaQA0DcDncpfj/PxcdUdHR9LrW1tbqqemplxNm3eYNACaBuCpPZ+fn1V/fHyIiEhNTY2Ovb29qV5YWFC9sbEhIiJNTU06Njs7m1KXlpZmWk7BYNIAPCWts7NT9dPTk4iI9PT06Nj8/LzqkpK/f4/m5ua0z318fFRdW1ubaTkFg0kDoGkAntqzvLxc9fv7u7MiWlpaVC8tLYnI1x0TL5SVlan2+XzZFfYNTBoATQPw1J4PDw+qW1tbRUTk5eXFfVVZsLKyotp+t+/t7XU2B5MGQNMA4F2O+/t7ERFZW1vTsZ2dHTdVOcL+gG2/qxq2t7dVj4+PZ/7c7Mr6P8l6P80s3EVE4vF4xvddXV2pHhgYUB2LxZKuraioUD05Oem1xG+xn9XW1pbxfUwaAE0DcLrdjRIOh1WbVrXb1/4nvr6+rnp6ejoP1SXDpAHQNICiaE+bvb09EREZHR1N+brdqpFIRERE/H5/7guzYNIAaBpA0bWnOfGamJjQsYODg5TXmgPp4+NjHausrMxhdX9g0gCKLmkGezk1NDSk+vT0NOnaxcVF1aurq6rtBbtLmDQAmgZQtO1pc3h4qHpwcDDtte3t7aqPjo5UV1VVOauHSQOgaQA/oj3tEk9OTlT39fWlvc8+Pauvr3dWD5MGQNMAiqI9Ly8vVZtlUGNjY8prPz8/VZvD4IuLi5TXBgIB1bu7uyLiZkeESQPIa9L29/dVb25uqraXRubkyf68ZTM2NqbapLG/v1/HXl9fU95nvnluvk6RDUwaAE0DyEt7mgNlu+Wur69zPe0X2J4FhqYB5OynizZmM7Crq0vHvLRndXW1ai/fHenu7lbd0NCQ8Xz/gkkDoGkABVtGBYNB1XNzc6rNL2HsXYmzszPV0WhUdSgUSjvHyMiIapcHykwaQFEs2H8aTBoATQOgaQA0DYCmAdA0AJoGQNMAaBoATQOgaQA0DYCmAfwGafsKNQL+NBkAAAAASUVORK5CYII=\" y=\"-226.640665\"/>\r\n   </g>\r\n  </g>\r\n  <g id=\"axes_12\">\r\n   <g clip-path=\"url(#p7a03499a54)\">\r\n    <image height=\"77\" id=\"imageab2066cea2\" transform=\"scale(1 -1)translate(0 -77)\" width=\"77\" x=\"269.1\" xlink:href=\"data:image/png;base64,\r\niVBORw0KGgoAAAANSUhEUgAAAE0AAABNCAYAAADjCemwAAAABHNCSVQICAgIfAhkiAAAA9NJREFUeJztm0sodVEYht/Db6AwkPsAJVIGRlIMlImSpCiRUkYMJBnIUEpJDBVmEiXKZWBg4JoZuUQoBi4DGaEU4vyj/Vqnc/l/3z5n70PfM3patmX1+lZrr3XW8Xi9Xi+UbxHj9gB+IhqaAA1NgIYmQEMToKEJ0NAE/HF7AMFYXl6mLyws0Kenp/2ebWxspA8ODtJzc3MjMjatNAEamgBPNGyjnp+f6UNDQwCAqakptt3d3f13X2lpafSdnR16Xl6enSH6oJUmQEMTEBXT8+zsjF5UVBTy2fLycnpsbCwAYGtrK+CzGRkZ9OPjYwBAcnKyeJwWWmkCNDQBrr3c3tzc0Kuqqvx+bk6trq4uek9PD93j8QAA9vb22Nbf309fXV2lWyu0Tk+XcK3SzO3Q7e0tPT09HQCwsbHBtvz8/JB9lZSU0MfHx+nZ2dl2hxkQrTQBGpoAR6fnx8cHfXh4mJ6SkkLf3t4GIN/2JCUl0QsKCugnJycAgJycHFG/JlppAjQ0Aa6tno+Pj/S+vj663dOIp6cn+sXFBX1lZQUAUF1dbat/QCtNhIYmwNHpaW17AGBpaYleU1Pj5DBso5UmwNFKi4n5+h9FqrrMhcDEfBe0i1aaAA1NQFQcd9vl5eWFbh6XX19f06+urgDoNso1NDQBUXGX4/X1lX56egoAKCwsZFt8fHzA3/v8/AQA7O7uss2cku3t7XTz+NwuWmkCNDQBtlfP8/Nz+sDAAL2zs5NeWloaso/7+3t6VlYWAN8DxISEBHpFRQV9c3MTALC/v8828yX24OCAnpmZGXIM30ErTYDthWB0dJQ+OztLX1xcpFufNV5eXrItLi4uZL/mWZiJWVWBaGtro4ezuky00gRoaAJsLwTz8/P0pqYmuvUOZdLQ0ECfmZmhm+9p1p1Z63JfsL4AIDExEQAwOTnJtvr6erp5qhJOtNIEaGgCwnrKYa6e3d3d9IeHB79nzelpXmm3aGlpCdivibUaR+rqezC00gRoaAIidgh5eHhIr6urA+B7AlFbW0ufmJigp6amAvA96y8uLqabfVinG//apoUbrTQBETtPM6tjbm4OAFBWVsY287tP6+vr9I6ODgBAa2sr24JtuY6OjgBopf0INDQBjn4aZZ6xjY2N2e7PugBoTnsn0EoToKEJcHR6mn+qt7eXPjIyIurv7e0NwNd3pJxCK02AhibAtbsc7+/vdPOL/c3NzX7PmkOsrKykr62tAYjcYWMwtNIE/IpbQ06jlSZAQxOgoQnQ0ARoaAI0NAEamgANTYCGJkBDE6ChCdDQBGhoAv4CqokeyfzUjdYAAAAASUVORK5CYII=\" y=\"-226.640665\"/>\r\n   </g>\r\n  </g>\r\n </g>\r\n <defs>\r\n  <clipPath id=\"p4723a7485b\">\r\n   <rect height=\"76.5\" width=\"76.5\" x=\"7.2\" y=\"7.2\"/>\r\n  </clipPath>\r\n  <clipPath id=\"p46e4d5c8f3\">\r\n   <rect height=\"76.5\" width=\"76.5\" x=\"94.5\" y=\"7.2\"/>\r\n  </clipPath>\r\n  <clipPath id=\"p69ff618a94\">\r\n   <rect height=\"76.5\" width=\"76.5\" x=\"181.8\" y=\"7.2\"/>\r\n  </clipPath>\r\n  <clipPath id=\"p4a3466296f\">\r\n   <rect height=\"76.5\" width=\"76.5\" x=\"269.1\" y=\"7.2\"/>\r\n  </clipPath>\r\n  <clipPath id=\"pb9167fcd95\">\r\n   <rect height=\"76.5\" width=\"76.5\" x=\"7.2\" y=\"117.170332\"/>\r\n  </clipPath>\r\n  <clipPath id=\"pea6afd9e7a\">\r\n   <rect height=\"76.5\" width=\"76.5\" x=\"94.5\" y=\"117.170332\"/>\r\n  </clipPath>\r\n  <clipPath id=\"p44af218a7a\">\r\n   <rect height=\"76.5\" width=\"76.5\" x=\"181.8\" y=\"117.170332\"/>\r\n  </clipPath>\r\n  <clipPath id=\"p68b8e685ce\">\r\n   <rect height=\"76.5\" width=\"76.5\" x=\"269.1\" y=\"117.170332\"/>\r\n  </clipPath>\r\n  <clipPath id=\"p6224c99189\">\r\n   <rect height=\"76.5\" width=\"76.5\" x=\"7.2\" y=\"227.140665\"/>\r\n  </clipPath>\r\n  <clipPath id=\"p08bd4fe7c6\">\r\n   <rect height=\"76.5\" width=\"76.5\" x=\"94.5\" y=\"227.140665\"/>\r\n  </clipPath>\r\n  <clipPath id=\"p693ef37707\">\r\n   <rect height=\"76.5\" width=\"76.5\" x=\"181.8\" y=\"227.140665\"/>\r\n  </clipPath>\r\n  <clipPath id=\"p7a03499a54\">\r\n   <rect height=\"76.5\" width=\"76.5\" x=\"269.1\" y=\"227.140665\"/>\r\n  </clipPath>\r\n </defs>\r\n</svg>\r\n",
      "text/plain": "<Figure size 360x360 with 12 Axes>"
     },
     "metadata": {
      "needs_background": "light"
     },
     "output_type": "display_data"
    }
   ],
   "source": [
    "plt.figure(figsize=(5,5))\n",
    "for k in  np.arange(min(indexes_false.size, 12)):\n",
    "    plt.subplot(3, 4, k+1)\n",
    "    plt.imshow(X[indexes_false[k]], cmap=\"Greys\")\n",
    "    plt.axis('off')\n",
    "plt.tight_layout()\n",
    "plt.show()"
   ]
  },
  {
   "cell_type": "markdown",
   "execution_count": null,
   "metadata": {},
   "outputs": [],
   "source": [
    "End"
   ]
  }
 ]
}