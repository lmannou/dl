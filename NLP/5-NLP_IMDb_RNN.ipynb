{
 "cells": [
  {
   "cell_type": "markdown",
   "metadata": {},
   "source": [
    "Packages\n",
    "\n",
    "keras"
   ]
  },
  {
   "cell_type": "code",
   "execution_count": 23,
   "metadata": {},
   "outputs": [],
   "source": [
    "#tensorflow: use some TF tools\n",
    "import tensorflow as tf\n",
    "#Keras: Deep learning API. In TF 2.x, it is included in TF\n",
    "from tensorflow import keras\n",
    "from tensorflow.keras.models import Sequential\n",
    "\n",
    "\n",
    "#Import Dense layer\n",
    "from tensorflow.keras.layers import Dense, Flatten, Dropout, Embedding\n",
    "from tensorflow.keras.callbacks import ModelCheckpoint\n",
    "from tensorflow.keras.metrics import AUC\n",
    "\n",
    "# import RNN SimpleRNN\n",
    "from tensorflow.keras.layers import SimpleRNN,SpatialDropout1D\n",
    "\n",
    "\n",
    "import os\n",
    "\n",
    "# ROC from skilearn\n",
    "from sklearn.metrics import roc_auc_score\n",
    "\n",
    "import pandas as pd\n",
    "\n",
    "import matplotlib.pyplot as pyplot\n",
    "%matplotlib inline\n"
   ]
  },
  {
   "cell_type": "markdown",
   "metadata": {},
   "source": [
    "Hyper parameters"
   ]
  },
  {
   "cell_type": "code",
   "execution_count": 2,
   "metadata": {},
   "outputs": [],
   "source": [
    "output_dir = \"model_output/rnn\"\n",
    "\n",
    "# Training\n",
    "epochs = 16\n",
    "batch_size = 128\n",
    "\n",
    "# vector space embed\n",
    "n_dim = 64 #vector dimensions\n",
    "n_unique_words = 10000\n",
    "n_words_to_skip = 50\n",
    "max_review_length = 100\n",
    "pad_type = trunc_type = 'pre'\n",
    "drop_embed = 0.2 # drop out for embedding layer\n",
    "\n",
    "# RNN\n",
    "n_rnn = 256\n",
    "drop_rnn = 0.2\n",
    "\n",
    "# Dense layer\n",
    "n_dense = 256\n",
    "dropout = 0.2"
   ]
  },
  {
   "cell_type": "markdown",
   "metadata": {},
   "source": [
    "IMDb"
   ]
  },
  {
   "cell_type": "code",
   "execution_count": 3,
   "metadata": {},
   "outputs": [],
   "source": [
    "from tensorflow.keras.datasets import imdb"
   ]
  },
  {
   "cell_type": "code",
   "execution_count": 4,
   "metadata": {},
   "outputs": [],
   "source": [
    "#imdb.get_word_index()"
   ]
  },
  {
   "cell_type": "code",
   "execution_count": 5,
   "metadata": {},
   "outputs": [],
   "source": [
    "from tensorflow.keras.preprocessing.sequence import pad_sequences"
   ]
  },
  {
   "cell_type": "markdown",
   "metadata": {},
   "source": [
    "Load IMDb"
   ]
  },
  {
   "cell_type": "code",
   "execution_count": 6,
   "metadata": {},
   "outputs": [],
   "source": [
    "(x_train, y_train), (x_valid, y_valid) = \\\n",
    "    imdb.load_data(num_words=n_unique_words, skip_top=n_words_to_skip)"
   ]
  },
  {
   "cell_type": "code",
   "execution_count": 7,
   "metadata": {},
   "outputs": [
    {
     "output_type": "stream",
     "name": "stdout",
     "text": "25000\n25000\n"
    }
   ],
   "source": [
    "print(len(x_train))\n",
    "print(len(x_valid))"
   ]
  },
  {
   "cell_type": "code",
   "execution_count": 8,
   "metadata": {},
   "outputs": [
    {
     "output_type": "execute_result",
     "data": {
      "text/plain": "218"
     },
     "metadata": {},
     "execution_count": 8
    }
   ],
   "source": [
    "len(x_train[0])"
   ]
  },
  {
   "cell_type": "code",
   "execution_count": 9,
   "metadata": {},
   "outputs": [
    {
     "output_type": "execute_result",
     "data": {
      "text/plain": "array([1, 0, 0, 1, 0, 0, 1, 0, 1, 0], dtype=int64)"
     },
     "metadata": {},
     "execution_count": 9
    }
   ],
   "source": [
    "y_train[0:10]"
   ]
  },
  {
   "cell_type": "code",
   "execution_count": 10,
   "metadata": {},
   "outputs": [
    {
     "output_type": "execute_result",
     "data": {
      "text/plain": "[2,\n 2,\n 2,\n 2,\n 2,\n 530,\n 973,\n 1622,\n 1385,\n 65,\n 458,\n 4468,\n 66,\n 3941,\n 2,\n 173,\n 2,\n 256,\n 2,\n 2,\n 100,\n 2,\n 838,\n 112,\n 50,\n 670,\n 2,\n 2,\n 2,\n 480,\n 284,\n 2,\n 150,\n 2,\n 172,\n 112,\n 167,\n 2,\n 336,\n 385,\n 2,\n 2,\n 172,\n 4536,\n 1111,\n 2,\n 546,\n 2,\n 2,\n 447,\n 2,\n 192,\n 50,\n 2,\n 2,\n 147,\n 2025,\n 2,\n 2,\n 2,\n 2,\n 1920,\n 4613,\n 469,\n 2,\n 2,\n 71,\n 87,\n 2,\n 2,\n 2,\n 530,\n 2,\n 76,\n 2,\n 2,\n 1247,\n 2,\n 2,\n 2,\n 515,\n 2,\n 2,\n 2,\n 626,\n 2,\n 2,\n 2,\n 62,\n 386,\n 2,\n 2,\n 316,\n 2,\n 106,\n 2,\n 2,\n 2223,\n 2,\n 2,\n 480,\n 66,\n 3785,\n 2,\n 2,\n 130,\n 2,\n 2,\n 2,\n 619,\n 2,\n 2,\n 124,\n 51,\n 2,\n 135,\n 2,\n 2,\n 1415,\n 2,\n 2,\n 2,\n 2,\n 215,\n 2,\n 77,\n 52,\n 2,\n 2,\n 407,\n 2,\n 82,\n 2,\n 2,\n 2,\n 107,\n 117,\n 2,\n 2,\n 256,\n 2,\n 2,\n 2,\n 3766,\n 2,\n 723,\n 2,\n 71,\n 2,\n 530,\n 476,\n 2,\n 400,\n 317,\n 2,\n 2,\n 2,\n 2,\n 1029,\n 2,\n 104,\n 88,\n 2,\n 381,\n 2,\n 297,\n 98,\n 2,\n 2071,\n 56,\n 2,\n 141,\n 2,\n 194,\n 2,\n 2,\n 2,\n 226,\n 2,\n 2,\n 134,\n 476,\n 2,\n 480,\n 2,\n 144,\n 2,\n 2,\n 2,\n 51,\n 2,\n 2,\n 224,\n 92,\n 2,\n 104,\n 2,\n 226,\n 65,\n 2,\n 2,\n 1334,\n 88,\n 2,\n 2,\n 283,\n 2,\n 2,\n 4472,\n 113,\n 103,\n 2,\n 2,\n 2,\n 2,\n 2,\n 178,\n 2]"
     },
     "metadata": {},
     "execution_count": 10
    }
   ],
   "source": [
    "x_train[0]"
   ]
  },
  {
   "cell_type": "code",
   "execution_count": 10,
   "metadata": {
    "tags": [
     "outputPrepend"
    ]
   },
   "outputs": [
    {
     "output_type": "execute_result",
     "data": {
      "text/plain": "88584"
     },
     "metadata": {},
     "execution_count": 10
    }
   ],
   "source": [
    "word_indexes = imdb.get_word_index()\n",
    "len(word_indexes)\n",
    "#print(word_indexes)"
   ]
  },
  {
   "cell_type": "code",
   "execution_count": 11,
   "metadata": {},
   "outputs": [],
   "source": [
    "# Reserve 3 values (0, 1, 2) for special words\n",
    "word_indexes = {k:(v+3) for k, v in word_indexes.items()}"
   ]
  },
  {
   "cell_type": "code",
   "execution_count": 12,
   "metadata": {},
   "outputs": [],
   "source": [
    "# Add 3 special words\n",
    "word_indexes[\"pad\"] = 0\n",
    "word_indexes[\"start\"] = 1\n",
    "word_indexes[\"unk\"] = 2"
   ]
  },
  {
   "cell_type": "code",
   "execution_count": 13,
   "metadata": {},
   "outputs": [
    {
     "output_type": "execute_result",
     "data": {
      "text/plain": "2"
     },
     "metadata": {},
     "execution_count": 13
    }
   ],
   "source": [
    "word_indexes[\"unk\"]"
   ]
  },
  {
   "cell_type": "code",
   "execution_count": 14,
   "metadata": {},
   "outputs": [],
   "source": [
    "# Inverse key and values\n",
    "index_word = {v:k for k, v in word_indexes.items()}"
   ]
  },
  {
   "cell_type": "code",
   "execution_count": 15,
   "metadata": {},
   "outputs": [
    {
     "output_type": "execute_result",
     "data": {
      "text/plain": "'unk'"
     },
     "metadata": {},
     "execution_count": 15
    }
   ],
   "source": [
    "index_word[2]"
   ]
  },
  {
   "cell_type": "code",
   "execution_count": 16,
   "metadata": {},
   "outputs": [
    {
     "output_type": "execute_result",
     "data": {
      "text/plain": "\"unk unk unk unk unk brilliant casting location scenery story direction everyone's really suited unk part unk played unk unk could unk imagine being there robert unk unk unk amazing actor unk now unk same being director unk father came unk unk same scottish island unk myself unk unk loved unk fact there unk unk real connection unk unk unk unk witty remarks throughout unk unk were great unk unk unk brilliant unk much unk unk bought unk unk unk soon unk unk unk released unk unk unk would recommend unk unk everyone unk watch unk unk fly fishing unk amazing really cried unk unk end unk unk unk sad unk unk know what unk say unk unk cry unk unk unk unk must unk been good unk unk definitely unk also unk unk unk two little boy's unk played unk unk unk norman unk paul unk were unk brilliant children unk often left unk unk unk unk list unk think because unk stars unk play them unk grown up unk such unk big profile unk unk whole unk unk these children unk amazing unk should unk praised unk what unk unk done don't unk think unk whole story unk unk lovely because unk unk true unk unk someone's life after unk unk unk shared unk us unk\""
     },
     "metadata": {},
     "execution_count": 16
    }
   ],
   "source": [
    "# print a sentence \n",
    "' '.join([index_word[id] for id in x_train[0]])"
   ]
  },
  {
   "cell_type": "code",
   "execution_count": 17,
   "metadata": {},
   "outputs": [
    {
     "output_type": "execute_result",
     "data": {
      "text/plain": "100"
     },
     "metadata": {},
     "execution_count": 17
    }
   ],
   "source": [
    "# Pad to get same length\n",
    "max_review_length\n",
    "x_train = pad_sequences(x_train, maxlen=max_review_length, padding=pad_type, truncating=trunc_type, value=0)\n",
    "x_valid = pad_sequences(x_valid, maxlen=max_review_length, padding=pad_type, truncating=trunc_type, value=0)\n",
    "len(x_train[0])"
   ]
  },
  {
   "cell_type": "markdown",
   "metadata": {},
   "source": [
    "Dense Network with Embedding"
   ]
  },
  {
   "cell_type": "code",
   "execution_count": 20,
   "metadata": {},
   "outputs": [],
   "source": [
    "model = Sequential()\n",
    "model.add(Embedding(n_unique_words, n_dim, input_length=max_review_length)) # Input: vector of 100 words\n",
    "# Output: word vector with n_dim(64) dimensions\n",
    "# unique words = 10000\n",
    "# Output: 10000 * 64 = 640 000 parameters"
   ]
  },
  {
   "cell_type": "code",
   "execution_count": 24,
   "metadata": {},
   "outputs": [],
   "source": [
    "# Embedding dropout\n",
    "model.add(SpatialDropout1D(drop_embed))"
   ]
  },
  {
   "cell_type": "code",
   "execution_count": 25,
   "metadata": {},
   "outputs": [],
   "source": [
    "#model.add(Flatten())\n",
    "# Output: one dimensional vector for Dense Layer\n",
    "# vector: 100 * 64 "
   ]
  },
  {
   "cell_type": "code",
   "execution_count": 26,
   "metadata": {},
   "outputs": [],
   "source": [
    "# RNN layer\n",
    "model.add(SimpleRNN(n_rnn, dropout=drop_rnn))"
   ]
  },
  {
   "cell_type": "code",
   "execution_count": 27,
   "metadata": {},
   "outputs": [],
   "source": [
    "# Dense: 6400 * 64 = 409 000 parameters + 64 biases \n",
    "#model.add(Dense(n_dense, activation=\"relu\"))\n"
   ]
  },
  {
   "cell_type": "code",
   "execution_count": 28,
   "metadata": {},
   "outputs": [],
   "source": [
    "#model.add(Dropout(dropout))"
   ]
  },
  {
   "cell_type": "code",
   "execution_count": 29,
   "metadata": {},
   "outputs": [],
   "source": [
    "# Output layer: sigmoid, 2 classes: 0 and 1\n",
    "model.add(Dense(1, \"sigmoid\"))\n",
    "# 64 parameters (one for each preceding layer neurons) + 1 bias = 65 params"
   ]
  },
  {
   "cell_type": "code",
   "execution_count": 30,
   "metadata": {},
   "outputs": [],
   "source": [
    "model.compile(loss=\"binary_crossentropy\", optimizer=\"adam\", metrics=[\"accuracy\"])"
   ]
  },
  {
   "cell_type": "code",
   "execution_count": 31,
   "metadata": {},
   "outputs": [],
   "source": [
    "# Model Checkpoint: to save model parameters after each epoch\n",
    "modelcheckpoint = ModelCheckpoint(filepath= output_dir+\"/weights.{epoch:02d}.hdf5\")\n",
    "if not os.path.exists(output_dir):\n",
    "    os.makedirs(output_dir)"
   ]
  },
  {
   "cell_type": "code",
   "execution_count": 32,
   "metadata": {},
   "outputs": [
    {
     "output_type": "stream",
     "name": "stdout",
     "text": "Train on 25000 samples, validate on 25000 samples\nEpoch 1/16\n25000/25000 [==============================] - 44s 2ms/sample - loss: 0.6977 - accuracy: 0.5174 - val_loss: 0.6936 - val_accuracy: 0.5278\nEpoch 2/16\n25000/25000 [==============================] - 43s 2ms/sample - loss: 0.6754 - accuracy: 0.5704 - val_loss: 0.6885 - val_accuracy: 0.5512\nEpoch 3/16\n25000/25000 [==============================] - 43s 2ms/sample - loss: 0.6029 - accuracy: 0.6694 - val_loss: 0.7552 - val_accuracy: 0.5934\nEpoch 4/16\n25000/25000 [==============================] - 42s 2ms/sample - loss: 0.5409 - accuracy: 0.7220 - val_loss: 0.5829 - val_accuracy: 0.6985\nEpoch 5/16\n25000/25000 [==============================] - 44s 2ms/sample - loss: 0.4683 - accuracy: 0.7796 - val_loss: 0.5901 - val_accuracy: 0.7152\nEpoch 6/16\n25000/25000 [==============================] - 43s 2ms/sample - loss: 0.4463 - accuracy: 0.7930 - val_loss: 0.6065 - val_accuracy: 0.6857\nEpoch 7/16\n25000/25000 [==============================] - 43s 2ms/sample - loss: 0.5212 - accuracy: 0.7332 - val_loss: 0.6600 - val_accuracy: 0.6199\nEpoch 8/16\n25000/25000 [==============================] - 39s 2ms/sample - loss: 0.4750 - accuracy: 0.7687 - val_loss: 0.6927 - val_accuracy: 0.6034\nEpoch 9/16\n25000/25000 [==============================] - 39s 2ms/sample - loss: 0.4585 - accuracy: 0.7763 - val_loss: 0.6543 - val_accuracy: 0.6880\nEpoch 10/16\n25000/25000 [==============================] - 39s 2ms/sample - loss: 0.4391 - accuracy: 0.7965 - val_loss: 0.6980 - val_accuracy: 0.6377\nEpoch 11/16\n25000/25000 [==============================] - 39s 2ms/sample - loss: 0.3982 - accuracy: 0.8200 - val_loss: 0.7150 - val_accuracy: 0.6620\nEpoch 12/16\n25000/25000 [==============================] - 39s 2ms/sample - loss: 0.3493 - accuracy: 0.8542 - val_loss: 0.6267 - val_accuracy: 0.7190\nEpoch 13/16\n25000/25000 [==============================] - 39s 2ms/sample - loss: 0.3510 - accuracy: 0.8470 - val_loss: 0.7871 - val_accuracy: 0.7007\nEpoch 14/16\n25000/25000 [==============================] - 38s 2ms/sample - loss: 0.3376 - accuracy: 0.8589 - val_loss: 0.8521 - val_accuracy: 0.6746\nEpoch 15/16\n25000/25000 [==============================] - 39s 2ms/sample - loss: 0.3149 - accuracy: 0.8714 - val_loss: 0.7770 - val_accuracy: 0.7104\nEpoch 16/16\n25000/25000 [==============================] - 39s 2ms/sample - loss: 0.3254 - accuracy: 0.8631 - val_loss: 0.7397 - val_accuracy: 0.7247\n"
    },
    {
     "output_type": "execute_result",
     "data": {
      "text/plain": "<tensorflow.python.keras.callbacks.History at 0x2431b3131c8>"
     },
     "metadata": {},
     "execution_count": 32
    }
   ],
   "source": [
    "# Train\n",
    "model.fit(x_train, y_train,\n",
    "    batch_size=batch_size, \n",
    "    epochs=epochs,\n",
    "    verbose=1,\n",
    "    validation_data=(x_valid, y_valid),\n",
    "    callbacks=[modelcheckpoint])"
   ]
  },
  {
   "cell_type": "code",
   "execution_count": 33,
   "metadata": {},
   "outputs": [
    {
     "output_type": "stream",
     "name": "stdout",
     "text": "Model: \"sequential_1\"\n_________________________________________________________________\nLayer (type)                 Output Shape              Param #   \n=================================================================\nembedding_1 (Embedding)      (None, 100, 64)           640000    \n_________________________________________________________________\nspatial_dropout1d (SpatialDr (None, 100, 64)           0         \n_________________________________________________________________\nsimple_rnn (SimpleRNN)       (None, 256)               82176     \n_________________________________________________________________\ndense (Dense)                (None, 1)                 257       \n=================================================================\nTotal params: 722,433\nTrainable params: 722,433\nNon-trainable params: 0\n_________________________________________________________________\n"
    }
   ],
   "source": [
    "model.summary()"
   ]
  },
  {
   "cell_type": "code",
   "execution_count": 34,
   "metadata": {},
   "outputs": [],
   "source": [
    "model.load_weights(output_dir + \"/weights.04.hdf5\") # Best val_loss "
   ]
  },
  {
   "cell_type": "code",
   "execution_count": 35,
   "metadata": {},
   "outputs": [],
   "source": [
    "y_hat = model.predict(x_valid)"
   ]
  },
  {
   "cell_type": "code",
   "execution_count": 36,
   "metadata": {},
   "outputs": [
    {
     "output_type": "stream",
     "name": "stdout",
     "text": "[0.93381214]\n1\n"
    },
    {
     "output_type": "execute_result",
     "data": {
      "text/plain": "'unk powerful study unk loneliness sexual unk unk desperation unk patient unk up unk atmosphere unk pay attention unk unk wonderfully written script unk unk unk praise robert altman unk unk unk unk unk many films unk deals unk unconventional fascinating subject matter unk unk unk disturbing unk unk sincere unk unk sure unk unk unk strong emotional response unk unk viewer unk unk want unk see unk unusual unk unk might even say bizarre unk unk worth unk time unk unk unfortunately unk very difficult unk find unk video stores unk may unk unk buy unk off unk internet'"
     },
     "metadata": {},
     "execution_count": 36
    }
   ],
   "source": [
    "print(y_hat[1])\n",
    "print(y_valid[1])\n",
    "' '.join([index_word[id] for id in x_valid[1]])"
   ]
  },
  {
   "cell_type": "code",
   "execution_count": 37,
   "metadata": {},
   "outputs": [
    {
     "output_type": "display_data",
     "data": {
      "text/plain": "<Figure size 432x288 with 1 Axes>",
      "image/svg+xml": "<?xml version=\"1.0\" encoding=\"utf-8\" standalone=\"no\"?>\r\n<!DOCTYPE svg PUBLIC \"-//W3C//DTD SVG 1.1//EN\"\r\n  \"http://www.w3.org/Graphics/SVG/1.1/DTD/svg11.dtd\">\r\n<!-- Created with matplotlib (https://matplotlib.org/) -->\r\n<svg height=\"248.518125pt\" version=\"1.1\" viewBox=\"0 0 381.65 248.518125\" width=\"381.65pt\" xmlns=\"http://www.w3.org/2000/svg\" xmlns:xlink=\"http://www.w3.org/1999/xlink\">\r\n <defs>\r\n  <style type=\"text/css\">\r\n*{stroke-linecap:butt;stroke-linejoin:round;}\r\n  </style>\r\n </defs>\r\n <g id=\"figure_1\">\r\n  <g id=\"patch_1\">\r\n   <path d=\"M -0 248.518125 \r\nL 381.65 248.518125 \r\nL 381.65 0 \r\nL -0 0 \r\nz\r\n\" style=\"fill:none;\"/>\r\n  </g>\r\n  <g id=\"axes_1\">\r\n   <g id=\"patch_2\">\r\n    <path d=\"M 39.65 224.64 \r\nL 374.45 224.64 \r\nL 374.45 7.2 \r\nL 39.65 7.2 \r\nz\r\n\" style=\"fill:#ffffff;\"/>\r\n   </g>\r\n   <g id=\"patch_3\">\r\n    <path clip-path=\"url(#p9312534256)\" d=\"M 54.868182 224.64 \r\nL 85.304546 224.64 \r\nL 85.304546 82.349973 \r\nL 54.868182 82.349973 \r\nz\r\n\" style=\"fill:#1f77b4;\"/>\r\n   </g>\r\n   <g id=\"patch_4\">\r\n    <path clip-path=\"url(#p9312534256)\" d=\"M 85.304546 224.64 \r\nL 115.740911 224.64 \r\nL 115.740911 78.051968 \r\nL 85.304546 78.051968 \r\nz\r\n\" style=\"fill:#1f77b4;\"/>\r\n   </g>\r\n   <g id=\"patch_5\">\r\n    <path clip-path=\"url(#p9312534256)\" d=\"M 115.740911 224.64 \r\nL 146.177276 224.64 \r\nL 146.177276 17.554286 \r\nL 115.740911 17.554286 \r\nz\r\n\" style=\"fill:#1f77b4;\"/>\r\n   </g>\r\n   <g id=\"patch_6\">\r\n    <path clip-path=\"url(#p9312534256)\" d=\"M 146.177276 224.64 \r\nL 176.61364 224.64 \r\nL 176.61364 34.485822 \r\nL 146.177276 34.485822 \r\nz\r\n\" style=\"fill:#1f77b4;\"/>\r\n   </g>\r\n   <g id=\"patch_7\">\r\n    <path clip-path=\"url(#p9312534256)\" d=\"M 176.613631 224.64 \r\nL 207.049986 224.64 \r\nL 207.049986 63.920647 \r\nL 176.613631 63.920647 \r\nz\r\n\" style=\"fill:#1f77b4;\"/>\r\n   </g>\r\n   <g id=\"patch_8\">\r\n    <path clip-path=\"url(#p9312534256)\" d=\"M 207.049995 224.64 \r\nL 237.48636 224.64 \r\nL 237.48636 71.865445 \r\nL 207.049995 71.865445 \r\nz\r\n\" style=\"fill:#1f77b4;\"/>\r\n   </g>\r\n   <g id=\"patch_9\">\r\n    <path clip-path=\"url(#p9312534256)\" d=\"M 237.48636 224.64 \r\nL 267.922724 224.64 \r\nL 267.922724 62.5531 \r\nL 237.48636 62.5531 \r\nz\r\n\" style=\"fill:#1f77b4;\"/>\r\n   </g>\r\n   <g id=\"patch_10\">\r\n    <path clip-path=\"url(#p9312534256)\" d=\"M 267.922724 224.64 \r\nL 298.359089 224.64 \r\nL 298.359089 50.896388 \r\nL 267.922724 50.896388 \r\nz\r\n\" style=\"fill:#1f77b4;\"/>\r\n   </g>\r\n   <g id=\"patch_11\">\r\n    <path clip-path=\"url(#p9312534256)\" d=\"M 298.359089 224.64 \r\nL 328.795454 224.64 \r\nL 328.795454 60.404097 \r\nL 298.359089 60.404097 \r\nz\r\n\" style=\"fill:#1f77b4;\"/>\r\n   </g>\r\n   <g id=\"patch_12\">\r\n    <path clip-path=\"url(#p9312534256)\" d=\"M 328.795454 224.64 \r\nL 359.231818 224.64 \r\nL 359.231818 96.28593 \r\nL 328.795454 96.28593 \r\nz\r\n\" style=\"fill:#1f77b4;\"/>\r\n   </g>\r\n   <g id=\"matplotlib.axis_1\">\r\n    <g id=\"xtick_1\">\r\n     <g id=\"line2d_1\">\r\n      <defs>\r\n       <path d=\"M 0 0 \r\nL 0 3.5 \r\n\" id=\"m53cb25d40d\" style=\"stroke:#000000;stroke-width:0.8;\"/>\r\n      </defs>\r\n      <g>\r\n       <use style=\"stroke:#000000;stroke-width:0.8;\" x=\"51.962952\" xlink:href=\"#m53cb25d40d\" y=\"224.64\"/>\r\n      </g>\r\n     </g>\r\n     <g id=\"text_1\">\r\n      <!-- 0.0 -->\r\n      <defs>\r\n       <path d=\"M 31.78125 66.40625 \r\nQ 24.171875 66.40625 20.328125 58.90625 \r\nQ 16.5 51.421875 16.5 36.375 \r\nQ 16.5 21.390625 20.328125 13.890625 \r\nQ 24.171875 6.390625 31.78125 6.390625 \r\nQ 39.453125 6.390625 43.28125 13.890625 \r\nQ 47.125 21.390625 47.125 36.375 \r\nQ 47.125 51.421875 43.28125 58.90625 \r\nQ 39.453125 66.40625 31.78125 66.40625 \r\nz\r\nM 31.78125 74.21875 \r\nQ 44.046875 74.21875 50.515625 64.515625 \r\nQ 56.984375 54.828125 56.984375 36.375 \r\nQ 56.984375 17.96875 50.515625 8.265625 \r\nQ 44.046875 -1.421875 31.78125 -1.421875 \r\nQ 19.53125 -1.421875 13.0625 8.265625 \r\nQ 6.59375 17.96875 6.59375 36.375 \r\nQ 6.59375 54.828125 13.0625 64.515625 \r\nQ 19.53125 74.21875 31.78125 74.21875 \r\nz\r\n\" id=\"DejaVuSans-48\"/>\r\n       <path d=\"M 10.6875 12.40625 \r\nL 21 12.40625 \r\nL 21 0 \r\nL 10.6875 0 \r\nz\r\n\" id=\"DejaVuSans-46\"/>\r\n      </defs>\r\n      <g transform=\"translate(44.011389 239.238438)scale(0.1 -0.1)\">\r\n       <use xlink:href=\"#DejaVuSans-48\"/>\r\n       <use x=\"63.623047\" xlink:href=\"#DejaVuSans-46\"/>\r\n       <use x=\"95.410156\" xlink:href=\"#DejaVuSans-48\"/>\r\n      </g>\r\n     </g>\r\n    </g>\r\n    <g id=\"xtick_2\">\r\n     <g id=\"line2d_2\">\r\n      <g>\r\n       <use style=\"stroke:#000000;stroke-width:0.8;\" x=\"114.590576\" xlink:href=\"#m53cb25d40d\" y=\"224.64\"/>\r\n      </g>\r\n     </g>\r\n     <g id=\"text_2\">\r\n      <!-- 0.2 -->\r\n      <defs>\r\n       <path d=\"M 19.1875 8.296875 \r\nL 53.609375 8.296875 \r\nL 53.609375 0 \r\nL 7.328125 0 \r\nL 7.328125 8.296875 \r\nQ 12.9375 14.109375 22.625 23.890625 \r\nQ 32.328125 33.6875 34.8125 36.53125 \r\nQ 39.546875 41.84375 41.421875 45.53125 \r\nQ 43.3125 49.21875 43.3125 52.78125 \r\nQ 43.3125 58.59375 39.234375 62.25 \r\nQ 35.15625 65.921875 28.609375 65.921875 \r\nQ 23.96875 65.921875 18.8125 64.3125 \r\nQ 13.671875 62.703125 7.8125 59.421875 \r\nL 7.8125 69.390625 \r\nQ 13.765625 71.78125 18.9375 73 \r\nQ 24.125 74.21875 28.421875 74.21875 \r\nQ 39.75 74.21875 46.484375 68.546875 \r\nQ 53.21875 62.890625 53.21875 53.421875 \r\nQ 53.21875 48.921875 51.53125 44.890625 \r\nQ 49.859375 40.875 45.40625 35.40625 \r\nQ 44.1875 33.984375 37.640625 27.21875 \r\nQ 31.109375 20.453125 19.1875 8.296875 \r\nz\r\n\" id=\"DejaVuSans-50\"/>\r\n      </defs>\r\n      <g transform=\"translate(106.639013 239.238438)scale(0.1 -0.1)\">\r\n       <use xlink:href=\"#DejaVuSans-48\"/>\r\n       <use x=\"63.623047\" xlink:href=\"#DejaVuSans-46\"/>\r\n       <use x=\"95.410156\" xlink:href=\"#DejaVuSans-50\"/>\r\n      </g>\r\n     </g>\r\n    </g>\r\n    <g id=\"xtick_3\">\r\n     <g id=\"line2d_3\">\r\n      <g>\r\n       <use style=\"stroke:#000000;stroke-width:0.8;\" x=\"177.2182\" xlink:href=\"#m53cb25d40d\" y=\"224.64\"/>\r\n      </g>\r\n     </g>\r\n     <g id=\"text_3\">\r\n      <!-- 0.4 -->\r\n      <defs>\r\n       <path d=\"M 37.796875 64.3125 \r\nL 12.890625 25.390625 \r\nL 37.796875 25.390625 \r\nz\r\nM 35.203125 72.90625 \r\nL 47.609375 72.90625 \r\nL 47.609375 25.390625 \r\nL 58.015625 25.390625 \r\nL 58.015625 17.1875 \r\nL 47.609375 17.1875 \r\nL 47.609375 0 \r\nL 37.796875 0 \r\nL 37.796875 17.1875 \r\nL 4.890625 17.1875 \r\nL 4.890625 26.703125 \r\nz\r\n\" id=\"DejaVuSans-52\"/>\r\n      </defs>\r\n      <g transform=\"translate(169.266637 239.238438)scale(0.1 -0.1)\">\r\n       <use xlink:href=\"#DejaVuSans-48\"/>\r\n       <use x=\"63.623047\" xlink:href=\"#DejaVuSans-46\"/>\r\n       <use x=\"95.410156\" xlink:href=\"#DejaVuSans-52\"/>\r\n      </g>\r\n     </g>\r\n    </g>\r\n    <g id=\"xtick_4\">\r\n     <g id=\"line2d_4\">\r\n      <g>\r\n       <use style=\"stroke:#000000;stroke-width:0.8;\" x=\"239.845823\" xlink:href=\"#m53cb25d40d\" y=\"224.64\"/>\r\n      </g>\r\n     </g>\r\n     <g id=\"text_4\">\r\n      <!-- 0.6 -->\r\n      <defs>\r\n       <path d=\"M 33.015625 40.375 \r\nQ 26.375 40.375 22.484375 35.828125 \r\nQ 18.609375 31.296875 18.609375 23.390625 \r\nQ 18.609375 15.53125 22.484375 10.953125 \r\nQ 26.375 6.390625 33.015625 6.390625 \r\nQ 39.65625 6.390625 43.53125 10.953125 \r\nQ 47.40625 15.53125 47.40625 23.390625 \r\nQ 47.40625 31.296875 43.53125 35.828125 \r\nQ 39.65625 40.375 33.015625 40.375 \r\nz\r\nM 52.59375 71.296875 \r\nL 52.59375 62.3125 \r\nQ 48.875 64.0625 45.09375 64.984375 \r\nQ 41.3125 65.921875 37.59375 65.921875 \r\nQ 27.828125 65.921875 22.671875 59.328125 \r\nQ 17.53125 52.734375 16.796875 39.40625 \r\nQ 19.671875 43.65625 24.015625 45.921875 \r\nQ 28.375 48.1875 33.59375 48.1875 \r\nQ 44.578125 48.1875 50.953125 41.515625 \r\nQ 57.328125 34.859375 57.328125 23.390625 \r\nQ 57.328125 12.15625 50.6875 5.359375 \r\nQ 44.046875 -1.421875 33.015625 -1.421875 \r\nQ 20.359375 -1.421875 13.671875 8.265625 \r\nQ 6.984375 17.96875 6.984375 36.375 \r\nQ 6.984375 53.65625 15.1875 63.9375 \r\nQ 23.390625 74.21875 37.203125 74.21875 \r\nQ 40.921875 74.21875 44.703125 73.484375 \r\nQ 48.484375 72.75 52.59375 71.296875 \r\nz\r\n\" id=\"DejaVuSans-54\"/>\r\n      </defs>\r\n      <g transform=\"translate(231.894261 239.238438)scale(0.1 -0.1)\">\r\n       <use xlink:href=\"#DejaVuSans-48\"/>\r\n       <use x=\"63.623047\" xlink:href=\"#DejaVuSans-46\"/>\r\n       <use x=\"95.410156\" xlink:href=\"#DejaVuSans-54\"/>\r\n      </g>\r\n     </g>\r\n    </g>\r\n    <g id=\"xtick_5\">\r\n     <g id=\"line2d_5\">\r\n      <g>\r\n       <use style=\"stroke:#000000;stroke-width:0.8;\" x=\"302.473447\" xlink:href=\"#m53cb25d40d\" y=\"224.64\"/>\r\n      </g>\r\n     </g>\r\n     <g id=\"text_5\">\r\n      <!-- 0.8 -->\r\n      <defs>\r\n       <path d=\"M 31.78125 34.625 \r\nQ 24.75 34.625 20.71875 30.859375 \r\nQ 16.703125 27.09375 16.703125 20.515625 \r\nQ 16.703125 13.921875 20.71875 10.15625 \r\nQ 24.75 6.390625 31.78125 6.390625 \r\nQ 38.8125 6.390625 42.859375 10.171875 \r\nQ 46.921875 13.96875 46.921875 20.515625 \r\nQ 46.921875 27.09375 42.890625 30.859375 \r\nQ 38.875 34.625 31.78125 34.625 \r\nz\r\nM 21.921875 38.8125 \r\nQ 15.578125 40.375 12.03125 44.71875 \r\nQ 8.5 49.078125 8.5 55.328125 \r\nQ 8.5 64.0625 14.71875 69.140625 \r\nQ 20.953125 74.21875 31.78125 74.21875 \r\nQ 42.671875 74.21875 48.875 69.140625 \r\nQ 55.078125 64.0625 55.078125 55.328125 \r\nQ 55.078125 49.078125 51.53125 44.71875 \r\nQ 48 40.375 41.703125 38.8125 \r\nQ 48.828125 37.15625 52.796875 32.3125 \r\nQ 56.78125 27.484375 56.78125 20.515625 \r\nQ 56.78125 9.90625 50.3125 4.234375 \r\nQ 43.84375 -1.421875 31.78125 -1.421875 \r\nQ 19.734375 -1.421875 13.25 4.234375 \r\nQ 6.78125 9.90625 6.78125 20.515625 \r\nQ 6.78125 27.484375 10.78125 32.3125 \r\nQ 14.796875 37.15625 21.921875 38.8125 \r\nz\r\nM 18.3125 54.390625 \r\nQ 18.3125 48.734375 21.84375 45.5625 \r\nQ 25.390625 42.390625 31.78125 42.390625 \r\nQ 38.140625 42.390625 41.71875 45.5625 \r\nQ 45.3125 48.734375 45.3125 54.390625 \r\nQ 45.3125 60.0625 41.71875 63.234375 \r\nQ 38.140625 66.40625 31.78125 66.40625 \r\nQ 25.390625 66.40625 21.84375 63.234375 \r\nQ 18.3125 60.0625 18.3125 54.390625 \r\nz\r\n\" id=\"DejaVuSans-56\"/>\r\n      </defs>\r\n      <g transform=\"translate(294.521885 239.238438)scale(0.1 -0.1)\">\r\n       <use xlink:href=\"#DejaVuSans-48\"/>\r\n       <use x=\"63.623047\" xlink:href=\"#DejaVuSans-46\"/>\r\n       <use x=\"95.410156\" xlink:href=\"#DejaVuSans-56\"/>\r\n      </g>\r\n     </g>\r\n    </g>\r\n    <g id=\"xtick_6\">\r\n     <g id=\"line2d_6\">\r\n      <g>\r\n       <use style=\"stroke:#000000;stroke-width:0.8;\" x=\"365.101071\" xlink:href=\"#m53cb25d40d\" y=\"224.64\"/>\r\n      </g>\r\n     </g>\r\n     <g id=\"text_6\">\r\n      <!-- 1.0 -->\r\n      <defs>\r\n       <path d=\"M 12.40625 8.296875 \r\nL 28.515625 8.296875 \r\nL 28.515625 63.921875 \r\nL 10.984375 60.40625 \r\nL 10.984375 69.390625 \r\nL 28.421875 72.90625 \r\nL 38.28125 72.90625 \r\nL 38.28125 8.296875 \r\nL 54.390625 8.296875 \r\nL 54.390625 0 \r\nL 12.40625 0 \r\nz\r\n\" id=\"DejaVuSans-49\"/>\r\n      </defs>\r\n      <g transform=\"translate(357.149509 239.238438)scale(0.1 -0.1)\">\r\n       <use xlink:href=\"#DejaVuSans-49\"/>\r\n       <use x=\"63.623047\" xlink:href=\"#DejaVuSans-46\"/>\r\n       <use x=\"95.410156\" xlink:href=\"#DejaVuSans-48\"/>\r\n      </g>\r\n     </g>\r\n    </g>\r\n   </g>\r\n   <g id=\"matplotlib.axis_2\">\r\n    <g id=\"ytick_1\">\r\n     <g id=\"line2d_7\">\r\n      <defs>\r\n       <path d=\"M 0 0 \r\nL -3.5 0 \r\n\" id=\"m48200559e2\" style=\"stroke:#000000;stroke-width:0.8;\"/>\r\n      </defs>\r\n      <g>\r\n       <use style=\"stroke:#000000;stroke-width:0.8;\" x=\"39.65\" xlink:href=\"#m48200559e2\" y=\"224.64\"/>\r\n      </g>\r\n     </g>\r\n     <g id=\"text_7\">\r\n      <!-- 0 -->\r\n      <g transform=\"translate(26.2875 228.439219)scale(0.1 -0.1)\">\r\n       <use xlink:href=\"#DejaVuSans-48\"/>\r\n      </g>\r\n     </g>\r\n    </g>\r\n    <g id=\"ytick_2\">\r\n     <g id=\"line2d_8\">\r\n      <g>\r\n       <use style=\"stroke:#000000;stroke-width:0.8;\" x=\"39.65\" xlink:href=\"#m48200559e2\" y=\"192.079353\"/>\r\n      </g>\r\n     </g>\r\n     <g id=\"text_8\">\r\n      <!-- 500 -->\r\n      <defs>\r\n       <path d=\"M 10.796875 72.90625 \r\nL 49.515625 72.90625 \r\nL 49.515625 64.59375 \r\nL 19.828125 64.59375 \r\nL 19.828125 46.734375 \r\nQ 21.96875 47.46875 24.109375 47.828125 \r\nQ 26.265625 48.1875 28.421875 48.1875 \r\nQ 40.625 48.1875 47.75 41.5 \r\nQ 54.890625 34.8125 54.890625 23.390625 \r\nQ 54.890625 11.625 47.5625 5.09375 \r\nQ 40.234375 -1.421875 26.90625 -1.421875 \r\nQ 22.3125 -1.421875 17.546875 -0.640625 \r\nQ 12.796875 0.140625 7.71875 1.703125 \r\nL 7.71875 11.625 \r\nQ 12.109375 9.234375 16.796875 8.0625 \r\nQ 21.484375 6.890625 26.703125 6.890625 \r\nQ 35.15625 6.890625 40.078125 11.328125 \r\nQ 45.015625 15.765625 45.015625 23.390625 \r\nQ 45.015625 31 40.078125 35.4375 \r\nQ 35.15625 39.890625 26.703125 39.890625 \r\nQ 22.75 39.890625 18.8125 39.015625 \r\nQ 14.890625 38.140625 10.796875 36.28125 \r\nz\r\n\" id=\"DejaVuSans-53\"/>\r\n      </defs>\r\n      <g transform=\"translate(13.5625 195.878572)scale(0.1 -0.1)\">\r\n       <use xlink:href=\"#DejaVuSans-53\"/>\r\n       <use x=\"63.623047\" xlink:href=\"#DejaVuSans-48\"/>\r\n       <use x=\"127.246094\" xlink:href=\"#DejaVuSans-48\"/>\r\n      </g>\r\n     </g>\r\n    </g>\r\n    <g id=\"ytick_3\">\r\n     <g id=\"line2d_9\">\r\n      <g>\r\n       <use style=\"stroke:#000000;stroke-width:0.8;\" x=\"39.65\" xlink:href=\"#m48200559e2\" y=\"159.518706\"/>\r\n      </g>\r\n     </g>\r\n     <g id=\"text_9\">\r\n      <!-- 1000 -->\r\n      <g transform=\"translate(7.2 163.317925)scale(0.1 -0.1)\">\r\n       <use xlink:href=\"#DejaVuSans-49\"/>\r\n       <use x=\"63.623047\" xlink:href=\"#DejaVuSans-48\"/>\r\n       <use x=\"127.246094\" xlink:href=\"#DejaVuSans-48\"/>\r\n       <use x=\"190.869141\" xlink:href=\"#DejaVuSans-48\"/>\r\n      </g>\r\n     </g>\r\n    </g>\r\n    <g id=\"ytick_4\">\r\n     <g id=\"line2d_10\">\r\n      <g>\r\n       <use style=\"stroke:#000000;stroke-width:0.8;\" x=\"39.65\" xlink:href=\"#m48200559e2\" y=\"126.958059\"/>\r\n      </g>\r\n     </g>\r\n     <g id=\"text_10\">\r\n      <!-- 1500 -->\r\n      <g transform=\"translate(7.2 130.757278)scale(0.1 -0.1)\">\r\n       <use xlink:href=\"#DejaVuSans-49\"/>\r\n       <use x=\"63.623047\" xlink:href=\"#DejaVuSans-53\"/>\r\n       <use x=\"127.246094\" xlink:href=\"#DejaVuSans-48\"/>\r\n       <use x=\"190.869141\" xlink:href=\"#DejaVuSans-48\"/>\r\n      </g>\r\n     </g>\r\n    </g>\r\n    <g id=\"ytick_5\">\r\n     <g id=\"line2d_11\">\r\n      <g>\r\n       <use style=\"stroke:#000000;stroke-width:0.8;\" x=\"39.65\" xlink:href=\"#m48200559e2\" y=\"94.397412\"/>\r\n      </g>\r\n     </g>\r\n     <g id=\"text_11\">\r\n      <!-- 2000 -->\r\n      <g transform=\"translate(7.2 98.196631)scale(0.1 -0.1)\">\r\n       <use xlink:href=\"#DejaVuSans-50\"/>\r\n       <use x=\"63.623047\" xlink:href=\"#DejaVuSans-48\"/>\r\n       <use x=\"127.246094\" xlink:href=\"#DejaVuSans-48\"/>\r\n       <use x=\"190.869141\" xlink:href=\"#DejaVuSans-48\"/>\r\n      </g>\r\n     </g>\r\n    </g>\r\n    <g id=\"ytick_6\">\r\n     <g id=\"line2d_12\">\r\n      <g>\r\n       <use style=\"stroke:#000000;stroke-width:0.8;\" x=\"39.65\" xlink:href=\"#m48200559e2\" y=\"61.836765\"/>\r\n      </g>\r\n     </g>\r\n     <g id=\"text_12\">\r\n      <!-- 2500 -->\r\n      <g transform=\"translate(7.2 65.635984)scale(0.1 -0.1)\">\r\n       <use xlink:href=\"#DejaVuSans-50\"/>\r\n       <use x=\"63.623047\" xlink:href=\"#DejaVuSans-53\"/>\r\n       <use x=\"127.246094\" xlink:href=\"#DejaVuSans-48\"/>\r\n       <use x=\"190.869141\" xlink:href=\"#DejaVuSans-48\"/>\r\n      </g>\r\n     </g>\r\n    </g>\r\n    <g id=\"ytick_7\">\r\n     <g id=\"line2d_13\">\r\n      <g>\r\n       <use style=\"stroke:#000000;stroke-width:0.8;\" x=\"39.65\" xlink:href=\"#m48200559e2\" y=\"29.276119\"/>\r\n      </g>\r\n     </g>\r\n     <g id=\"text_13\">\r\n      <!-- 3000 -->\r\n      <defs>\r\n       <path d=\"M 40.578125 39.3125 \r\nQ 47.65625 37.796875 51.625 33 \r\nQ 55.609375 28.21875 55.609375 21.1875 \r\nQ 55.609375 10.40625 48.1875 4.484375 \r\nQ 40.765625 -1.421875 27.09375 -1.421875 \r\nQ 22.515625 -1.421875 17.65625 -0.515625 \r\nQ 12.796875 0.390625 7.625 2.203125 \r\nL 7.625 11.71875 \r\nQ 11.71875 9.328125 16.59375 8.109375 \r\nQ 21.484375 6.890625 26.8125 6.890625 \r\nQ 36.078125 6.890625 40.9375 10.546875 \r\nQ 45.796875 14.203125 45.796875 21.1875 \r\nQ 45.796875 27.640625 41.28125 31.265625 \r\nQ 36.765625 34.90625 28.71875 34.90625 \r\nL 20.21875 34.90625 \r\nL 20.21875 43.015625 \r\nL 29.109375 43.015625 \r\nQ 36.375 43.015625 40.234375 45.921875 \r\nQ 44.09375 48.828125 44.09375 54.296875 \r\nQ 44.09375 59.90625 40.109375 62.90625 \r\nQ 36.140625 65.921875 28.71875 65.921875 \r\nQ 24.65625 65.921875 20.015625 65.03125 \r\nQ 15.375 64.15625 9.8125 62.3125 \r\nL 9.8125 71.09375 \r\nQ 15.4375 72.65625 20.34375 73.4375 \r\nQ 25.25 74.21875 29.59375 74.21875 \r\nQ 40.828125 74.21875 47.359375 69.109375 \r\nQ 53.90625 64.015625 53.90625 55.328125 \r\nQ 53.90625 49.265625 50.4375 45.09375 \r\nQ 46.96875 40.921875 40.578125 39.3125 \r\nz\r\n\" id=\"DejaVuSans-51\"/>\r\n      </defs>\r\n      <g transform=\"translate(7.2 33.075337)scale(0.1 -0.1)\">\r\n       <use xlink:href=\"#DejaVuSans-51\"/>\r\n       <use x=\"63.623047\" xlink:href=\"#DejaVuSans-48\"/>\r\n       <use x=\"127.246094\" xlink:href=\"#DejaVuSans-48\"/>\r\n       <use x=\"190.869141\" xlink:href=\"#DejaVuSans-48\"/>\r\n      </g>\r\n     </g>\r\n    </g>\r\n   </g>\r\n   <g id=\"line2d_14\">\r\n    <path clip-path=\"url(#p9312534256)\" d=\"M 208.532012 224.64 \r\nL 208.532012 7.2 \r\n\" style=\"fill:none;stroke:#ffa500;stroke-linecap:square;stroke-width:1.5;\"/>\r\n   </g>\r\n   <g id=\"patch_13\">\r\n    <path d=\"M 39.65 224.64 \r\nL 39.65 7.2 \r\n\" style=\"fill:none;stroke:#000000;stroke-linecap:square;stroke-linejoin:miter;stroke-width:0.8;\"/>\r\n   </g>\r\n   <g id=\"patch_14\">\r\n    <path d=\"M 374.45 224.64 \r\nL 374.45 7.2 \r\n\" style=\"fill:none;stroke:#000000;stroke-linecap:square;stroke-linejoin:miter;stroke-width:0.8;\"/>\r\n   </g>\r\n   <g id=\"patch_15\">\r\n    <path d=\"M 39.65 224.64 \r\nL 374.45 224.64 \r\n\" style=\"fill:none;stroke:#000000;stroke-linecap:square;stroke-linejoin:miter;stroke-width:0.8;\"/>\r\n   </g>\r\n   <g id=\"patch_16\">\r\n    <path d=\"M 39.65 7.2 \r\nL 374.45 7.2 \r\n\" style=\"fill:none;stroke:#000000;stroke-linecap:square;stroke-linejoin:miter;stroke-width:0.8;\"/>\r\n   </g>\r\n  </g>\r\n </g>\r\n <defs>\r\n  <clipPath id=\"p9312534256\">\r\n   <rect height=\"217.44\" width=\"334.8\" x=\"39.65\" y=\"7.2\"/>\r\n  </clipPath>\r\n </defs>\r\n</svg>\r\n",
      "image/png": "[encoded data removed]"
     },
     "metadata": {
      "needs_background": "light"
     }
    }
   ],
   "source": [
    "pyplot.hist(y_hat)\n",
    "_ = pyplot.axvline(x=0.5, color=\"orange\")"
   ]
  },
  {
   "cell_type": "markdown",
   "metadata": {},
   "source": [
    "Use ROC instead of simple accuracy "
   ]
  },
  {
   "cell_type": "code",
   "execution_count": 38,
   "metadata": {},
   "outputs": [
    {
     "output_type": "execute_result",
     "data": {
      "text/plain": "'76.61'"
     },
     "metadata": {},
     "execution_count": 38
    }
   ],
   "source": [
    "# from sickit-learn\n",
    "pct_auc = roc_auc_score(y_valid, y_hat) * 100.0\n",
    "'{:0.2f}'.format(pct_auc)"
   ]
  },
  {
   "cell_type": "code",
   "execution_count": 39,
   "metadata": {},
   "outputs": [],
   "source": [
    "from sklearn.metrics import roc_curve \n",
    "fpr , tpr , thresholds = roc_curve ( y_valid , y_hat)"
   ]
  },
  {
   "cell_type": "code",
   "execution_count": 40,
   "metadata": {},
   "outputs": [
    {
     "output_type": "execute_result",
     "data": {
      "text/plain": "array([0.     , 0.     , 0.     , ..., 0.9976 , 0.99776, 1.     ])"
     },
     "metadata": {},
     "execution_count": 40
    }
   ],
   "source": [
    "# false positive rate\n",
    "fpr"
   ]
  },
  {
   "cell_type": "code",
   "execution_count": 41,
   "metadata": {},
   "outputs": [
    {
     "output_type": "execute_result",
     "data": {
      "text/plain": "array([0.00e+00, 8.00e-05, 1.52e-03, ..., 1.00e+00, 1.00e+00, 1.00e+00])"
     },
     "metadata": {},
     "execution_count": 41
    }
   ],
   "source": [
    "# True positive rate\n",
    "tpr"
   ]
  },
  {
   "cell_type": "code",
   "execution_count": 42,
   "metadata": {},
   "outputs": [
    {
     "output_type": "execute_result",
     "data": {
      "text/plain": "array([1.9812567 , 0.98125666, 0.9786539 , ..., 0.01241192, 0.01240715,\n       0.00927779], dtype=float32)"
     },
     "metadata": {},
     "execution_count": 42
    }
   ],
   "source": [
    "thresholds"
   ]
  },
  {
   "cell_type": "markdown",
   "metadata": {},
   "source": [
    "data frame"
   ]
  },
  {
   "cell_type": "code",
   "execution_count": 43,
   "metadata": {},
   "outputs": [],
   "source": [
    "float_y_hat = []\n",
    "for y in y_hat:\n",
    "    float_y_hat.append(y[0])\n",
    "ydf = pd.DataFrame(list(zip(float_y_hat, y_valid)),\n",
    "    columns=['y_hat', 'y'])"
   ]
  },
  {
   "cell_type": "code",
   "execution_count": 44,
   "metadata": {},
   "outputs": [
    {
     "output_type": "execute_result",
     "data": {
      "text/plain": "25000"
     },
     "metadata": {},
     "execution_count": 44
    }
   ],
   "source": [
    "len(ydf)"
   ]
  },
  {
   "cell_type": "code",
   "execution_count": 41,
   "metadata": {},
   "outputs": [
    {
     "output_type": "execute_result",
     "data": {
      "text/plain": "      y_hat  y\n0  0.056158  0\n1  0.996887  1\n2  0.873207  1\n3  0.842341  0\n4  0.976890  1\n5  0.780034  1\n6  0.968682  1\n7  0.008423  0\n8  0.966701  0\n9  0.971602  1",
      "text/html": "<div>\n<style scoped>\n    .dataframe tbody tr th:only-of-type {\n        vertical-align: middle;\n    }\n\n    .dataframe tbody tr th {\n        vertical-align: top;\n    }\n\n    .dataframe thead th {\n        text-align: right;\n    }\n</style>\n<table border=\"1\" class=\"dataframe\">\n  <thead>\n    <tr style=\"text-align: right;\">\n      <th></th>\n      <th>y_hat</th>\n      <th>y</th>\n    </tr>\n  </thead>\n  <tbody>\n    <tr>\n      <th>0</th>\n      <td>0.056158</td>\n      <td>0</td>\n    </tr>\n    <tr>\n      <th>1</th>\n      <td>0.996887</td>\n      <td>1</td>\n    </tr>\n    <tr>\n      <th>2</th>\n      <td>0.873207</td>\n      <td>1</td>\n    </tr>\n    <tr>\n      <th>3</th>\n      <td>0.842341</td>\n      <td>0</td>\n    </tr>\n    <tr>\n      <th>4</th>\n      <td>0.976890</td>\n      <td>1</td>\n    </tr>\n    <tr>\n      <th>5</th>\n      <td>0.780034</td>\n      <td>1</td>\n    </tr>\n    <tr>\n      <th>6</th>\n      <td>0.968682</td>\n      <td>1</td>\n    </tr>\n    <tr>\n      <th>7</th>\n      <td>0.008423</td>\n      <td>0</td>\n    </tr>\n    <tr>\n      <th>8</th>\n      <td>0.966701</td>\n      <td>0</td>\n    </tr>\n    <tr>\n      <th>9</th>\n      <td>0.971602</td>\n      <td>1</td>\n    </tr>\n  </tbody>\n</table>\n</div>"
     },
     "metadata": {},
     "execution_count": 41
    }
   ],
   "source": [
    "ydf.head(10)"
   ]
  },
  {
   "cell_type": "code",
   "execution_count": 45,
   "metadata": {},
   "outputs": [
    {
     "output_type": "execute_result",
     "data": {
      "text/plain": "       y_hat  y\n75  0.955365  0",
      "text/html": "<div>\n<style scoped>\n    .dataframe tbody tr th:only-of-type {\n        vertical-align: middle;\n    }\n\n    .dataframe tbody tr th {\n        vertical-align: top;\n    }\n\n    .dataframe thead th {\n        text-align: right;\n    }\n</style>\n<table border=\"1\" class=\"dataframe\">\n  <thead>\n    <tr style=\"text-align: right;\">\n      <th></th>\n      <th>y_hat</th>\n      <th>y</th>\n    </tr>\n  </thead>\n  <tbody>\n    <tr>\n      <th>75</th>\n      <td>0.955365</td>\n      <td>0</td>\n    </tr>\n  </tbody>\n</table>\n</div>"
     },
     "metadata": {},
     "execution_count": 45
    }
   ],
   "source": [
    "# false positives\n",
    "ydf[(ydf.y == 0) & (ydf.y_hat > 0.9)].head(1)"
   ]
  },
  {
   "cell_type": "code",
   "execution_count": 43,
   "metadata": {},
   "outputs": [
    {
     "output_type": "execute_result",
     "data": {
      "text/plain": "\"pad pad pad pad pad pad pad pad pad pad pad pad pad pad pad pad pad pad pad pad pad pad pad pad pad pad pad pad pad pad pad pad pad pad pad pad pad pad pad pad pad pad pad pad pad pad pad pad pad pad pad pad pad pad pad pad pad pad pad pad pad pad pad pad pad pad pad pad pad pad pad pad pad pad pad pad unk unk adventures unk unk unk unk unk unk unk unk unk unk unk unk unk i've yet run across unk would unk unk look far unk wide unk find anything unk unk unk level unk unk unk display unk unk unk acting \\x96 bad editing \\x96 bad direction \\x96 bad special effects \\x96 bad unk laughable plot \\x96 bad lighting \\x96 bad cinematography \\x96 bad costume design \\x96 bad unk silly everything else \\x96 bad watching unk adventures unk unk unk unk unk enjoyable unk unk root unk even unk unk fan unk bad movies unk unk real unk test unk unk unk unk either unk unk lou unk unk unk any exist unk unk eight things unk learned unk watching unk adventures unk unk unk unk 1 unk unk don't unk unk budget unk real special effects unk unk scene unk unk previous unk unk will look great trust me unk unk 2 when unk unk quest unk unk take time unk frequent stops unk oil up unk body unk worked unk unk unk unk two unk unk unk unk 3 any sword fight use unk magic unk unk unk unk other day unk day activities unk ancient unk created unk sound very similar unk unk game unk man unk unk unk unk 4 unk unk unk ancient greek unk dressed unk extras unk star wars unk unk 5 unk unk need unk unk your crappy movie's unk unk unk title sequence unk adding star trek style credits unk throw unk unk overly unk music unk also helps unk you've got unk previous unk unk pull scenes unk unk unk 6 fight scenes move along much unk unk unk bad guys attack unk unk unk unk time unk unk 7 william unk did anything unk money unk unk 8 unk didn't think unk unk possible unk unk adventures unk unk makes unk first unk unk 1983 look unk unk academy award winner\""
     },
     "metadata": {},
     "execution_count": 43
    }
   ],
   "source": [
    "\n",
    "' '.join([index_word[id] for id in x_valid[75]])"
   ]
  },
  {
   "cell_type": "code",
   "execution_count": 46,
   "metadata": {},
   "outputs": [
    {
     "output_type": "execute_result",
     "data": {
      "text/plain": "         y_hat  y\n2     0.024815  1\n118   0.085376  1\n167   0.055546  1\n187   0.067159  1\n224   0.044641  1\n402   0.038199  1\n483   0.055400  1\n603   0.067669  1\n755   0.096873  1\n1050  0.057730  1",
      "text/html": "<div>\n<style scoped>\n    .dataframe tbody tr th:only-of-type {\n        vertical-align: middle;\n    }\n\n    .dataframe tbody tr th {\n        vertical-align: top;\n    }\n\n    .dataframe thead th {\n        text-align: right;\n    }\n</style>\n<table border=\"1\" class=\"dataframe\">\n  <thead>\n    <tr style=\"text-align: right;\">\n      <th></th>\n      <th>y_hat</th>\n      <th>y</th>\n    </tr>\n  </thead>\n  <tbody>\n    <tr>\n      <th>2</th>\n      <td>0.024815</td>\n      <td>1</td>\n    </tr>\n    <tr>\n      <th>118</th>\n      <td>0.085376</td>\n      <td>1</td>\n    </tr>\n    <tr>\n      <th>167</th>\n      <td>0.055546</td>\n      <td>1</td>\n    </tr>\n    <tr>\n      <th>187</th>\n      <td>0.067159</td>\n      <td>1</td>\n    </tr>\n    <tr>\n      <th>224</th>\n      <td>0.044641</td>\n      <td>1</td>\n    </tr>\n    <tr>\n      <th>402</th>\n      <td>0.038199</td>\n      <td>1</td>\n    </tr>\n    <tr>\n      <th>483</th>\n      <td>0.055400</td>\n      <td>1</td>\n    </tr>\n    <tr>\n      <th>603</th>\n      <td>0.067669</td>\n      <td>1</td>\n    </tr>\n    <tr>\n      <th>755</th>\n      <td>0.096873</td>\n      <td>1</td>\n    </tr>\n    <tr>\n      <th>1050</th>\n      <td>0.057730</td>\n      <td>1</td>\n    </tr>\n  </tbody>\n</table>\n</div>"
     },
     "metadata": {},
     "execution_count": 46
    }
   ],
   "source": [
    "# false negatives\n",
    "ydf[(ydf.y == 1) & (ydf.y_hat < 0.1)].head(10)"
   ]
  },
  {
   "cell_type": "code",
   "execution_count": 47,
   "metadata": {},
   "outputs": [
    {
     "output_type": "execute_result",
     "data": {
      "text/plain": "\"unk character unk my opinion unk unk unk them did bad another thing unk unk notice unk unk read unk these comment unk unk unk person unk comment unk alan 5 shadow which made him look even better unk unk pretty much had unk through unk whole unk unk would give unk unk unk 9 unk unk 10 another unk unk my opinions unk unk unk would been better unk there wasn't any sex still unk unk alright love unk scene were unk says unk sh t when unk unk setting unk unk car unk see them unk unk mirror\""
     },
     "metadata": {},
     "execution_count": 47
    }
   ],
   "source": [
    "' '.join([index_word[id] for id in x_valid[973]])"
   ]
  },
  {
   "cell_type": "markdown",
   "metadata": {},
   "source": [
    "Conclusion: \n",
    "\n",
    "ROC is '76.61'\n",
    "\n",
    "Compared with Dense network ROC of '92.61'\n",
    " \n",
    "\n",
    "Need of Recurrent Neural networks, which take into account the sequence of words.\n",
    "\n",
    "Next module: Try LSTM"
   ]
  }
 ],
 "metadata": {
  "language_info": {
   "name": "python",
   "codemirror_mode": {
    "name": "ipython",
    "version": 3
   },
   "version": "3.7.6-final"
  },
  "orig_nbformat": 2,
  "file_extension": ".py",
  "mimetype": "text/x-python",
  "name": "python",
  "npconvert_exporter": "python",
  "pygments_lexer": "ipython3",
  "version": 3,
  "kernelspec": {
   "name": "python37664bitdlenvoptcondad12e93bea256401b8a31a8a4f6dc7a5b",
   "display_name": "Python 3.7.6 64-bit ('DLENV_OPT': conda)"
  }
 },
 "nbformat": 4,
 "nbformat_minor": 2
}